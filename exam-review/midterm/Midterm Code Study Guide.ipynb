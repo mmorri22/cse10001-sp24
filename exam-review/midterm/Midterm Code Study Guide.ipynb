{
 "cells": [
  {
   "cell_type": "markdown",
   "id": "c5d35fde",
   "metadata": {},
   "source": [
    "## Midterm Exam Notebook Guide\n",
    "<p></p>\n",
    "Approach to using this guide for successful Exam study:\n",
    "<ol>\n",
    "    <li>Run the <code>start_quiz_section</code> cell <i>first</i></li>\n",
    "    <tab><b>Note 1</b>: If you get the error <code><font color = 'red'>NameError</font>: name 'start_quiz_section' is not defined</code>, this means you need to run the first cell block <i>first</i><br>\n",
    "    <tab><b>Note 2</b>: The solutions are based on scripts I have written that are stored online, so this review requires <b>consistent internet access</b><p>\n",
    "    <li>Attempt the problems first <i>before</i> reviewing the solutions!</li>\n",
    "    <tab>Remember the \"Hands-on imperative\". Build those brain links in long-term memory!</tab><p>\n",
    "    <li>Form study groups!</li><p>\n",
    "    <li>Ask questions of your classmates in the Slack!</li><p>\n",
    "    <li>One of the best ways to learn how code should work properly is to review and fix improper code</li><p>\n",
    "    <li>To practice again, go to <b>Kernel -> Restart and Clear Output</b> to refresh so you can practice again</li><p>\n",
    "    <tab><b>Note</b>: If you do this, don't forget to run the <code>start_quiz_section</code> cell</tab><p>\n",
    "    <li>Challenge yourself and your study partners by <b>designing your own problems</b>!</li><p>\n",
    "</ol>"
   ]
  },
  {
   "cell_type": "code",
   "execution_count": null,
   "id": "9b0d3335",
   "metadata": {},
   "outputs": [],
   "source": [
    "# You *must* run this command in order for the quiz applets to properly operate\n",
    "# Otherwise, you will get NameError: name 'start_quiz_section' is not defined\n",
    "\n",
    "def start_quiz_section( path ):\n",
    "\n",
    "    from jupyterquiz import display_quiz\n",
    "    git_path=\"https://raw.githubusercontent.com/mmorri22/cse10001/main/\"\n",
    "    full_path = git_path + path\n",
    "    display_quiz(full_path)"
   ]
  },
  {
   "cell_type": "markdown",
   "id": "787bd31c",
   "metadata": {},
   "source": [
    "### 1. Definitions\n",
    "<p></p>\n",
    "Here, you will be asked to <b>match</b> terms with their definitions. Use the tables below for matching with the specified problem (For example, for Problem 7b, you will be asked to identify which definition on the right is the definition of SDK)"
   ]
  },
  {
   "cell_type": "markdown",
   "id": "9a0b5749",
   "metadata": {},
   "source": [
    "#### For the Matching Problem 3 - Use this table to reference the matches after you run <code>start_quiz_section( \"midterm_definitions.json\" )</code> below:\n",
    "\n",
    "| Term                   | Definitions                     |\n",
    "|:-----------------------|:---------------------------------|\n",
    "| Device Driver         | 1 - Manages the hardware of a computer and makes it possible to run other programs.    |\n",
    "| Application  | 2 - Acts as a bridge to a specific hardware device. |\n",
    "| Operating System         | 3 - Self-contained program focused on a single task. |"
   ]
  },
  {
   "cell_type": "markdown",
   "id": "ec8914aa",
   "metadata": {},
   "source": [
    "#### For the Matching Problem 4 - Use the following mappings after you run <code>start_quiz_section( \"midterm_definitions.json\" )</code> below:\n",
    "\n",
    "| Term                   | Definitions                     |\n",
    "|:-----------------------|:---------------------------------|\n",
    "| Turing Machine         | 1 - A large computer with a number of processors and lots of memory.    |\n",
    "| Distributed Computing  | 2 - An idealized machine that serves as a universal model of computation. |\n",
    "| Super Computer         | 3 - A specialized processor that perform graphics computations much faster than conventional CPUs. |\n",
    "| GPU                    | 4 - A system where a group of independent computers communicate to solve problems. |"
   ]
  },
  {
   "cell_type": "markdown",
   "id": "7d623621",
   "metadata": {},
   "source": [
    "#### For the Matching Problem 7 - Use the following terms and definitions (number) to match after you run <code>start_quiz_section( \"midterm_definitions.json\" )</code> below:\n",
    "\n",
    "| Term                   | Definitions                     |\n",
    "|:-----------------------|:---------------------------------|\n",
    "| Library         | 1 - Description of what services a system provides.    |\n",
    "| SDK  | 2 - Collection of related functions. |\n",
    "| Bug         | 3 - Translates high-level code to machine code. |\n",
    "| API                    | 4 - An environment and supporting tools for a particular platform. |\n",
    "| Assembler         | 5 - Flaw in a piece of software. |\n",
    "| Compiler                    | 6 - Translates low-level code to machine code. |"
   ]
  },
  {
   "cell_type": "code",
   "execution_count": null,
   "id": "6c6b660a",
   "metadata": {
    "scrolled": true
   },
   "outputs": [],
   "source": [
    "# Run this line to generate a set of problems for definitions - multiple choide\n",
    "# Remember that you need to run start_quiz_section once otherwise this will not work\n",
    "\n",
    "start_quiz_section(\"midterm_definitions.json\")"
   ]
  },
  {
   "cell_type": "markdown",
   "id": "c0522b30",
   "metadata": {},
   "source": [
    "### 2. Hardware\n",
    "You will need to know the following:\n",
    "<ol>\n",
    "    <li>What is a computer?</li>\n",
    "    <li>How is a computer logically constructed?</li>\n",
    "    <li>What is the role of the CPU, RAM, Disk, and I/O devices?</li>\n",
    "    <li>What sort of operations does a CPU support?</li>\n",
    "    <li>What is the execution model of a CPU?</li>\n",
    "</ol>"
   ]
  },
  {
   "cell_type": "code",
   "execution_count": null,
   "id": "3ede732b",
   "metadata": {},
   "outputs": [],
   "source": [
    "#### Run this line to generate a set of problems for hardware\n",
    "# Remember that you need to run start_quiz_section once otherwise this will not work\n",
    "\n",
    "start_quiz_section( \"midterm_hardware.json\" )"
   ]
  },
  {
   "cell_type": "markdown",
   "id": "141bc3de",
   "metadata": {},
   "source": [
    "### 3. Information Representation\n",
    "<p></p>\n",
    "In this section, you will demonstrate your understanding of how information is represented in a computer. Example topics include:<p>\n",
    "<ol>\n",
    "    <li>What is the difference between <b>analog</b> and <b>digital</b> information?</li>\n",
    "    <li>How do you convert a number from decimal to <b>binary</b>? <b>hexadecimal</b>? <b>vice versa</b>?</li>\n",
    "    <li>What is the difference between <code>KB</code>, <code>MB</code>, <code>GB</code>, <code>TB</code>?</li>\n",
    "    <li>How are <font color='red'><b>colors</b></font> represented on a computer?</li>\n",
    "</ol>"
   ]
  },
  {
   "cell_type": "code",
   "execution_count": null,
   "id": "7ee09d01",
   "metadata": {},
   "outputs": [],
   "source": [
    "# Run this line to generate a set of problems for information representation\n",
    "# Remember that you need to run start_quiz_section once otherwise this will not work\n",
    "\n",
    "start_quiz_section( \"midterm_information_representation.json\" )"
   ]
  },
  {
   "cell_type": "markdown",
   "id": "1aa8c575",
   "metadata": {},
   "source": [
    "### 4. Conditional Execution Problems\n",
    "You will need to know the following:\n",
    "<li>What are <b>boolean expressions</b>?</li>\n",
    "<li>How do we perform <b>conditional execution</b>? <b>alternative execution</b>? <b>chained conditionals</b>?</li>"
   ]
  },
  {
   "cell_type": "code",
   "execution_count": null,
   "id": "745b314b",
   "metadata": {
    "scrolled": true
   },
   "outputs": [],
   "source": [
    "# Run this line to generate a set of problems for conditional execution\n",
    "# Remember that you need to run start_quiz_section once otherwise this will not work\n",
    "\n",
    "start_quiz_section( \"midterm_conditional_execution.json\" )"
   ]
  },
  {
   "cell_type": "markdown",
   "id": "7a12c42f",
   "metadata": {},
   "source": [
    "#### Conditional Execution Problem 1 - See for Yourself!\n",
    "<p></p>\n",
    "Given the function <b>prob_1</b>, state the outputs for the following runs:\n",
    "<ol>\n",
    "    <li><code>prob_1(5)</code></li>\n",
    "    <li><code>prob_1(10)</code></li>\n",
    "    <li><code>prob_1(3)</code></li>\n",
    "</ol>"
   ]
  },
  {
   "cell_type": "code",
   "execution_count": null,
   "id": "990865b7",
   "metadata": {},
   "outputs": [],
   "source": [
    "# Here you can determine the code for the first problem for yourself!\n",
    "def prob_1(x):\n",
    "    if x < 5:\n",
    "        print('Yes')\n",
    "    elif x % 2 == 1:\n",
    "        print('Maybe')\n",
    "    else:\n",
    "        print('No')"
   ]
  },
  {
   "cell_type": "code",
   "execution_count": null,
   "id": "e00ca880",
   "metadata": {},
   "outputs": [],
   "source": [
    "print( \"Problem 1 - with an input of 5:\")\n",
    "prob_1(5)"
   ]
  },
  {
   "cell_type": "code",
   "execution_count": null,
   "id": "6d49c4f5",
   "metadata": {
    "scrolled": true
   },
   "outputs": [],
   "source": [
    "print( \"Problem 1 - with an input of 10:\")\n",
    "prob_1(10)"
   ]
  },
  {
   "cell_type": "code",
   "execution_count": null,
   "id": "b839e6dc",
   "metadata": {},
   "outputs": [],
   "source": [
    "print( \"Problem 1 - with an input of 3:\")\n",
    "prob_1(3)"
   ]
  },
  {
   "cell_type": "markdown",
   "id": "ea38b2a6",
   "metadata": {},
   "source": [
    "#### Conditional Execution - Problem 2\n",
    "What is the final value of x?"
   ]
  },
  {
   "cell_type": "code",
   "execution_count": null,
   "id": "b511ce8d",
   "metadata": {},
   "outputs": [],
   "source": [
    "def increment(x):\n",
    "    x = x + 2\n",
    "    return x\n",
    "    \n",
    "def decrement(x):\n",
    "    return x - 2\n",
    "\n",
    "x = 1\n",
    "increment(x)\n",
    "x = increment(x)\n",
    "decrement(x)\n",
    "x = decrement(x)\n",
    "x = increment(decrement(x))\n",
    "x = decrement(increment(x))\n",
    "\n",
    "print(x)"
   ]
  },
  {
   "cell_type": "markdown",
   "id": "7df32fef",
   "metadata": {},
   "source": [
    "### 5. Repeated Execution\n",
    "<p></p>\n",
    "You will need to know the following:\n",
    "<ol>\n",
    "    <li>How do we perform <b>repeated execution</b> based on a <font color='red'><b>condition</b></font>?</li>\n",
    "    <li>How do we perform <b>repeated execution</b> over a <font color='green'><b>sequence</b></font>?</li>\n",
    "</ol>\n",
    "\n"
   ]
  },
  {
   "cell_type": "code",
   "execution_count": null,
   "id": "46c33e4a",
   "metadata": {},
   "outputs": [],
   "source": [
    "# Run this line to generate a set of problems for repeared execution\n",
    "# Remember that you need to run start_quiz_section once otherwise this will not work\n",
    "\n",
    "start_quiz_section( \"midterm_repeated_execution.json\" )"
   ]
  },
  {
   "cell_type": "markdown",
   "id": "5afcdab4",
   "metadata": {},
   "source": [
    "#### Repeated Execution Problem 1 - See for Yourself!\n",
    "<p></p>\n",
    "Given the code, determine the output:"
   ]
  },
  {
   "cell_type": "code",
   "execution_count": null,
   "id": "51b67516",
   "metadata": {},
   "outputs": [],
   "source": [
    "index = 1\n",
    "count = 0\n",
    "while index <= 20:\n",
    "    if index % 3 == 0:\n",
    "        count += 1\n",
    "    index += 1\n",
    "\n",
    "print(count)"
   ]
  },
  {
   "cell_type": "markdown",
   "id": "b5f057a4",
   "metadata": {},
   "source": [
    "### Conditional Execution - Problem 3 - Try on your Own! \n",
    "The Python code below is suppose to count all of the even numbers between 1 and 100 (inclusive) that are <b><i>also</i></b> a multiple of 5, but it contains some errors. Identify and fix the errors:"
   ]
  },
  {
   "cell_type": "code",
   "execution_count": null,
   "id": "fa5f9ed9",
   "metadata": {},
   "outputs": [],
   "source": [
    "iterator = 0\n",
    "total = 0\n",
    "while iterator < 100:\n",
    "    if iterator % 2 == 0 or iterator % 5 == 0:\n",
    "        total += 1\n",
    "    iterator += 1\n",
    "\n",
    "print(total)\n",
    "print(\"Hint: The answer should be 550\")"
   ]
  },
  {
   "cell_type": "code",
   "execution_count": null,
   "id": "80ecaba8",
   "metadata": {},
   "outputs": [],
   "source": [
    "# Run this line to show the solution for repeated execution Problem 3\n",
    "# Remember that you need to run start_quiz_section once otherwise this will not work\n",
    "\n",
    "start_quiz_section(\"midterm-repeated-prob3-solution.json\")"
   ]
  },
  {
   "cell_type": "markdown",
   "id": "4137da9a",
   "metadata": {},
   "source": [
    "### 6. Algorithms\n",
    "<p></p>\n",
    "You will need to know the following:\n",
    "<ol>\n",
    "    <li>What is an <b>algorithm</b>?</li>\n",
    "    <li>How do we measure and evaluate <b>time complexity</b>?</li>\n",
    "    <li>What is the time complexity of <b>linear search</b>? <b>binary search</b>? <b>sorting</b>?</li>\n",
    "</ol>\n"
   ]
  },
  {
   "cell_type": "code",
   "execution_count": null,
   "id": "3c063ef6",
   "metadata": {},
   "outputs": [],
   "source": [
    "# Run this line to generate a set of problems for algorithms\n",
    "# Remember that you need to run start_quiz_section once otherwise this will not work\n",
    "\n",
    "start_quiz_section( \"midterm_algorithms.json\" )"
   ]
  },
  {
   "cell_type": "code",
   "execution_count": null,
   "id": "19cbcaea",
   "metadata": {},
   "outputs": [],
   "source": [
    "# Problem 1 - Try for yourself\n",
    "def contains( numbers_list, target_value ):\n",
    "    for number in numbers_list:\n",
    "        if number = target_value:\n",
    "            return True\n",
    "    \n",
    "    return False"
   ]
  },
  {
   "cell_type": "code",
   "execution_count": null,
   "id": "fa2a38a1",
   "metadata": {},
   "outputs": [],
   "source": [
    "# Problem 2 - Try for yourself\n",
    "# Input - sorted list, target value\n",
    "def search( numbers_list, target_value ):\n",
    "    \n",
    "    min_val = 0\n",
    "    max_val = len(numbers_list) - 1\n",
    "    \n",
    "    while min_val <= max_val:\n",
    "        \n",
    "        mid_val = ( max_val + min_val ) // 2\n",
    "    \n",
    "        if numbers_list[ mid_val ] == target_value:\n",
    "            return True\n",
    "        \n",
    "        if numbers_list[ mid_val ] > target_value:\n",
    "            max_val = mid_val - 1\n",
    "            \n",
    "        elif numbers_list[ mid_val ] < target_value:\n",
    "            min_val = mid_val + 1\n",
    "            \n",
    "    return False\n",
    "\n",
    "# Test\n",
    "numbers_list = [1, 3, 4, 5, 7, 13, 16, 18, 22, 24, 25, 27]\n",
    "\n",
    "print( search( numbers_list, 5 ) )\n",
    "print( search( numbers_list, 8 ) )\n",
    "print( search( numbers_list, 18 ) )\n",
    "print( search( numbers_list, 17 ) )\n",
    "print( search( numbers_list, 29 ) )\n",
    "print( search( numbers_list, 1 ) )\n",
    "print( search( numbers_list, -1 ) )"
   ]
  },
  {
   "cell_type": "code",
   "execution_count": null,
   "id": "5b0c6cce",
   "metadata": {},
   "outputs": [],
   "source": [
    "# Problem 3\n",
    "def sort( numbers_list ):\n",
    "    \n",
    "    iterator_1 = 0\n",
    "    while iterator_1 < len(numbers_list) - 1:\n",
    "        \n",
    "        iterator_2 = iterator_1 + 1\n",
    "        index = iterator_1 + 1\n",
    "        \n",
    "        while iterator_2 < len(numbers_list):\n",
    "            \n",
    "            if numbers_list[index] > numbers_list[ iterator_2 ]:\n",
    "                index = iterator_2\n",
    "                \n",
    "            iterator_2 += 1\n",
    "            \n",
    "        temp = numbers_list[index]\n",
    "        numbers_list[index] = numbers_list[iterator_1]\n",
    "        numbers_list[iterator_1] = temp\n",
    "        \n",
    "        iterator_1 += 1\n",
    "        \n",
    "    return numbers_list\n",
    "\n",
    "sort( [10, 13, 1, 22, 7, 6, 5, 14, 8] )"
   ]
  },
  {
   "cell_type": "code",
   "execution_count": null,
   "id": "6775f488",
   "metadata": {},
   "outputs": [],
   "source": [
    "# Problem 3 - Try for yourself\n",
    "\n",
    "def prob_3( int_val ):\n",
    "    \n",
    "    if int_val <= 1:\n",
    "        return 2\n",
    "    \n",
    "    if int_val % 2 == 1:\n",
    "        return int_val + prob_3( int_val - 2 )\n",
    "    \n",
    "    else:\n",
    "        return int_val + prob_3( int_val - 1 )\n",
    "    \n",
    "prob_3( 8 )"
   ]
  },
  {
   "cell_type": "code",
   "execution_count": null,
   "id": "215fa556",
   "metadata": {},
   "outputs": [],
   "source": [
    "# Problem 4 - Try for yourself\n",
    "# Broken up to show example of a Recursive Trace\n",
    "\n",
    "def prob_4( x ):\n",
    "    \n",
    "    if x <= 3:\n",
    "        print( \"Reached base case and returns 2\")\n",
    "        return 2\n",
    "    \n",
    "    print( f'At prob_4({x}), Making left call with prob_4({x-2})')\n",
    "    \n",
    "    left_val = prob_4( x - 2 )\n",
    "    \n",
    "    print( f'At prob_4({x}), Making right call with prob_4({x-3})')\n",
    "    \n",
    "    right_val = prob_4( x - 3 )\n",
    "    \n",
    "    print( f'At prob_4({x}), Returning the sum of {left_val} and {right_val} = {left_val + right_val}')\n",
    "    \n",
    "    return left_val + right_val\n",
    "\n",
    "print( prob_4(6) )"
   ]
  },
  {
   "cell_type": "markdown",
   "id": "38bab3ac",
   "metadata": {},
   "source": [
    "### 7. Data Structures: List\n",
    "You will need to know the following:\n",
    "<ol>\n",
    "    <li>What is a <b>list</b>?</li>\n",
    "    <li>How do we <b>construct</b> a list?</li>\n",
    "    <li>How do we <b>access an element in</b> a list?</li>\n",
    "    <li>How do we <b>iterate through</b> a list?</li>\n",
    "    <li>How do we <b>search</b> a list?</li>\n",
    "    <li>How do we <b>slice</b> a list?</li>\n",
    "    <li>How do we <b>add to</b> a list?</li>\n",
    "    <li>How do we <b>sort</b> a list?</li>\n",
    "</ol>"
   ]
  },
  {
   "cell_type": "markdown",
   "id": "f1fed59a",
   "metadata": {},
   "source": [
    "#### For the Matching Problem - Problem 1 - Use the following mappings after you run <code>start_quiz_section( \"midterm_list.json\" )</code>:\n",
    "\n",
    "Match the array access code segment with a specific output for the following code:<p></p>\n",
    "<code>colors = ['red', 'green', 'blue', 'yellow']</code>\n",
    "\n",
    "| Code                   | Vaue                     |\n",
    "|:-----------------------|:---------------------------------|\n",
    "| <code>colors[0]</code>         | 1 - yellow.    |\n",
    "| <code>colors[2]</code>  | 2 - red |\n",
    "| <code>colors[-1]</code>         | 3 - Error message: IndexError: list index out of range |\n",
    "| <code>colors[-3]</code>                    | 4 - green |\n",
    "| <code>colors[4]</code>                    | 5 - blue |"
   ]
  },
  {
   "cell_type": "code",
   "execution_count": null,
   "id": "a9418f9e",
   "metadata": {},
   "outputs": [],
   "source": [
    "# Run this line to generate a set of problems for lists\n",
    "# Remember that you need to run start_quiz_section once otherwise this will not work\n",
    "\n",
    "start_quiz_section( \"midterm_list.json\" )"
   ]
  },
  {
   "cell_type": "code",
   "execution_count": null,
   "id": "9e2fca9a",
   "metadata": {},
   "outputs": [],
   "source": [
    "# Problem 1 - Try Yourself\n",
    "colors = ['red', 'green', 'blue', 'yellow']\n",
    "\n",
    "print( f'colors[0] = {colors[0]}' )\n",
    "print( f'colors[2] = {colors[2]}' )\n",
    "print( f'colors[-1] = {colors[-1]}' )\n",
    "print( f'colors[-3] = {colors[-3]}' )\n",
    "print( f'colors[4] = {colors[4]}' )"
   ]
  },
  {
   "cell_type": "code",
   "execution_count": null,
   "id": "4b9c71e1",
   "metadata": {
    "scrolled": true
   },
   "outputs": [],
   "source": [
    "# Problem 2 - Try Yourself\n",
    "colors = ['red', 'green', 'blue', 'yellow']\n",
    "\n",
    "print( f'colors[:2] = {colors[:2]}' )\n",
    "print( f'colors[2:] = {colors[2:]}' )\n",
    "print( f'colors[1:2] = {colors[1:2]}' )\n",
    "print( f'colors[:] = {colors[:]}' )"
   ]
  },
  {
   "cell_type": "code",
   "execution_count": null,
   "id": "d620332a",
   "metadata": {},
   "outputs": [],
   "source": [
    "# Problem 3 - Try Yourself\n",
    "colors = ['red', 'green', 'blue', 'yellow']\n",
    "\n",
    "print( sorted(colors[2:]) )"
   ]
  },
  {
   "cell_type": "code",
   "execution_count": null,
   "id": "3ceaaf6b",
   "metadata": {},
   "outputs": [],
   "source": [
    "# Problem 3 - Try Yourself\n",
    "colors = ['red', 'green', 'blue', 'yellow']\n",
    "\n",
    "print( sorted(colors[:2]) )"
   ]
  },
  {
   "cell_type": "markdown",
   "id": "2f680162",
   "metadata": {},
   "source": [
    "### 8. Data Structures: Dictionary\n",
    "<p></p>\n",
    "You will need to know the following:\n",
    "<ol>\n",
    "\t<li>What is a <b>dict</b>?</li>\n",
    "\t<li>How do we <b>construct</b> a dict?</li>\n",
    "\t<li>How do we <b>access an element</b> in a dict?</li>\n",
    "\t<li>How do we <b>iterate through</b> a dict?</li>\n",
    "\t<li>How do we <b>search</b> a dict?</li>\n",
    "</ol>"
   ]
  },
  {
   "cell_type": "code",
   "execution_count": null,
   "id": "589426a2",
   "metadata": {},
   "outputs": [],
   "source": [
    "# Run this line to generate a set of problems for dicts\n",
    "start_quiz_section( \"midterm_dictionary.json\" )"
   ]
  },
  {
   "cell_type": "code",
   "execution_count": null,
   "id": "cd781815",
   "metadata": {},
   "outputs": [],
   "source": [
    "# Problem 2 - Try it yourself\n",
    "TABLE = {\n",
    "    'harry' : 'potter',\n",
    "    'ron' : 'weasley',\n",
    "    'hermonie' : 'granger',\n",
    "    'draco' : 'malfoy'\n",
    "}\n",
    "\n",
    "TABLE.keys()"
   ]
  },
  {
   "cell_type": "code",
   "execution_count": null,
   "id": "5e5c9236",
   "metadata": {},
   "outputs": [],
   "source": [
    "# Problem 3 - Try it yourself\n",
    "TABLE = {\n",
    "    'harry' : 'potter',\n",
    "    'ron' : 'weasley',\n",
    "    'hermonie' : 'granger',\n",
    "    'draco' : 'malfoy'\n",
    "}\n",
    "\n",
    "TABLE.values()"
   ]
  },
  {
   "cell_type": "code",
   "execution_count": null,
   "id": "b81dd05d",
   "metadata": {},
   "outputs": [],
   "source": [
    "# Problem 4 - Try it yourself\n",
    "TABLE = {\n",
    "    'harry' : 'potter',\n",
    "    'ron' : 'weasley',\n",
    "    'hermonie' : 'granger',\n",
    "    'draco' : 'malfoy'\n",
    "}\n",
    "\n",
    "TABLE.items()"
   ]
  },
  {
   "cell_type": "code",
   "execution_count": null,
   "id": "473ce5b0",
   "metadata": {},
   "outputs": [],
   "source": [
    "name = 'Harry Potter and the Goblet of Fire'\n",
    "\n",
    "counts = {}\n",
    "\n",
    "for letter in name:\n",
    "    counts[letter] = counts.get(letter,0) + 1\n",
    "    \n",
    "a_char = 'a'\n",
    "o_char = 'o'\n",
    "t_char = 't'\n",
    "    \n",
    "print( f'counts[\\'a\\'] = { counts[a_char] }' )\n",
    "print( f'counts[\\'o\\'] = { counts[o_char] }' )\n",
    "print( f'counts[\\'t\\'] = { counts[t_char] }' )\n",
    "print( f'max(counts.values()) = { max(counts.values()) }' )"
   ]
  }
 ],
 "metadata": {
  "kernelspec": {
   "display_name": "Python 3 (ipykernel)",
   "language": "python",
   "name": "python3"
  },
  "language_info": {
   "codemirror_mode": {
    "name": "ipython",
    "version": 3
   },
   "file_extension": ".py",
   "mimetype": "text/x-python",
   "name": "python",
   "nbconvert_exporter": "python",
   "pygments_lexer": "ipython3",
   "version": "3.9.12"
  }
 },
 "nbformat": 4,
 "nbformat_minor": 5
}
