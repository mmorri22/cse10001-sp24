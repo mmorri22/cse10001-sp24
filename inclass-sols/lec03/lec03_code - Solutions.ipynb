{
 "cells": [
  {
   "cell_type": "markdown",
   "id": "b5069922",
   "metadata": {},
   "source": [
    "### This is the preview Notebook for Lecture 03\n",
    "\n",
    "In this lecture, we will learn about the <b>Central Processing Unit</b> and <font color=\"red\">Conditional Executions</font>"
   ]
  },
  {
   "cell_type": "markdown",
   "id": "750d5b4a",
   "metadata": {},
   "source": [
    "### Introduction to Functions Continued\n",
    "\n",
    "Combining Concepts - Functions, ASCII, and Hexadecimal Values"
   ]
  },
  {
   "cell_type": "code",
   "execution_count": 1,
   "id": "1bc6a34a",
   "metadata": {},
   "outputs": [],
   "source": [
    "# Initial Values for our functions\n",
    "val_1 = 78\n",
    "val_2 = 111\n",
    "val_3 = 116\n",
    "val_4 = 114\n",
    "val_5 = 101"
   ]
  },
  {
   "cell_type": "code",
   "execution_count": 3,
   "id": "4cc2255b",
   "metadata": {
    "scrolled": false
   },
   "outputs": [],
   "source": [
    "# Get the binary values\n",
    "binary_1 = bin( val_1 )\n",
    "binary_2 = bin( val_2 )\n",
    "binary_3 = bin( val_3 )\n",
    "binary_4 = bin( val_4 )\n",
    "binary_5 = bin( val_5 )"
   ]
  },
  {
   "cell_type": "code",
   "execution_count": 4,
   "id": "201ee15e",
   "metadata": {},
   "outputs": [
    {
     "data": {
      "text/plain": [
       "'0b1001110'"
      ]
     },
     "execution_count": 4,
     "metadata": {},
     "output_type": "execute_result"
    }
   ],
   "source": [
    "binary_1"
   ]
  },
  {
   "cell_type": "code",
   "execution_count": 5,
   "id": "d2973c43",
   "metadata": {},
   "outputs": [],
   "source": [
    "# Get the hexadecimal values\n",
    "hex_1 = hex( val_1 )\n",
    "hex_2 = hex( val_2 )\n",
    "hex_3 = hex( val_3 )\n",
    "hex_4 = hex( val_4 )\n",
    "hex_5 = hex( val_5 )"
   ]
  },
  {
   "cell_type": "code",
   "execution_count": 6,
   "id": "56c05214",
   "metadata": {},
   "outputs": [],
   "source": [
    "# Get the ascii characters\n",
    "chr_1 = chr( val_1 )\n",
    "chr_2 = chr( val_2 )\n",
    "chr_3 = chr( val_3 )\n",
    "chr_4 = chr( val_4 )\n",
    "chr_5 = chr( val_5 )"
   ]
  },
  {
   "cell_type": "code",
   "execution_count": 32,
   "id": "4019df5f",
   "metadata": {},
   "outputs": [],
   "source": [
    "# print_conversions\n",
    "def print_conversions( int_val, binary_val, hex_val, chr_val ):\n",
    "    # print( str(int_val), ': ', str(binary_val), ' ', str(hex_val), ' ', str(chr_val) )\n",
    "    print( f'{int_val}' + ': ' + f'{binary_val}' + ' ' + f'{hex_val}' + ' ' + f'{chr_val}' )"
   ]
  },
  {
   "cell_type": "code",
   "execution_count": 35,
   "id": "c54a69cd",
   "metadata": {},
   "outputs": [
    {
     "name": "stdout",
     "output_type": "stream",
     "text": [
      "78: 0b1001110 0x4e N\n",
      "111: 0b1101111 0x6f o\n",
      "116: 0b1110100 0x74 t\n",
      "114: 0b1110010 0x72 r\n",
      "101: 0b1100101 0x65 e\n"
     ]
    }
   ],
   "source": [
    "# Print all results\n",
    "print_conversions( val_1, binary_1, hex_1, chr_1 )\n",
    "print_conversions( val_2, binary_2, hex_2, chr_2 )\n",
    "print_conversions( val_3, binary_3, hex_3, chr_3 )\n",
    "print_conversions( val_4, binary_4, hex_4, chr_4 )\n",
    "print_conversions( val_5, binary_5, hex_5, chr_5 )"
   ]
  },
  {
   "cell_type": "code",
   "execution_count": 36,
   "id": "bc08f4f3",
   "metadata": {},
   "outputs": [
    {
     "name": "stdout",
     "output_type": "stream",
     "text": [
      "78: 0b1001110 0x4e N\n"
     ]
    }
   ],
   "source": [
    "# Nested functions!\n",
    "print_conversions( val_1, bin(val_1), hex(val_1), chr(val_1) )"
   ]
  },
  {
   "cell_type": "code",
   "execution_count": 37,
   "id": "27ae6ec5",
   "metadata": {},
   "outputs": [],
   "source": [
    "# Call print_conversions within another function make_conversions\n",
    "# Reduce the work!\n",
    "def make_conversions( val_input ):\n",
    "    print_conversions( val_input, bin(val_input), hex(val_input), chr(val_input) )"
   ]
  },
  {
   "cell_type": "code",
   "execution_count": 38,
   "id": "d09a83e5",
   "metadata": {},
   "outputs": [],
   "source": [
    "# Libraries to import interact\n",
    "from __future__ import print_function\n",
    "from ipywidgets import interact, interactive, fixed, interact_manual\n",
    "import ipywidgets as widgets"
   ]
  },
  {
   "cell_type": "code",
   "execution_count": 39,
   "id": "31bfddec",
   "metadata": {},
   "outputs": [
    {
     "data": {
      "application/vnd.jupyter.widget-view+json": {
       "model_id": "9ec370547cd54ffc8e483e48d06045d9",
       "version_major": 2,
       "version_minor": 0
      },
      "text/plain": [
       "interactive(children=(IntSlider(value=63, description='val_input', max=127), Output()), _dom_classes=('widget-…"
      ]
     },
     "metadata": {},
     "output_type": "display_data"
    },
    {
     "data": {
      "text/plain": [
       "<function __main__.make_conversions(val_input)>"
      ]
     },
     "execution_count": 39,
     "metadata": {},
     "output_type": "execute_result"
    }
   ],
   "source": [
    "# How to run and implement interact\n",
    "\n",
    "interact( make_conversions, val_input=(0,127) )"
   ]
  },
  {
   "cell_type": "markdown",
   "id": "74963fc3",
   "metadata": {},
   "source": [
    "### User Interaction\n",
    "\n",
    "First, we will write a function called <b>simple</b> that <b>adds two numbers</b> and then <b>displays the result</b>"
   ]
  },
  {
   "cell_type": "code",
   "execution_count": 45,
   "id": "7fb4d820",
   "metadata": {},
   "outputs": [],
   "source": [
    "# We will write the function for simple here:\n",
    "\n",
    "def simple():\n",
    "    \n",
    "    x_simple = int(input(\"x? \"))\n",
    "    y_simple = int(input(\"y? \"))\n",
    "    \n",
    "    print( x_simple + y_simple )"
   ]
  },
  {
   "cell_type": "code",
   "execution_count": 46,
   "id": "b95bf89e",
   "metadata": {
    "scrolled": true
   },
   "outputs": [
    {
     "name": "stdout",
     "output_type": "stream",
     "text": [
      "x? 5\n",
      "y? 6\n",
      "11\n"
     ]
    }
   ],
   "source": [
    "# Run example\n",
    "simple()"
   ]
  },
  {
   "cell_type": "code",
   "execution_count": 47,
   "id": "b31dd538",
   "metadata": {},
   "outputs": [],
   "source": [
    "# Next, we will import the dis library, which will help us view the assembly code\n",
    "import dis"
   ]
  },
  {
   "cell_type": "code",
   "execution_count": 48,
   "id": "dca760db",
   "metadata": {},
   "outputs": [
    {
     "name": "stdout",
     "output_type": "stream",
     "text": [
      "  5           0 LOAD_GLOBAL              0 (int)\n",
      "              2 LOAD_GLOBAL              1 (input)\n",
      "              4 LOAD_CONST               1 ('x? ')\n",
      "              6 CALL_FUNCTION            1\n",
      "              8 CALL_FUNCTION            1\n",
      "             10 STORE_FAST               0 (x_simple)\n",
      "\n",
      "  6          12 LOAD_GLOBAL              0 (int)\n",
      "             14 LOAD_GLOBAL              1 (input)\n",
      "             16 LOAD_CONST               2 ('y? ')\n",
      "             18 CALL_FUNCTION            1\n",
      "             20 CALL_FUNCTION            1\n",
      "             22 STORE_FAST               1 (y_simple)\n",
      "\n",
      "  8          24 LOAD_GLOBAL              2 (print)\n",
      "             26 LOAD_FAST                0 (x_simple)\n",
      "             28 LOAD_FAST                1 (y_simple)\n",
      "             30 BINARY_ADD\n",
      "             32 CALL_FUNCTION            1\n",
      "             34 POP_TOP\n",
      "             36 LOAD_CONST               0 (None)\n",
      "             38 RETURN_VALUE\n"
     ]
    }
   ],
   "source": [
    "# By passing simple to a dis function, we can see how the compiler will organize it\n",
    "# Functions are put in cache and then are cleared when done (like cramming for an exam)\n",
    "dis.dis(simple)"
   ]
  },
  {
   "cell_type": "markdown",
   "id": "d2e07017",
   "metadata": {},
   "source": [
    "### Next, we will write a function that adds up all numbers until 0 is entered"
   ]
  },
  {
   "cell_type": "code",
   "execution_count": 51,
   "id": "f1743a42",
   "metadata": {},
   "outputs": [
    {
     "name": "stdout",
     "output_type": "stream",
     "text": [
      "number? (or 0 to stop) 11\n",
      "Current total =  11\n",
      "number? (or 0 to stop) 21\n",
      "Current total =  32\n",
      "number? (or 0 to stop) 44\n",
      "Current total =  76\n",
      "number? (or 0 to stop) -9\n",
      "Current total =  67\n",
      "number? (or 0 to stop) 0\n",
      "Final total =  67\n"
     ]
    }
   ],
   "source": [
    "# Enter the code here\n",
    "total = 0\n",
    "number = int(input('number? (or 0 to stop) '))\n",
    "\n",
    "while number != 0:\n",
    "    total = total + number\n",
    "    print( 'Current total = ', str(total) )\n",
    "    number = int(input('number? (or 0 to stop) '))\n",
    "    \n",
    "print( 'Final total = ', str(total) )"
   ]
  },
  {
   "cell_type": "markdown",
   "id": "38eca557",
   "metadata": {},
   "source": [
    "### Combining Concepts\n",
    "<p></p>\n",
    "Now, you will write a function that calculates the nth <b>Fibonacci Number</b>.\n",
    "<p></p>\n",
    "The logic is:\n",
    "<ol>\n",
    "    <li>If less than 1, return 0</li>\n",
    "    <li>If 1 or 2, return 1</li>\n",
    "    <li>Otherwise, we will loop until we get to the nth number, adding the values</li>\n",
    "</ol>"
   ]
  },
  {
   "cell_type": "code",
   "execution_count": 20,
   "id": "61a9873f",
   "metadata": {},
   "outputs": [],
   "source": [
    "# Enter the function here here"
   ]
  },
  {
   "cell_type": "code",
   "execution_count": 4,
   "id": "8187b36b",
   "metadata": {},
   "outputs": [],
   "source": [
    "# Enter the run code here"
   ]
  },
  {
   "cell_type": "markdown",
   "id": "e6afbe96",
   "metadata": {},
   "source": [
    "## Break Statements"
   ]
  },
  {
   "cell_type": "code",
   "execution_count": null,
   "id": "3083454a",
   "metadata": {},
   "outputs": [],
   "source": [
    "# While loop without a break statement"
   ]
  },
  {
   "cell_type": "code",
   "execution_count": null,
   "id": "0fb79675",
   "metadata": {},
   "outputs": [],
   "source": [
    "# Practicing break statements"
   ]
  },
  {
   "cell_type": "markdown",
   "id": "46a8aae7",
   "metadata": {},
   "source": [
    "### Time Permitting: Next, we will learn about try/except\n",
    "\n",
    "We will first learn about this using <b>ZeroDivisionError</b>"
   ]
  },
  {
   "cell_type": "code",
   "execution_count": null,
   "id": "cf9a0187",
   "metadata": {},
   "outputs": [],
   "source": [
    "x = int(input('X?'))\n",
    "y = int(input('Y?'))\n",
    "\n",
    "# We will write the try/except here\n",
    "\n"
   ]
  },
  {
   "cell_type": "code",
   "execution_count": null,
   "id": "82e32d7e",
   "metadata": {},
   "outputs": [],
   "source": []
  }
 ],
 "metadata": {
  "kernelspec": {
   "display_name": "Python 3 (ipykernel)",
   "language": "python",
   "name": "python3"
  },
  "language_info": {
   "codemirror_mode": {
    "name": "ipython",
    "version": 3
   },
   "file_extension": ".py",
   "mimetype": "text/x-python",
   "name": "python",
   "nbconvert_exporter": "python",
   "pygments_lexer": "ipython3",
   "version": "3.10.9"
  }
 },
 "nbformat": 4,
 "nbformat_minor": 5
}
