{
 "cells": [
  {
   "cell_type": "markdown",
   "id": "c150a205",
   "metadata": {},
   "source": [
    "### Key Concepts\n",
    "1. Binary conversion to ASCII\n",
    "2. Paying close attention to what data type you are using\n",
    "3. Floats vs. Integers ( Precision vs. Accuracy )\n",
    "4. Errors, and making sure you are using the correct syntax."
   ]
  },
  {
   "cell_type": "markdown",
   "id": "b63c9385",
   "metadata": {},
   "source": [
    "### This is the preview notebook for Lecture 02\n",
    "<p>   </p>\n",
    "In this lecture, we will learn about <b>variables</b>, <font color = \"red\">expressions</font>, and <i>functions</i>. Specifically, you will learn about:<br>\n",
    "<ol>\n",
    "    <li>Expressions and how to determine a data type<br>\n",
    "    <li>Boolean operators in Python<br>\n",
    "    <li>Variables and variable tracing<br>\n",
    "    <li>Functions<br>\n",
    "    <li>Nested Functions<br>\n",
    "</ol>\n"
   ]
  },
  {
   "cell_type": "code",
   "execution_count": 1,
   "id": "dc362a92",
   "metadata": {
    "scrolled": true
   },
   "outputs": [
    {
     "data": {
      "text/plain": [
       "'Hello, World'"
      ]
     },
     "execution_count": 1,
     "metadata": {},
     "output_type": "execute_result"
    }
   ],
   "source": [
    "# Print a basic string\n",
    "'Hello, World'"
   ]
  },
  {
   "cell_type": "code",
   "execution_count": 4,
   "id": "bacfbe46",
   "metadata": {},
   "outputs": [
    {
     "ename": "SyntaxError",
     "evalue": "unterminated string literal (detected at line 2) (1025742826.py, line 2)",
     "output_type": "error",
     "traceback": [
      "\u001b[1;36m  Cell \u001b[1;32mIn[4], line 2\u001b[1;36m\u001b[0m\n\u001b[1;33m    'Hello, World\u001b[0m\n\u001b[1;37m    ^\u001b[0m\n\u001b[1;31mSyntaxError\u001b[0m\u001b[1;31m:\u001b[0m unterminated string literal (detected at line 2)\n"
     ]
    }
   ],
   "source": [
    "# Compiler Error Example - Common coding mistake\n",
    "'Hello, World"
   ]
  },
  {
   "cell_type": "code",
   "execution_count": 5,
   "id": "f6df6fae",
   "metadata": {},
   "outputs": [
    {
     "data": {
      "text/plain": [
       "'AliceBob'"
      ]
     },
     "execution_count": 5,
     "metadata": {},
     "output_type": "execute_result"
    }
   ],
   "source": [
    "# Concatenate two strings using +\n",
    "'Alice' + 'Bob'"
   ]
  },
  {
   "cell_type": "code",
   "execution_count": 8,
   "id": "2e5ea64e",
   "metadata": {},
   "outputs": [
    {
     "data": {
      "text/plain": [
       "'Go Irish'"
      ]
     },
     "execution_count": 8,
     "metadata": {},
     "output_type": "execute_result"
    }
   ],
   "source": [
    "# Remember the space in ASCII\n",
    "'Go' + ' ' + 'Irish'"
   ]
  },
  {
   "cell_type": "code",
   "execution_count": 9,
   "id": "65e5e09e",
   "metadata": {},
   "outputs": [
    {
     "ename": "TypeError",
     "evalue": "can only concatenate str (not \"int\") to str",
     "output_type": "error",
     "traceback": [
      "\u001b[1;31m---------------------------------------------------------------------------\u001b[0m",
      "\u001b[1;31mTypeError\u001b[0m                                 Traceback (most recent call last)",
      "Cell \u001b[1;32mIn[9], line 2\u001b[0m\n\u001b[0;32m      1\u001b[0m \u001b[38;5;66;03m# Example of Type Error\u001b[39;00m\n\u001b[1;32m----> 2\u001b[0m \u001b[38;5;124;43m'\u001b[39;49m\u001b[38;5;124;43mAlice\u001b[39;49m\u001b[38;5;124;43m'\u001b[39;49m\u001b[43m \u001b[49m\u001b[38;5;241;43m+\u001b[39;49m\u001b[43m \u001b[49m\u001b[38;5;241;43m42\u001b[39;49m\n",
      "\u001b[1;31mTypeError\u001b[0m: can only concatenate str (not \"int\") to str"
     ]
    }
   ],
   "source": [
    "# Example of Type Error\n",
    "'Alice' + 42"
   ]
  },
  {
   "cell_type": "code",
   "execution_count": 10,
   "id": "03fb837b",
   "metadata": {},
   "outputs": [
    {
     "data": {
      "text/plain": [
       "'Alice42'"
      ]
     },
     "execution_count": 10,
     "metadata": {},
     "output_type": "execute_result"
    }
   ],
   "source": [
    "'Alice' + str(42)"
   ]
  },
  {
   "cell_type": "code",
   "execution_count": 11,
   "id": "a6087b98",
   "metadata": {},
   "outputs": [
    {
     "data": {
      "text/plain": [
       "'AliceAliceAliceAliceAlice'"
      ]
     },
     "execution_count": 11,
     "metadata": {},
     "output_type": "execute_result"
    }
   ],
   "source": [
    "# But... multiplying a string in Python works!\n",
    "\n",
    "'Alice' * 5"
   ]
  },
  {
   "cell_type": "markdown",
   "id": "75ded947",
   "metadata": {},
   "source": [
    "### Using Variables in Python"
   ]
  },
  {
   "cell_type": "code",
   "execution_count": 12,
   "id": "0f4f0dca",
   "metadata": {},
   "outputs": [],
   "source": [
    "# Setting the variable name\n",
    "x = 5"
   ]
  },
  {
   "cell_type": "code",
   "execution_count": 13,
   "id": "023e3e11",
   "metadata": {},
   "outputs": [
    {
     "data": {
      "text/plain": [
       "5"
      ]
     },
     "execution_count": 13,
     "metadata": {},
     "output_type": "execute_result"
    }
   ],
   "source": [
    "# Print the variable value\n",
    "x"
   ]
  },
  {
   "cell_type": "code",
   "execution_count": 18,
   "id": "79b82018",
   "metadata": {},
   "outputs": [
    {
     "data": {
      "text/plain": [
       "-22"
      ]
     },
     "execution_count": 18,
     "metadata": {},
     "output_type": "execute_result"
    }
   ],
   "source": [
    "# Update and print the result\n",
    "x = -22\n",
    "x"
   ]
  },
  {
   "cell_type": "code",
   "execution_count": 20,
   "id": "d530e667",
   "metadata": {},
   "outputs": [],
   "source": [
    "# You can change variable types in Python by setting the name of the variable type\n",
    "# Just be careful to keep track\n",
    "# (In C, we will need to be more explicit)\n",
    "\n",
    "x = 'CSE 10001'"
   ]
  },
  {
   "cell_type": "code",
   "execution_count": 16,
   "id": "7a0dd5bf",
   "metadata": {},
   "outputs": [
    {
     "data": {
      "text/plain": [
       "'CSE 10001'"
      ]
     },
     "execution_count": 16,
     "metadata": {},
     "output_type": "execute_result"
    }
   ],
   "source": [
    "x"
   ]
  },
  {
   "cell_type": "code",
   "execution_count": 21,
   "id": "5e1c1e83",
   "metadata": {},
   "outputs": [
    {
     "data": {
      "text/plain": [
       "str"
      ]
     },
     "execution_count": 21,
     "metadata": {},
     "output_type": "execute_result"
    }
   ],
   "source": [
    "# How to check the type when troubleshooting!!\n",
    "type(x)"
   ]
  },
  {
   "cell_type": "code",
   "execution_count": 22,
   "id": "3ee36d71",
   "metadata": {},
   "outputs": [
    {
     "data": {
      "text/plain": [
       "int"
      ]
     },
     "execution_count": 22,
     "metadata": {},
     "output_type": "execute_result"
    }
   ],
   "source": [
    "type(5)"
   ]
  },
  {
   "cell_type": "code",
   "execution_count": 23,
   "id": "8f2e267a",
   "metadata": {},
   "outputs": [
    {
     "data": {
      "text/plain": [
       "str"
      ]
     },
     "execution_count": 23,
     "metadata": {},
     "output_type": "execute_result"
    }
   ],
   "source": [
    "type('5')"
   ]
  },
  {
   "cell_type": "code",
   "execution_count": 24,
   "id": "abbd4e0e",
   "metadata": {
    "scrolled": false
   },
   "outputs": [
    {
     "data": {
      "text/plain": [
       "float"
      ]
     },
     "execution_count": 24,
     "metadata": {},
     "output_type": "execute_result"
    }
   ],
   "source": [
    "type(5.0)"
   ]
  },
  {
   "cell_type": "markdown",
   "id": "c8aa1745",
   "metadata": {},
   "source": [
    "### Boolean Values"
   ]
  },
  {
   "cell_type": "code",
   "execution_count": 25,
   "id": "87a6c357",
   "metadata": {},
   "outputs": [
    {
     "data": {
      "text/plain": [
       "True"
      ]
     },
     "execution_count": 25,
     "metadata": {},
     "output_type": "execute_result"
    }
   ],
   "source": [
    "True"
   ]
  },
  {
   "cell_type": "code",
   "execution_count": 26,
   "id": "8863d986",
   "metadata": {},
   "outputs": [
    {
     "data": {
      "text/plain": [
       "False"
      ]
     },
     "execution_count": 26,
     "metadata": {},
     "output_type": "execute_result"
    }
   ],
   "source": [
    "False"
   ]
  },
  {
   "cell_type": "code",
   "execution_count": 27,
   "id": "5e096fed",
   "metadata": {},
   "outputs": [
    {
     "data": {
      "text/plain": [
       "True"
      ]
     },
     "execution_count": 27,
     "metadata": {},
     "output_type": "execute_result"
    }
   ],
   "source": [
    "# OR Examples\n",
    "True or False"
   ]
  },
  {
   "cell_type": "code",
   "execution_count": 28,
   "id": "dd8e3bfe",
   "metadata": {},
   "outputs": [
    {
     "data": {
      "text/plain": [
       "True"
      ]
     },
     "execution_count": 28,
     "metadata": {},
     "output_type": "execute_result"
    }
   ],
   "source": [
    "True or True"
   ]
  },
  {
   "cell_type": "code",
   "execution_count": 29,
   "id": "10e7aeed",
   "metadata": {},
   "outputs": [
    {
     "data": {
      "text/plain": [
       "False"
      ]
     },
     "execution_count": 29,
     "metadata": {},
     "output_type": "execute_result"
    }
   ],
   "source": [
    "False or False"
   ]
  },
  {
   "cell_type": "code",
   "execution_count": 30,
   "id": "7c0d00b3",
   "metadata": {},
   "outputs": [
    {
     "data": {
      "text/plain": [
       "True"
      ]
     },
     "execution_count": 30,
     "metadata": {},
     "output_type": "execute_result"
    }
   ],
   "source": [
    "# AND Operator\n",
    "True and True"
   ]
  },
  {
   "cell_type": "code",
   "execution_count": 34,
   "id": "2a2db6e5",
   "metadata": {},
   "outputs": [
    {
     "data": {
      "text/plain": [
       "False"
      ]
     },
     "execution_count": 34,
     "metadata": {},
     "output_type": "execute_result"
    }
   ],
   "source": [
    "True and True and False and True and True"
   ]
  },
  {
   "cell_type": "code",
   "execution_count": 31,
   "id": "e17662ae",
   "metadata": {},
   "outputs": [
    {
     "data": {
      "text/plain": [
       "False"
      ]
     },
     "execution_count": 31,
     "metadata": {},
     "output_type": "execute_result"
    }
   ],
   "source": [
    "True and False"
   ]
  },
  {
   "cell_type": "code",
   "execution_count": 32,
   "id": "3e070079",
   "metadata": {},
   "outputs": [
    {
     "data": {
      "text/plain": [
       "False"
      ]
     },
     "execution_count": 32,
     "metadata": {},
     "output_type": "execute_result"
    }
   ],
   "source": [
    "False and False"
   ]
  },
  {
   "cell_type": "code",
   "execution_count": 36,
   "id": "fad55a28",
   "metadata": {},
   "outputs": [
    {
     "data": {
      "text/plain": [
       "False"
      ]
     },
     "execution_count": 36,
     "metadata": {},
     "output_type": "execute_result"
    }
   ],
   "source": [
    "True and (True and False)"
   ]
  },
  {
   "cell_type": "code",
   "execution_count": 37,
   "id": "fcb7a244",
   "metadata": {},
   "outputs": [
    {
     "data": {
      "text/plain": [
       "True"
      ]
     },
     "execution_count": 37,
     "metadata": {},
     "output_type": "execute_result"
    }
   ],
   "source": [
    "True and (True or False)"
   ]
  },
  {
   "cell_type": "code",
   "execution_count": 38,
   "id": "e75e3c37",
   "metadata": {},
   "outputs": [
    {
     "data": {
      "text/plain": [
       "True"
      ]
     },
     "execution_count": 38,
     "metadata": {},
     "output_type": "execute_result"
    }
   ],
   "source": [
    "True or (True and False)"
   ]
  },
  {
   "cell_type": "code",
   "execution_count": 39,
   "id": "c85c3226",
   "metadata": {},
   "outputs": [
    {
     "data": {
      "text/plain": [
       "False"
      ]
     },
     "execution_count": 39,
     "metadata": {},
     "output_type": "execute_result"
    }
   ],
   "source": [
    "False or (True and False)"
   ]
  },
  {
   "cell_type": "code",
   "execution_count": 40,
   "id": "f918671c",
   "metadata": {},
   "outputs": [],
   "source": [
    "# Booleans in Variables\n",
    "x = True\n",
    "y = True\n",
    "z = False"
   ]
  },
  {
   "cell_type": "code",
   "execution_count": 41,
   "id": "fc73d4f9",
   "metadata": {},
   "outputs": [
    {
     "data": {
      "text/plain": [
       "bool"
      ]
     },
     "execution_count": 41,
     "metadata": {},
     "output_type": "execute_result"
    }
   ],
   "source": [
    "type(x)"
   ]
  },
  {
   "cell_type": "code",
   "execution_count": 42,
   "id": "13921fff",
   "metadata": {},
   "outputs": [
    {
     "data": {
      "text/plain": [
       "True"
      ]
     },
     "execution_count": 42,
     "metadata": {},
     "output_type": "execute_result"
    }
   ],
   "source": [
    "x and y"
   ]
  },
  {
   "cell_type": "code",
   "execution_count": 43,
   "id": "897eb1d8",
   "metadata": {
    "scrolled": true
   },
   "outputs": [
    {
     "data": {
      "text/plain": [
       "False"
      ]
     },
     "execution_count": 43,
     "metadata": {},
     "output_type": "execute_result"
    }
   ],
   "source": [
    "x and z"
   ]
  },
  {
   "cell_type": "code",
   "execution_count": 44,
   "id": "1a6df85e",
   "metadata": {
    "scrolled": true
   },
   "outputs": [
    {
     "data": {
      "text/plain": [
       "False"
      ]
     },
     "execution_count": 44,
     "metadata": {},
     "output_type": "execute_result"
    }
   ],
   "source": [
    "x and y and z"
   ]
  },
  {
   "cell_type": "code",
   "execution_count": 45,
   "id": "5dd16852",
   "metadata": {},
   "outputs": [
    {
     "data": {
      "text/plain": [
       "True"
      ]
     },
     "execution_count": 45,
     "metadata": {},
     "output_type": "execute_result"
    }
   ],
   "source": [
    "x and (y or z)"
   ]
  },
  {
   "cell_type": "markdown",
   "id": "fd181810",
   "metadata": {},
   "source": [
    "### Print Function"
   ]
  },
  {
   "cell_type": "code",
   "execution_count": 47,
   "id": "ac28e5b7",
   "metadata": {},
   "outputs": [
    {
     "name": "stdout",
     "output_type": "stream",
     "text": [
      "18\n"
     ]
    }
   ],
   "source": [
    "# Add and print a variable\n",
    "x = 13\n",
    "print( x + 5 )"
   ]
  },
  {
   "cell_type": "code",
   "execution_count": 48,
   "id": "6e0bc749",
   "metadata": {},
   "outputs": [],
   "source": [
    "# Trace Variable Example\n",
    "x_trace = 5"
   ]
  },
  {
   "cell_type": "code",
   "execution_count": 49,
   "id": "4581ee5c",
   "metadata": {},
   "outputs": [
    {
     "data": {
      "text/plain": [
       "5"
      ]
     },
     "execution_count": 49,
     "metadata": {},
     "output_type": "execute_result"
    }
   ],
   "source": [
    "x_trace"
   ]
  },
  {
   "cell_type": "code",
   "execution_count": 50,
   "id": "c07cfb7a",
   "metadata": {},
   "outputs": [
    {
     "name": "stdout",
     "output_type": "stream",
     "text": [
      "5\n"
     ]
    }
   ],
   "source": [
    "print( x_trace )"
   ]
  },
  {
   "cell_type": "code",
   "execution_count": 55,
   "id": "2e417c94",
   "metadata": {},
   "outputs": [
    {
     "name": "stdout",
     "output_type": "stream",
     "text": [
      "x_trace = 5\n"
     ]
    }
   ],
   "source": [
    "# Add one and print\n",
    "print( 'x_trace = ' + str(x_trace) )"
   ]
  },
  {
   "cell_type": "code",
   "execution_count": 58,
   "id": "b111986f",
   "metadata": {},
   "outputs": [
    {
     "name": "stdout",
     "output_type": "stream",
     "text": [
      "10\n",
      "x_trace = 5\n"
     ]
    }
   ],
   "source": [
    "# Example of addition NOT updating the variable \n",
    "print( str(x_trace + 5) )\n",
    "\n",
    "print( 'x_trace = ' + str(x_trace) )"
   ]
  },
  {
   "cell_type": "code",
   "execution_count": 60,
   "id": "34745068",
   "metadata": {},
   "outputs": [
    {
     "name": "stdout",
     "output_type": "stream",
     "text": [
      "x_trace = 5\n"
     ]
    }
   ],
   "source": [
    "# Example of using f'{}' to convert a variable name into a string.\n",
    "# Remember - Numbers are represented differently in a computer than characters\n",
    "\n",
    "print( 'x_trace = ' + f'{x_trace}' )"
   ]
  },
  {
   "cell_type": "code",
   "execution_count": 65,
   "id": "1cdc4a6b",
   "metadata": {},
   "outputs": [],
   "source": [
    "# Example of +=\n",
    "# Take that variable, and add the value to the right to itself\n",
    "\n",
    "x_trace += 7"
   ]
  },
  {
   "cell_type": "code",
   "execution_count": 66,
   "id": "dcfbd28f",
   "metadata": {
    "scrolled": true
   },
   "outputs": [
    {
     "name": "stdout",
     "output_type": "stream",
     "text": [
      "26\n"
     ]
    }
   ],
   "source": [
    "# The output is the result of running the previous cell and this cell\n",
    "# Three times\n",
    "\n",
    "print ( f'{x_trace}' )"
   ]
  },
  {
   "cell_type": "code",
   "execution_count": 67,
   "id": "e669af18",
   "metadata": {},
   "outputs": [],
   "source": [
    "x_trace = x_trace + 7"
   ]
  },
  {
   "cell_type": "code",
   "execution_count": 68,
   "id": "f48a4f35",
   "metadata": {},
   "outputs": [
    {
     "name": "stdout",
     "output_type": "stream",
     "text": [
      "33\n"
     ]
    }
   ],
   "source": [
    "print( str(x_trace) )"
   ]
  },
  {
   "cell_type": "markdown",
   "id": "192046fd",
   "metadata": {},
   "source": [
    "### Boolean Operators\n",
    "\n",
    "Different than <code>and</code> and <code>or</code>, these are used to make <b>comparisons</b>"
   ]
  },
  {
   "cell_type": "code",
   "execution_count": 69,
   "id": "63cf786f",
   "metadata": {},
   "outputs": [],
   "source": [
    "# Variables we will use\n",
    "x_bool = 5\n",
    "y_bool = 6"
   ]
  },
  {
   "cell_type": "code",
   "execution_count": 70,
   "id": "fd6de7f3",
   "metadata": {},
   "outputs": [
    {
     "data": {
      "text/plain": [
       "False"
      ]
     },
     "execution_count": 70,
     "metadata": {},
     "output_type": "execute_result"
    }
   ],
   "source": [
    "# True if equal\n",
    "\n",
    "x_bool == y_bool"
   ]
  },
  {
   "cell_type": "code",
   "execution_count": 71,
   "id": "eec332ec",
   "metadata": {},
   "outputs": [
    {
     "data": {
      "text/plain": [
       "True"
      ]
     },
     "execution_count": 71,
     "metadata": {},
     "output_type": "execute_result"
    }
   ],
   "source": [
    "# True if not equal\n",
    "\n",
    "x_bool != y_bool"
   ]
  },
  {
   "cell_type": "code",
   "execution_count": 72,
   "id": "cb04a3cb",
   "metadata": {},
   "outputs": [
    {
     "data": {
      "text/plain": [
       "True"
      ]
     },
     "execution_count": 72,
     "metadata": {},
     "output_type": "execute_result"
    }
   ],
   "source": [
    "# True if less than\n",
    "\n",
    "x_bool < y_bool"
   ]
  },
  {
   "cell_type": "code",
   "execution_count": 73,
   "id": "39a86c85",
   "metadata": {},
   "outputs": [
    {
     "data": {
      "text/plain": [
       "True"
      ]
     },
     "execution_count": 73,
     "metadata": {},
     "output_type": "execute_result"
    }
   ],
   "source": [
    "# True if less than or equal to\n",
    "\n",
    "x_bool <= y_bool"
   ]
  },
  {
   "cell_type": "code",
   "execution_count": 74,
   "id": "bc8438ea",
   "metadata": {},
   "outputs": [
    {
     "ename": "SyntaxError",
     "evalue": "invalid syntax (575199314.py, line 2)",
     "output_type": "error",
     "traceback": [
      "\u001b[1;36m  Cell \u001b[1;32mIn[74], line 2\u001b[1;36m\u001b[0m\n\u001b[1;33m    x_bool =< y_bool\u001b[0m\n\u001b[1;37m            ^\u001b[0m\n\u001b[1;31mSyntaxError\u001b[0m\u001b[1;31m:\u001b[0m invalid syntax\n"
     ]
    }
   ],
   "source": [
    "# What happens when =< is used\n",
    "x_bool =< y_bool"
   ]
  },
  {
   "cell_type": "code",
   "execution_count": 75,
   "id": "629904ca",
   "metadata": {},
   "outputs": [
    {
     "data": {
      "text/plain": [
       "False"
      ]
     },
     "execution_count": 75,
     "metadata": {},
     "output_type": "execute_result"
    }
   ],
   "source": [
    "# True if greater than\n",
    "\n",
    "x_bool > y_bool"
   ]
  },
  {
   "cell_type": "code",
   "execution_count": 76,
   "id": "bc4e159b",
   "metadata": {},
   "outputs": [
    {
     "data": {
      "text/plain": [
       "False"
      ]
     },
     "execution_count": 76,
     "metadata": {},
     "output_type": "execute_result"
    }
   ],
   "source": [
    "# True if greater than or equal to\n",
    "\n",
    "x_bool >= y_bool"
   ]
  },
  {
   "cell_type": "markdown",
   "id": "e669a5ca",
   "metadata": {},
   "source": [
    "### Conversion between binary, hex, and decimal"
   ]
  },
  {
   "cell_type": "code",
   "execution_count": 78,
   "id": "c40cfbd1",
   "metadata": {},
   "outputs": [
    {
     "data": {
      "text/plain": [
       "24472469"
      ]
     },
     "execution_count": 78,
     "metadata": {},
     "output_type": "execute_result"
    }
   ],
   "source": [
    "# Binary conversion to decimal - Use base 2 to indicate binary\n",
    "\n",
    "int( '1011101010110101110010101' , 2)"
   ]
  },
  {
   "cell_type": "code",
   "execution_count": 79,
   "id": "77324341",
   "metadata": {},
   "outputs": [
    {
     "data": {
      "text/plain": [
       "3122036709"
      ]
     },
     "execution_count": 79,
     "metadata": {},
     "output_type": "execute_result"
    }
   ],
   "source": [
    "# Hex conversion to decimal - Use base 16 to indicate hex\n",
    "\n",
    "int( 'ba167fe5' , 16)"
   ]
  },
  {
   "cell_type": "code",
   "execution_count": 80,
   "id": "b9842986",
   "metadata": {},
   "outputs": [
    {
     "data": {
      "text/plain": [
       "'0x1756b95'"
      ]
     },
     "execution_count": 80,
     "metadata": {},
     "output_type": "execute_result"
    }
   ],
   "source": [
    "# Binary conversion to hex\n",
    "# The hex function only takes in integers, so we need to convert to int first\n",
    "\n",
    "int_num = int( '1011101010110101110010101' , 2)\n",
    "\n",
    "# Now we use the integer in hex()\n",
    "\n",
    "hex( int_num )"
   ]
  },
  {
   "cell_type": "markdown",
   "id": "ec9ab957",
   "metadata": {},
   "source": [
    "### Introduction to Functions"
   ]
  },
  {
   "cell_type": "code",
   "execution_count": 83,
   "id": "3dc0d314",
   "metadata": {},
   "outputs": [],
   "source": [
    "# Define a function add_nums that takes in two inputs and prints a result\n",
    "# It is critical that you indent your code in functions in Python!\n",
    "\n",
    "def add_nums( x_input, y_input ):\n",
    "    z = x_input + y_input"
   ]
  },
  {
   "cell_type": "code",
   "execution_count": 84,
   "id": "8d9a3a8f",
   "metadata": {},
   "outputs": [],
   "source": [
    "# Call the function on 5 and 6\n",
    "\n",
    "add_nums( 5, 6 )"
   ]
  },
  {
   "cell_type": "code",
   "execution_count": 87,
   "id": "8582d6c5",
   "metadata": {},
   "outputs": [],
   "source": [
    "# The return keyword helps with \n",
    "\n",
    "def add_nums_return( x_input, y_input ):\n",
    "    return x_input + y_input"
   ]
  },
  {
   "cell_type": "code",
   "execution_count": 88,
   "id": "60277c7b",
   "metadata": {
    "scrolled": true
   },
   "outputs": [
    {
     "data": {
      "text/plain": [
       "11"
      ]
     },
     "execution_count": 88,
     "metadata": {},
     "output_type": "execute_result"
    }
   ],
   "source": [
    "add_nums_return( 5, 6)"
   ]
  },
  {
   "cell_type": "markdown",
   "id": "7574a0b7",
   "metadata": {},
   "source": [
    "<font color = \"red\">Hello!</font>"
   ]
  },
  {
   "cell_type": "code",
   "execution_count": null,
   "id": "a4360a6d",
   "metadata": {},
   "outputs": [],
   "source": []
  },
  {
   "cell_type": "code",
   "execution_count": null,
   "id": "0659a4d7",
   "metadata": {},
   "outputs": [],
   "source": []
  },
  {
   "cell_type": "code",
   "execution_count": 57,
   "id": "45a6eccb",
   "metadata": {},
   "outputs": [],
   "source": [
    "# Initial Values for our functions\n",
    "val_1 = 78\n",
    "val_2 = 111\n",
    "val_3 = 116\n",
    "val_4 = 114\n",
    "val_5 = 101"
   ]
  },
  {
   "cell_type": "code",
   "execution_count": 58,
   "id": "e26ce21b",
   "metadata": {},
   "outputs": [],
   "source": [
    "# Get the binary values\n"
   ]
  },
  {
   "cell_type": "code",
   "execution_count": 59,
   "id": "ed3a9b75",
   "metadata": {},
   "outputs": [],
   "source": [
    "# Get the hexadecimal values\n"
   ]
  },
  {
   "cell_type": "code",
   "execution_count": 60,
   "id": "ebb32712",
   "metadata": {},
   "outputs": [],
   "source": [
    "# Get the ascii characters\n"
   ]
  },
  {
   "cell_type": "code",
   "execution_count": 61,
   "id": "23cd6b7f",
   "metadata": {},
   "outputs": [],
   "source": [
    "# print_conversions"
   ]
  },
  {
   "cell_type": "code",
   "execution_count": 29,
   "id": "8ed3c192",
   "metadata": {},
   "outputs": [],
   "source": [
    "# Print all results\n"
   ]
  },
  {
   "cell_type": "code",
   "execution_count": 30,
   "id": "097b54cd",
   "metadata": {},
   "outputs": [],
   "source": [
    "# Nested functions!"
   ]
  },
  {
   "cell_type": "code",
   "execution_count": 65,
   "id": "34f1ed1e",
   "metadata": {},
   "outputs": [],
   "source": [
    "# Call print_conversions within another function make_conversions\n",
    "# Reduce the work!"
   ]
  },
  {
   "cell_type": "code",
   "execution_count": 66,
   "id": "65e61ecb",
   "metadata": {},
   "outputs": [],
   "source": [
    "# Libraries to import interact\n",
    "from __future__ import print_function\n",
    "from ipywidgets import interact, interactive, fixed, interact_manual\n",
    "import ipywidgets as widgets"
   ]
  },
  {
   "cell_type": "code",
   "execution_count": 31,
   "id": "a4a93987",
   "metadata": {},
   "outputs": [],
   "source": [
    "# How to run and implement interact"
   ]
  },
  {
   "cell_type": "markdown",
   "id": "b3217c42",
   "metadata": {},
   "source": [
    "### Time Permitting - Markdown\n",
    "\n",
    "We can use Markdown in Jupyter notebooks in order to make lists, display elements, or tables.\n",
    "\n",
    "We will go over a couple of examples if time permits"
   ]
  }
 ],
 "metadata": {
  "kernelspec": {
   "display_name": "Python 3 (ipykernel)",
   "language": "python",
   "name": "python3"
  },
  "language_info": {
   "codemirror_mode": {
    "name": "ipython",
    "version": 3
   },
   "file_extension": ".py",
   "mimetype": "text/x-python",
   "name": "python",
   "nbconvert_exporter": "python",
   "pygments_lexer": "ipython3",
   "version": "3.9.13"
  }
 },
 "nbformat": 4,
 "nbformat_minor": 5
}
