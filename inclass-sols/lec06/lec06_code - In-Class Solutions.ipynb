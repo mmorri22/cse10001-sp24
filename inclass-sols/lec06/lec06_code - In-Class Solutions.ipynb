{
 "cells": [
  {
   "cell_type": "markdown",
   "id": "b7f7146b",
   "metadata": {},
   "source": [
    "### This is the preview notebook for Lecture 06\n",
    "\n",
    "In this lecture, we will learn about:\n",
    "<ol>\n",
    "    <li>Advanced List Operations</li>\n",
    "    <ol>\n",
    "        <li>Enumerating list pairs (index, value)</li>\n",
    "        <li>Using index, letter for string enumeration</li>\n",
    "        <li>Reviewing Range Operators for lists from the Reading</li>\n",
    "        <li>in operators</li>\n",
    "        <li>Concatenating lists</li>\n",
    "    </ol>\n",
    "    <li>Advanced Topics: Real-World Application</li>\n",
    "    <ol>\n",
    "        <li>Dice Rolling</li>\n",
    "        <li>Compound Interest</li>\n",
    "    </ol>\n",
    "</ol>"
   ]
  },
  {
   "cell_type": "markdown",
   "id": "9e3d8481",
   "metadata": {},
   "source": [
    "### In-Class Coding Opportunity\n",
    "\n",
    "Write a function <b>update_list</b> that\n",
    "<ol>\n",
    "    <li>Takes in a list of integers, an index, and a value to update</li>\n",
    "    <li>Tries to update the index of that list with the value</li>\n",
    "    <li>Prints an IndexError exception if the index is out of bounds</li>\n",
    "</ol>"
   ]
  },
  {
   "cell_type": "code",
   "execution_count": 7,
   "id": "a2cebf11",
   "metadata": {},
   "outputs": [],
   "source": [
    "# Code Together Opportunity\n",
    "\n",
    "def update_list( num_list, index, value ):\n",
    "    \n",
    "    try:\n",
    "        num_list[index] = value\n",
    "        \n",
    "    except IndexError:\n",
    "        print( str(index), \"is out of bounds. Enter from 0 to \", str(len(num_list)-1))\n",
    "    "
   ]
  },
  {
   "cell_type": "code",
   "execution_count": 2,
   "id": "c82d7ad1",
   "metadata": {
    "scrolled": true
   },
   "outputs": [
    {
     "data": {
      "text/plain": [
       "False"
      ]
     },
     "execution_count": 2,
     "metadata": {},
     "output_type": "execute_result"
    }
   ],
   "source": [
    "# Run to test in-class coding opportunity\n",
    "numbers = [22, 37, 81, 46, 99, 102, 106]\n",
    "89 in numbers"
   ]
  },
  {
   "cell_type": "code",
   "execution_count": 3,
   "id": "c9cdce8b",
   "metadata": {},
   "outputs": [],
   "source": [
    "update_list( numbers, 4, 89 )"
   ]
  },
  {
   "cell_type": "code",
   "execution_count": 4,
   "id": "67b8bc03",
   "metadata": {
    "scrolled": true
   },
   "outputs": [
    {
     "data": {
      "text/plain": [
       "True"
      ]
     },
     "execution_count": 4,
     "metadata": {},
     "output_type": "execute_result"
    }
   ],
   "source": [
    "89 in numbers"
   ]
  },
  {
   "cell_type": "code",
   "execution_count": 5,
   "id": "69937c1c",
   "metadata": {},
   "outputs": [
    {
     "name": "stdout",
     "output_type": "stream",
     "text": [
      "[22, 37, 81, 46, 89, 102, 106]\n"
     ]
    }
   ],
   "source": [
    "print(numbers)"
   ]
  },
  {
   "cell_type": "code",
   "execution_count": 10,
   "id": "63154fb4",
   "metadata": {},
   "outputs": [
    {
     "name": "stdout",
     "output_type": "stream",
     "text": [
      "7 is out of bounds. Enter from 0 to  6\n"
     ]
    }
   ],
   "source": [
    "update_list( numbers, 7, 103 )"
   ]
  },
  {
   "cell_type": "markdown",
   "id": "79d263f7",
   "metadata": {},
   "source": [
    "### Enumerate \n",
    "\n",
    "We can generate a list of pairs consisting of the index and the item using enumerate:"
   ]
  },
  {
   "cell_type": "code",
   "execution_count": 13,
   "id": "c97bc2e6",
   "metadata": {
    "scrolled": true
   },
   "outputs": [],
   "source": [
    "# Enumerating lists\n",
    "enumerated_list = list( enumerate( ['a', 'b', 'c'] ) )"
   ]
  },
  {
   "cell_type": "code",
   "execution_count": 14,
   "id": "d170b38b",
   "metadata": {},
   "outputs": [
    {
     "data": {
      "text/plain": [
       "[(0, 'a'), (1, 'b'), (2, 'c')]"
      ]
     },
     "execution_count": 14,
     "metadata": {},
     "output_type": "execute_result"
    }
   ],
   "source": [
    "enumerated_list"
   ]
  },
  {
   "cell_type": "code",
   "execution_count": 12,
   "id": "5d9a4299",
   "metadata": {
    "scrolled": false
   },
   "outputs": [
    {
     "name": "stdout",
     "output_type": "stream",
     "text": [
      "0 a\n",
      "1 b\n",
      "2 c\n"
     ]
    }
   ],
   "source": [
    "# Creates a new enumerated list - For loops and enumerating lists\n",
    "for index, letter in enumerate('abc'):\n",
    "    print(index, letter)"
   ]
  },
  {
   "cell_type": "code",
   "execution_count": 15,
   "id": "24c503af",
   "metadata": {},
   "outputs": [
    {
     "name": "stdout",
     "output_type": "stream",
     "text": [
      "0 a\n",
      "1 b\n",
      "2 c\n"
     ]
    }
   ],
   "source": [
    "# Prints an existing enumerated list\n",
    "for index, letter in enumerated_list:\n",
    "    print(index, letter)"
   ]
  },
  {
   "cell_type": "code",
   "execution_count": 19,
   "id": "4ba2e49b",
   "metadata": {},
   "outputs": [
    {
     "data": {
      "text/plain": [
       "[{1, 'a'}, {2, 'b'}, {3, 'c'}]"
      ]
     },
     "execution_count": 19,
     "metadata": {},
     "output_type": "execute_result"
    }
   ],
   "source": [
    "# Adding to an empty list\n",
    "\n",
    "empty_list = []\n",
    "\n",
    "for index, letter in enumerate('abc'):\n",
    "    empty_list.append( {index+1,letter} )\n",
    "\n",
    "empty_list"
   ]
  },
  {
   "cell_type": "markdown",
   "id": "590951f0",
   "metadata": {},
   "source": [
    "### List Range Operators\n",
    "\n",
    "We will review and apply our understanding of List Range Operators"
   ]
  },
  {
   "cell_type": "code",
   "execution_count": 20,
   "id": "96c30a24",
   "metadata": {},
   "outputs": [],
   "source": [
    "# A string list\n",
    "colors = [ 'blue', 'gold', 'green', 'white']"
   ]
  },
  {
   "cell_type": "code",
   "execution_count": 21,
   "id": "615f807e",
   "metadata": {},
   "outputs": [
    {
     "data": {
      "text/plain": [
       "'white'"
      ]
     },
     "execution_count": 21,
     "metadata": {},
     "output_type": "execute_result"
    }
   ],
   "source": [
    "# We start at 0, but let's start at -1\n",
    "colors[-1]"
   ]
  },
  {
   "cell_type": "code",
   "execution_count": 24,
   "id": "f0429a01",
   "metadata": {},
   "outputs": [
    {
     "name": "stdout",
     "output_type": "stream",
     "text": [
      "colors[ -1 ] =  white\n",
      "colors[ -2 ] =  green\n",
      "colors[ -3 ] =  gold\n",
      "colors[ -4 ] =  blue\n"
     ]
    }
   ],
   "source": [
    "# Some creative looping!\n",
    "colors_len = len(colors)\n",
    "\n",
    "# Multiply by negative 1\n",
    "neg_colors_len = colors_len * -1\n",
    "\n",
    "# Python iteration starts in reverse\n",
    "iterator = -1\n",
    "while iterator >= neg_colors_len:\n",
    "    print( 'colors[',str(iterator),'] = ', colors[iterator] )\n",
    "    iterator -= 1"
   ]
  },
  {
   "cell_type": "code",
   "execution_count": 25,
   "id": "de1fd752",
   "metadata": {},
   "outputs": [
    {
     "data": {
      "text/plain": [
       "['gold', 'green', 'white']"
      ]
     },
     "execution_count": 25,
     "metadata": {},
     "output_type": "execute_result"
    }
   ],
   "source": [
    "colors[1:]"
   ]
  },
  {
   "cell_type": "code",
   "execution_count": 26,
   "id": "664f5d50",
   "metadata": {},
   "outputs": [
    {
     "data": {
      "text/plain": [
       "['green']"
      ]
     },
     "execution_count": 26,
     "metadata": {},
     "output_type": "execute_result"
    }
   ],
   "source": [
    "colors[2:3]"
   ]
  },
  {
   "cell_type": "code",
   "execution_count": 27,
   "id": "179ceecb",
   "metadata": {
    "scrolled": true
   },
   "outputs": [
    {
     "data": {
      "text/plain": [
       "['gold', 'green']"
      ]
     },
     "execution_count": 27,
     "metadata": {},
     "output_type": "execute_result"
    }
   ],
   "source": [
    "colors[1:-1]"
   ]
  },
  {
   "cell_type": "code",
   "execution_count": 28,
   "id": "4bd31f47",
   "metadata": {},
   "outputs": [
    {
     "data": {
      "text/plain": [
       "['gold', 'green']"
      ]
     },
     "execution_count": 28,
     "metadata": {},
     "output_type": "execute_result"
    }
   ],
   "source": [
    "colors[1:3]"
   ]
  },
  {
   "cell_type": "markdown",
   "id": "d81ecc88",
   "metadata": {},
   "source": [
    "### In-Class Coding Opportunity\n",
    "\n",
    "Write the following function:\n",
    "\n",
    "def generate_random_numbers(input_list, start, end)\n",
    "\n",
    "Write code to do the following:\n",
    "<ol>\n",
    "    <li>Print the sum, min, max, and length of the list.</li>\n",
    "    <li>Print the first and last element of in the list.</li>\n",
    "    <li>Print out every other item in the list.</li>\n",
    "    <li>Implement try/except using IndexError</li>\n",
    "</ol>"
   ]
  },
  {
   "cell_type": "code",
   "execution_count": 50,
   "id": "191301df",
   "metadata": {},
   "outputs": [],
   "source": [
    "def generate_random_numbers(input_list, start, end):\n",
    "    \n",
    "    print( 'Sum = ', str(sum(input_list)) )\n",
    "    print( 'Min = ', str(min(input_list)) )\n",
    "    print( 'Max = ', str(sum(input_list)) )\n",
    "    \n",
    "    try:\n",
    "        \n",
    "        print( 'First element = ', str(input_list[start]) )\n",
    "        print( 'Last element  = ', str(input_list[end]) )\n",
    "        \n",
    "        iterator = start\n",
    "        while iterator <= end:\n",
    "            print( 'input_list[', str(iterator), '] = ', str(input_list[iterator]) )\n",
    "            iterator += 1\n",
    "        \n",
    "    except IndexError:\n",
    "        print('Out of bounds')"
   ]
  },
  {
   "cell_type": "code",
   "execution_count": 55,
   "id": "1f1e9cb0",
   "metadata": {
    "scrolled": false
   },
   "outputs": [
    {
     "name": "stdout",
     "output_type": "stream",
     "text": [
      "Sum =  40\n",
      "Min =  -6\n",
      "Max =  40\n",
      "First element =  0\n",
      "Last element  =  7\n",
      "input_list[ -7 ] =  0\n",
      "input_list[ -6 ] =  10\n",
      "input_list[ -5 ] =  3\n",
      "input_list[ -4 ] =  4\n",
      "input_list[ -3 ] =  22\n",
      "input_list[ -2 ] =  -6\n",
      "input_list[ -1 ] =  7\n",
      "input_list[ 0 ] =  0\n",
      "input_list[ 1 ] =  10\n",
      "input_list[ 2 ] =  3\n",
      "input_list[ 3 ] =  4\n",
      "input_list[ 4 ] =  22\n",
      "input_list[ 5 ] =  -6\n",
      "input_list[ 6 ] =  7\n"
     ]
    }
   ],
   "source": [
    "# Testing code for the In-Class Coding Oppportunity\n",
    "\n",
    "input_list = [0, 10, 3, 4, 22, -6, 7]\n",
    "list_end_index = len(input_list) - 1\n",
    "generate_random_numbers( input_list, -7, list_end_index )"
   ]
  },
  {
   "cell_type": "markdown",
   "id": "4b04eb5c",
   "metadata": {},
   "source": [
    "### List of Lists\n",
    "\n",
    "Remember the analogy that a sentence is a list of a list of strings"
   ]
  },
  {
   "cell_type": "code",
   "execution_count": 56,
   "id": "dea41a76",
   "metadata": {},
   "outputs": [],
   "source": [
    "sentence = [\"Cheer\", \"cheer\", \"for\", \"old\", \"Notre\", \"Dame\"]"
   ]
  },
  {
   "cell_type": "code",
   "execution_count": 57,
   "id": "db8d3f03",
   "metadata": {},
   "outputs": [
    {
     "data": {
      "text/plain": [
       "'cheer'"
      ]
     },
     "execution_count": 57,
     "metadata": {},
     "output_type": "execute_result"
    }
   ],
   "source": [
    "# Will give us the word 'cheer', which is a list of 5 characters\n",
    "sentence[1]"
   ]
  },
  {
   "cell_type": "code",
   "execution_count": 58,
   "id": "e56701ae",
   "metadata": {},
   "outputs": [
    {
     "data": {
      "text/plain": [
       "'r'"
      ]
     },
     "execution_count": 58,
     "metadata": {},
     "output_type": "execute_result"
    }
   ],
   "source": [
    "# Now we get the [4]th character, which is r\n",
    "sentence[1][4]"
   ]
  },
  {
   "cell_type": "code",
   "execution_count": 60,
   "id": "37eb48c5",
   "metadata": {},
   "outputs": [
    {
     "data": {
      "text/plain": [
       "'t'"
      ]
     },
     "execution_count": 60,
     "metadata": {},
     "output_type": "execute_result"
    }
   ],
   "source": [
    "sentence[4][2]"
   ]
  },
  {
   "cell_type": "markdown",
   "id": "bd34064a",
   "metadata": {},
   "source": [
    "Now we can do list of lists of numbers! For example, a set of points in a graph!"
   ]
  },
  {
   "cell_type": "code",
   "execution_count": 61,
   "id": "02096ae6",
   "metadata": {},
   "outputs": [],
   "source": [
    "points = [ [0, 1], [2, 3], [-1, 4], [3, -7] ]"
   ]
  },
  {
   "cell_type": "code",
   "execution_count": 62,
   "id": "8665d8e8",
   "metadata": {},
   "outputs": [
    {
     "data": {
      "text/plain": [
       "[2, 3]"
      ]
     },
     "execution_count": 62,
     "metadata": {},
     "output_type": "execute_result"
    }
   ],
   "source": [
    "points[1]"
   ]
  },
  {
   "cell_type": "code",
   "execution_count": 63,
   "id": "99befef0",
   "metadata": {},
   "outputs": [
    {
     "data": {
      "text/plain": [
       "-1"
      ]
     },
     "execution_count": 63,
     "metadata": {},
     "output_type": "execute_result"
    }
   ],
   "source": [
    "points[2][0]"
   ]
  },
  {
   "cell_type": "code",
   "execution_count": 64,
   "id": "ec0694fc",
   "metadata": {
    "scrolled": true
   },
   "outputs": [
    {
     "data": {
      "text/plain": [
       "3"
      ]
     },
     "execution_count": 64,
     "metadata": {},
     "output_type": "execute_result"
    }
   ],
   "source": [
    "points[1][1]"
   ]
  },
  {
   "cell_type": "markdown",
   "id": "459ae5fe",
   "metadata": {},
   "source": [
    "Use the <b>in</b> operator to quickly search for an element in a list\n",
    "\n",
    "Simplified version of a for loop. But only recommended if you need a true/false, not an index."
   ]
  },
  {
   "cell_type": "code",
   "execution_count": 65,
   "id": "0f78194a",
   "metadata": {},
   "outputs": [],
   "source": [
    "numbers = [10, 22, 17, 9, -7, 34, 88, 35, 36, 41, 47, 101, 346, -10, -18, 36]"
   ]
  },
  {
   "cell_type": "code",
   "execution_count": 66,
   "id": "e6774552",
   "metadata": {},
   "outputs": [
    {
     "data": {
      "text/plain": [
       "False"
      ]
     },
     "execution_count": 66,
     "metadata": {},
     "output_type": "execute_result"
    }
   ],
   "source": [
    "0 in numbers"
   ]
  },
  {
   "cell_type": "code",
   "execution_count": 67,
   "id": "82ea8fce",
   "metadata": {
    "scrolled": true
   },
   "outputs": [
    {
     "data": {
      "text/plain": [
       "True"
      ]
     },
     "execution_count": 67,
     "metadata": {},
     "output_type": "execute_result"
    }
   ],
   "source": [
    "346 in numbers"
   ]
  },
  {
   "cell_type": "markdown",
   "id": "7b0d0163",
   "metadata": {},
   "source": [
    "### List Concatenation"
   ]
  },
  {
   "cell_type": "code",
   "execution_count": 68,
   "id": "e3d26760",
   "metadata": {},
   "outputs": [
    {
     "data": {
      "text/plain": [
       "[0, 1, 2, 3, 4, 5]"
      ]
     },
     "execution_count": 68,
     "metadata": {},
     "output_type": "execute_result"
    }
   ],
   "source": [
    "[0, 1, 2] + [3, 4, 5]"
   ]
  },
  {
   "cell_type": "code",
   "execution_count": 69,
   "id": "c12ee9b7",
   "metadata": {
    "scrolled": true
   },
   "outputs": [
    {
     "data": {
      "text/plain": [
       "[0, 1, 2, 0, 1, 2, 0, 1, 2]"
      ]
     },
     "execution_count": 69,
     "metadata": {},
     "output_type": "execute_result"
    }
   ],
   "source": [
    "# You can copy-and-appent a list a number of times using the * operator\n",
    "[0, 1, 2] * 3"
   ]
  },
  {
   "cell_type": "markdown",
   "id": "0eeeddb2",
   "metadata": {},
   "source": [
    "### List Appending and Deleting"
   ]
  },
  {
   "cell_type": "code",
   "execution_count": 84,
   "id": "5e03db8a",
   "metadata": {},
   "outputs": [
    {
     "name": "stdout",
     "output_type": "stream",
     "text": [
      "[0, 1, 2, 3, 4]\n"
     ]
    }
   ],
   "source": [
    "# Use append mehod to add 4 to the end of the list\n",
    "append_list = [0, 1, 2, 3]\n",
    "append_list.append(4)\n",
    "print(append_list)"
   ]
  },
  {
   "cell_type": "code",
   "execution_count": 85,
   "id": "b069da3e",
   "metadata": {
    "scrolled": true
   },
   "outputs": [
    {
     "name": "stdout",
     "output_type": "stream",
     "text": [
      "[0, 1, 2, 3, 4, 5, 6, 7]\n"
     ]
    }
   ],
   "source": [
    "# Use the extend and range methods to add an entire range of values\n",
    "append_list.extend( range(5,8) )\n",
    "print(append_list)"
   ]
  },
  {
   "cell_type": "code",
   "execution_count": 86,
   "id": "6721d562",
   "metadata": {
    "scrolled": true
   },
   "outputs": [
    {
     "name": "stdout",
     "output_type": "stream",
     "text": [
      "3\n",
      "[0, 1, 2, 4, 5, 6, 7]\n"
     ]
    }
   ],
   "source": [
    "# Remove item at index 0 and return it\n",
    "# Notice how 3 is no longer in the list\n",
    "popped_val = append_list.pop(3)\n",
    "print(popped_val)\n",
    "print(append_list)"
   ]
  },
  {
   "cell_type": "code",
   "execution_count": 87,
   "id": "820f689e",
   "metadata": {},
   "outputs": [
    {
     "name": "stdout",
     "output_type": "stream",
     "text": [
      "[1, 2, 4, 5, 6, 7]\n"
     ]
    }
   ],
   "source": [
    "# Remove item at index 0\n",
    "del append_list[0]\n",
    "print(append_list)"
   ]
  },
  {
   "cell_type": "markdown",
   "id": "25ed8409",
   "metadata": {},
   "source": [
    "### List Sorting"
   ]
  },
  {
   "cell_type": "code",
   "execution_count": 88,
   "id": "6b26600a",
   "metadata": {},
   "outputs": [
    {
     "name": "stdout",
     "output_type": "stream",
     "text": [
      "[-7, 1, 8, 10, 13, 22, 39]\n"
     ]
    }
   ],
   "source": [
    "# Using sort() will permanently sort the list\n",
    "\n",
    "sort_list = [ 10, 22, -7, 13, 39, 8, 1 ]\n",
    "sort_list.sort()\n",
    "print(sort_list)"
   ]
  },
  {
   "cell_type": "code",
   "execution_count": 89,
   "id": "e632eff4",
   "metadata": {},
   "outputs": [
    {
     "data": {
      "text/plain": [
       "[-7, 1, 8, 10, 13, 22, 39]"
      ]
     },
     "execution_count": 89,
     "metadata": {},
     "output_type": "execute_result"
    }
   ],
   "source": [
    "# Using sorted will print them in order, but leave the list as is\n",
    "sort_list = [ 10, 22, -7, 13, 39, 8, 1 ]\n",
    "sorted( sort_list )"
   ]
  },
  {
   "cell_type": "code",
   "execution_count": 90,
   "id": "5797efc9",
   "metadata": {
    "scrolled": true
   },
   "outputs": [
    {
     "name": "stdout",
     "output_type": "stream",
     "text": [
      "[10, 22, -7, 13, 39, 8, 1]\n"
     ]
    }
   ],
   "source": [
    "print( sort_list )"
   ]
  },
  {
   "cell_type": "markdown",
   "id": "8e241aba",
   "metadata": {},
   "source": [
    "### List Reversing"
   ]
  },
  {
   "cell_type": "code",
   "execution_count": 91,
   "id": "e4078c9f",
   "metadata": {},
   "outputs": [
    {
     "name": "stdout",
     "output_type": "stream",
     "text": [
      "[0, 1, 2, 3, 4, 5, 6, 7, 8, 9]\n"
     ]
    }
   ],
   "source": [
    "# Empty List and then append\n",
    "reverse_list = []\n",
    "reverse_list.extend( range(0,10) )\n",
    "print( reverse_list )"
   ]
  },
  {
   "cell_type": "code",
   "execution_count": 92,
   "id": "8d63e0ee",
   "metadata": {
    "scrolled": true
   },
   "outputs": [
    {
     "name": "stdout",
     "output_type": "stream",
     "text": [
      "[9, 8, 7, 6, 5, 4, 3, 2, 1, 0]\n"
     ]
    }
   ],
   "source": [
    "# Reverse in place\n",
    "reverse_list.reverse()\n",
    "print( reverse_list )"
   ]
  },
  {
   "cell_type": "code",
   "execution_count": 93,
   "id": "cecc0d0c",
   "metadata": {},
   "outputs": [
    {
     "data": {
      "text/plain": [
       "[9, 8, 7, 6, 5, 4, 3, 2, 1, 0]"
      ]
     },
     "execution_count": 93,
     "metadata": {},
     "output_type": "execute_result"
    }
   ],
   "source": [
    "reverse_list"
   ]
  },
  {
   "cell_type": "code",
   "execution_count": 94,
   "id": "6f2a606b",
   "metadata": {},
   "outputs": [
    {
     "data": {
      "text/plain": [
       "['Shake', 'down', 'the', 'thunder', 'from', 'the', 'sky']"
      ]
     },
     "execution_count": 94,
     "metadata": {},
     "output_type": "execute_result"
    }
   ],
   "source": [
    "# Reverse, but printing only\n",
    "regular_list = [\"sky\",\"the\",\"from\",\"thunder\",\"the\",\"down\",\"Shake\"]\n",
    "regular_list[::-1]"
   ]
  },
  {
   "cell_type": "markdown",
   "id": "0c1d9d4f",
   "metadata": {},
   "source": [
    "### List Utility Functions"
   ]
  },
  {
   "cell_type": "code",
   "execution_count": 110,
   "id": "df9639fb",
   "metadata": {},
   "outputs": [],
   "source": [
    "list_utility_test =[10, 22, 7, -1, 3, 0, 4, -6, 22, 22]"
   ]
  },
  {
   "cell_type": "code",
   "execution_count": 111,
   "id": "6440f11e",
   "metadata": {},
   "outputs": [
    {
     "data": {
      "text/plain": [
       "83"
      ]
     },
     "execution_count": 111,
     "metadata": {},
     "output_type": "execute_result"
    }
   ],
   "source": [
    "# Sums all values in an integer list\n",
    "sum( list_utility_test )"
   ]
  },
  {
   "cell_type": "code",
   "execution_count": 112,
   "id": "4c133dd8",
   "metadata": {
    "scrolled": true
   },
   "outputs": [
    {
     "data": {
      "text/plain": [
       "22"
      ]
     },
     "execution_count": 112,
     "metadata": {},
     "output_type": "execute_result"
    }
   ],
   "source": [
    "# Finds the maximum value\n",
    "max( list_utility_test )"
   ]
  },
  {
   "cell_type": "code",
   "execution_count": 113,
   "id": "fb886b87",
   "metadata": {
    "scrolled": true
   },
   "outputs": [
    {
     "data": {
      "text/plain": [
       "-6"
      ]
     },
     "execution_count": 113,
     "metadata": {},
     "output_type": "execute_result"
    }
   ],
   "source": [
    "# Finds the minumum value\n",
    "min( list_utility_test )"
   ]
  },
  {
   "cell_type": "code",
   "execution_count": 118,
   "id": "05f75b7c",
   "metadata": {},
   "outputs": [
    {
     "data": {
      "text/plain": [
       "-6"
      ]
     },
     "execution_count": 118,
     "metadata": {},
     "output_type": "execute_result"
    }
   ],
   "source": [
    "# Choose an element at random\n",
    "# You must import random\n",
    "import random\n",
    "random.choice( list_utility_test )"
   ]
  },
  {
   "cell_type": "code",
   "execution_count": 127,
   "id": "1fd5cafe",
   "metadata": {},
   "outputs": [
    {
     "data": {
      "text/plain": [
       "[10, 4, -1]"
      ]
     },
     "execution_count": 127,
     "metadata": {},
     "output_type": "execute_result"
    }
   ],
   "source": [
    "# Gets 3 random values from the list\n",
    "random.sample( list_utility_test, 3 )"
   ]
  },
  {
   "cell_type": "markdown",
   "id": "47026977",
   "metadata": {},
   "source": [
    "### Coin Flipping Simulation"
   ]
  },
  {
   "cell_type": "code",
   "execution_count": 132,
   "id": "e5730547",
   "metadata": {},
   "outputs": [],
   "source": [
    "import random\n",
    "\n",
    "HEADS = 0\n",
    "TAILS = 1\n",
    "\n",
    "# Write a function simulate_coin_flip \n",
    "\n",
    "def simulate_coin_flip(num_flips):\n",
    "    \n",
    "    # Number of HEADS and TAILS are initially 0\n",
    "    counts = [0,0]\n",
    "    \n",
    "    for i in range(num_flips):\n",
    "        \n",
    "        curr_flip = random.randint(0,1)\n",
    "        \n",
    "        if curr_flip == HEADS:\n",
    "            counts[HEADS] += 1\n",
    "        else:\n",
    "            counts[TAILS] += 1\n",
    "            \n",
    "    return counts"
   ]
  },
  {
   "cell_type": "code",
   "execution_count": 137,
   "id": "baff3675",
   "metadata": {},
   "outputs": [
    {
     "data": {
      "text/plain": [
       "[43, 57]"
      ]
     },
     "execution_count": 137,
     "metadata": {},
     "output_type": "execute_result"
    }
   ],
   "source": [
    "simulate_coin_flip(100)"
   ]
  }
 ],
 "metadata": {
  "kernelspec": {
   "display_name": "Python 3 (ipykernel)",
   "language": "python",
   "name": "python3"
  },
  "language_info": {
   "codemirror_mode": {
    "name": "ipython",
    "version": 3
   },
   "file_extension": ".py",
   "mimetype": "text/x-python",
   "name": "python",
   "nbconvert_exporter": "python",
   "pygments_lexer": "ipython3",
   "version": "3.9.13"
  }
 },
 "nbformat": 4,
 "nbformat_minor": 5
}
