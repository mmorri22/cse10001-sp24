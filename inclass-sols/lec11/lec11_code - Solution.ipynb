{
 "cells": [
  {
   "cell_type": "markdown",
   "id": "d4e8982c",
   "metadata": {},
   "source": [
    "### This is the Notebook for Lecture 11\n",
    "\n",
    "In this lecture, we will learn techniques for using Python to interact with the Operating System, as well as how recursion and memory affects computing performance. This will include:\n",
    "\n",
    "<ol>\n",
    "    <li>Printing the date and time</li>\n",
    "    <li>Recursion using the Fibonacci Sequence</li>\n",
    "    <li>Memoization using a dictionary</li>\n",
    "    <li>Showing how memoization will significantly improve the run time of the program.</li>\n",
    "</ol>"
   ]
  },
  {
   "cell_type": "code",
   "execution_count": 1,
   "id": "ad3bbb58",
   "metadata": {},
   "outputs": [],
   "source": [
    "import os"
   ]
  },
  {
   "cell_type": "code",
   "execution_count": 2,
   "id": "ae1807ab",
   "metadata": {},
   "outputs": [],
   "source": [
    "import os.path, time"
   ]
  },
  {
   "cell_type": "code",
   "execution_count": 3,
   "id": "96a97b4d",
   "metadata": {},
   "outputs": [
    {
     "name": "stdout",
     "output_type": "stream",
     "text": [
      "0 .ipynb_checkpoints\n",
      "1 10.1515_9781400884803-003.pdf\n",
      "2 10.1515_9781400884803-005.pdf\n",
      "3 Dictionary.txt\n",
      "4 FightSong.txt\n",
      "5 Lecture 00 - Introduction to Principles of Computing.pptx\n",
      "6 Lecture 01 - Introduction to Programming and Data Representation (1).pptx\n",
      "7 Lecture 01 - Introduction to Programming and Data Representation.pptx\n",
      "8 Lecture 03 - CPU and Conditionals Execution.pptx\n",
      "9 Lecture 04 - Advanced Conditionals and HTML Printing.pptx\n",
      "10 Lecture 05 - Iteration and Lists.pptx\n",
      "11 Lecture 07 - Algorithms.pptx\n",
      "12 Lecture 09 - File Input-Output.pptx\n",
      "13 Lecture 10 - Dictionaries and Spell Check.pptx\n",
      "14 Lecture 11 - Operating Systems and Recursion (1).pptx\n",
      "15 Lecture 11 - Operating Systems and Recursion.pptx\n",
      "16 Midterm Code Study Guide.ipynb\n",
      "17 Untitled.ipynb\n",
      "18 computer_problems.png\n",
      "19 desktop.ini\n",
      "20 frost.txt\n",
      "21 inigo.txt\n",
      "22 lab01.ipynb\n",
      "23 lec01_code.ipynb\n",
      "24 lec02_code.ipynb\n",
      "25 lec03_code - Blank.ipynb\n",
      "26 lec04_code - Blank.ipynb\n",
      "27 lec04_code - Solution.ipynb\n",
      "28 lec05_code - In-Class Solution.ipynb\n",
      "29 lec06_code - In-Class Solutions.ipynb\n",
      "30 lec07_code - Solutions.ipynb\n",
      "31 lec08_code - Solutions.ipynb\n",
      "32 lec09_code - Blank.ipynb\n",
      "33 lec10_code - Solutions.ipynb\n",
      "34 lec11_code - Blank.ipynb\n"
     ]
    }
   ],
   "source": [
    "for index, file in enumerate( sorted( os.listdir('.') ) ):\n",
    "    print( index, file )"
   ]
  },
  {
   "cell_type": "code",
   "execution_count": 5,
   "id": "b2386e94",
   "metadata": {},
   "outputs": [
    {
     "name": "stdout",
     "output_type": "stream",
     "text": [
      "10.1515_9781400884803-003.pdf has 2765243 bytes!\n",
      "10.1515_9781400884803-005.pdf has 274912 bytes!\n",
      "Dictionary.txt has 542740 bytes!\n",
      "FightSong.txt has 265 bytes!\n",
      "Lecture 00 - Introduction to Principles of Computing.pptx has 104344196 bytes!\n",
      "Lecture 01 - Introduction to Programming and Data Representation (1).pptx has 38640888 bytes!\n",
      "Lecture 01 - Introduction to Programming and Data Representation.pptx has 38640888 bytes!\n",
      "Lecture 03 - CPU and Conditionals Execution.pptx has 49230382 bytes!\n",
      "Lecture 04 - Advanced Conditionals and HTML Printing.pptx has 427839 bytes!\n",
      "Lecture 05 - Iteration and Lists.pptx has 663226 bytes!\n",
      "Lecture 07 - Algorithms.pptx has 707013 bytes!\n",
      "Lecture 09 - File Input-Output.pptx has 782017 bytes!\n",
      "Lecture 10 - Dictionaries and Spell Check.pptx has 614142 bytes!\n",
      "Lecture 11 - Operating Systems and Recursion (1).pptx has 46858420 bytes!\n",
      "Lecture 11 - Operating Systems and Recursion.pptx has 46858420 bytes!\n",
      "Midterm Code Study Guide.ipynb has 25570 bytes!\n",
      "Untitled.ipynb has 2147 bytes!\n",
      "computer_problems.png has 33544 bytes!\n",
      "desktop.ini has 282 bytes!\n",
      "frost.txt has 729 bytes!\n",
      "inigo.txt has 73 bytes!\n",
      "lab01.ipynb has 6035 bytes!\n",
      "lec01_code.ipynb has 10210 bytes!\n",
      "lec02_code.ipynb has 26913 bytes!\n",
      "lec03_code - Blank.ipynb has 11536 bytes!\n",
      "lec04_code - Blank.ipynb has 12178 bytes!\n",
      "lec04_code - Solution.ipynb has 16168 bytes!\n",
      "lec05_code - In-Class Solution.ipynb has 17868 bytes!\n",
      "lec06_code - In-Class Solutions.ipynb has 27238 bytes!\n",
      "lec07_code - Solutions.ipynb has 32323 bytes!\n",
      "lec08_code - Solutions.ipynb has 19960 bytes!\n",
      "lec09_code - Blank.ipynb has 16771 bytes!\n",
      "lec10_code - Solutions.ipynb has 24303 bytes!\n",
      "lec11_code - Blank.ipynb has 6388 bytes!\n"
     ]
    }
   ],
   "source": [
    "for path in sorted( os.listdir('.') ):\n",
    "    \n",
    "    # Read files, not directories\n",
    "    if os.path.isfile(path):\n",
    "        \n",
    "        # Save calling this function repeatedly\n",
    "        stat = os.stat(path)\n",
    "        \n",
    "        print( path, 'has', stat.st_size, 'bytes!')"
   ]
  },
  {
   "cell_type": "code",
   "execution_count": 6,
   "id": "5a2eb9fb",
   "metadata": {},
   "outputs": [],
   "source": [
    "def fibonacci( int_x ):\n",
    "    \n",
    "    print( 'Call:', int_x )\n",
    "    \n",
    "    # Base Case\n",
    "    if int_x <= 1:\n",
    "        print('Got to base case. Return 1')\n",
    "        return 1\n",
    "    \n",
    "    # Recursive case\n",
    "    \n",
    "    int_first = int_x - 1\n",
    "    int_second = int_x - 2\n",
    "    \n",
    "    print( 'In Call', int_x, ', going left on', int_first )\n",
    "    \n",
    "    int_result1 = fibonacci(int_first)\n",
    "    \n",
    "    print( 'In Call', int_x, ', going right on', int_second )\n",
    "    \n",
    "    int_result2 = fibonacci(int_second)\n",
    "    \n",
    "    print( 'In Call', int_x, ', sum is', int_result1 + int_result2 ) \n",
    "    \n",
    "    return int_result1 + int_result2"
   ]
  },
  {
   "cell_type": "code",
   "execution_count": 7,
   "id": "1ca13d22",
   "metadata": {},
   "outputs": [
    {
     "name": "stdout",
     "output_type": "stream",
     "text": [
      "Call: 5\n",
      "In Call 5 , going left on 4\n",
      "Call: 4\n",
      "In Call 4 , going left on 3\n",
      "Call: 3\n",
      "In Call 3 , going left on 2\n",
      "Call: 2\n",
      "In Call 2 , going left on 1\n",
      "Call: 1\n",
      "Got to base case. Return 1\n",
      "In Call 2 , going right on 0\n",
      "Call: 0\n",
      "Got to base case. Return 1\n",
      "In Call 2 , sum is 2\n",
      "In Call 3 , going right on 1\n",
      "Call: 1\n",
      "Got to base case. Return 1\n",
      "In Call 3 , sum is 3\n",
      "In Call 4 , going right on 2\n",
      "Call: 2\n",
      "In Call 2 , going left on 1\n",
      "Call: 1\n",
      "Got to base case. Return 1\n",
      "In Call 2 , going right on 0\n",
      "Call: 0\n",
      "Got to base case. Return 1\n",
      "In Call 2 , sum is 2\n",
      "In Call 4 , sum is 5\n",
      "In Call 5 , going right on 3\n",
      "Call: 3\n",
      "In Call 3 , going left on 2\n",
      "Call: 2\n",
      "In Call 2 , going left on 1\n",
      "Call: 1\n",
      "Got to base case. Return 1\n",
      "In Call 2 , going right on 0\n",
      "Call: 0\n",
      "Got to base case. Return 1\n",
      "In Call 2 , sum is 2\n",
      "In Call 3 , going right on 1\n",
      "Call: 1\n",
      "Got to base case. Return 1\n",
      "In Call 3 , sum is 3\n",
      "In Call 5 , sum is 8\n"
     ]
    },
    {
     "data": {
      "text/plain": [
       "8"
      ]
     },
     "execution_count": 7,
     "metadata": {},
     "output_type": "execute_result"
    }
   ],
   "source": [
    "fibonacci(5)"
   ]
  },
  {
   "cell_type": "code",
   "execution_count": 10,
   "id": "dc06893d",
   "metadata": {},
   "outputs": [],
   "source": [
    "# Recursion Example\n",
    "def fibonacci_no_print(int_x):\n",
    "    # In-Class Code Goes Here\n",
    "    \n",
    "    # Base Case\n",
    "    if int_x <= 1:\n",
    "        return 1\n",
    "    \n",
    "    # Recursive case\n",
    "        \n",
    "    return fibonacci_no_print(int_x-1) + fibonacci_no_print(int_x-2)"
   ]
  },
  {
   "cell_type": "code",
   "execution_count": 12,
   "id": "673b5592",
   "metadata": {},
   "outputs": [
    {
     "name": "stdout",
     "output_type": "stream",
     "text": [
      "1\n",
      "1\n",
      "2\n",
      "3\n",
      "5\n",
      "8\n",
      "13\n",
      "21\n",
      "34\n",
      "55\n"
     ]
    }
   ],
   "source": [
    "for i in range(0,10):\n",
    "    print(fibonacci_no_print(i))"
   ]
  },
  {
   "cell_type": "code",
   "execution_count": 13,
   "id": "e37fb36e",
   "metadata": {},
   "outputs": [
    {
     "name": "stdout",
     "output_type": "stream",
     "text": [
      "1.26 s ± 19.4 ms per loop (mean ± std. dev. of 7 runs, 1 loop each)\n"
     ]
    }
   ],
   "source": [
    "# Output has been cleared\n",
    "# Running 34th Fibonacci will process\n",
    "%timeit fibonacci_no_print(34)"
   ]
  },
  {
   "cell_type": "code",
   "execution_count": null,
   "id": "a438908d",
   "metadata": {},
   "outputs": [],
   "source": [
    "# Using dictionaries to improve recursive run time\n",
    "def fibonacci_memo( fib_dict, n ):\n",
    "    \n",
    "    # If it is already in the dictionary\n",
    "    \n",
    "    # Else if n <= 1\n",
    "    \n",
    "    # Else"
   ]
  },
  {
   "cell_type": "code",
   "execution_count": null,
   "id": "c915e7fc",
   "metadata": {},
   "outputs": [],
   "source": [
    "# Create a dictionary and run the fibonacci_memo code\n",
    "fib_dict = {}\n",
    "\n",
    "for n in range(0, 10):\n",
    "    print( fibonacci_memo(fib_dict, n) )"
   ]
  },
  {
   "cell_type": "code",
   "execution_count": null,
   "id": "4e36b2c4",
   "metadata": {},
   "outputs": [],
   "source": [
    "fibonacci_memo(fib_dict, 100)"
   ]
  },
  {
   "cell_type": "markdown",
   "id": "7432c329",
   "metadata": {},
   "source": [
    "You can check the value of the 100th Fibonacci number <a href = \"https://www.google.com/search?q=100th+fibonacci+number&rlz=1C1JZAP_enUS828US828&oq=100th+Fibo&aqs=chrome.0.0i512j69i57j0i512j0i22i30j0i390l2.2678j0j4&sourceid=chrome&ie=UTF-8\">by searching on Google here</a>"
   ]
  },
  {
   "cell_type": "code",
   "execution_count": null,
   "id": "468578f3",
   "metadata": {},
   "outputs": [],
   "source": [
    "# Look how much faster we can calculate these numbers!\n",
    "fibonacci_memo(fib_dict, 100)"
   ]
  },
  {
   "cell_type": "code",
   "execution_count": null,
   "id": "d0d92077",
   "metadata": {},
   "outputs": [],
   "source": [
    "# Compared o 3.41 s ± 300 ms for the regular Fibonacci sequence for just 34!\n",
    "%timeit fibonacci_memo(fib_dict, 100)"
   ]
  }
 ],
 "metadata": {
  "kernelspec": {
   "display_name": "Python 3 (ipykernel)",
   "language": "python",
   "name": "python3"
  },
  "language_info": {
   "codemirror_mode": {
    "name": "ipython",
    "version": 3
   },
   "file_extension": ".py",
   "mimetype": "text/x-python",
   "name": "python",
   "nbconvert_exporter": "python",
   "pygments_lexer": "ipython3",
   "version": "3.9.13"
  }
 },
 "nbformat": 4,
 "nbformat_minor": 5
}
