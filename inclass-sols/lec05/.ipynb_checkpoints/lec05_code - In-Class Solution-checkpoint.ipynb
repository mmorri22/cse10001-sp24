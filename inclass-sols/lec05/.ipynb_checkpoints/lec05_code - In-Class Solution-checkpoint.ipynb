{
 "cells": [
  {
   "cell_type": "markdown",
   "id": "8cfa3e93",
   "metadata": {},
   "source": [
    "### This is the preview notebook for Lecture 05\n",
    "\n",
    "In this lecture, we will learn about:\n",
    "<ol>\n",
    "    <li>while loops</li>\n",
    "    <li>for loops</li>\n",
    "    <li>Lists</li>\n",
    "    <li>Review try/except</li>\n",
    "</ol>"
   ]
  },
  {
   "cell_type": "markdown",
   "id": "a62d4cdc",
   "metadata": {},
   "source": [
    "### range( start, end )\n",
    "\n",
    "Will actually go to <b>end-1</b>"
   ]
  },
  {
   "cell_type": "code",
   "execution_count": 5,
   "id": "16fc3c1d",
   "metadata": {
    "scrolled": true
   },
   "outputs": [
    {
     "name": "stdout",
     "output_type": "stream",
     "text": [
      "Inside while:  0\n",
      "Inside while:  1\n",
      "Inside while:  2\n",
      "Inside while:  3\n",
      "Outside while:  4\n"
     ]
    }
   ],
   "source": [
    "# You can even control the range\n",
    "# But for range(0,4), will it go to 3 or 4?\n",
    "\n",
    "iterator = 0\n",
    "\n",
    "while iterator in range(0, 4):\n",
    "    print( 'Inside while: ', str(iterator))\n",
    "    iterator += 1\n",
    "    \n",
    "print( 'Outside while: ', str(iterator))"
   ]
  },
  {
   "cell_type": "code",
   "execution_count": 7,
   "id": "6a0a20a4",
   "metadata": {},
   "outputs": [
    {
     "name": "stdout",
     "output_type": "stream",
     "text": [
      "Inside while:  3\n",
      "Inside while:  2\n",
      "Inside while:  1\n",
      "Inside while:  0\n",
      "Outside while:  -1\n"
     ]
    }
   ],
   "source": [
    "# Comparing range(a,b) - a is inclusive, b is exclusive\n",
    "iterator = 3\n",
    "\n",
    "while iterator in range(0, 4):\n",
    "    print( 'Inside while: ', str(iterator))\n",
    "    iterator -= 1\n",
    "    \n",
    "print( 'Outside while: ', str(iterator))"
   ]
  },
  {
   "cell_type": "code",
   "execution_count": 8,
   "id": "974b6cd2",
   "metadata": {
    "scrolled": false
   },
   "outputs": [
    {
     "name": "stdout",
     "output_type": "stream",
     "text": [
      "3\n",
      "5\n",
      "7\n",
      "9\n",
      "11\n"
     ]
    }
   ],
   "source": [
    "# Every loop, this will add 2\n",
    "# After it gets to 11, it will add 2, but then not print\n",
    "# A good example of *needing to understand the syntax*\n",
    "# Remember, we are shooting electricity into rocks and trying to make them think\n",
    "\n",
    "temp_val = 3\n",
    "add_val = 2\n",
    "\n",
    "while temp_val in range(3, 13):\n",
    "    print(temp_val)\n",
    "    temp_val += add_val"
   ]
  },
  {
   "cell_type": "markdown",
   "id": "f6b53057",
   "metadata": {},
   "source": [
    "### In-Class Coding Opportunity"
   ]
  },
  {
   "cell_type": "code",
   "execution_count": 26,
   "id": "1064deb5",
   "metadata": {},
   "outputs": [
    {
     "name": "stdout",
     "output_type": "stream",
     "text": [
      "Input the next integer: 10\n",
      "Input the next integer: 15\n",
      "Input the next integer: 7\n",
      "Input the next integer: 22\n",
      "Input the next integer: 5\n",
      "Input the next integer: 0\n",
      "Average of  [10, 15, 7, 22, 5]  is  11.8\n"
     ]
    }
   ],
   "source": [
    "# Read in a set of integers until you enter a 0, and then print their average\n",
    "\n",
    "# Modified problem\n",
    "\n",
    "sum_val = 0\n",
    "count = 0\n",
    "\n",
    "# Modified - Add an empty list\n",
    "result_list = []\n",
    "\n",
    "while True:\n",
    "    \n",
    "    int_input = int(input('Input the next integer: '))\n",
    "    \n",
    "    if int_input == 0:\n",
    "        break\n",
    "    \n",
    "    # Modified - Add to list\n",
    "    result_list.append(int_input)\n",
    "        \n",
    "    sum_val += int_input\n",
    "    count += 1\n",
    "\n",
    "try:\n",
    "    print( 'Average of ', str(result_list), ' is ', str(sum_val / count) )\n",
    "    \n",
    "except ZeroDivisionError:\n",
    "    print('Cannot divide by Zero')"
   ]
  },
  {
   "cell_type": "markdown",
   "id": "0fe2b325",
   "metadata": {},
   "source": [
    "### For loops \n",
    "\n",
    "Iterating through a definite set of objects is a common looping pattern"
   ]
  },
  {
   "cell_type": "code",
   "execution_count": 13,
   "id": "71eccafc",
   "metadata": {
    "scrolled": false
   },
   "outputs": [
    {
     "name": "stdout",
     "output_type": "stream",
     "text": [
      "0\n",
      "1\n",
      "2\n",
      "3\n"
     ]
    }
   ],
   "source": [
    "# Using []\n",
    "for i in [0, 1, 2, 3]:\n",
    "    print(i)"
   ]
  },
  {
   "cell_type": "code",
   "execution_count": 14,
   "id": "4668862e",
   "metadata": {
    "scrolled": true
   },
   "outputs": [
    {
     "name": "stdout",
     "output_type": "stream",
     "text": [
      "0\n",
      "1\n",
      "2\n"
     ]
    }
   ],
   "source": [
    "# Using range\n",
    "for i in range(0, 3):\n",
    "    print(i)"
   ]
  },
  {
   "cell_type": "markdown",
   "id": "b5974082",
   "metadata": {},
   "source": [
    "### List Syntax and Operators"
   ]
  },
  {
   "cell_type": "code",
   "execution_count": 15,
   "id": "3fec569c",
   "metadata": {},
   "outputs": [
    {
     "name": "stdout",
     "output_type": "stream",
     "text": [
      "[11, 13, 4, 22, -7]\n"
     ]
    }
   ],
   "source": [
    "# The basic format for a Python list\n",
    "print( [11, 13, 4, 22, -7] )"
   ]
  },
  {
   "cell_type": "code",
   "execution_count": 16,
   "id": "ae070386",
   "metadata": {},
   "outputs": [],
   "source": [
    "# You can use a variable name to save lists\n",
    "int_list = [11, 13, 4, 22, -7]"
   ]
  },
  {
   "cell_type": "code",
   "execution_count": 17,
   "id": "84201716",
   "metadata": {},
   "outputs": [
    {
     "name": "stdout",
     "output_type": "stream",
     "text": [
      "[11, 13, 4, 22, -7]\n"
     ]
    }
   ],
   "source": [
    "# By calling print, you can print the entire list\n",
    "print( int_list )"
   ]
  },
  {
   "cell_type": "code",
   "execution_count": 18,
   "id": "0d1b1c9c",
   "metadata": {},
   "outputs": [
    {
     "data": {
      "text/plain": [
       "list"
      ]
     },
     "execution_count": 18,
     "metadata": {},
     "output_type": "execute_result"
    }
   ],
   "source": [
    "# Review: Lists have their own type!\n",
    "type( int_list )"
   ]
  },
  {
   "cell_type": "code",
   "execution_count": 22,
   "id": "31d870b5",
   "metadata": {},
   "outputs": [
    {
     "name": "stdout",
     "output_type": "stream",
     "text": [
      "11\n",
      "4\n",
      "5\n"
     ]
    }
   ],
   "source": [
    "# You can access a list element using []\n",
    "\n",
    "print( int_list[0] )\n",
    "print( int_list[2] )\n",
    "print( len(int_list) )"
   ]
  },
  {
   "cell_type": "code",
   "execution_count": 24,
   "id": "84beadd5",
   "metadata": {},
   "outputs": [
    {
     "name": "stdout",
     "output_type": "stream",
     "text": [
      "[]\n",
      "[7]\n"
     ]
    }
   ],
   "source": [
    "# Empty list\n",
    "\n",
    "empty_list = []\n",
    "\n",
    "print( empty_list )\n",
    "\n",
    "empty_list.append(7)\n",
    "\n",
    "print( empty_list )"
   ]
  },
  {
   "cell_type": "markdown",
   "id": "05181b6a",
   "metadata": {},
   "source": [
    "### In-Class Coding Opportunity: Let's loop through the list and print the elements\n",
    "\n",
    "Key Takeaway: The value at a location is not the same as the location itself!"
   ]
  },
  {
   "cell_type": "code",
   "execution_count": 27,
   "id": "f2301f7a",
   "metadata": {},
   "outputs": [
    {
     "name": "stdout",
     "output_type": "stream",
     "text": [
      "int_list[ 0 ] =  11\n",
      "int_list[ 1 ] =  13\n",
      "int_list[ 2 ] =  4\n",
      "int_list[ 3 ] =  22\n",
      "int_list[ 4 ] =  -7\n"
     ]
    }
   ],
   "source": [
    "# Loop through lists example using len\n",
    "\n",
    "iterator = 0\n",
    "\n",
    "while iterator < len(int_list):\n",
    "    \n",
    "    print( 'int_list[', str(iterator), '] = ', str(int_list[iterator]) )\n",
    "    iterator += 1"
   ]
  },
  {
   "cell_type": "code",
   "execution_count": 28,
   "id": "91d8a1c3",
   "metadata": {
    "scrolled": true
   },
   "outputs": [
    {
     "name": "stdout",
     "output_type": "stream",
     "text": [
      "int_list[ 0 ] =  11\n",
      "int_list[ 1 ] =  13\n",
      "int_list[ 2 ] =  4\n",
      "int_list[ 3 ] =  22\n",
      "int_list[ 4 ] =  -7\n"
     ]
    }
   ],
   "source": [
    "# Loop through lists example using in\n",
    "\n",
    "iterator = 0\n",
    "\n",
    "for iterator in range(0, len(int_list)):\n",
    "    \n",
    "    print( 'int_list[', str(iterator), '] = ', str(int_list[iterator]) )"
   ]
  },
  {
   "cell_type": "code",
   "execution_count": 29,
   "id": "ade94353",
   "metadata": {},
   "outputs": [
    {
     "ename": "IndexError",
     "evalue": "list index out of range",
     "output_type": "error",
     "traceback": [
      "\u001b[1;31m---------------------------------------------------------------------------\u001b[0m",
      "\u001b[1;31mIndexError\u001b[0m                                Traceback (most recent call last)",
      "Cell \u001b[1;32mIn[29], line 5\u001b[0m\n\u001b[0;32m      1\u001b[0m \u001b[38;5;66;03m# Deliberate Compile Error\u001b[39;00m\n\u001b[0;32m      3\u001b[0m bad_index \u001b[38;5;241m=\u001b[39m \u001b[38;5;28mlen\u001b[39m( int_list )\n\u001b[1;32m----> 5\u001b[0m \u001b[38;5;28mprint\u001b[39m( \u001b[43mint_list\u001b[49m\u001b[43m[\u001b[49m\u001b[43mbad_index\u001b[49m\u001b[43m]\u001b[49m )\n",
      "\u001b[1;31mIndexError\u001b[0m: list index out of range"
     ]
    }
   ],
   "source": [
    "# Deliberate Compile Error\n",
    "\n",
    "bad_index = len( int_list )\n",
    "\n",
    "print( int_list[bad_index] )"
   ]
  },
  {
   "cell_type": "markdown",
   "id": "134c6ae7",
   "metadata": {},
   "source": [
    "### In-Class Coding Opportunity\n",
    "\n",
    "Write a function called find_smallest that returns the smallest item in a list. Then, write a line of code that passes an integer array to that function to test your result!"
   ]
  },
  {
   "cell_type": "code",
   "execution_count": 33,
   "id": "ce8dc4be",
   "metadata": {},
   "outputs": [],
   "source": [
    "# Function \n",
    "\n",
    "def find_smallest( data ):\n",
    "    \n",
    "    try:\n",
    "        smallest = data[0]\n",
    "        index = 0\n",
    "        \n",
    "        while index < len(data):\n",
    "            if data[index] < smallest:\n",
    "                smallest = data[index]\n",
    "                \n",
    "            index += 1\n",
    "    \n",
    "        return smallest\n",
    "    \n",
    "    except IndexError:\n",
    "        print('Index Error!')"
   ]
  },
  {
   "cell_type": "code",
   "execution_count": 34,
   "id": "5910e597",
   "metadata": {
    "scrolled": false
   },
   "outputs": [
    {
     "name": "stdout",
     "output_type": "stream",
     "text": [
      "-7\n"
     ]
    }
   ],
   "source": [
    "# Test with integers\n",
    "print(find_smallest([6, 3, 10, 6, 8, -2, 25, -7, -6, 9]))"
   ]
  },
  {
   "cell_type": "code",
   "execution_count": 35,
   "id": "fd6b0245",
   "metadata": {},
   "outputs": [],
   "source": [
    "# Test char array\n",
    "char_array = ['N', 'o', 't', 'r', 'e', 'D', 'a', 'm', 'e']"
   ]
  },
  {
   "cell_type": "code",
   "execution_count": 36,
   "id": "580ec288",
   "metadata": {},
   "outputs": [
    {
     "name": "stdout",
     "output_type": "stream",
     "text": [
      "D\n"
     ]
    }
   ],
   "source": [
    "# Test with char array\n",
    "print(find_smallest( char_array ))"
   ]
  }
 ],
 "metadata": {
  "kernelspec": {
   "display_name": "Python 3 (ipykernel)",
   "language": "python",
   "name": "python3"
  },
  "language_info": {
   "codemirror_mode": {
    "name": "ipython",
    "version": 3
   },
   "file_extension": ".py",
   "mimetype": "text/x-python",
   "name": "python",
   "nbconvert_exporter": "python",
   "pygments_lexer": "ipython3",
   "version": "3.9.13"
  }
 },
 "nbformat": 4,
 "nbformat_minor": 5
}
