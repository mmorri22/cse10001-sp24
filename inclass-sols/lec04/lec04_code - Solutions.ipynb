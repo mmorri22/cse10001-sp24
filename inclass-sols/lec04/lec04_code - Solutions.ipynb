{
 "cells": [
  {
   "cell_type": "markdown",
   "id": "b5069922",
   "metadata": {},
   "source": [
    "### This is the preview Notebook for Lecture 04\n",
    "\n",
    "In this lecture, we will learn about:\n",
    "<ol>\n",
    "    <li>Importing libraries and reviewing conditional execution</li>\n",
    "    <li>Try/Except</li>\n",
    "    <li>HTML and interact</li>\n",
    "</ol>\n",
    "    "
   ]
  },
  {
   "cell_type": "markdown",
   "id": "800309c8",
   "metadata": {},
   "source": [
    "<p></p>\n",
    "Now, you will write a function that calculates the nth <b>Fibonacci Number</b>.\n",
    "<p></p>\n",
    "The logic is:\n",
    "<ol>\n",
    "    <li>If less than 1, return 0</li>\n",
    "    <li>If 1 or 2, return 1</li>\n",
    "    <li>Otherwise, we will loop until we get to the nth number, adding the values</li>\n",
    "</ol>"
   ]
  },
  {
   "cell_type": "code",
   "execution_count": null,
   "id": "0ac5966e",
   "metadata": {},
   "outputs": [],
   "source": [
    "# Enter the function here here\n",
    "def fibonacci( fib_num ):\n",
    "    \n",
    "    # Base Cases\n",
    "    if fib_num == 1:\n",
    "        return 1\n",
    "    \n",
    "    elif fib_num == 2:\n",
    "        return 1\n",
    "    \n",
    "    # General Case\n",
    "    else:\n",
    "        \n",
    "        # Decrement loop by 2\n",
    "        fib_num = fib_num - 2\n",
    "    \n",
    "        int_num_1 = 1\n",
    "        int_num_2 = 1\n",
    "\n",
    "        loop_num = 1 # Start loop\n",
    "        \n",
    "        fib_sum = 0\n",
    "\n",
    "        while loop_num <= fib_num:\n",
    "            \n",
    "            fib_sum = int_num_1 + int_num_2\n",
    "\n",
    "            loop_num = loop_num + 1\n",
    "            \n",
    "            int_num_1 = int_num_2\n",
    "            \n",
    "            int_num_2 = fib_sum\n",
    "            \n",
    "        return fib_sum\n",
    "    "
   ]
  },
  {
   "cell_type": "code",
   "execution_count": null,
   "id": "5410c11a",
   "metadata": {},
   "outputs": [],
   "source": [
    "# Enter the run code here\n",
    "print('This program calculates the nth Fibonacci number')\n",
    "\n",
    "fib_num_global = 0 # Start greater than 0\n",
    "\n",
    "# Protect Input\n",
    "while fib_num_global < 1:\n",
    "\n",
    "    fib_num_global = int( input('Enter the value to calculate: (1 or greater) '))\n",
    "\n",
    "fibonacci(fib_num_global)"
   ]
  },
  {
   "cell_type": "code",
   "execution_count": null,
   "id": "c1aa8b11",
   "metadata": {},
   "outputs": [],
   "source": [
    "# Libraries to import interact\n",
    "from __future__ import print_function\n",
    "from ipywidgets import interact, interactive, fixed, interact_manual\n",
    "import ipywidgets as widgets"
   ]
  },
  {
   "cell_type": "code",
   "execution_count": null,
   "id": "4e655f90",
   "metadata": {},
   "outputs": [],
   "source": [
    "interact( fibonacci, fib_num=(1,200) )"
   ]
  },
  {
   "cell_type": "markdown",
   "id": "f4d21833",
   "metadata": {},
   "source": [
    "## Break Statements"
   ]
  },
  {
   "cell_type": "markdown",
   "id": "df118443",
   "metadata": {},
   "source": [
    "The provided while loop has an issue: It asks the user to enter a value greater than 0, and then enter Y to continue. But it increments instead of decrements!\n",
    "\n",
    "> <b>Note:</b> To stop this endless loop in Jupyter Notebook, you would go to <code>Kernel -> Restart & Clear Output</code>"
   ]
  },
  {
   "cell_type": "code",
   "execution_count": null,
   "id": "bb39bf19",
   "metadata": {},
   "outputs": [],
   "source": [
    "# While loop without a break statement\n",
    "\n",
    "int_no_break = int(input('Enter the value greater than 0: '))\n",
    "\n",
    "while int_no_break > 0:\n",
    "    print(int_no_break)\n",
    "    input('Enter Y to continue ')\n",
    "    int_no_break = int_no_break + 1"
   ]
  },
  {
   "cell_type": "code",
   "execution_count": 1,
   "id": "2f3dea22",
   "metadata": {},
   "outputs": [
    {
     "name": "stdout",
     "output_type": "stream",
     "text": [
      "Enter the value greater than 0: 4\n",
      "4\n",
      "Enter Y to continue Y\n",
      "5\n",
      "Enter Y to continue Y\n",
      "6\n",
      "Enter Y to continue Y\n",
      "7\n",
      "Enter Y to continue Y\n",
      "8\n"
     ]
    }
   ],
   "source": [
    "# Now let's fix it with a break statement stopping the loop if int_with_break is larger than 7\n",
    "\n",
    "int_with_break = int(input('Enter the value greater than 0: '))\n",
    "\n",
    "while int_with_break > 0:\n",
    "    print(int_with_break)\n",
    "    \n",
    "    if int_with_break > 7:\n",
    "        break\n",
    "    \n",
    "    input('Enter Y to continue ')\n",
    "    int_with_break = int_with_break + 1"
   ]
  },
  {
   "cell_type": "markdown",
   "id": "1ae1905f",
   "metadata": {},
   "source": [
    "Next, we will learn about try/except\n",
    "\n",
    "We will first learn about this using <b>ZeroDivisionError</b>"
   ]
  },
  {
   "cell_type": "code",
   "execution_count": 4,
   "id": "594b4976",
   "metadata": {},
   "outputs": [
    {
     "name": "stdout",
     "output_type": "stream",
     "text": [
      "X?8\n",
      "Y?0\n",
      "Y cannot be 0!\n"
     ]
    }
   ],
   "source": [
    "x = int(input('X?'))\n",
    "y = int(input('Y?'))\n",
    "\n",
    "# We will write the try/except here\n",
    "\n",
    "try:\n",
    "    z = x / y\n",
    "    print(z)\n",
    "    \n",
    "except ZeroDivisionError:\n",
    "    print('Y cannot be 0!')"
   ]
  },
  {
   "cell_type": "markdown",
   "id": "03bb5b59",
   "metadata": {},
   "source": [
    "### Importing the random library"
   ]
  },
  {
   "cell_type": "code",
   "execution_count": 5,
   "id": "c6d5d5ee",
   "metadata": {},
   "outputs": [],
   "source": [
    "# Import the random library\n",
    "import random"
   ]
  },
  {
   "cell_type": "code",
   "execution_count": 19,
   "id": "25fb5969",
   "metadata": {
    "scrolled": true
   },
   "outputs": [
    {
     "name": "stdout",
     "output_type": "stream",
     "text": [
      "-10  is  negative\n"
     ]
    }
   ],
   "source": [
    "# We will learn how to call the random function, then use conditionals!\n",
    "\n",
    "# Call the random number\n",
    "rand_num = random.randint(-10, 10)\n",
    "\n",
    "# Use if, elif, else to save to a string if it is positive, negative, or zero\n",
    "if rand_num < 0:\n",
    "    num_type = 'negative'\n",
    "\n",
    "elif rand_num > 0:\n",
    "    num_type = 'positive'\n",
    "    \n",
    "else:\n",
    "    num_type = 'zero'\n",
    "    \n",
    "# We will learn a new print format here!\n",
    "print( str(rand_num), ' is ', num_type )"
   ]
  }
 ],
 "metadata": {
  "kernelspec": {
   "display_name": "Python 3 (ipykernel)",
   "language": "python",
   "name": "python3"
  },
  "language_info": {
   "codemirror_mode": {
    "name": "ipython",
    "version": 3
   },
   "file_extension": ".py",
   "mimetype": "text/x-python",
   "name": "python",
   "nbconvert_exporter": "python",
   "pygments_lexer": "ipython3",
   "version": "3.10.9"
  }
 },
 "nbformat": 4,
 "nbformat_minor": 5
}
