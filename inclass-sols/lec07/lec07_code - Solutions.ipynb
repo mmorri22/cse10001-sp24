{
 "cells": [
  {
   "cell_type": "markdown",
   "id": "04f21f68",
   "metadata": {},
   "source": [
    "### This is the Notebook for Lecture 07\n",
    "\n",
    "In this lecture, you will learn\n",
    "<ol>\n",
    "    <li>The process of implementing an <b>Algorithm</b>\n",
    "    <li>Implementing an algorithm called <b>Selection Sort</b>\n",
    "    <li>Implementing an algorithm called <b>Merge Sort Sort</b>\n",
    "    <li>Use the %timeit to compare the run times of those algorithms\n",
    "</ol>\n",
    "    "
   ]
  },
  {
   "cell_type": "markdown",
   "id": "afb1bd1f",
   "metadata": {},
   "source": [
    "### Plotting using MatLAB\n",
    "\n",
    "Note: MatLAB stands for \"Matrix Laboratory\""
   ]
  },
  {
   "cell_type": "code",
   "execution_count": 3,
   "id": "e67ec994",
   "metadata": {},
   "outputs": [],
   "source": [
    "# From last lecture - run this cell\n",
    "\n",
    "import random\n",
    "\n",
    "HEADS = 0\n",
    "TAILS = 1\n",
    "\n",
    "# Write a function simulate_coin_flip \n",
    "\n",
    "def simulate_coin_flip(num_flips):\n",
    "    \n",
    "    # Number of HEADS and TAILS are initially 0\n",
    "    counts = [0,0]\n",
    "    \n",
    "    for i in range(num_flips):\n",
    "        \n",
    "        curr_flip = random.randint(0,1)\n",
    "        \n",
    "        if curr_flip == HEADS:\n",
    "            counts[HEADS] += 1\n",
    "        else:\n",
    "            counts[TAILS] += 1\n",
    "            \n",
    "    return counts"
   ]
  },
  {
   "cell_type": "code",
   "execution_count": 13,
   "id": "c8a9a3ef",
   "metadata": {},
   "outputs": [
    {
     "data": {
      "text/plain": [
       "[46, 54]"
      ]
     },
     "execution_count": 13,
     "metadata": {},
     "output_type": "execute_result"
    }
   ],
   "source": [
    "# Run this cell as well to simulate the coin flip.\n",
    "\n",
    "simulate_coin_flip(100)"
   ]
  },
  {
   "cell_type": "code",
   "execution_count": 41,
   "id": "94caafd2",
   "metadata": {},
   "outputs": [],
   "source": [
    "import matplotlib.pyplot as plt\n",
    "\n",
    "# def plot_coin_flips\n",
    "def plot_coin_flips(counts):\n",
    "\n",
    "    plt.figure( figsize=(3,3) )\n",
    "    plt.bar( [HEADS, TAILS], counts )\n",
    "\n",
    "    plt.ylabel('Counts')\n",
    "    plt.title('Coin Flip Simulation')"
   ]
  },
  {
   "cell_type": "code",
   "execution_count": 47,
   "id": "0721ce0e",
   "metadata": {},
   "outputs": [
    {
     "data": {
      "image/png": "[encoded data removed]",
      "text/plain": [
       "<Figure size 300x300 with 1 Axes>"
      ]
     },
     "metadata": {},
     "output_type": "display_data"
    }
   ],
   "source": [
    "counts = simulate_coin_flip(100)\n",
    "plot_coin_flips(counts)"
   ]
  },
  {
   "cell_type": "markdown",
   "id": "7192574e",
   "metadata": {},
   "source": [
    "### Interaction"
   ]
  },
  {
   "cell_type": "code",
   "execution_count": 49,
   "id": "56c5c217",
   "metadata": {},
   "outputs": [],
   "source": [
    "from ipywidgets import interact\n",
    "\n",
    "# def run_coin_simulation\n",
    "def run_coin_simulation(flips):\n",
    "    counts = simulate_coin_flip(flips)\n",
    "    plot_coin_flips(counts)"
   ]
  },
  {
   "cell_type": "code",
   "execution_count": 57,
   "id": "0e2a9883",
   "metadata": {},
   "outputs": [
    {
     "data": {
      "application/vnd.jupyter.widget-view+json": {
       "model_id": "c308a2f179804c3d8cbd0539d5754ead",
       "version_major": 2,
       "version_minor": 0
      },
      "text/plain": [
       "interactive(children=(IntSlider(value=50, description='flips', min=1), Output()), _dom_classes=('widget-intera…"
      ]
     },
     "metadata": {},
     "output_type": "display_data"
    },
    {
     "data": {
      "text/plain": [
       "<function __main__.run_coin_simulation(flips)>"
      ]
     },
     "execution_count": 57,
     "metadata": {},
     "output_type": "execute_result"
    }
   ],
   "source": [
    "interact(run_coin_simulation, flips=(1,100))"
   ]
  },
  {
   "cell_type": "code",
   "execution_count": 65,
   "id": "3b6e825f",
   "metadata": {},
   "outputs": [],
   "source": [
    "import random\n",
    "\n",
    "# def simulate_dice\n",
    "def simulate_dice(rolls, sides=6):\n",
    "\n",
    "    counts = [0]*sides\n",
    "    for i in range(rolls):\n",
    "        roll = random.randint(0, sides-1)\n",
    "        counts[roll] += 1\n",
    "\n",
    "    return counts"
   ]
  },
  {
   "cell_type": "code",
   "execution_count": 79,
   "id": "1aac77da",
   "metadata": {},
   "outputs": [],
   "source": [
    "data = simulate_dice(100, 8)"
   ]
  },
  {
   "cell_type": "code",
   "execution_count": 81,
   "id": "997d03b3",
   "metadata": {},
   "outputs": [
    {
     "data": {
      "text/plain": [
       "[15, 10, 13, 11, 13, 13, 15, 10]"
      ]
     },
     "execution_count": 81,
     "metadata": {},
     "output_type": "execute_result"
    }
   ],
   "source": [
    "# Print the data\n",
    "data"
   ]
  },
  {
   "cell_type": "code",
   "execution_count": 75,
   "id": "b2d24168-ada7-442c-ac7e-e5356ad95b17",
   "metadata": {},
   "outputs": [],
   "source": [
    "data2 = simulate_dice(100)"
   ]
  },
  {
   "cell_type": "code",
   "execution_count": 77,
   "id": "bdb237ac-b148-4e7e-bc30-a993b2435524",
   "metadata": {},
   "outputs": [
    {
     "data": {
      "text/plain": [
       "[18, 11, 16, 24, 13, 18]"
      ]
     },
     "execution_count": 77,
     "metadata": {},
     "output_type": "execute_result"
    }
   ],
   "source": [
    "data2"
   ]
  },
  {
   "cell_type": "code",
   "execution_count": 85,
   "id": "6da24a9b-5d7d-45ba-ac28-e325a395bba4",
   "metadata": {},
   "outputs": [
    {
     "data": {
      "application/vnd.jupyter.widget-view+json": {
       "model_id": "6f6bd25101d34bb781cfcf883a15d230",
       "version_major": 2,
       "version_minor": 0
      },
      "text/plain": [
       "interactive(children=(IntSlider(value=50, description='rolls', min=1), IntSlider(value=6, description='sides',…"
      ]
     },
     "metadata": {},
     "output_type": "display_data"
    },
    {
     "data": {
      "text/plain": [
       "<function __main__.simulate_dice(rolls, sides=6)>"
      ]
     },
     "execution_count": 85,
     "metadata": {},
     "output_type": "execute_result"
    }
   ],
   "source": [
    "interact( simulate_dice, rolls=(1,100), sides=(1,20) )"
   ]
  },
  {
   "cell_type": "markdown",
   "id": "0f7de3d8",
   "metadata": {},
   "source": [
    "#### In-Class Coding Opportunity\n",
    "\n",
    "Given a list words of N items and a target parameter, determine whether or not the list words contains the target parameter."
   ]
  },
  {
   "cell_type": "code",
   "execution_count": 87,
   "id": "306e600e",
   "metadata": {},
   "outputs": [],
   "source": [
    "# Creating a list with strings\n",
    "book = ['harry', 'potter', 'and', 'the', 'goblet', 'of', 'fire']"
   ]
  },
  {
   "cell_type": "code",
   "execution_count": 89,
   "id": "d387b059",
   "metadata": {},
   "outputs": [],
   "source": [
    "# Returns whether or not target is contained in words\n",
    "def contains_target( word_list, target ):\n",
    "\n",
    "    for word in word_list:\n",
    "\n",
    "        if word == target:\n",
    "            return True\n",
    "\n",
    "    return False"
   ]
  },
  {
   "cell_type": "code",
   "execution_count": 91,
   "id": "71dc23b8",
   "metadata": {
    "scrolled": true
   },
   "outputs": [
    {
     "data": {
      "text/plain": [
       "True"
      ]
     },
     "execution_count": 91,
     "metadata": {},
     "output_type": "execute_result"
    }
   ],
   "source": [
    "contains_target(book, 'harry')"
   ]
  },
  {
   "cell_type": "code",
   "execution_count": 93,
   "id": "164ad5d6",
   "metadata": {},
   "outputs": [
    {
     "data": {
      "text/plain": [
       "False"
      ]
     },
     "execution_count": 93,
     "metadata": {},
     "output_type": "execute_result"
    }
   ],
   "source": [
    "contains_target(book, 'Thor')"
   ]
  },
  {
   "cell_type": "code",
   "execution_count": 95,
   "id": "08de7413",
   "metadata": {},
   "outputs": [
    {
     "data": {
      "text/plain": [
       "False"
      ]
     },
     "execution_count": 95,
     "metadata": {},
     "output_type": "execute_result"
    }
   ],
   "source": [
    "contains_target(book, 'Harry')"
   ]
  },
  {
   "cell_type": "markdown",
   "id": "b3a504e2",
   "metadata": {},
   "source": [
    "### lower()\n",
    "\n",
    "Used to convert uppercase ASCII to lowercase to make == comparisons valid"
   ]
  },
  {
   "cell_type": "code",
   "execution_count": 97,
   "id": "1183ff79",
   "metadata": {},
   "outputs": [],
   "source": [
    "# Write a function contains_target_lower that converts elements to lower case\n",
    "\n",
    "def contains_target_lower( word_list, target ):\n",
    "\n",
    "    for word in word_list:\n",
    "\n",
    "        if word.lower() == target.lower():\n",
    "            return True\n",
    "\n",
    "    return False"
   ]
  },
  {
   "cell_type": "code",
   "execution_count": 99,
   "id": "d63b6372",
   "metadata": {},
   "outputs": [
    {
     "data": {
      "text/plain": [
       "True"
      ]
     },
     "execution_count": 99,
     "metadata": {},
     "output_type": "execute_result"
    }
   ],
   "source": [
    "contains_target_lower(book, 'Harry')"
   ]
  },
  {
   "cell_type": "markdown",
   "id": "e21f863d",
   "metadata": {},
   "source": [
    "### Enumerate\n",
    "\n",
    "The enumerate method for a list of words creates an index and a string\n",
    "Here, we will create index, word for each enumerated word"
   ]
  },
  {
   "cell_type": "code",
   "execution_count": 117,
   "id": "a73673f5",
   "metadata": {},
   "outputs": [],
   "source": [
    "# Create function contains_enum_index\n",
    "def contains_enum_index( word_list, target ):\n",
    "\n",
    "    for list_index, word in enumerate( word_list ):\n",
    "\n",
    "        if word.lower() == target.lower():\n",
    "            return list_index\n",
    "\n",
    "    return -1"
   ]
  },
  {
   "cell_type": "code",
   "execution_count": 103,
   "id": "34fdc884",
   "metadata": {},
   "outputs": [],
   "source": [
    "random_words = 'harry potter and the thing that does the magic thing'"
   ]
  },
  {
   "cell_type": "code",
   "execution_count": 105,
   "id": "44f1c22f",
   "metadata": {},
   "outputs": [
    {
     "data": {
      "text/plain": [
       "3"
      ]
     },
     "execution_count": 105,
     "metadata": {},
     "output_type": "execute_result"
    }
   ],
   "source": [
    "# split call\n",
    "contains_enum_index(random_words.split(), 'the')"
   ]
  },
  {
   "cell_type": "code",
   "execution_count": 107,
   "id": "f3b1dc64",
   "metadata": {},
   "outputs": [
    {
     "data": {
      "text/plain": [
       "4"
      ]
     },
     "execution_count": 107,
     "metadata": {},
     "output_type": "execute_result"
    }
   ],
   "source": [
    "contains_enum_index(book, 'Goblet')"
   ]
  },
  {
   "cell_type": "code",
   "execution_count": 109,
   "id": "d5d12432",
   "metadata": {},
   "outputs": [
    {
     "data": {
      "text/plain": [
       "-1"
      ]
     },
     "execution_count": 109,
     "metadata": {},
     "output_type": "execute_result"
    }
   ],
   "source": [
    "contains_enum_index(book, 'Thor')"
   ]
  },
  {
   "cell_type": "code",
   "execution_count": 119,
   "id": "37b05992-10f5-4fe7-a86c-46271b200fee",
   "metadata": {},
   "outputs": [
    {
     "data": {
      "text/plain": [
       "-1"
      ]
     },
     "execution_count": 119,
     "metadata": {},
     "output_type": "execute_result"
    }
   ],
   "source": [
    "contains_enum_index(random_words.split(), 'Hallows')"
   ]
  },
  {
   "cell_type": "code",
   "execution_count": 125,
   "id": "6b4d3116",
   "metadata": {},
   "outputs": [],
   "source": [
    "# Binary Search Algorithm\n",
    "# Function num_array, target\n",
    "\n",
    "def binary_search( num_array, target ):\n",
    "\n",
    "    min_val = 0\n",
    "    max_val = len(num_array) - 1\n",
    "\n",
    "    while min_val <= max_val:\n",
    "\n",
    "        midpoint = (max_val + min_val) // 2\n",
    "\n",
    "        middle = num_array[midpoint]\n",
    "        print( 'num_array[' + str(midpoint) + '] = ' + str(middle) )\n",
    "\n",
    "        if middle == target:\n",
    "            return True\n",
    "\n",
    "        if middle < target:\n",
    "            min_val = midpoint + 1\n",
    "\n",
    "        else:\n",
    "            max_val = midpoint - 1\n",
    "\n",
    "    return False"
   ]
  },
  {
   "cell_type": "code",
   "execution_count": 127,
   "id": "f1c50325",
   "metadata": {},
   "outputs": [
    {
     "name": "stdout",
     "output_type": "stream",
     "text": [
      "num_array[3] = 28\n",
      "num_array[1] = 14\n"
     ]
    },
    {
     "data": {
      "text/plain": [
       "True"
      ]
     },
     "execution_count": 127,
     "metadata": {},
     "output_type": "execute_result"
    }
   ],
   "source": [
    "num_array = [3, 14, 22, 28, 34, 42, 47]\n",
    "\n",
    "# Search for 14\n",
    "binary_search( num_array, 14 )"
   ]
  },
  {
   "cell_type": "code",
   "execution_count": 129,
   "id": "afacc676",
   "metadata": {},
   "outputs": [
    {
     "name": "stdout",
     "output_type": "stream",
     "text": [
      "num_array[3] = 28\n",
      "num_array[5] = 42\n",
      "num_array[4] = 34\n"
     ]
    },
    {
     "data": {
      "text/plain": [
       "True"
      ]
     },
     "execution_count": 129,
     "metadata": {},
     "output_type": "execute_result"
    }
   ],
   "source": [
    "# Search for 34\n",
    "binary_search( num_array, 34 )"
   ]
  }
 ],
 "metadata": {
  "kernelspec": {
   "display_name": "Python [conda env:Anaconda3]",
   "language": "python",
   "name": "conda-env-Anaconda3-py"
  },
  "language_info": {
   "codemirror_mode": {
    "name": "ipython",
    "version": 3
   },
   "file_extension": ".py",
   "mimetype": "text/x-python",
   "name": "python",
   "nbconvert_exporter": "python",
   "pygments_lexer": "ipython3",
   "version": "3.9.13"
  }
 },
 "nbformat": 4,
 "nbformat_minor": 5
}
