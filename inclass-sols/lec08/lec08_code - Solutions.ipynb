{
 "cells": [
  {
   "cell_type": "markdown",
   "id": "dc9a5b60",
   "metadata": {},
   "source": [
    "### This is the Notebook for Lecture 08"
   ]
  },
  {
   "cell_type": "markdown",
   "id": "2ca4c93f",
   "metadata": {},
   "source": [
    "In this section, you will learn\n",
    "<ol>\n",
    "    <li>The process of implementing an <b>Algorithm</b>\n",
    "    <li>Implementing an algorithm called <b>Selection Sort</b>\n",
    "    <li>Implementing an algorithm called <b>Merge Sort Sort</b>\n",
    "    <li>Use the %timeit to compare the run times of those algorithms\n",
    "</ol>"
   ]
  },
  {
   "cell_type": "code",
   "execution_count": 15,
   "id": "162ed27f",
   "metadata": {},
   "outputs": [],
   "source": [
    "# Binary Search Algorithm\n",
    "# Function num_array, target\n",
    "def binary_search( num_array, target ):\n",
    "    \n",
    "    min_val = 0\n",
    "    max_val = len(num_array) - 1\n",
    "    \n",
    "    while min_val <= max_val:\n",
    "        \n",
    "        midpoint = (max_val + min_val) // 2\n",
    "        \n",
    "        middle = num_array[midpoint]\n",
    "        \n",
    "        print( 'num_array[',midpoint,'] = ', middle)\n",
    "        \n",
    "        if middle == target:\n",
    "            return True\n",
    "        \n",
    "        if middle < target:\n",
    "            min_val = midpoint+1\n",
    "            \n",
    "        else:\n",
    "            max_val = midpoint-1\n",
    "            \n",
    "    return False"
   ]
  },
  {
   "cell_type": "code",
   "execution_count": 13,
   "id": "d45e497a",
   "metadata": {},
   "outputs": [
    {
     "name": "stdout",
     "output_type": "stream",
     "text": [
      "num_array[ 2 ] =  22\n",
      "num_array[ 0 ] =  3\n",
      "num_array[ 1 ] =  14\n"
     ]
    },
    {
     "data": {
      "text/plain": [
       "True"
      ]
     },
     "execution_count": 13,
     "metadata": {},
     "output_type": "execute_result"
    }
   ],
   "source": [
    "num_array = [3, 14, 22, 28, 34, 42, 47]\n",
    "\n",
    "# Search for 14\n",
    "binary_search( num_array, 14 )"
   ]
  },
  {
   "cell_type": "code",
   "execution_count": 10,
   "id": "2bcc4240",
   "metadata": {},
   "outputs": [
    {
     "name": "stdout",
     "output_type": "stream",
     "text": [
      "num_array[ 3 ] =  28\n",
      "num_array[ 5 ] =  42\n",
      "num_array[ 4 ] =  34\n"
     ]
    },
    {
     "data": {
      "text/plain": [
       "True"
      ]
     },
     "execution_count": 10,
     "metadata": {},
     "output_type": "execute_result"
    }
   ],
   "source": [
    "# Search for 34\n",
    "binary_search( num_array, 34 )"
   ]
  },
  {
   "cell_type": "code",
   "execution_count": 14,
   "id": "c210f8a2",
   "metadata": {},
   "outputs": [
    {
     "name": "stdout",
     "output_type": "stream",
     "text": [
      "num_array[ 2 ] =  22\n",
      "num_array[ 0 ] =  3\n",
      "num_array[ -1 ] =  47\n"
     ]
    },
    {
     "data": {
      "text/plain": [
       "False"
      ]
     },
     "execution_count": 14,
     "metadata": {},
     "output_type": "execute_result"
    }
   ],
   "source": [
    "# Search for 2\n",
    "binary_search( num_array, 2 )"
   ]
  },
  {
   "cell_type": "markdown",
   "id": "43c3ca1d",
   "metadata": {},
   "source": [
    "### In-Class Coding Opportunity\n",
    "\n",
    "We will code a Selection Sort Algorithm\n",
    "\n",
    "<ol>\n",
    "    <li>Search for the smallest element in the unsorted portion of the list</li>\n",
    "    <li>Swap the smallest element with the first element in the unsorted portion of the list</li>\n",
    "    <li>Repeat process on remaining unsorted portion of the list</li>\n",
    "</ol>"
   ]
  },
  {
   "cell_type": "code",
   "execution_count": 18,
   "id": "70289f68",
   "metadata": {},
   "outputs": [],
   "source": [
    "# Selection Sort\n",
    "def selection_sort( array_to_sort):\n",
    "    \n",
    "    for first in range(0, len(array_to_sort) ):\n",
    "        \n",
    "        smallest = first\n",
    "        \n",
    "        for current in range( first, len(array_to_sort) ):\n",
    "            \n",
    "            if array_to_sort[current] < array_to_sort[smallest]:\n",
    "                \n",
    "                smallest = current\n",
    "                \n",
    "        temp = array_to_sort[first]\n",
    "        array_to_sort[first] = array_to_sort[smallest]\n",
    "        array_to_sort[smallest] = temp\n",
    "        \n",
    "        print( array_to_sort )"
   ]
  },
  {
   "cell_type": "code",
   "execution_count": 23,
   "id": "0491b478",
   "metadata": {},
   "outputs": [
    {
     "name": "stdout",
     "output_type": "stream",
     "text": [
      "[10, 7, 5, 3, 0, 2, 1, 11, 3, 10, 15, 2, 1, 24, -1]\n",
      "[-1, 7, 5, 3, 0, 2, 1, 11, 3, 10, 15, 2, 1, 24, 10]\n",
      "[-1, 0, 5, 3, 7, 2, 1, 11, 3, 10, 15, 2, 1, 24, 10]\n",
      "[-1, 0, 1, 3, 7, 2, 5, 11, 3, 10, 15, 2, 1, 24, 10]\n",
      "[-1, 0, 1, 1, 7, 2, 5, 11, 3, 10, 15, 2, 3, 24, 10]\n",
      "[-1, 0, 1, 1, 2, 7, 5, 11, 3, 10, 15, 2, 3, 24, 10]\n",
      "[-1, 0, 1, 1, 2, 2, 5, 11, 3, 10, 15, 7, 3, 24, 10]\n",
      "[-1, 0, 1, 1, 2, 2, 3, 11, 5, 10, 15, 7, 3, 24, 10]\n",
      "[-1, 0, 1, 1, 2, 2, 3, 3, 5, 10, 15, 7, 11, 24, 10]\n",
      "[-1, 0, 1, 1, 2, 2, 3, 3, 5, 10, 15, 7, 11, 24, 10]\n",
      "[-1, 0, 1, 1, 2, 2, 3, 3, 5, 7, 15, 10, 11, 24, 10]\n",
      "[-1, 0, 1, 1, 2, 2, 3, 3, 5, 7, 10, 15, 11, 24, 10]\n",
      "[-1, 0, 1, 1, 2, 2, 3, 3, 5, 7, 10, 10, 11, 24, 15]\n",
      "[-1, 0, 1, 1, 2, 2, 3, 3, 5, 7, 10, 10, 11, 24, 15]\n",
      "[-1, 0, 1, 1, 2, 2, 3, 3, 5, 7, 10, 10, 11, 15, 24]\n",
      "[-1, 0, 1, 1, 2, 2, 3, 3, 5, 7, 10, 10, 11, 15, 24]\n",
      "[-1, 0, 1, 1, 2, 2, 3, 3, 5, 7, 10, 10, 11, 15, 24]\n"
     ]
    }
   ],
   "source": [
    "int_array = [10, 7, 5, 3, 0, 2, 1, 11, 3, 10, 15, 2, 1, 24, -1]\n",
    "print( int_array )\n",
    "selection_sort( int_array )\n",
    "print( int_array )"
   ]
  },
  {
   "cell_type": "code",
   "execution_count": 30,
   "id": "7fdb7975",
   "metadata": {},
   "outputs": [],
   "source": [
    "# Merging Algorithm\n",
    "def merge(left, right):\n",
    "    \n",
    "    # Empty Array\n",
    "    merged = [] \n",
    "    \n",
    "    while left or right:\n",
    "        \n",
    "        if not left:  # If the left array is empty\n",
    "            \n",
    "            # pop(0) remove from front, append put on back\n",
    "            merged.append( right.pop(0) )\n",
    "            \n",
    "        elif not right:\n",
    "            merged.append( left.pop(0) )\n",
    "            \n",
    "        elif left[0] <= right[0]:\n",
    "            merged.append( left.pop(0) )\n",
    "            \n",
    "        else:\n",
    "            merged.append( right.pop(0) )\n",
    "    \n",
    "    return merged"
   ]
  },
  {
   "cell_type": "code",
   "execution_count": 28,
   "id": "55a3bfb5",
   "metadata": {},
   "outputs": [],
   "source": [
    "def merge_sort(numbers):\n",
    "    \n",
    "    # If the list is 0 or 1 length, already sorted!\n",
    "    if len(numbers) <= 1:\n",
    "        return numbers\n",
    "    \n",
    "    # Divide the lists\n",
    "    middle = len(numbers) // 2\n",
    "    left = numbers[:middle]\n",
    "    right = numbers[middle:]\n",
    "    \n",
    "    print('Divide: middle=',middle,', left=',left,', right=',right)\n",
    "    \n",
    "    # Conquer\n",
    "    left = merge_sort(left)\n",
    "    right = merge_sort(right)\n",
    "    \n",
    "    print( 'Conquer: left=',left, ', right=', right)\n",
    "    \n",
    "    # Combine\n",
    "    return merge(left,right)"
   ]
  },
  {
   "cell_type": "code",
   "execution_count": 32,
   "id": "146df68c",
   "metadata": {},
   "outputs": [
    {
     "name": "stdout",
     "output_type": "stream",
     "text": [
      "Divide: middle= 4 , left= [10, 7, 5, 3] , right= [0, 2, 1, 11]\n",
      "Divide: middle= 2 , left= [10, 7] , right= [5, 3]\n",
      "Divide: middle= 1 , left= [10] , right= [7]\n",
      "Conquer: left= [10] , right= [7]\n",
      "Divide: middle= 1 , left= [5] , right= [3]\n",
      "Conquer: left= [5] , right= [3]\n",
      "Conquer: left= [7, 10] , right= [3, 5]\n",
      "Divide: middle= 2 , left= [0, 2] , right= [1, 11]\n",
      "Divide: middle= 1 , left= [0] , right= [2]\n",
      "Conquer: left= [0] , right= [2]\n",
      "Divide: middle= 1 , left= [1] , right= [11]\n",
      "Conquer: left= [1] , right= [11]\n",
      "Conquer: left= [0, 2] , right= [1, 11]\n",
      "Conquer: left= [3, 5, 7, 10] , right= [0, 1, 2, 11]\n",
      "num_array[ 3 ] =  28\n",
      "num_array[ 1 ] =  14\n",
      "num_array[ 0 ] =  3\n"
     ]
    },
    {
     "data": {
      "text/plain": [
       "True"
      ]
     },
     "execution_count": 32,
     "metadata": {},
     "output_type": "execute_result"
    }
   ],
   "source": [
    "int_array = [10, 7, 5, 3, 0, 2, 1, 11]\n",
    "sorted_array = merge_sort( int_array )\n",
    "binary_search( num_array, 3 )"
   ]
  }
 ],
 "metadata": {
  "kernelspec": {
   "display_name": "Python 3 (ipykernel)",
   "language": "python",
   "name": "python3"
  },
  "language_info": {
   "codemirror_mode": {
    "name": "ipython",
    "version": 3
   },
   "file_extension": ".py",
   "mimetype": "text/x-python",
   "name": "python",
   "nbconvert_exporter": "python",
   "pygments_lexer": "ipython3",
   "version": "3.10.9"
  }
 },
 "nbformat": 4,
 "nbformat_minor": 5
}
