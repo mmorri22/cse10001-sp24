{
 "cells": [
  {
   "cell_type": "markdown",
   "metadata": {},
   "source": [
    "# Lab 00: Hardware, Programming"
   ]
  },
  {
   "cell_type": "markdown",
   "metadata": {},
   "source": [
    "- **Name**:  Domer McDomerson\n",
    "- **Netid**: dmcdomer\n",
    "\n",
    "<font color=\"red\">Fill in the **Name** and **Netid** fields.</font>"
   ]
  },
  {
   "cell_type": "markdown",
   "metadata": {},
   "source": [
    "## Activity 1: Hardware\n",
    "\n",
    "The first activity is to gather information from the different computing devices in your life and then compare them:\n",
    "\n",
    "1. Personal Laptop/Desktop\n",
    "2. Personal Phone/Tablet\n",
    "3. Lab/University Computer\n",
    "\n",
    "<font color=\"red\">Describe each of the machines you are comparing.</font>"
   ]
  },
  {
   "cell_type": "markdown",
   "metadata": {},
   "source": [
    "### Device Information\n",
    "\n",
    "First, identify the following information for each device:\n",
    "\n",
    "1. Vendor of machine (Make, Model)\n",
    "2. CPU (Make, Model, Speed)\n",
    "3. RAM (Amount)\n",
    "4. Storage (Type, Amount)\n",
    "5. I/O (Types)\n",
    "\n",
    "<font color=\"red\">Complete the table below for each of the machines you are comparing.</font>\n",
    "\n",
    "| Device                 |  CPU                             | RAM         | Storage   | I/O                         |\n",
    "|------------------------|----------------------------------|-------------|-----------|-----------------------------|\n",
    "| Dell Latitude 5490     | Intel Core i5-8350U @ 1.70GHz    | 16GB        | SSD 256GB | Keyboard, mouse, LCD        |\n",
    "| Moto G3                | Qualcomm Snapdragon 410 @ 1.4GHz | 1GB         | SSD 8GB   | Touchscreen                 |\n",
    "| Dell Optiplex 7020     | Intel Core i7-4790 CPU @ 3.60GHz | 16GB        | HDD 500GB | Keyboard                    |"
   ]
  },
  {
   "cell_type": "markdown",
   "metadata": {},
   "source": [
    "### Benchmark Results\n",
    "\n",
    "Next, run the [JetStream](https://browserbench.org/JetStream1.1/) browser benchmark on each device.\n",
    "\n",
    "<font color=\"red\">Complete the table below for each of the machines you are comparing.</font>\n",
    "\n",
    "| Device                 | JetStream Geometric Means        |\n",
    "|------------------------|----------------------------------|\n",
    "| Dell Latitude 5490     | 93.265                           |\n",
    "| Moto G3                | 11.950                           |\n",
    "| Dell Optiplex 7020     | 110.587                          |"
   ]
  },
  {
   "cell_type": "markdown",
   "metadata": {},
   "source": [
    "### Reflection\n",
    "\n",
    "After you have gathered information about your computing devices and performed the benchmarks, answer the following reflection questions:\n",
    "\n",
    "1. From a hardware perspective, how are your computing devices similar?  How are they different?\n",
    "\n",
    "    <font color=\"red\">Respond with your reflection here.</font>\n",
    "\n",
    "2. What were the results of your benchmarks?  What is your takeway regarding computing hardware that you get from these results?\n",
    "\n",
    "    <font color=\"red\">Respond with your reflection here.</font>"
   ]
  },
  {
   "cell_type": "markdown",
   "metadata": {},
   "source": [
    "## Activity 2: Programming\n",
    "\n",
    "The second activity is to write two short [Python](https://www.python.org/) programs that involve reading input from the user, formatting text, and performing basic mathematical computations."
   ]
  },
  {
   "cell_type": "markdown",
   "metadata": {},
   "source": [
    "### Program 1: Hello, User!\n",
    "\n",
    "The first program is a modification to the classic \"Hello, World!\" program:\n",
    "\n",
    "```\n",
    ">>> print(\"Hello, World!\")\n",
    "Hello, World!\n",
    "```\n",
    "\n",
    "Instead of just printing \"Hello, World!\", you are to use the [input](https://docs.python.org/3/library/functions.html#input) function to read in a name, and then use this name to display \"Hello, name!\".\n",
    "\n",
    "A typical execution of your program should look like this:\n",
    "\n",
    "```\n",
    "What is your name? Matt Morrison\n",
    "Hello, Matt Morrison!\n",
    "```"
   ]
  },
  {
   "cell_type": "code",
   "execution_count": null,
   "metadata": {},
   "outputs": [],
   "source": [
    "# Create your program here"
   ]
  },
  {
   "cell_type": "markdown",
   "metadata": {},
   "source": [
    "### Program 2: Math Formula\n",
    "\n",
    "As discussed in class, programming doesn't necessarily require advanced math skills.  That said, we could always write programs to do math for us when we run into tricky math problems.  For the second program, you are to write an interactive math formula calculator for any of your favorite math equations.\n",
    "\n",
    "For instance, here is the execution of a program that computes the area of a rectangle based on its length and width:\n",
    "\n",
    "```\n",
    "What is the length of the rectangle? 5\n",
    "What is the width of the rectangle? 4\n",
    "The area of the rectangle with length (5) and width (4) is 20.\n",
    "```\n",
    "\n",
    "Note, your program must utilize at least one **variable** that it reads from the user and then **format** a sentence with the result of the equation."
   ]
  },
  {
   "cell_type": "code",
   "execution_count": null,
   "metadata": {},
   "outputs": [],
   "source": [
    "# Create your program here"
   ]
  }
 ],
 "metadata": {
  "kernelspec": {
   "display_name": "Python 3",
   "language": "python3",
   "name": "python3"
  },
  "language_info": {
   "codemirror_mode": {
    "name": "ipython",
    "version": 3
   },
   "file_extension": ".py",
   "mimetype": "text/x-python",
   "name": "python",
   "nbconvert_exporter": "python",
   "pygments_lexer": "ipython3",
   "version": "3.9.12"
  }
 },
 "nbformat": 4,
 "nbformat_minor": 2
}
