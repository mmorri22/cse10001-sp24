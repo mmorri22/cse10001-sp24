{
 "cells": [
  {
   "cell_type": "markdown",
   "id": "2e4ca45e",
   "metadata": {},
   "source": [
    "### This is the Notebook for Lecture 10\n",
    "\n",
    "In this lecture, we will learn about the dictionary data structure."
   ]
  },
  {
   "cell_type": "markdown",
   "id": "62bb4c73",
   "metadata": {},
   "source": [
    "### In-Class Coding Opportunity\n",
    "\n",
    "Write a function read_write(file_name) that performs the following tasks:\n",
    "<ol>\n",
    "    <li>Opens the file to read, prints the contents, and then closes the file</li>\n",
    "    <li>Using try/except (IOError), print a message if he file does not exist</li>\n",
    "</ol>"
   ]
  },
  {
   "cell_type": "code",
   "execution_count": null,
   "id": "1f7d5a2b",
   "metadata": {},
   "outputs": [],
   "source": [
    "def file_try_except(file_name):\n",
    "    \n",
    "    # In Class Code"
   ]
  },
  {
   "cell_type": "code",
   "execution_count": null,
   "id": "8a80ac5f",
   "metadata": {
    "scrolled": true
   },
   "outputs": [],
   "source": [
    "file_try_except('bad_file_name.txt')"
   ]
  },
  {
   "cell_type": "markdown",
   "id": "55e71c58",
   "metadata": {},
   "source": [
    "### Using the dict data structure to improve access!"
   ]
  },
  {
   "cell_type": "code",
   "execution_count": null,
   "id": "f4a62b6f",
   "metadata": {},
   "outputs": [],
   "source": [
    "# First approach to defining a dictionary, using dict()"
   ]
  },
  {
   "cell_type": "code",
   "execution_count": null,
   "id": "9d9391ad",
   "metadata": {},
   "outputs": [],
   "source": []
  },
  {
   "cell_type": "code",
   "execution_count": null,
   "id": "9de65bf4",
   "metadata": {
    "scrolled": true
   },
   "outputs": [],
   "source": []
  },
  {
   "cell_type": "code",
   "execution_count": null,
   "id": "23198f96",
   "metadata": {},
   "outputs": [],
   "source": [
    "# Second approach to defining a dictionary using {}"
   ]
  },
  {
   "cell_type": "code",
   "execution_count": null,
   "id": "4a8cb94c",
   "metadata": {},
   "outputs": [],
   "source": []
  },
  {
   "cell_type": "code",
   "execution_count": null,
   "id": "8a9d8038",
   "metadata": {},
   "outputs": [],
   "source": []
  },
  {
   "cell_type": "code",
   "execution_count": null,
   "id": "20071895",
   "metadata": {},
   "outputs": [],
   "source": [
    "# Adding Key/Value pairs to a dictionary"
   ]
  },
  {
   "cell_type": "markdown",
   "id": "54a55d66",
   "metadata": {},
   "source": [
    "### Dictionary Exception Examples"
   ]
  },
  {
   "cell_type": "code",
   "execution_count": null,
   "id": "9a6bd61e",
   "metadata": {
    "scrolled": true
   },
   "outputs": [],
   "source": [
    "# Deliberate error to show a KeyError"
   ]
  },
  {
   "cell_type": "code",
   "execution_count": null,
   "id": "caa6ebf2",
   "metadata": {},
   "outputs": [],
   "source": [
    "# One approach: Use true false to look up the KEY"
   ]
  },
  {
   "cell_type": "code",
   "execution_count": null,
   "id": "de77b401",
   "metadata": {},
   "outputs": [],
   "source": []
  },
  {
   "cell_type": "code",
   "execution_count": null,
   "id": "4fe281ec",
   "metadata": {},
   "outputs": [],
   "source": []
  },
  {
   "cell_type": "code",
   "execution_count": null,
   "id": "6b452b64",
   "metadata": {},
   "outputs": [],
   "source": [
    "# Using try/except to print a dictionary\n",
    "def print_dict( dict, key ):\n",
    "\n",
    "    # In-Class Code"
   ]
  },
  {
   "cell_type": "code",
   "execution_count": null,
   "id": "51c8a444",
   "metadata": {},
   "outputs": [],
   "source": [
    "print_dict( english_to_french, 'one' )"
   ]
  },
  {
   "cell_type": "code",
   "execution_count": null,
   "id": "aaf4abad",
   "metadata": {},
   "outputs": [],
   "source": [
    "print_dict( english_to_french, '100' )"
   ]
  },
  {
   "cell_type": "markdown",
   "id": "f6bb3b11",
   "metadata": {},
   "source": [
    "Additionally, we can use the get method to specify a default value if the key is not present."
   ]
  },
  {
   "cell_type": "code",
   "execution_count": null,
   "id": "023c0e28",
   "metadata": {},
   "outputs": [],
   "source": []
  },
  {
   "cell_type": "code",
   "execution_count": null,
   "id": "32208b51",
   "metadata": {},
   "outputs": [],
   "source": []
  },
  {
   "cell_type": "code",
   "execution_count": null,
   "id": "6afbb0c1",
   "metadata": {},
   "outputs": [],
   "source": []
  },
  {
   "cell_type": "markdown",
   "id": "2d05e050",
   "metadata": {},
   "source": [
    "### Printing all the keys and values"
   ]
  },
  {
   "cell_type": "code",
   "execution_count": null,
   "id": "0db5a057",
   "metadata": {},
   "outputs": [],
   "source": [
    "# Prints all the keys"
   ]
  },
  {
   "cell_type": "code",
   "execution_count": null,
   "id": "9d6136a2",
   "metadata": {},
   "outputs": [],
   "source": [
    "# Prints all the values"
   ]
  },
  {
   "cell_type": "markdown",
   "id": "144581ae",
   "metadata": {},
   "source": [
    "### Ordering "
   ]
  },
  {
   "cell_type": "code",
   "execution_count": null,
   "id": "14e39e8c",
   "metadata": {},
   "outputs": [],
   "source": [
    "family_name = {}"
   ]
  },
  {
   "cell_type": "code",
   "execution_count": null,
   "id": "415c1433",
   "metadata": {},
   "outputs": [],
   "source": [
    "family_name['Matthew'] = 40\n",
    "family_name['Margot'] = 35\n",
    "family_name['James'] = 37\n",
    "family_name['Alfred'] = 73\n",
    "family_name['Amy'] = 37\n",
    "family_name['Aidan'] = 7\n",
    "family_name['Kathy'] = 70\n",
    "family_name['Evie'] = 3\n",
    "family_name['Baby'] = 0"
   ]
  },
  {
   "cell_type": "code",
   "execution_count": null,
   "id": "16ed56bd",
   "metadata": {},
   "outputs": [],
   "source": [
    "# Note the ordering when I print the keys\n",
    "family_name.keys()"
   ]
  },
  {
   "cell_type": "code",
   "execution_count": null,
   "id": "f489e813",
   "metadata": {},
   "outputs": [],
   "source": [
    "# Note the ordering when I print the values\n",
    "family_name.values()"
   ]
  },
  {
   "cell_type": "markdown",
   "id": "f7d1380c",
   "metadata": {},
   "source": [
    "### Compare access time for list and dict\n",
    "<p></p>\n",
    "Find an element in a dict is O(1) and a list is, on average O(n)"
   ]
  },
  {
   "cell_type": "code",
   "execution_count": null,
   "id": "46ac2c53",
   "metadata": {},
   "outputs": [],
   "source": [
    "# Run Time Examples for dicts vs strings\n",
    "import random\n",
    "\n",
    "def pop_list( num_vals ):\n",
    "    \n",
    "    # Initialize the list\n",
    "    the_list = [0]\n",
    "    \n",
    "    # Attempt to create num_vals random numbers\n",
    "    for i in range( 0, num_vals ):\n",
    "        \n",
    "        # Generate the random integer\n",
    "        insert_num = random.randint(0, num_vals)\n",
    "        \n",
    "        # Iterate through the list and stop when you either find the value or reach the end of the list\n",
    "        iterator = 0\n",
    "        while iterator < len(the_list) and the_list[iterator] != insert_num:\n",
    "            iterator += 1\n",
    "            \n",
    "        # Question: Why is this commented code bad?\n",
    "        # Answer: (Put your answer in here for class notes)\n",
    "        # while the_list[iterator] != insert_num and iterator < len(the_list):\n",
    "            # iterator += 1\n",
    "        \n",
    "        # If the iterator is at the end, append the list\n",
    "        if iterator == len(the_list):\n",
    "            the_list.append(insert_num)\n",
    "\n",
    "\n",
    "def pop_dict( num_vals ):\n",
    "    \n",
    "    # Initialize the dictionary\n",
    "    the_dict = dict()\n",
    "    \n",
    "    # Attempt to create num_vals random numbers\n",
    "    for i in range( 0, num_vals ):\n",
    "        \n",
    "        # Generate the random numbeer\n",
    "        insert_num = random.randint(0, num_vals)\n",
    "        \n",
    "        # Use not in to try to find the dict\n",
    "        if insert_num not in the_dict:\n",
    "            the_dict[ insert_num ] = 1"
   ]
  },
  {
   "cell_type": "code",
   "execution_count": null,
   "id": "f4cb1212",
   "metadata": {
    "scrolled": true
   },
   "outputs": [],
   "source": [
    "# -n has a limit of 100 runs\n",
    "%timeit -n 100 pop_list(1000)"
   ]
  },
  {
   "cell_type": "code",
   "execution_count": null,
   "id": "d4d62682",
   "metadata": {},
   "outputs": [],
   "source": [
    "%timeit -n 100 pop_dict(1000)"
   ]
  },
  {
   "cell_type": "markdown",
   "id": "a90a9cda",
   "metadata": {},
   "source": [
    "### Combining Concepts\n",
    "<p></p>\n",
    "Now let's use <b>not in</b> with a list and check the times. Why do you \n",
    "\n",
    "In your notes, describe the **difference in time** between pop_list, pop_dict, and pop_list_mod. Why are the run times different, and what is the difference between **program run time** and **program time complexity**?\n",
    "<p></p>\n",
    "    <font color=\"red\">Response Here</font>"
   ]
  },
  {
   "cell_type": "code",
   "execution_count": null,
   "id": "d8bbc0bd",
   "metadata": {},
   "outputs": [],
   "source": [
    "def pop_list_mod( num_vals ):\n",
    "    \n",
    "    # Initialize the list\n",
    "    the_list = [0]\n",
    "    \n",
    "    # Attempt to create num_vals random numbers\n",
    "    for i in range( 0, num_vals ):\n",
    "        \n",
    "        # Generate the random integer\n",
    "        insert_num = random.randint(0, num_vals)\n",
    "        \n",
    "        # Use not in to try to find the list\n",
    "        if insert_num not in the_list:\n",
    "            the_list.append(insert_num)"
   ]
  },
  {
   "cell_type": "code",
   "execution_count": null,
   "id": "278a55c8",
   "metadata": {},
   "outputs": [],
   "source": [
    "%timeit -n 100 pop_list_mod(1000)"
   ]
  },
  {
   "cell_type": "markdown",
   "id": "826107c4",
   "metadata": {},
   "source": [
    "### In-Class Coding Opportunity\n",
    "\n",
    "For every word in a file, count how many times it occurs. Use try/except where appropriate"
   ]
  },
  {
   "cell_type": "code",
   "execution_count": null,
   "id": "51ce0103",
   "metadata": {},
   "outputs": [],
   "source": [
    "def word_count(file_name):\n",
    "    \n",
    "    # In-Class Code Starts here"
   ]
  },
  {
   "cell_type": "code",
   "execution_count": null,
   "id": "60138cb5",
   "metadata": {
    "scrolled": true
   },
   "outputs": [],
   "source": [
    "file_count('dict/frost.txt')"
   ]
  },
  {
   "cell_type": "markdown",
   "id": "b39bac2a",
   "metadata": {},
   "source": [
    "### Exercise: emoji translator\n",
    "\n",
    "Write a function, emoji_translate, that replaces words with emoji icons."
   ]
  },
  {
   "cell_type": "code",
   "execution_count": null,
   "id": "1d2359b5",
   "metadata": {},
   "outputs": [],
   "source": [
    "EMOJIS = {\n",
    "    ':)' : '😀',\n",
    "    '<3' : '💙',\n",
    "    'snek': '🐍',\n",
    "    'pupper': '🐕'\n",
    "}\n",
    "\n",
    "def emoji_translate(text):\n",
    "    # In-Class Code"
   ]
  },
  {
   "cell_type": "code",
   "execution_count": null,
   "id": "fcc3ded2",
   "metadata": {},
   "outputs": [],
   "source": [
    "emoji_translate('I <3 Notre Dame')"
   ]
  },
  {
   "cell_type": "code",
   "execution_count": null,
   "id": "3361c4b2",
   "metadata": {
    "scrolled": true
   },
   "outputs": [],
   "source": [
    "emoji_translate('Harry Potter speaks snek')"
   ]
  },
  {
   "cell_type": "code",
   "execution_count": null,
   "id": "8202b6fb",
   "metadata": {},
   "outputs": [],
   "source": [
    "emoji_translate('Eirinn the Pupfessor is a good pupper')"
   ]
  },
  {
   "cell_type": "code",
   "execution_count": null,
   "id": "33415fa3",
   "metadata": {},
   "outputs": [],
   "source": [
    "from ipywidgets import interact"
   ]
  },
  {
   "cell_type": "code",
   "execution_count": null,
   "id": "a539c9f7",
   "metadata": {},
   "outputs": [],
   "source": [
    "interact(emoji_translate, text='')"
   ]
  },
  {
   "cell_type": "markdown",
   "id": "cb0608d1",
   "metadata": {},
   "source": [
    "### Spell Checking Setup"
   ]
  },
  {
   "cell_type": "code",
   "execution_count": null,
   "id": "fd971686",
   "metadata": {},
   "outputs": [],
   "source": [
    "# Use import requests to obtain public online files\n",
    "import requests\n",
    "\n",
    "# Import string to get the string library\n",
    "import string\n",
    "\n",
    "# wget is a Linux command used to download an online file"
   ]
  },
  {
   "cell_type": "code",
   "execution_count": null,
   "id": "3c8822d1",
   "metadata": {},
   "outputs": [],
   "source": [
    "wget('http://google.com', 'google.txt')"
   ]
  },
  {
   "cell_type": "code",
   "execution_count": null,
   "id": "d2e1b6c5",
   "metadata": {},
   "outputs": [],
   "source": [
    "import os"
   ]
  },
  {
   "cell_type": "code",
   "execution_count": null,
   "id": "ac959431",
   "metadata": {},
   "outputs": [],
   "source": [
    "# Review: Check the size of the file we just downloaded\n",
    "os.path.getsize('google.txt')"
   ]
  },
  {
   "cell_type": "code",
   "execution_count": null,
   "id": "7d2d2f55",
   "metadata": {},
   "outputs": [],
   "source": [
    "# We will now download a publicly available dictionary\n",
    "wget('https://github.com/dwyl/english-words/raw/master/words.txt', 'words.txt')"
   ]
  },
  {
   "cell_type": "code",
   "execution_count": null,
   "id": "e5d4a4cf",
   "metadata": {},
   "outputs": [],
   "source": [
    "os.path.getsize('words.txt')"
   ]
  },
  {
   "cell_type": "code",
   "execution_count": null,
   "id": "3d98e1ff",
   "metadata": {},
   "outputs": [],
   "source": [
    "# To review, we will print the first 100 words in the English dictionary\n",
    "# Remember, with automatically opens and closes the file"
   ]
  },
  {
   "cell_type": "code",
   "execution_count": 1,
   "id": "35cf7d93",
   "metadata": {},
   "outputs": [],
   "source": [
    "# Now we will load the dictionary into a list\n",
    "def load_words_list(path):\n",
    "    \n",
    "    # Open the file using open(path) as the word_file\n",
    "    # Add line of code here\n",
    "        \n",
    "        # Initialize a list\n",
    "        words = []\n",
    "        \n",
    "        # Iterate through the word file\n",
    "        for word in word_file:\n",
    "            \n",
    "            # Append the word into the dictionary\n",
    "            # Change the word to lower case, and then strip\n",
    "            # Add line of code here\n",
    "    \n",
    "    # Return the list representing the dictionary\n",
    "    return words"
   ]
  },
  {
   "cell_type": "code",
   "execution_count": null,
   "id": "fed1b11d",
   "metadata": {},
   "outputs": [],
   "source": [
    "english_words = load_words_list('words.txt')"
   ]
  },
  {
   "cell_type": "code",
   "execution_count": null,
   "id": "4672cbe0",
   "metadata": {},
   "outputs": [],
   "source": [
    "len(english_words)"
   ]
  }
 ],
 "metadata": {
  "kernelspec": {
   "display_name": "Python 3 (ipykernel)",
   "language": "python",
   "name": "python3"
  },
  "language_info": {
   "codemirror_mode": {
    "name": "ipython",
    "version": 3
   },
   "file_extension": ".py",
   "mimetype": "text/x-python",
   "name": "python",
   "nbconvert_exporter": "python",
   "pygments_lexer": "ipython3",
   "version": "3.9.12"
  }
 },
 "nbformat": 4,
 "nbformat_minor": 5
}
