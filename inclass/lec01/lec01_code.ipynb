{
 "cells": [
  {
   "cell_type": "markdown",
   "id": "f2897a01",
   "metadata": {},
   "source": [
    "### This is the preview notebook for Lecture 01\n",
    "<p>   </p>\n",
    "In this lecture, we will learn about <b>basics of programming</b> and the importance of <b>data types</b>. Specifically, you will learn about:<br>\n",
    "<ol>\n",
    "<li>The basics of <a href = \"https://www.python.org/\">Python</a></li>\n",
    "<li>Variables<br></li>\n",
    "<li>Data types<br></li>\n",
    "<tab>A. integers</tab><br>\n",
    "   B. floating point (decimals)<br>\n",
    "   C. strings<br>\n",
    "<li>Concatenation and printing<br></li>\n",
    "<li>Reading input and generating output<br></li>\n",
    "</ol>"
   ]
  },
  {
   "cell_type": "markdown",
   "id": "79b0498b",
   "metadata": {},
   "source": [
    "### Key Concepts\n",
    "1. Binary conversion to ASCII\n",
    "2. Paying close attention to what data type you are using\n",
    "3. Floats vs. Integers ( Precision vs. Accuracy )\n",
    "4. Errors, and making sure you are using the correct syntax."
   ]
  }
 ],
 "metadata": {
  "kernelspec": {
   "display_name": "Python 3 (ipykernel)",
   "language": "python",
   "name": "python3"
  },
  "language_info": {
   "codemirror_mode": {
    "name": "ipython",
    "version": 3
   },
   "file_extension": ".py",
   "mimetype": "text/x-python",
   "name": "python",
   "nbconvert_exporter": "python",
   "pygments_lexer": "ipython3",
   "version": "3.9.12"
  }
 },
 "nbformat": 4,
 "nbformat_minor": 5
}
