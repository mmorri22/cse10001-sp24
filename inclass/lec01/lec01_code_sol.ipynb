{
 "cells": [
  {
   "cell_type": "markdown",
   "id": "f2897a01",
   "metadata": {},
   "source": [
    "### This is the preview notebook for Lecture 01\n",
    "<p>   </p>\n",
    "In this lecture, we will learn about <b>basics of programming</b> and the importance of <b>data types</b>. Specifically, you will learn about:<br>\n",
    "<ol>\n",
    "<li>The basics of <a href = \"https://www.python.org/\">Python</a></li>\n",
    "<li>Variables<br></li>\n",
    "<li>Data types<br></li>\n",
    "<tab>A. integers</tab><br>\n",
    "   B. floating point (decimals)<br>\n",
    "   C. strings<br>\n",
    "<li>Concatenation and printing<br></li>\n",
    "<li>Reading input and generating output<br></li>\n",
    "</ol>"
   ]
  },
  {
   "cell_type": "code",
   "execution_count": 1,
   "id": "a8117d11",
   "metadata": {},
   "outputs": [
    {
     "data": {
      "text/plain": [
       "2"
      ]
     },
     "execution_count": 1,
     "metadata": {},
     "output_type": "execute_result"
    }
   ],
   "source": [
    "2"
   ]
  },
  {
   "cell_type": "code",
   "execution_count": 2,
   "id": "f556232e",
   "metadata": {},
   "outputs": [
    {
     "data": {
      "text/plain": [
       "4"
      ]
     },
     "execution_count": 2,
     "metadata": {},
     "output_type": "execute_result"
    }
   ],
   "source": [
    "2+2"
   ]
  },
  {
   "cell_type": "code",
   "execution_count": 3,
   "id": "49b8905f",
   "metadata": {},
   "outputs": [
    {
     "data": {
      "text/plain": [
       "20"
      ]
     },
     "execution_count": 3,
     "metadata": {},
     "output_type": "execute_result"
    }
   ],
   "source": [
    "2 + 3 * 6"
   ]
  },
  {
   "cell_type": "code",
   "execution_count": 4,
   "id": "86ba2a91",
   "metadata": {},
   "outputs": [
    {
     "data": {
      "text/plain": [
       "30"
      ]
     },
     "execution_count": 4,
     "metadata": {},
     "output_type": "execute_result"
    }
   ],
   "source": [
    "(2+3) * 6"
   ]
  },
  {
   "cell_type": "code",
   "execution_count": 5,
   "id": "ebe3e9bc",
   "metadata": {},
   "outputs": [
    {
     "data": {
      "text/plain": [
       "58498245711423864"
      ]
     },
     "execution_count": 5,
     "metadata": {},
     "output_type": "execute_result"
    }
   ],
   "source": [
    "235973270532 * 247902"
   ]
  },
  {
   "cell_type": "code",
   "execution_count": 14,
   "id": "d2151348",
   "metadata": {},
   "outputs": [
    {
     "data": {
      "text/plain": [
       "512"
      ]
     },
     "execution_count": 14,
     "metadata": {},
     "output_type": "execute_result"
    }
   ],
   "source": [
    "# Use ** for exponents\n",
    "2 ** 9"
   ]
  },
  {
   "cell_type": "code",
   "execution_count": 11,
   "id": "aa6eb915",
   "metadata": {},
   "outputs": [
    {
     "data": {
      "text/plain": [
       "3.2857142857142856"
      ]
     },
     "execution_count": 11,
     "metadata": {},
     "output_type": "execute_result"
    }
   ],
   "source": [
    "23 / 7"
   ]
  },
  {
   "cell_type": "code",
   "execution_count": 13,
   "id": "84e26ba8",
   "metadata": {},
   "outputs": [
    {
     "data": {
      "text/plain": [
       "3"
      ]
     },
     "execution_count": 13,
     "metadata": {},
     "output_type": "execute_result"
    }
   ],
   "source": [
    "# Integer Division - Quotient\n",
    "23 // 7"
   ]
  },
  {
   "cell_type": "code",
   "execution_count": 15,
   "id": "7d1077af",
   "metadata": {},
   "outputs": [
    {
     "data": {
      "text/plain": [
       "2"
      ]
     },
     "execution_count": 15,
     "metadata": {},
     "output_type": "execute_result"
    }
   ],
   "source": [
    "# Remainder - Modulo\n",
    "23 % 7"
   ]
  },
  {
   "cell_type": "code",
   "execution_count": 16,
   "id": "3c530e2a",
   "metadata": {},
   "outputs": [
    {
     "data": {
      "text/plain": [
       "0.30000000000000004"
      ]
     },
     "execution_count": 16,
     "metadata": {},
     "output_type": "execute_result"
    }
   ],
   "source": [
    "# Decimal *precision* vs accuracy\n",
    "0.1 + 0.2"
   ]
  },
  {
   "cell_type": "code",
   "execution_count": 17,
   "id": "254509ae",
   "metadata": {},
   "outputs": [
    {
     "data": {
      "text/plain": [
       "16.0"
      ]
     },
     "execution_count": 17,
     "metadata": {},
     "output_type": "execute_result"
    }
   ],
   "source": [
    "# Thought Question: Why a float?\n",
    "# No interger division operator\n",
    "( 5 - 1) * ((7+1) / (3-1))"
   ]
  },
  {
   "cell_type": "code",
   "execution_count": 18,
   "id": "66dc170b",
   "metadata": {},
   "outputs": [
    {
     "data": {
      "text/plain": [
       "16"
      ]
     },
     "execution_count": 18,
     "metadata": {},
     "output_type": "execute_result"
    }
   ],
   "source": [
    "# Yes! integer division operator\n",
    "( 5 - 1) * ((7+1) // (3-1))"
   ]
  },
  {
   "cell_type": "code",
   "execution_count": 19,
   "id": "7eb731eb",
   "metadata": {},
   "outputs": [
    {
     "data": {
      "text/plain": [
       "16"
      ]
     },
     "execution_count": 19,
     "metadata": {},
     "output_type": "execute_result"
    }
   ],
   "source": [
    "# Yes! integer division operator\n",
    "( 5 - 1) * ((7+2) // (3-1))"
   ]
  },
  {
   "cell_type": "code",
   "execution_count": 20,
   "id": "c5590563",
   "metadata": {},
   "outputs": [
    {
     "data": {
      "text/plain": [
       "4"
      ]
     },
     "execution_count": 20,
     "metadata": {},
     "output_type": "execute_result"
    }
   ],
   "source": [
    "# Now with modulo\n",
    "( 5 - 1) * ((7+2) % (3-1))"
   ]
  },
  {
   "cell_type": "code",
   "execution_count": 21,
   "id": "785bf9ef",
   "metadata": {},
   "outputs": [
    {
     "data": {
      "text/plain": [
       "1.235579470031663e+25"
      ]
     },
     "execution_count": 21,
     "metadata": {},
     "output_type": "execute_result"
    }
   ],
   "source": [
    "# Floating Point - Scientific Notation!\n",
    "257897507023909.0 * 47909709725"
   ]
  },
  {
   "cell_type": "code",
   "execution_count": 26,
   "id": "27dbed3f",
   "metadata": {},
   "outputs": [
    {
     "ename": "SyntaxError",
     "evalue": "invalid syntax (704716067.py, line 1)",
     "output_type": "error",
     "traceback": [
      "\u001b[1;36m  File \u001b[1;32m\"C:\\Users\\mmorri22\\AppData\\Local\\Temp\\ipykernel_10352\\704716067.py\"\u001b[1;36m, line \u001b[1;32m1\u001b[0m\n\u001b[1;33m    170!\u001b[0m\n\u001b[1;37m       ^\u001b[0m\n\u001b[1;31mSyntaxError\u001b[0m\u001b[1;31m:\u001b[0m invalid syntax\n"
     ]
    }
   ],
   "source": [
    "# Deliberate example of a Syntax Error\n",
    "170!"
   ]
  },
  {
   "cell_type": "code",
   "execution_count": 27,
   "id": "c6d4c9dc",
   "metadata": {},
   "outputs": [
    {
     "data": {
      "text/plain": [
       "'Hello, World'"
      ]
     },
     "execution_count": 27,
     "metadata": {},
     "output_type": "execute_result"
    }
   ],
   "source": [
    "'Hello, World'"
   ]
  },
  {
   "cell_type": "code",
   "execution_count": 28,
   "id": "24b2591a",
   "metadata": {},
   "outputs": [
    {
     "ename": "SyntaxError",
     "evalue": "EOL while scanning string literal (1266499229.py, line 2)",
     "output_type": "error",
     "traceback": [
      "\u001b[1;36m  File \u001b[1;32m\"C:\\Users\\mmorri22\\AppData\\Local\\Temp\\ipykernel_10352\\1266499229.py\"\u001b[1;36m, line \u001b[1;32m2\u001b[0m\n\u001b[1;33m    'Hello, World\u001b[0m\n\u001b[1;37m                 ^\u001b[0m\n\u001b[1;31mSyntaxError\u001b[0m\u001b[1;31m:\u001b[0m EOL while scanning string literal\n"
     ]
    }
   ],
   "source": [
    "# Compiler Erro Example - Common coding mistake\n",
    "'Hello, World"
   ]
  },
  {
   "cell_type": "code",
   "execution_count": 29,
   "id": "c2a7881f",
   "metadata": {},
   "outputs": [
    {
     "data": {
      "text/plain": [
       "'AliceBob'"
      ]
     },
     "execution_count": 29,
     "metadata": {},
     "output_type": "execute_result"
    }
   ],
   "source": [
    "'Alice' + 'Bob'"
   ]
  },
  {
   "cell_type": "code",
   "execution_count": 30,
   "id": "30a05402",
   "metadata": {},
   "outputs": [
    {
     "data": {
      "text/plain": [
       "'Go Irish!'"
      ]
     },
     "execution_count": 30,
     "metadata": {},
     "output_type": "execute_result"
    }
   ],
   "source": [
    "'Go ' + 'Irish!' "
   ]
  },
  {
   "cell_type": "code",
   "execution_count": 31,
   "id": "35d6f112",
   "metadata": {},
   "outputs": [
    {
     "ename": "TypeError",
     "evalue": "can only concatenate str (not \"int\") to str",
     "output_type": "error",
     "traceback": [
      "\u001b[1;31m---------------------------------------------------------------------------\u001b[0m",
      "\u001b[1;31mTypeError\u001b[0m                                 Traceback (most recent call last)",
      "\u001b[1;32m~\\AppData\\Local\\Temp\\ipykernel_10352\\3504299338.py\u001b[0m in \u001b[0;36m<module>\u001b[1;34m\u001b[0m\n\u001b[1;32m----> 1\u001b[1;33m \u001b[1;34m'Alice'\u001b[0m \u001b[1;33m+\u001b[0m \u001b[1;36m42\u001b[0m\u001b[1;33m\u001b[0m\u001b[1;33m\u001b[0m\u001b[0m\n\u001b[0m",
      "\u001b[1;31mTypeError\u001b[0m: can only concatenate str (not \"int\") to str"
     ]
    }
   ],
   "source": [
    "# Example of Type Error\n",
    "'Alice' + 42"
   ]
  },
  {
   "cell_type": "code",
   "execution_count": 32,
   "id": "1b14cb37",
   "metadata": {},
   "outputs": [
    {
     "data": {
      "text/plain": [
       "'AliceAliceAliceAliceAlice'"
      ]
     },
     "execution_count": 32,
     "metadata": {},
     "output_type": "execute_result"
    }
   ],
   "source": [
    "'Alice' * 5"
   ]
  },
  {
   "cell_type": "code",
   "execution_count": 46,
   "id": "a81cd527",
   "metadata": {},
   "outputs": [],
   "source": [
    "# Variable is where we hold something is DATA\n",
    "spam = 40"
   ]
  },
  {
   "cell_type": "code",
   "execution_count": 34,
   "id": "42649bbf",
   "metadata": {},
   "outputs": [
    {
     "data": {
      "text/plain": [
       "40"
      ]
     },
     "execution_count": 34,
     "metadata": {},
     "output_type": "execute_result"
    }
   ],
   "source": [
    "spam"
   ]
  },
  {
   "cell_type": "code",
   "execution_count": 47,
   "id": "0e966795",
   "metadata": {},
   "outputs": [],
   "source": [
    "eggs = 26"
   ]
  },
  {
   "cell_type": "code",
   "execution_count": 48,
   "id": "bc062851",
   "metadata": {},
   "outputs": [
    {
     "data": {
      "text/plain": [
       "66"
      ]
     },
     "execution_count": 48,
     "metadata": {},
     "output_type": "execute_result"
    }
   ],
   "source": [
    "spam + eggs"
   ]
  },
  {
   "cell_type": "code",
   "execution_count": 42,
   "id": "871a7465",
   "metadata": {},
   "outputs": [],
   "source": [
    "# Example of changing data types \n",
    "spam = 'Go'"
   ]
  },
  {
   "cell_type": "code",
   "execution_count": 43,
   "id": "ea7958cc",
   "metadata": {},
   "outputs": [],
   "source": [
    "eggs = ' Irish'"
   ]
  },
  {
   "cell_type": "code",
   "execution_count": 44,
   "id": "8d677e1a",
   "metadata": {},
   "outputs": [
    {
     "data": {
      "text/plain": [
       "'Go Irish'"
      ]
     },
     "execution_count": 44,
     "metadata": {},
     "output_type": "execute_result"
    }
   ],
   "source": [
    "spam + eggs"
   ]
  },
  {
   "cell_type": "code",
   "execution_count": 49,
   "id": "07796934",
   "metadata": {},
   "outputs": [
    {
     "name": "stdout",
     "output_type": "stream",
     "text": [
      "Hello, World\n"
     ]
    }
   ],
   "source": [
    "print('Hello, World')"
   ]
  },
  {
   "cell_type": "code",
   "execution_count": 50,
   "id": "d673c69a",
   "metadata": {},
   "outputs": [],
   "source": [
    "my_len_str = 'Prof. Morrison'"
   ]
  },
  {
   "cell_type": "code",
   "execution_count": 51,
   "id": "916f1ae3",
   "metadata": {},
   "outputs": [
    {
     "data": {
      "text/plain": [
       "'Prof. Morrison'"
      ]
     },
     "execution_count": 51,
     "metadata": {},
     "output_type": "execute_result"
    }
   ],
   "source": [
    "my_len_str"
   ]
  },
  {
   "cell_type": "code",
   "execution_count": 52,
   "id": "05a8a01a",
   "metadata": {},
   "outputs": [
    {
     "data": {
      "text/plain": [
       "14"
      ]
     },
     "execution_count": 52,
     "metadata": {},
     "output_type": "execute_result"
    }
   ],
   "source": [
    "len(my_len_str)"
   ]
  },
  {
   "cell_type": "code",
   "execution_count": 53,
   "id": "4e5b7cb0",
   "metadata": {},
   "outputs": [
    {
     "ename": "TypeError",
     "evalue": "can only concatenate str (not \"int\") to str",
     "output_type": "error",
     "traceback": [
      "\u001b[1;31m---------------------------------------------------------------------------\u001b[0m",
      "\u001b[1;31mTypeError\u001b[0m                                 Traceback (most recent call last)",
      "\u001b[1;32m~\\AppData\\Local\\Temp\\ipykernel_10352\\2927182267.py\u001b[0m in \u001b[0;36m<module>\u001b[1;34m\u001b[0m\n\u001b[1;32m----> 1\u001b[1;33m \u001b[0mprint\u001b[0m\u001b[1;33m(\u001b[0m \u001b[1;34m'Hello, my name is '\u001b[0m \u001b[1;33m+\u001b[0m \u001b[0mmy_len_str\u001b[0m \u001b[1;33m+\u001b[0m \u001b[1;34m', which is '\u001b[0m \u001b[1;33m+\u001b[0m \u001b[0mlen\u001b[0m\u001b[1;33m(\u001b[0m\u001b[0mmy_len_str\u001b[0m\u001b[1;33m)\u001b[0m \u001b[1;33m+\u001b[0m \u001b[1;34m'characters long'\u001b[0m\u001b[1;33m)\u001b[0m\u001b[1;33m\u001b[0m\u001b[1;33m\u001b[0m\u001b[0m\n\u001b[0m",
      "\u001b[1;31mTypeError\u001b[0m: can only concatenate str (not \"int\") to str"
     ]
    }
   ],
   "source": [
    "# Delibarte Type Error to show students importance of strings\n",
    "print( 'Hello, my name is ' + my_len_str + ', which is ' + len(my_len_str) + 'characters long')"
   ]
  },
  {
   "cell_type": "code",
   "execution_count": 55,
   "id": "7b7cfc48",
   "metadata": {},
   "outputs": [
    {
     "name": "stdout",
     "output_type": "stream",
     "text": [
      "Hello, my name is Prof. Morrison, which is 14 characters long\n"
     ]
    }
   ],
   "source": [
    "print( 'Hello, my name is ' + my_len_str + ', which is ' + str(len(my_len_str)) + ' characters long')"
   ]
  },
  {
   "cell_type": "markdown",
   "id": "79b0498b",
   "metadata": {},
   "source": [
    "### Key Concepts\n",
    "1. Binary conversion to ASCII\n",
    "2. Paying close attention to what data type you are using\n",
    "3. Floats vs. Integers ( Precision vs. Accuracy )\n",
    "4. Errors, and making sure you are using the correct syntax."
   ]
  }
 ],
 "metadata": {
  "kernelspec": {
   "display_name": "Python 3 (ipykernel)",
   "language": "python",
   "name": "python3"
  },
  "language_info": {
   "codemirror_mode": {
    "name": "ipython",
    "version": 3
   },
   "file_extension": ".py",
   "mimetype": "text/x-python",
   "name": "python",
   "nbconvert_exporter": "python",
   "pygments_lexer": "ipython3",
   "version": "3.9.12"
  }
 },
 "nbformat": 4,
 "nbformat_minor": 5
}
