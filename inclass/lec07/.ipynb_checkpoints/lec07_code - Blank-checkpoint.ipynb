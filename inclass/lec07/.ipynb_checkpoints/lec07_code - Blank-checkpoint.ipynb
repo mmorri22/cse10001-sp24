{
 "cells": [
  {
   "cell_type": "markdown",
   "id": "04f21f68",
   "metadata": {},
   "source": [
    "### This is the Notebook for Lecture 07\n",
    "\n",
    "In this lecture, you will learn\n",
    "<ol>\n",
    "    <li>The process of implementing an <b>Algorithm</b>\n",
    "    <li>Implementing an algorithm called <b>Selection Sort</b>\n",
    "    <li>Implementing an algorithm called <b>Merge Sort Sort</b>\n",
    "    <li>Use the %timeit to compare the run times of those algorithms\n",
    "</ol>\n",
    "    "
   ]
  },
  {
   "cell_type": "markdown",
   "id": "501870fb",
   "metadata": {},
   "source": [
    "### Plotting using MatLAB\n",
    "\n",
    "Note: MatLAB stands for \"Matrix Laboratory\""
   ]
  },
  {
   "cell_type": "code",
   "execution_count": 2,
   "id": "629a6a9d",
   "metadata": {},
   "outputs": [],
   "source": [
    "# From last lecture - run this cell\n",
    "\n",
    "import random\n",
    "\n",
    "HEADS = 0\n",
    "TAILS = 1\n",
    "\n",
    "# Write a function simulate_coin_flip \n",
    "\n",
    "def simulate_coin_flip(num_flips):\n",
    "    \n",
    "    # Number of HEADS and TAILS are initially 0\n",
    "    counts = [0,0]\n",
    "    \n",
    "    for i in range(num_flips):\n",
    "        \n",
    "        curr_flip = random.randint(0,1)\n",
    "        \n",
    "        if curr_flip == HEADS:\n",
    "            counts[HEADS] += 1\n",
    "        else:\n",
    "            counts[TAILS] += 1\n",
    "            \n",
    "    return counts"
   ]
  },
  {
   "cell_type": "code",
   "execution_count": 3,
   "id": "cb1700d0",
   "metadata": {},
   "outputs": [
    {
     "data": {
      "text/plain": [
       "[49, 51]"
      ]
     },
     "execution_count": 3,
     "metadata": {},
     "output_type": "execute_result"
    }
   ],
   "source": [
    "# Run this cell as well to simulate the coin flip.\n",
    "\n",
    "simulate_coin_flip(100)"
   ]
  },
  {
   "cell_type": "code",
   "execution_count": null,
   "id": "1fde430c",
   "metadata": {},
   "outputs": [],
   "source": [
    "import matplotlib.pyplot as plt\n",
    "\n",
    "# def plot_coint_flips"
   ]
  },
  {
   "cell_type": "code",
   "execution_count": null,
   "id": "fa422d4c",
   "metadata": {},
   "outputs": [],
   "source": [
    "counts = simulate_coin_flip(100)\n",
    "plot_coin_flips(counts)"
   ]
  },
  {
   "cell_type": "markdown",
   "id": "f3a68374",
   "metadata": {},
   "source": [
    "### Interaction"
   ]
  },
  {
   "cell_type": "code",
   "execution_count": null,
   "id": "5f270a8b",
   "metadata": {},
   "outputs": [],
   "source": [
    "from ipywidgets import interact\n",
    "\n",
    "# def run_coin_simulation"
   ]
  },
  {
   "cell_type": "code",
   "execution_count": null,
   "id": "4bdc0ef9",
   "metadata": {},
   "outputs": [],
   "source": [
    "interact(run_coin_simulation, flips=(1,100))"
   ]
  },
  {
   "cell_type": "code",
   "execution_count": null,
   "id": "c1954fb7",
   "metadata": {},
   "outputs": [],
   "source": [
    "import random\n",
    "\n",
    "# def simulate_dice"
   ]
  },
  {
   "cell_type": "code",
   "execution_count": null,
   "id": "dc1bba26",
   "metadata": {},
   "outputs": [],
   "source": [
    "data = simulate_dice(100, 4)"
   ]
  },
  {
   "cell_type": "markdown",
   "id": "0f7de3d8",
   "metadata": {},
   "source": [
    "#### In-Class Coding Opportunity\n",
    "\n",
    "Given a list words of N items and a target parameter, determine whether or not the list words contains the target parameter."
   ]
  },
  {
   "cell_type": "code",
   "execution_count": null,
   "id": "306e600e",
   "metadata": {},
   "outputs": [],
   "source": [
    "# Creating a list with strings"
   ]
  },
  {
   "cell_type": "code",
   "execution_count": null,
   "id": "d387b059",
   "metadata": {},
   "outputs": [],
   "source": [
    "# Returns whether or not target is contained in words"
   ]
  },
  {
   "cell_type": "code",
   "execution_count": null,
   "id": "71dc23b8",
   "metadata": {
    "scrolled": true
   },
   "outputs": [],
   "source": [
    "contains_target(book, 'harry')"
   ]
  },
  {
   "cell_type": "code",
   "execution_count": null,
   "id": "164ad5d6",
   "metadata": {},
   "outputs": [],
   "source": [
    "contains_target(book, 'Thor')"
   ]
  },
  {
   "cell_type": "code",
   "execution_count": null,
   "id": "08de7413",
   "metadata": {},
   "outputs": [],
   "source": [
    "contains_target(book, 'Harry')"
   ]
  },
  {
   "cell_type": "markdown",
   "id": "b3a504e2",
   "metadata": {},
   "source": [
    "### lower()\n",
    "\n",
    "Used to convert uppercase ASCII to lowercase to make == comparisons valid"
   ]
  },
  {
   "cell_type": "code",
   "execution_count": null,
   "id": "1183ff79",
   "metadata": {},
   "outputs": [],
   "source": [
    "# Write a function contains_target_lower that converts elements to lower case"
   ]
  },
  {
   "cell_type": "code",
   "execution_count": null,
   "id": "d63b6372",
   "metadata": {},
   "outputs": [],
   "source": [
    "contains_target_lower(book, 'Harry')"
   ]
  },
  {
   "cell_type": "markdown",
   "id": "e21f863d",
   "metadata": {},
   "source": [
    "### Enumerate\n",
    "\n",
    "The enumerate method for a list of words creates an index and a string\n",
    "Here, we will create index, word for each enumerated word"
   ]
  },
  {
   "cell_type": "code",
   "execution_count": null,
   "id": "a73673f5",
   "metadata": {},
   "outputs": [],
   "source": [
    "# Create function contains_enum_index"
   ]
  },
  {
   "cell_type": "code",
   "execution_count": null,
   "id": "34fdc884",
   "metadata": {},
   "outputs": [],
   "source": [
    "random_words = 'harry potter and the thing that does the magic thing'"
   ]
  },
  {
   "cell_type": "code",
   "execution_count": null,
   "id": "44f1c22f",
   "metadata": {},
   "outputs": [],
   "source": [
    "# split call\n",
    "contains_enum_index(random_words.split(), 'the')"
   ]
  },
  {
   "cell_type": "code",
   "execution_count": null,
   "id": "f3b1dc64",
   "metadata": {},
   "outputs": [],
   "source": [
    "contains_enum_index(book, 'Goblet')"
   ]
  },
  {
   "cell_type": "code",
   "execution_count": null,
   "id": "d5d12432",
   "metadata": {},
   "outputs": [],
   "source": [
    "contains_enum_index(book, 'Thor')"
   ]
  },
  {
   "cell_type": "code",
   "execution_count": null,
   "id": "6b4d3116",
   "metadata": {},
   "outputs": [],
   "source": [
    "# Binary Search Algorithm\n",
    "# Function num_array, target\n"
   ]
  },
  {
   "cell_type": "code",
   "execution_count": null,
   "id": "f1c50325",
   "metadata": {},
   "outputs": [],
   "source": [
    "num_array = [3, 14, 22, 28, 34, 42, 47]\n",
    "\n",
    "# Search for 14"
   ]
  },
  {
   "cell_type": "code",
   "execution_count": null,
   "id": "afacc676",
   "metadata": {},
   "outputs": [],
   "source": [
    "# Search for 34"
   ]
  },
  {
   "cell_type": "code",
   "execution_count": null,
   "id": "dcea2581",
   "metadata": {},
   "outputs": [],
   "source": [
    "# Search for 2"
   ]
  },
  {
   "cell_type": "markdown",
   "id": "a99dfe30",
   "metadata": {},
   "source": [
    "### In-Class Coding Opportunity\n",
    "\n",
    "We will code a Selection Sort Algorithm\n",
    "\n",
    "<ol>\n",
    "    <li>Search for the smallest element in the unsorted portion of the list</li>\n",
    "    <li>Swap the smallest element with the first element in the unsorted portion of the list</li>\n",
    "    <li>Repeat process on remaining unsorted portion of the list</li>\n",
    "</ol>"
   ]
  },
  {
   "cell_type": "code",
   "execution_count": null,
   "id": "1e276138",
   "metadata": {},
   "outputs": [],
   "source": [
    "# Selection Sort"
   ]
  },
  {
   "cell_type": "code",
   "execution_count": null,
   "id": "7b027ef3",
   "metadata": {},
   "outputs": [],
   "source": [
    "int_array = [10, 7, 5, 3, 0, 2, 1, 11]\n",
    "selection_sort( int_array )\n",
    "print( int_array )"
   ]
  },
  {
   "cell_type": "markdown",
   "id": "8a7ee6b7",
   "metadata": {},
   "source": [
    "#### Merge Sort"
   ]
  },
  {
   "cell_type": "code",
   "execution_count": null,
   "id": "864d44d3",
   "metadata": {},
   "outputs": [],
   "source": [
    "# Merging Algorithm\n",
    "def merge(left, right):\n",
    "    merged = []\n",
    "    \n",
    "    while left or right:\n",
    "        if not left:  # If the left array \n",
    "            merged.append(right.pop(0))\n",
    "        elif not right:\n",
    "            merged.append(left.pop(0))\n",
    "        elif left[0] <= right[0]:\n",
    "            merged.append(left.pop(0))\n",
    "        else:\n",
    "            merged.append(right.pop(0))\n",
    "    \n",
    "    return merged"
   ]
  },
  {
   "cell_type": "code",
   "execution_count": null,
   "id": "e957db93",
   "metadata": {},
   "outputs": [],
   "source": [
    "def merge_sort(numbers):\n",
    "    # Base case\n",
    "    if len(numbers) <= 1:\n",
    "        return numbers\n",
    "    \n",
    "    # Divide\n",
    "    middle = len(numbers) // 2\n",
    "    left   = numbers[:middle]\n",
    "    right  = numbers[middle:]\n",
    "    \n",
    "    # Print the divide\n",
    "    print( 'Divide in merge_sort: Middle = ' + f'{middle}' + ', left = ' + f'{left}' + ', right = ' + f'{right}')\n",
    "    \n",
    "    # Conquer\n",
    "    left   = merge_sort(left)\n",
    "    right  = merge_sort(right)\n",
    "    \n",
    "    print( 'Conquer in merge_sort: left = ' + f'{left}' + ', right = ' + f'{right}')\n",
    "    \n",
    "    # Combine\n",
    "    return merge(left, right)"
   ]
  },
  {
   "cell_type": "code",
   "execution_count": null,
   "id": "25636179",
   "metadata": {},
   "outputs": [],
   "source": [
    "int_array = [10, 7, 5, 3, 0, 2, 1, 11]\n",
    "sorted_array = merge_sort( int_array )\n",
    "print( sorted_array )"
   ]
  },
  {
   "cell_type": "markdown",
   "id": "030a0ea1",
   "metadata": {},
   "source": [
    "### Comparing Selection Sort and Merge Sort"
   ]
  },
  {
   "cell_type": "code",
   "execution_count": null,
   "id": "2277e5b1",
   "metadata": {},
   "outputs": [],
   "source": [
    "import random\n",
    "\n",
    "def generate_random_numbers(n, low=1, high=1000):\n",
    "    numbers = []\n",
    "    for i in range(n):\n",
    "        numbers.append(random.randint(low, high))\n",
    "    return numbers"
   ]
  },
  {
   "cell_type": "code",
   "execution_count": null,
   "id": "4a4d424b",
   "metadata": {},
   "outputs": [],
   "source": [
    "dataset10000 = generate_random_numbers(10000)"
   ]
  },
  {
   "cell_type": "code",
   "execution_count": null,
   "id": "4956a65d",
   "metadata": {},
   "outputs": [],
   "source": [
    "# %timeit runs the code 7 times with 1,000 loops to get a benchmark\n",
    "%timeit selection_sort(dataset10000)"
   ]
  },
  {
   "cell_type": "code",
   "execution_count": null,
   "id": "92100ad8",
   "metadata": {},
   "outputs": [],
   "source": [
    "def merge_sort_no_print(numbers):\n",
    "    # Base case\n",
    "    if len(numbers) <= 1:\n",
    "        return numbers\n",
    "    \n",
    "    # Divide\n",
    "    middle = len(numbers) // 2\n",
    "    left   = numbers[:middle]\n",
    "    right  = numbers[middle:] \n",
    "    \n",
    "    # Conquer\n",
    "    left   = merge_sort_no_print(left)\n",
    "    right  = merge_sort_no_print(right)\n",
    "    \n",
    "    # Combine\n",
    "    return merge(left, right)"
   ]
  },
  {
   "cell_type": "code",
   "execution_count": null,
   "id": "a030f323",
   "metadata": {},
   "outputs": [],
   "source": [
    "%timeit merge_sort_no_print(dataset10000)"
   ]
  }
 ],
 "metadata": {
  "kernelspec": {
   "display_name": "Python 3 (ipykernel)",
   "language": "python",
   "name": "python3"
  },
  "language_info": {
   "codemirror_mode": {
    "name": "ipython",
    "version": 3
   },
   "file_extension": ".py",
   "mimetype": "text/x-python",
   "name": "python",
   "nbconvert_exporter": "python",
   "pygments_lexer": "ipython3",
   "version": "3.9.13"
  }
 },
 "nbformat": 4,
 "nbformat_minor": 5
}
