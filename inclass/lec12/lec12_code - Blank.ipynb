{
 "cells": [
  {
   "cell_type": "markdown",
   "id": "25ee7bcf",
   "metadata": {},
   "source": [
    "### This is the Notebook for Lecture 12\n",
    "\n",
    "In this lecture, we will learn techniques for manipulating images. This will include:\n",
    "\n",
    "<ol>\n",
    "    <li>Creating an image</li>\n",
    "    <li>Modify RGB values</li>\n",
    "</ol>"
   ]
  },
  {
   "cell_type": "code",
   "execution_count": null,
   "id": "514625d9",
   "metadata": {},
   "outputs": [],
   "source": [
    "# Import the Python image \n",
    "from PIL import Image"
   ]
  },
  {
   "cell_type": "code",
   "execution_count": null,
   "id": "9ff19cd6",
   "metadata": {},
   "outputs": [],
   "source": [
    "# Image that is 240x160 pixels with black background"
   ]
  },
  {
   "cell_type": "code",
   "execution_count": null,
   "id": "074f4cd2",
   "metadata": {},
   "outputs": [],
   "source": [
    "# Now we can display the image"
   ]
  },
  {
   "cell_type": "code",
   "execution_count": null,
   "id": "f8be17fd",
   "metadata": {},
   "outputs": [],
   "source": [
    "# Update the image with Notre Dame Blue"
   ]
  },
  {
   "cell_type": "markdown",
   "id": "4dd6368e",
   "metadata": {},
   "source": [
    "### In-Class Coding Opportunity\n",
    "\n",
    "Write a function called print_box( red, green, blue ) and importing interact which reads in values for red, green, and blue and shows the 240,160 box. Be sure to use the ranges of 0,255 for each color"
   ]
  },
  {
   "cell_type": "code",
   "execution_count": null,
   "id": "703e8c0f",
   "metadata": {},
   "outputs": [],
   "source": [
    "# Use the interact to change colors"
   ]
  },
  {
   "cell_type": "code",
   "execution_count": null,
   "id": "06f42b47",
   "metadata": {},
   "outputs": [],
   "source": [
    "def print_box( red, green, blue ):\n",
    "    # In Class Code Here"
   ]
  },
  {
   "cell_type": "code",
   "execution_count": null,
   "id": "2e0f3868",
   "metadata": {},
   "outputs": [],
   "source": [
    "# Interact to change color"
   ]
  },
  {
   "cell_type": "markdown",
   "id": "96ee32cc",
   "metadata": {},
   "source": [
    "### Processing an Image\n",
    "\n",
    "Here, we will combine concepts of looping and % to print every other pixel as a ND_BLUE or ND_GOLD"
   ]
  },
  {
   "cell_type": "code",
   "execution_count": null,
   "id": "c177ec12",
   "metadata": {},
   "outputs": [],
   "source": [
    "# Define the colors\n",
    "ND_BLUE = (12, 35, 64)\n",
    "ND_GOLD = (211, 159, 16)\n",
    "width = 240\n",
    "height = 160\n",
    "\n",
    "#Define the initial image and get the \n",
    "\n",
    "\n",
    "\n",
    "# Finally, display the image\n",
    "display(image)"
   ]
  },
  {
   "cell_type": "markdown",
   "id": "b326f8ce",
   "metadata": {},
   "source": [
    "### Combining Concepts\n",
    "\n",
    "Write a program that generates an image of random colors of size 480 and 460"
   ]
  },
  {
   "cell_type": "code",
   "execution_count": null,
   "id": "88f022dd",
   "metadata": {},
   "outputs": [],
   "source": [
    "import random\n",
    "\n",
    "\n",
    "\n",
    "# Finally, display the image\n",
    "display(image)"
   ]
  },
  {
   "cell_type": "markdown",
   "id": "a255aee0",
   "metadata": {},
   "source": [
    "### In-Class Coding Opportunity\n",
    "\n",
    "Create a tricolor flag"
   ]
  },
  {
   "cell_type": "code",
   "execution_count": null,
   "id": "60b9902e",
   "metadata": {},
   "outputs": [],
   "source": [
    "GREEN  = (22, 155, 98)\n",
    "WHITE  = (255, 255, 255)\n",
    "ORANGE = (255, 136, 62)\n",
    "\n",
    "# In-Class Code goes here\n",
    "\n",
    "\n",
    "# Finally, display the image\n",
    "display(image)"
   ]
  },
  {
   "cell_type": "code",
   "execution_count": null,
   "id": "947a6086",
   "metadata": {},
   "outputs": [],
   "source": [
    "import requests\n",
    "from io import BytesIO"
   ]
  },
  {
   "cell_type": "code",
   "execution_count": null,
   "id": "7c4fdfac",
   "metadata": {},
   "outputs": [],
   "source": [
    "# Get and Display an image\n",
    "data  = requests.get('https://news.nd.edu/assets/154968/300x/john_jenkins_web.jpg')\n",
    "image = Image.open(BytesIO(data.content))\n",
    "\n",
    "# Finally, display the image\n",
    "display(image)"
   ]
  },
  {
   "cell_type": "code",
   "execution_count": null,
   "id": "87e0d59a",
   "metadata": {},
   "outputs": [],
   "source": [
    "# Flip the color to Black and White Image"
   ]
  },
  {
   "cell_type": "code",
   "execution_count": null,
   "id": "e78a0e03",
   "metadata": {},
   "outputs": [],
   "source": [
    "image = Image.open(BytesIO(data.content))\n",
    "colors = [(12, 35, 64), (211, 159, 16)] \n",
    "width, height = image.size\n",
    "\n",
    "# Adds noise\n",
    "\n",
    "\n",
    "# Brighten image\n",
    "\n",
    "\n",
    "from PIL import ImageFilter\n",
    "\n",
    "# Then we will sharp and enhance edges\n",
    "\n",
    "        \n",
    "display(image)"
   ]
  },
  {
   "cell_type": "code",
   "execution_count": null,
   "id": "cca3eca5",
   "metadata": {},
   "outputs": [],
   "source": [
    "color1 = (12, 35, 64)\n",
    "color2 = (211, 159, 16)\n",
    "width  = 480\n",
    "height = 320\n",
    "\n",
    "# In-Class Code Goes Here\n",
    "        \n",
    "display(image)"
   ]
  },
  {
   "cell_type": "code",
   "execution_count": null,
   "id": "30f75762",
   "metadata": {},
   "outputs": [],
   "source": []
  }
 ],
 "metadata": {
  "kernelspec": {
   "display_name": "Python 3 (ipykernel)",
   "language": "python",
   "name": "python3"
  },
  "language_info": {
   "codemirror_mode": {
    "name": "ipython",
    "version": 3
   },
   "file_extension": ".py",
   "mimetype": "text/x-python",
   "name": "python",
   "nbconvert_exporter": "python",
   "pygments_lexer": "ipython3",
   "version": "3.9.12"
  }
 },
 "nbformat": 4,
 "nbformat_minor": 5
}
