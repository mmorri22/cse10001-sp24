{
 "cells": [
  {
   "cell_type": "markdown",
   "id": "25ee7bcf",
   "metadata": {},
   "source": [
    "### This is the Notebook for Lecture 12\n",
    "\n",
    "For the first portion of lecture, we will review and strengthen our understanding of recursion:\n",
    "\n",
    "<ol>\n",
    "    <li>Memoization using Dictionaries</li>\n",
    "    <li>Practice Recursive Problems for the Exam</li>\n",
    "</ol>"
   ]
  },
  {
   "cell_type": "code",
   "execution_count": null,
   "id": "b46101cc",
   "metadata": {},
   "outputs": [],
   "source": [
    "## Recall from Monday's Lecture\n",
    "\n",
    "def fibonacci( int_x ):\n",
    "    \n",
    "    print( 'Call:', int_x )\n",
    "    \n",
    "    # Base Case\n",
    "    if int_x <= 1:\n",
    "        print('Got to base case. Return 1')\n",
    "        return 1\n",
    "    \n",
    "    # Recursive case\n",
    "    \n",
    "    int_first = int_x - 1\n",
    "    int_second = int_x - 2\n",
    "    \n",
    "    print( 'Line 17 - In Call', int_x, ', going left on', int_first )\n",
    "    \n",
    "    int_result1 = fibonacci(int_first)\n",
    "    \n",
    "    print( 'Line 21 - In Call', int_x, ', going right on', int_second )\n",
    "    \n",
    "    int_result2 = fibonacci(int_second)\n",
    "    \n",
    "    print( 'Line 25 - In Call', int_x, ', sum is', int_result1 + int_result2 ) \n",
    "    \n",
    "    return int_result1 + int_result2\n"
   ]
  },
  {
   "cell_type": "code",
   "execution_count": null,
   "id": "380aea3c",
   "metadata": {},
   "outputs": [],
   "source": [
    "# And we can see the full trace when we run this function\n",
    "fibonacci(5)"
   ]
  },
  {
   "cell_type": "code",
   "execution_count": null,
   "id": "a41aeead",
   "metadata": {},
   "outputs": [],
   "source": [
    "# Recall - Recursion Example\n",
    "def fibonacci_no_print(int_x):\n",
    "    # In-Class Code Goes Here\n",
    "    \n",
    "    # Base Case\n",
    "    if int_x <= 1:\n",
    "        return 1\n",
    "    \n",
    "    # Recursive case\n",
    "        \n",
    "    return fibonacci_no_print(int_x-1) + fibonacci_no_print(int_x-2)"
   ]
  },
  {
   "cell_type": "code",
   "execution_count": null,
   "id": "82eaf4bb",
   "metadata": {},
   "outputs": [],
   "source": [
    "for i in range(0,10):\n",
    "    print(fibonacci_no_print(i))"
   ]
  },
  {
   "cell_type": "code",
   "execution_count": null,
   "id": "dc79a68b",
   "metadata": {},
   "outputs": [],
   "source": [
    "# Output has been cleared\n",
    "# Running 34th Fibonacci will process\n",
    "%timeit fibonacci_no_print(34)"
   ]
  },
  {
   "cell_type": "code",
   "execution_count": null,
   "id": "fb6a02cf",
   "metadata": {},
   "outputs": [],
   "source": [
    "# Using dictionaries to improve recursive run time\n",
    "def fibonacci_memo( fib_dict, n ):\n",
    "    \n",
    "    # If it is already in the dictionary\n",
    "    \n",
    "    # Else if n <= 1\n",
    "    \n",
    "    # Else"
   ]
  },
  {
   "cell_type": "code",
   "execution_count": null,
   "id": "fc85cfeb",
   "metadata": {},
   "outputs": [],
   "source": [
    "# Create a dictionary and run the fibonacci_memo code\n",
    "fib_dict = {}\n",
    "\n",
    "for n in range(0, 10):\n",
    "    print( fibonacci_memo(fib_dict, n) )"
   ]
  },
  {
   "cell_type": "code",
   "execution_count": null,
   "id": "46a49691",
   "metadata": {},
   "outputs": [],
   "source": [
    "fibonacci_memo(fib_dict, 100)"
   ]
  },
  {
   "cell_type": "markdown",
   "id": "945954c8",
   "metadata": {},
   "source": [
    "You can check the value of the 100th Fibonacci number <a href = \"https://www.google.com/search?q=100th+fibonacci+number&rlz=1C1JZAP_enUS828US828&oq=100th+Fibo&aqs=chrome.0.0i512j69i57j0i512j0i22i30j0i390l2.2678j0j4&sourceid=chrome&ie=UTF-8\">by searching on Google here</a>"
   ]
  },
  {
   "cell_type": "code",
   "execution_count": null,
   "id": "4048dbed",
   "metadata": {},
   "outputs": [],
   "source": [
    "# Compared o 3.41 s ± 300 ms for the regular Fibonacci sequence for just 34!\n",
    "%timeit fibonacci_memo(fib_dict, 100)"
   ]
  },
  {
   "cell_type": "markdown",
   "id": "cd112e13",
   "metadata": {},
   "source": [
    "## Additional Recursion Practice\n",
    "\n",
    "Now, we will practice additional recursion problems that will be similar to the Exam."
   ]
  },
  {
   "cell_type": "code",
   "execution_count": null,
   "id": "d22120a9",
   "metadata": {},
   "outputs": [],
   "source": [
    "def prob_3( int_val ):\n",
    "    \n",
    "    if int_val <= 1:\n",
    "        return 2\n",
    "    \n",
    "    if int_val % 2 == 1:\n",
    "        return int_val + prob_3( int_val - 2 )\n",
    "    \n",
    "    else:\n",
    "        return int_val + prob_3( int_val - 1 )\n",
    "    \n",
    "prob_3( 8 )"
   ]
  },
  {
   "cell_type": "code",
   "execution_count": null,
   "id": "e0c33c48",
   "metadata": {},
   "outputs": [],
   "source": [
    "def prob_4( x ):\n",
    "    \n",
    "    if x <= 3:\n",
    "        return 2\n",
    "    \n",
    "    return prob_4( x - 2 ) + prob_4( x - 3 )\n",
    "\n",
    "prob_4(6)"
   ]
  },
  {
   "cell_type": "code",
   "execution_count": null,
   "id": "e9e96f78",
   "metadata": {},
   "outputs": [],
   "source": [
    "def foo(x):\n",
    "    \n",
    "    if x <= 0:\n",
    "        return 5\n",
    "    \n",
    "    if x % 2 == 0:\n",
    "        return x + bar(x-1)\n",
    "    \n",
    "    elif x % 2 == 1:\n",
    "        return x + foo(x-3)\n",
    "    \n",
    "\n",
    "def bar(x):\n",
    "    \n",
    "    if x <= 2:\n",
    "        return 4\n",
    "    \n",
    "    if x % 2 == 0:\n",
    "        return x + foo(x-3)\n",
    "    \n",
    "    elif x % 2 == 1:\n",
    "        return x + bar(x-1)\n",
    "    \n",
    "\n",
    "foo(12)"
   ]
  },
  {
   "cell_type": "markdown",
   "id": "82e0788d",
   "metadata": {},
   "source": [
    "## Time Remaining: Image Processing\n",
    "\n",
    "For the remainder of lecture, we will learn techniques for manipulating images. This will include:\n",
    "\n",
    "<ol>\n",
    "    <li>Creating an image</li>\n",
    "    <li>Modify RGB values</li>\n",
    "</ol>"
   ]
  },
  {
   "cell_type": "code",
   "execution_count": null,
   "id": "514625d9",
   "metadata": {},
   "outputs": [],
   "source": [
    "# Import the Python image \n",
    "from PIL import Image"
   ]
  },
  {
   "cell_type": "code",
   "execution_count": null,
   "id": "9ff19cd6",
   "metadata": {},
   "outputs": [],
   "source": [
    "# Image that is 240x160 pixels with black background"
   ]
  },
  {
   "cell_type": "code",
   "execution_count": null,
   "id": "074f4cd2",
   "metadata": {},
   "outputs": [],
   "source": [
    "# Now we can display the image"
   ]
  },
  {
   "cell_type": "code",
   "execution_count": null,
   "id": "f8be17fd",
   "metadata": {},
   "outputs": [],
   "source": [
    "# Update the image with Notre Dame Blue"
   ]
  },
  {
   "cell_type": "markdown",
   "id": "4dd6368e",
   "metadata": {},
   "source": [
    "### In-Class Coding Opportunity\n",
    "\n",
    "Write a function called print_box( red, green, blue ) and importing interact which reads in values for red, green, and blue and shows the 240,160 box. Be sure to use the ranges of 0,255 for each color"
   ]
  },
  {
   "cell_type": "code",
   "execution_count": null,
   "id": "703e8c0f",
   "metadata": {},
   "outputs": [],
   "source": [
    "# Use the interact to change colors"
   ]
  },
  {
   "cell_type": "code",
   "execution_count": null,
   "id": "06f42b47",
   "metadata": {},
   "outputs": [],
   "source": [
    "def print_box( red, green, blue ):\n",
    "    # In Class Code Here"
   ]
  },
  {
   "cell_type": "code",
   "execution_count": null,
   "id": "2e0f3868",
   "metadata": {},
   "outputs": [],
   "source": [
    "# Interact to change color"
   ]
  },
  {
   "cell_type": "markdown",
   "id": "96ee32cc",
   "metadata": {},
   "source": [
    "### Processing an Image\n",
    "\n",
    "Here, we will combine concepts of looping and % to print every other pixel as a ND_BLUE or ND_GOLD"
   ]
  },
  {
   "cell_type": "code",
   "execution_count": null,
   "id": "c177ec12",
   "metadata": {},
   "outputs": [],
   "source": [
    "# Define the colors\n",
    "ND_BLUE = (12, 35, 64)\n",
    "ND_GOLD = (211, 159, 16)\n",
    "width = 240\n",
    "height = 160\n",
    "\n",
    "#Define the initial image and get the \n",
    "\n",
    "\n",
    "\n",
    "# Finally, display the image\n",
    "display(image)"
   ]
  },
  {
   "cell_type": "markdown",
   "id": "b326f8ce",
   "metadata": {},
   "source": [
    "### Combining Concepts\n",
    "\n",
    "Write a program that generates an image of random colors of size 480 and 460"
   ]
  },
  {
   "cell_type": "code",
   "execution_count": null,
   "id": "88f022dd",
   "metadata": {},
   "outputs": [],
   "source": [
    "import random\n",
    "\n",
    "\n",
    "\n",
    "# Finally, display the image\n",
    "display(image)"
   ]
  },
  {
   "cell_type": "markdown",
   "id": "a255aee0",
   "metadata": {},
   "source": [
    "### In-Class Coding Opportunity\n",
    "\n",
    "Create a tricolor flag"
   ]
  },
  {
   "cell_type": "code",
   "execution_count": null,
   "id": "60b9902e",
   "metadata": {},
   "outputs": [],
   "source": [
    "GREEN  = (22, 155, 98)\n",
    "WHITE  = (255, 255, 255)\n",
    "ORANGE = (255, 136, 62)\n",
    "\n",
    "# In-Class Code goes here\n",
    "\n",
    "\n",
    "# Finally, display the image\n",
    "display(image)"
   ]
  },
  {
   "cell_type": "code",
   "execution_count": null,
   "id": "947a6086",
   "metadata": {},
   "outputs": [],
   "source": [
    "import requests\n",
    "from io import BytesIO"
   ]
  },
  {
   "cell_type": "code",
   "execution_count": null,
   "id": "7c4fdfac",
   "metadata": {},
   "outputs": [],
   "source": [
    "# Get and Display an image\n",
    "data  = requests.get('https://news.nd.edu/assets/154968/300x/john_jenkins_web.jpg')\n",
    "image = Image.open(BytesIO(data.content))\n",
    "\n",
    "# Finally, display the image\n",
    "display(image)"
   ]
  },
  {
   "cell_type": "code",
   "execution_count": null,
   "id": "87e0d59a",
   "metadata": {},
   "outputs": [],
   "source": [
    "# Flip the color to Black and White Image"
   ]
  },
  {
   "cell_type": "code",
   "execution_count": null,
   "id": "e78a0e03",
   "metadata": {},
   "outputs": [],
   "source": [
    "image = Image.open(BytesIO(data.content))\n",
    "colors = [(12, 35, 64), (211, 159, 16)] \n",
    "width, height = image.size\n",
    "\n",
    "# Adds noise\n",
    "\n",
    "\n",
    "# Brighten image\n",
    "\n",
    "\n",
    "from PIL import ImageFilter\n",
    "\n",
    "# Then we will sharp and enhance edges\n",
    "\n",
    "        \n",
    "display(image)"
   ]
  },
  {
   "cell_type": "code",
   "execution_count": null,
   "id": "cca3eca5",
   "metadata": {},
   "outputs": [],
   "source": [
    "color1 = (12, 35, 64)\n",
    "color2 = (211, 159, 16)\n",
    "width  = 480\n",
    "height = 320\n",
    "\n",
    "# In-Class Code Goes Here\n",
    "        \n",
    "display(image)"
   ]
  },
  {
   "cell_type": "code",
   "execution_count": null,
   "id": "30f75762",
   "metadata": {},
   "outputs": [],
   "source": []
  }
 ],
 "metadata": {
  "kernelspec": {
   "display_name": "Python 3 (ipykernel)",
   "language": "python",
   "name": "python3"
  },
  "language_info": {
   "codemirror_mode": {
    "name": "ipython",
    "version": 3
   },
   "file_extension": ".py",
   "mimetype": "text/x-python",
   "name": "python",
   "nbconvert_exporter": "python",
   "pygments_lexer": "ipython3",
   "version": "3.9.13"
  }
 },
 "nbformat": 4,
 "nbformat_minor": 5
}
