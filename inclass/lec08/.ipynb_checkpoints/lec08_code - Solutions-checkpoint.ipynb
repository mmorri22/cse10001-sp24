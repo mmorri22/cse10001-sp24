{
 "cells": [
  {
   "cell_type": "markdown",
   "id": "dc9a5b60",
   "metadata": {},
   "source": [
    "### This is the Notebook for Lecture 08\n",
    "\n",
    "In this section, you will learn\n",
    "<ol>\n",
    "    <li>The process of implementing an <b>Algorithm</b>\n",
    "    <li>Implementing an algorithm called <b>Selection Sort</b>\n",
    "    <li>Implementing an algorithm called <b>Merge Sort Sort</b>\n",
    "    <li>Use the %timeit to compare the run times of those algorithms\n",
    "</ol>"
   ]
  },
  {
   "cell_type": "code",
   "execution_count": 1,
   "id": "2a563fc3",
   "metadata": {},
   "outputs": [],
   "source": [
    "# Binary Search Algorithm\n",
    "# Function num_array, target\n",
    "def binary_search( num_array, target ):\n",
    "    \n",
    "    start = 0\n",
    "    end = len(num_array) - 1\n",
    "    \n",
    "    while start <= end:\n",
    "        \n",
    "        midpoint = (start + end ) // 2\n",
    "        middle = num_array[midpoint]\n",
    "        \n",
    "        print( f'num_array[{midpoint}] = {middle}')\n",
    "        \n",
    "        if middle == target:\n",
    "            return True\n",
    "        \n",
    "        if middle < target:\n",
    "            start = midpoint + 1\n",
    "            \n",
    "        else:\n",
    "            end = midpoint - 1\n",
    "            \n",
    "    return False   # For if the number is not in the array"
   ]
  },
  {
   "cell_type": "code",
   "execution_count": 2,
   "id": "c2c9126b",
   "metadata": {},
   "outputs": [
    {
     "name": "stdout",
     "output_type": "stream",
     "text": [
      "num_array[3] = 28\n",
      "num_array[1] = 14\n"
     ]
    },
    {
     "data": {
      "text/plain": [
       "True"
      ]
     },
     "execution_count": 2,
     "metadata": {},
     "output_type": "execute_result"
    }
   ],
   "source": [
    "num_array = [3, 14, 22, 28, 34, 42, 47]\n",
    "\n",
    "# Search for 14\n",
    "binary_search( num_array, 14 )"
   ]
  },
  {
   "cell_type": "code",
   "execution_count": 3,
   "id": "d7761326",
   "metadata": {},
   "outputs": [
    {
     "name": "stdout",
     "output_type": "stream",
     "text": [
      "num_array[3] = 28\n",
      "num_array[5] = 42\n",
      "num_array[4] = 34\n"
     ]
    },
    {
     "data": {
      "text/plain": [
       "True"
      ]
     },
     "execution_count": 3,
     "metadata": {},
     "output_type": "execute_result"
    }
   ],
   "source": [
    "# Search for 34\n",
    "binary_search( num_array, 34 )"
   ]
  },
  {
   "cell_type": "code",
   "execution_count": 4,
   "id": "191481ae",
   "metadata": {
    "scrolled": true
   },
   "outputs": [
    {
     "name": "stdout",
     "output_type": "stream",
     "text": [
      "num_array[3] = 28\n",
      "num_array[1] = 14\n",
      "num_array[0] = 3\n"
     ]
    },
    {
     "data": {
      "text/plain": [
       "False"
      ]
     },
     "execution_count": 4,
     "metadata": {},
     "output_type": "execute_result"
    }
   ],
   "source": [
    "# Search for 2\n",
    "binary_search( num_array, 2 )"
   ]
  },
  {
   "cell_type": "markdown",
   "id": "7281a4f5",
   "metadata": {},
   "source": [
    "### In-Class Coding Opportunity\n",
    "\n",
    "We will code a Selection Sort Algorithm\n",
    "\n",
    "<ol>\n",
    "    <li>Search for the smallest element in the unsorted portion of the list</li>\n",
    "    <li>Swap the smallest element with the first element in the unsorted portion of the list</li>\n",
    "    <li>Repeat process on remaining unsorted portion of the list</li>\n",
    "</ol>"
   ]
  },
  {
   "cell_type": "code",
   "execution_count": 5,
   "id": "c89c01bb",
   "metadata": {},
   "outputs": [],
   "source": [
    "# Selection Sort\n",
    "def selection_sort( array_to_sort):\n",
    "    \n",
    "    for first in range(0, len(array_to_sort) ):\n",
    "        smallest = first\n",
    "        \n",
    "        for current in range (first, len(array_to_sort) ):\n",
    "            \n",
    "            if array_to_sort[current] < array_to_sort[smallest]:\n",
    "                smallest = current\n",
    "                \n",
    "        temp = array_to_sort[ first ]\n",
    "        array_to_sort[ first ] = array_to_sort[ smallest ]\n",
    "        array_to_sort[ smallest ] = temp"
   ]
  },
  {
   "cell_type": "code",
   "execution_count": 6,
   "id": "cdaade28",
   "metadata": {},
   "outputs": [
    {
     "name": "stdout",
     "output_type": "stream",
     "text": [
      "[0, 1, 2, 3, 5, 7, 10, 11]\n"
     ]
    }
   ],
   "source": [
    "int_array = [10, 7, 5, 3, 0, 2, 1, 11]\n",
    "selection_sort( int_array )\n",
    "print( int_array )"
   ]
  },
  {
   "cell_type": "markdown",
   "id": "769f3f09",
   "metadata": {},
   "source": [
    "#### Merge Sort"
   ]
  },
  {
   "cell_type": "code",
   "execution_count": 7,
   "id": "f5294bfe",
   "metadata": {},
   "outputs": [],
   "source": [
    "# Merging Algorithm\n",
    "def merge(left, right):\n",
    "    merged = []\n",
    "    \n",
    "    while left or right:\n",
    "        if not left:  # If the left array \n",
    "            merged.append(right.pop(0))\n",
    "        elif not right:\n",
    "            merged.append(left.pop(0))\n",
    "        elif left[0] <= right[0]:\n",
    "            merged.append(left.pop(0))\n",
    "        else:\n",
    "            merged.append(right.pop(0))\n",
    "    \n",
    "    return merged"
   ]
  },
  {
   "cell_type": "code",
   "execution_count": 8,
   "id": "b43dffc7",
   "metadata": {},
   "outputs": [],
   "source": [
    "def merge_sort(numbers):\n",
    "    # Base case\n",
    "    if len(numbers) <= 1:\n",
    "        return numbers\n",
    "    \n",
    "    # Divide\n",
    "    middle = len(numbers) // 2\n",
    "    left   = numbers[:middle]\n",
    "    right  = numbers[middle:]\n",
    "    \n",
    "    # Print the divide\n",
    "    print( 'Divide in merge_sort: Middle = ' + f'{middle}' + ', left = ' + f'{left}' + ', right = ' + f'{right}')\n",
    "    \n",
    "    # Conquer\n",
    "    left   = merge_sort(left)\n",
    "    right  = merge_sort(right)\n",
    "    \n",
    "    print( 'Conquer in merge_sort: left = ' + f'{left}' + ', right = ' + f'{right}')\n",
    "    \n",
    "    # Combine\n",
    "    return merge(left, right)"
   ]
  },
  {
   "cell_type": "code",
   "execution_count": 9,
   "id": "d06d7908",
   "metadata": {
    "scrolled": true
   },
   "outputs": [
    {
     "name": "stdout",
     "output_type": "stream",
     "text": [
      "Divide in merge_sort: Middle = 4, left = [10, 7, 5, 3], right = [0, 2, 1, 11]\n",
      "Divide in merge_sort: Middle = 2, left = [10, 7], right = [5, 3]\n",
      "Divide in merge_sort: Middle = 1, left = [10], right = [7]\n",
      "Conquer in merge_sort: left = [10], right = [7]\n",
      "Divide in merge_sort: Middle = 1, left = [5], right = [3]\n",
      "Conquer in merge_sort: left = [5], right = [3]\n",
      "Conquer in merge_sort: left = [7, 10], right = [3, 5]\n",
      "Divide in merge_sort: Middle = 2, left = [0, 2], right = [1, 11]\n",
      "Divide in merge_sort: Middle = 1, left = [0], right = [2]\n",
      "Conquer in merge_sort: left = [0], right = [2]\n",
      "Divide in merge_sort: Middle = 1, left = [1], right = [11]\n",
      "Conquer in merge_sort: left = [1], right = [11]\n",
      "Conquer in merge_sort: left = [0, 2], right = [1, 11]\n",
      "Conquer in merge_sort: left = [3, 5, 7, 10], right = [0, 1, 2, 11]\n",
      "[0, 1, 2, 3, 5, 7, 10, 11]\n"
     ]
    }
   ],
   "source": [
    "int_array = [10, 7, 5, 3, 0, 2, 1, 11]\n",
    "sorted_array = merge_sort( int_array )\n",
    "print( sorted_array )"
   ]
  },
  {
   "cell_type": "markdown",
   "id": "2e1668e0",
   "metadata": {},
   "source": [
    "## Strings\n",
    "\n",
    "In this section you will learn:\n",
    "<ol>\n",
    "    <li>Review of string basics</li>\n",
    "    <li>Advanced string topics</li>\n",
    "</ol>"
   ]
  },
  {
   "cell_type": "code",
   "execution_count": 1,
   "id": "446a38e0",
   "metadata": {},
   "outputs": [],
   "source": [
    "pupfessor_name = 'Eirinn'"
   ]
  },
  {
   "cell_type": "markdown",
   "id": "de39ae43",
   "metadata": {},
   "source": [
    "### Strings: Immutability\n",
    "\n",
    "Strings in Python are immutable, which means that you cannot change the elements of a string once it is set:"
   ]
  },
  {
   "cell_type": "code",
   "execution_count": 31,
   "id": "a486cf27",
   "metadata": {},
   "outputs": [
    {
     "ename": "TypeError",
     "evalue": "'str' object does not support item assignment",
     "output_type": "error",
     "traceback": [
      "\u001b[1;31m---------------------------------------------------------------------------\u001b[0m",
      "\u001b[1;31mTypeError\u001b[0m                                 Traceback (most recent call last)",
      "Input \u001b[1;32mIn [31]\u001b[0m, in \u001b[0;36m<cell line: 2>\u001b[1;34m()\u001b[0m\n\u001b[0;32m      1\u001b[0m \u001b[38;5;66;03m# Deliberate TypeError to show students immutability\u001b[39;00m\n\u001b[1;32m----> 2\u001b[0m pupfessor_name[\u001b[38;5;241m4\u001b[39m] \u001b[38;5;241m=\u001b[39m \u001b[38;5;124m'\u001b[39m\u001b[38;5;124mQ\u001b[39m\u001b[38;5;124m'\u001b[39m\n",
      "\u001b[1;31mTypeError\u001b[0m: 'str' object does not support item assignment"
     ]
    }
   ],
   "source": [
    "# Deliberate TypeError to show students immutability\n",
    "pupfessor_name[4] = 'Q'"
   ]
  },
  {
   "cell_type": "code",
   "execution_count": 33,
   "id": "485b7051",
   "metadata": {},
   "outputs": [
    {
     "name": "stdout",
     "output_type": "stream",
     "text": [
      "Qirinn\n"
     ]
    }
   ],
   "source": [
    "new_pupfessor_name = 'Q' + pupfessor_name[1:]\n",
    "\n",
    "print(new_pupfessor_name)"
   ]
  },
  {
   "cell_type": "code",
   "execution_count": 36,
   "id": "cfc7b052",
   "metadata": {
    "scrolled": true
   },
   "outputs": [
    {
     "data": {
      "text/plain": [
       "['E', 'i', 'i', 'n', 'n', 'r']"
      ]
     },
     "execution_count": 36,
     "metadata": {},
     "output_type": "execute_result"
    }
   ],
   "source": [
    "sorted(pupfessor_name)"
   ]
  },
  {
   "cell_type": "code",
   "execution_count": 35,
   "id": "f4ae9350",
   "metadata": {},
   "outputs": [
    {
     "data": {
      "text/plain": [
       "['Q', 'i', 'i', 'n', 'n', 'r']"
      ]
     },
     "execution_count": 35,
     "metadata": {},
     "output_type": "execute_result"
    }
   ],
   "source": [
    "sorted(new_pupfessor_name)"
   ]
  },
  {
   "cell_type": "code",
   "execution_count": 37,
   "id": "e479913d",
   "metadata": {},
   "outputs": [
    {
     "data": {
      "text/plain": [
       "'r'"
      ]
     },
     "execution_count": 37,
     "metadata": {},
     "output_type": "execute_result"
    }
   ],
   "source": [
    "max(pupfessor_name)"
   ]
  },
  {
   "cell_type": "code",
   "execution_count": 38,
   "id": "f88eb666",
   "metadata": {},
   "outputs": [
    {
     "data": {
      "text/plain": [
       "'E'"
      ]
     },
     "execution_count": 38,
     "metadata": {},
     "output_type": "execute_result"
    }
   ],
   "source": [
    "min(pupfessor_name)"
   ]
  },
  {
   "cell_type": "code",
   "execution_count": 39,
   "id": "2c269ca5",
   "metadata": {
    "scrolled": true
   },
   "outputs": [
    {
     "data": {
      "text/plain": [
       "True"
      ]
     },
     "execution_count": 39,
     "metadata": {},
     "output_type": "execute_result"
    }
   ],
   "source": [
    "'i' in pupfessor_name"
   ]
  },
  {
   "cell_type": "code",
   "execution_count": 40,
   "id": "04436ebb",
   "metadata": {
    "scrolled": true
   },
   "outputs": [
    {
     "data": {
      "text/plain": [
       "False"
      ]
     },
     "execution_count": 40,
     "metadata": {},
     "output_type": "execute_result"
    }
   ],
   "source": [
    "'g' in pupfessor_name"
   ]
  },
  {
   "cell_type": "code",
   "execution_count": 41,
   "id": "388fcca7",
   "metadata": {
    "scrolled": true
   },
   "outputs": [
    {
     "data": {
      "text/plain": [
       "True"
      ]
     },
     "execution_count": 41,
     "metadata": {},
     "output_type": "execute_result"
    }
   ],
   "source": [
    "'a' in 'abcd'"
   ]
  },
  {
   "cell_type": "code",
   "execution_count": 42,
   "id": "0fdb1358",
   "metadata": {},
   "outputs": [
    {
     "data": {
      "text/plain": [
       "False"
      ]
     },
     "execution_count": 42,
     "metadata": {},
     "output_type": "execute_result"
    }
   ],
   "source": [
    "'r' in 'abcd'"
   ]
  },
  {
   "cell_type": "code",
   "execution_count": 43,
   "id": "23ece56c",
   "metadata": {},
   "outputs": [
    {
     "data": {
      "text/plain": [
       "True"
      ]
     },
     "execution_count": 43,
     "metadata": {},
     "output_type": "execute_result"
    }
   ],
   "source": [
    "'rin' in pupfessor_name"
   ]
  },
  {
   "cell_type": "code",
   "execution_count": 45,
   "id": "127b3224",
   "metadata": {},
   "outputs": [
    {
     "data": {
      "text/plain": [
       "False"
      ]
     },
     "execution_count": 45,
     "metadata": {},
     "output_type": "execute_result"
    }
   ],
   "source": [
    "'ran' in pupfessor_name"
   ]
  },
  {
   "cell_type": "code",
   "execution_count": 46,
   "id": "6e739b03",
   "metadata": {},
   "outputs": [
    {
     "data": {
      "text/plain": [
       "False"
      ]
     },
     "execution_count": 46,
     "metadata": {},
     "output_type": "execute_result"
    }
   ],
   "source": [
    "# Of course it's false! Eirinn is a GOOD GIRL!\n",
    "'bad dog' in pupfessor_name"
   ]
  },
  {
   "cell_type": "markdown",
   "id": "f7baee25",
   "metadata": {},
   "source": [
    "### Print ASCII values"
   ]
  },
  {
   "cell_type": "code",
   "execution_count": 62,
   "id": "0b65046c",
   "metadata": {},
   "outputs": [],
   "source": [
    "def print_ascii( string_to_print ):\n",
    "    \n",
    "    for current_letter in string_to_print:\n",
    "        print( f'The ASCII value of { current_letter } is { ord(current_letter) } ')"
   ]
  },
  {
   "cell_type": "code",
   "execution_count": 63,
   "id": "26f329ab",
   "metadata": {},
   "outputs": [
    {
     "name": "stdout",
     "output_type": "stream",
     "text": [
      "The ASCII value of E is 69 \n",
      "The ASCII value of i is 105 \n",
      "The ASCII value of r is 114 \n",
      "The ASCII value of i is 105 \n",
      "The ASCII value of n is 110 \n",
      "The ASCII value of n is 110 \n"
     ]
    }
   ],
   "source": [
    "print_ascii( pupfessor_name )"
   ]
  },
  {
   "cell_type": "code",
   "execution_count": 64,
   "id": "b539abae",
   "metadata": {},
   "outputs": [
    {
     "name": "stdout",
     "output_type": "stream",
     "text": [
      "The ASCII value of N is 78 \n",
      "The ASCII value of o is 111 \n",
      "The ASCII value of t is 116 \n",
      "The ASCII value of r is 114 \n",
      "The ASCII value of e is 101 \n",
      "The ASCII value of   is 32 \n",
      "The ASCII value of D is 68 \n",
      "The ASCII value of a is 97 \n",
      "The ASCII value of m is 109 \n",
      "The ASCII value of e is 101 \n",
      "The ASCII value of   is 32 \n",
      "The ASCII value of F is 70 \n",
      "The ASCII value of i is 105 \n",
      "The ASCII value of g is 103 \n",
      "The ASCII value of h is 104 \n",
      "The ASCII value of t is 116 \n",
      "The ASCII value of i is 105 \n",
      "The ASCII value of n is 110 \n",
      "The ASCII value of g is 103 \n",
      "The ASCII value of   is 32 \n",
      "The ASCII value of I is 73 \n",
      "The ASCII value of r is 114 \n",
      "The ASCII value of i is 105 \n",
      "The ASCII value of s is 115 \n",
      "The ASCII value of h is 104 \n",
      "The ASCII value of ! is 33 \n"
     ]
    }
   ],
   "source": [
    "print_ascii( \"Notre Dame Fighting Irish!\" )"
   ]
  },
  {
   "cell_type": "markdown",
   "id": "379d78d7",
   "metadata": {},
   "source": [
    "### Escape Characters\n",
    "\n",
    "There are some characters which we may wish to print, but do not correspond to a normal alphanumeric or punctuation character. One such example is the newline which forces the proceeding characters to move to the next line. To render a newline you can use the '\\n' escape code:"
   ]
  },
  {
   "cell_type": "code",
   "execution_count": 65,
   "id": "732df8de",
   "metadata": {
    "scrolled": true
   },
   "outputs": [
    {
     "name": "stdout",
     "output_type": "stream",
     "text": [
      "\n",
      "There will be a space before and after this sentence\n",
      "\n"
     ]
    }
   ],
   "source": [
    "print(\"\\nThere will be a space before and after this sentence\\n\")"
   ]
  },
  {
   "cell_type": "code",
   "execution_count": 66,
   "id": "4499b104",
   "metadata": {},
   "outputs": [
    {
     "name": "stdout",
     "output_type": "stream",
     "text": [
      "The ASCII value of \n",
      " is 10 \n",
      "The ASCII value of T is 84 \n",
      "The ASCII value of h is 104 \n",
      "The ASCII value of e is 101 \n",
      "The ASCII value of r is 114 \n",
      "The ASCII value of e is 101 \n",
      "The ASCII value of   is 32 \n",
      "The ASCII value of w is 119 \n",
      "The ASCII value of i is 105 \n",
      "The ASCII value of l is 108 \n",
      "The ASCII value of l is 108 \n",
      "The ASCII value of   is 32 \n",
      "The ASCII value of b is 98 \n",
      "The ASCII value of e is 101 \n",
      "The ASCII value of   is 32 \n",
      "The ASCII value of a is 97 \n",
      "The ASCII value of   is 32 \n",
      "The ASCII value of s is 115 \n",
      "The ASCII value of p is 112 \n",
      "The ASCII value of a is 97 \n",
      "The ASCII value of c is 99 \n",
      "The ASCII value of e is 101 \n",
      "The ASCII value of   is 32 \n",
      "The ASCII value of b is 98 \n",
      "The ASCII value of e is 101 \n",
      "The ASCII value of f is 102 \n",
      "The ASCII value of o is 111 \n",
      "The ASCII value of r is 114 \n",
      "The ASCII value of e is 101 \n",
      "The ASCII value of   is 32 \n",
      "The ASCII value of a is 97 \n",
      "The ASCII value of n is 110 \n",
      "The ASCII value of d is 100 \n",
      "The ASCII value of   is 32 \n",
      "The ASCII value of a is 97 \n",
      "The ASCII value of f is 102 \n",
      "The ASCII value of t is 116 \n",
      "The ASCII value of e is 101 \n",
      "The ASCII value of r is 114 \n",
      "The ASCII value of   is 32 \n",
      "The ASCII value of t is 116 \n",
      "The ASCII value of h is 104 \n",
      "The ASCII value of i is 105 \n",
      "The ASCII value of s is 115 \n",
      "The ASCII value of   is 32 \n",
      "The ASCII value of s is 115 \n",
      "The ASCII value of e is 101 \n",
      "The ASCII value of n is 110 \n",
      "The ASCII value of t is 116 \n",
      "The ASCII value of e is 101 \n",
      "The ASCII value of n is 110 \n",
      "The ASCII value of c is 99 \n",
      "The ASCII value of e is 101 \n",
      "The ASCII value of \n",
      " is 10 \n"
     ]
    }
   ],
   "source": [
    "print_ascii( \"\\nThere will be a space before and after this sentence\\n\" )"
   ]
  },
  {
   "cell_type": "code",
   "execution_count": 67,
   "id": "ee6bfb88",
   "metadata": {
    "scrolled": true
   },
   "outputs": [
    {
     "name": "stdout",
     "output_type": "stream",
     "text": [
      "\tThis sentence will be tabbed over\n"
     ]
    }
   ],
   "source": [
    "print(\"\\tThis sentence will be tabbed over\")"
   ]
  },
  {
   "cell_type": "code",
   "execution_count": 68,
   "id": "747a2057",
   "metadata": {},
   "outputs": [
    {
     "name": "stdout",
     "output_type": "stream",
     "text": [
      "The ASCII value of \t is 9 \n",
      "The ASCII value of T is 84 \n",
      "The ASCII value of h is 104 \n",
      "The ASCII value of i is 105 \n",
      "The ASCII value of s is 115 \n",
      "The ASCII value of   is 32 \n",
      "The ASCII value of s is 115 \n",
      "The ASCII value of e is 101 \n",
      "The ASCII value of n is 110 \n",
      "The ASCII value of t is 116 \n",
      "The ASCII value of e is 101 \n",
      "The ASCII value of n is 110 \n",
      "The ASCII value of c is 99 \n",
      "The ASCII value of e is 101 \n",
      "The ASCII value of   is 32 \n",
      "The ASCII value of w is 119 \n",
      "The ASCII value of i is 105 \n",
      "The ASCII value of l is 108 \n",
      "The ASCII value of l is 108 \n",
      "The ASCII value of   is 32 \n",
      "The ASCII value of b is 98 \n",
      "The ASCII value of e is 101 \n",
      "The ASCII value of   is 32 \n",
      "The ASCII value of t is 116 \n",
      "The ASCII value of a is 97 \n",
      "The ASCII value of b is 98 \n",
      "The ASCII value of b is 98 \n",
      "The ASCII value of e is 101 \n",
      "The ASCII value of d is 100 \n",
      "The ASCII value of   is 32 \n",
      "The ASCII value of o is 111 \n",
      "The ASCII value of v is 118 \n",
      "The ASCII value of e is 101 \n",
      "The ASCII value of r is 114 \n"
     ]
    }
   ],
   "source": [
    "print_ascii( \"\\tThis sentence will be tabbed over\")"
   ]
  },
  {
   "cell_type": "code",
   "execution_count": 74,
   "id": "2cf7ea9b",
   "metadata": {},
   "outputs": [
    {
     "name": "stdout",
     "output_type": "stream",
     "text": [
      "Date\tOpponent\tTime\n",
      "9/3\t@Ohio State\t7:30pm\n",
      "9/10\tMarshall\t2:30pm\n",
      "9/17\tCalifornia\t2:30pm\n",
      "9/24\t@UNC\t\t3:30pm\n"
     ]
    }
   ],
   "source": [
    "# Example of organized spacing\n",
    "print(\"Date\\tOpponent\\tTime\")\n",
    "print(\"9/3\\t@Ohio State\\t7:30pm\")\n",
    "print(\"9/10\\tMarshall\\t2:30pm\")\n",
    "print(\"9/17\\tCalifornia\\t2:30pm\")\n",
    "print(\"9/24\\t@UNC\\t\\t3:30pm\")"
   ]
  },
  {
   "cell_type": "markdown",
   "id": "fd24a3e8",
   "metadata": {},
   "source": [
    "### String Methods (Case)\n",
    "Because certain operations on strings are so common, Python includes a variety of built-in methods that you can apply to a string object"
   ]
  },
  {
   "cell_type": "code",
   "execution_count": 75,
   "id": "ba9e5ac7",
   "metadata": {},
   "outputs": [
    {
     "data": {
      "text/plain": [
       "'Marcus freeman'"
      ]
     },
     "execution_count": 75,
     "metadata": {},
     "output_type": "execute_result"
    }
   ],
   "source": [
    "# Will capitalize the first letter only\n",
    "'marcus freeman'.capitalize()"
   ]
  },
  {
   "cell_type": "code",
   "execution_count": 76,
   "id": "a6b2e9b9",
   "metadata": {},
   "outputs": [
    {
     "data": {
      "text/plain": [
       "'MARCUS FREEMAN'"
      ]
     },
     "execution_count": 76,
     "metadata": {},
     "output_type": "execute_result"
    }
   ],
   "source": [
    "# Converts all to upper case\n",
    "'marcus freeman'.upper()"
   ]
  },
  {
   "cell_type": "code",
   "execution_count": 77,
   "id": "5744f66b",
   "metadata": {},
   "outputs": [
    {
     "data": {
      "text/plain": [
       "'marcus freeman'"
      ]
     },
     "execution_count": 77,
     "metadata": {},
     "output_type": "execute_result"
    }
   ],
   "source": [
    "# Converts all to lower\n",
    "'MARCUS FREEMAN'.lower()"
   ]
  },
  {
   "cell_type": "code",
   "execution_count": 78,
   "id": "e68db0a5",
   "metadata": {},
   "outputs": [
    {
     "data": {
      "text/plain": [
       "'Marcus Freeman'"
      ]
     },
     "execution_count": 78,
     "metadata": {},
     "output_type": "execute_result"
    }
   ],
   "source": [
    "# Puts the first character in each word as a capital\n",
    "'marcus freeman'.title()"
   ]
  },
  {
   "cell_type": "markdown",
   "id": "2308a22b",
   "metadata": {},
   "source": [
    "### String Methods (Search)"
   ]
  },
  {
   "cell_type": "code",
   "execution_count": 79,
   "id": "0cad3f5a",
   "metadata": {},
   "outputs": [
    {
     "data": {
      "text/plain": [
       "True"
      ]
     },
     "execution_count": 79,
     "metadata": {},
     "output_type": "execute_result"
    }
   ],
   "source": [
    "'the boy who blocked his own shot'.startswith('the')"
   ]
  },
  {
   "cell_type": "code",
   "execution_count": 80,
   "id": "6f0f86cf",
   "metadata": {},
   "outputs": [
    {
     "data": {
      "text/plain": [
       "False"
      ]
     },
     "execution_count": 80,
     "metadata": {},
     "output_type": "execute_result"
    }
   ],
   "source": [
    "'the boy who blocked his own shot'.startswith('boy')"
   ]
  },
  {
   "cell_type": "code",
   "execution_count": 81,
   "id": "778139bf",
   "metadata": {},
   "outputs": [
    {
     "data": {
      "text/plain": [
       "True"
      ]
     },
     "execution_count": 81,
     "metadata": {},
     "output_type": "execute_result"
    }
   ],
   "source": [
    "'the boy who blocked his own shot'.endswith('shot')"
   ]
  },
  {
   "cell_type": "code",
   "execution_count": 84,
   "id": "d1b1597b",
   "metadata": {},
   "outputs": [
    {
     "data": {
      "text/plain": [
       "8"
      ]
     },
     "execution_count": 84,
     "metadata": {},
     "output_type": "execute_result"
    }
   ],
   "source": [
    "'the boy who blocked his own shot'.find('who')"
   ]
  },
  {
   "cell_type": "code",
   "execution_count": 85,
   "id": "a6350790",
   "metadata": {
    "scrolled": true
   },
   "outputs": [
    {
     "data": {
      "text/plain": [
       "-1"
      ]
     },
     "execution_count": 85,
     "metadata": {},
     "output_type": "execute_result"
    }
   ],
   "source": [
    "# Will return -1 because who is not found after character 10\n",
    "'the boy who blocked his own shot'.find('who', 10)"
   ]
  },
  {
   "cell_type": "code",
   "execution_count": 87,
   "id": "2fd8025d",
   "metadata": {},
   "outputs": [
    {
     "data": {
      "text/plain": [
       "33"
      ]
     },
     "execution_count": 87,
     "metadata": {},
     "output_type": "execute_result"
    }
   ],
   "source": [
    "# Now we can find the second 'who'\n",
    "'the boy who blocked his own shot who'.find('who', 10)"
   ]
  },
  {
   "cell_type": "code",
   "execution_count": 91,
   "id": "0fdfa2b1",
   "metadata": {},
   "outputs": [
    {
     "data": {
      "text/plain": [
       "8"
      ]
     },
     "execution_count": 91,
     "metadata": {},
     "output_type": "execute_result"
    }
   ],
   "source": [
    "# Finds the index of the first instance of 'who' after character [3]\n",
    "'the boy who blocked his own shot'.index('who', 3)"
   ]
  },
  {
   "cell_type": "code",
   "execution_count": 89,
   "id": "63235939",
   "metadata": {},
   "outputs": [
    {
     "ename": "ValueError",
     "evalue": "substring not found",
     "output_type": "error",
     "traceback": [
      "\u001b[1;31m---------------------------------------------------------------------------\u001b[0m",
      "\u001b[1;31mValueError\u001b[0m                                Traceback (most recent call last)",
      "Input \u001b[1;32mIn [89]\u001b[0m, in \u001b[0;36m<cell line: 2>\u001b[1;34m()\u001b[0m\n\u001b[0;32m      1\u001b[0m \u001b[38;5;66;03m# ValueError if the index we are seeking is not found\u001b[39;00m\n\u001b[1;32m----> 2\u001b[0m \u001b[38;5;124;43m'\u001b[39;49m\u001b[38;5;124;43mthe boy who blocked his own shot\u001b[39;49m\u001b[38;5;124;43m'\u001b[39;49m\u001b[38;5;241;43m.\u001b[39;49m\u001b[43mindex\u001b[49m\u001b[43m(\u001b[49m\u001b[38;5;124;43m'\u001b[39;49m\u001b[38;5;124;43mwho\u001b[39;49m\u001b[38;5;124;43m'\u001b[39;49m\u001b[43m,\u001b[49m\u001b[43m \u001b[49m\u001b[38;5;241;43m10\u001b[39;49m\u001b[43m)\u001b[49m\n",
      "\u001b[1;31mValueError\u001b[0m: substring not found"
     ]
    }
   ],
   "source": [
    "# ValueError if the index we are seeking is not found\n",
    "'the boy who blocked his own shot'.index('who', 10)"
   ]
  },
  {
   "cell_type": "markdown",
   "id": "2a1ccb77",
   "metadata": {},
   "source": [
    "### Strings: Methods (Properties)"
   ]
  },
  {
   "cell_type": "code",
   "execution_count": 92,
   "id": "a9c308b7",
   "metadata": {
    "scrolled": false
   },
   "outputs": [
    {
     "data": {
      "text/plain": [
       "True"
      ]
     },
     "execution_count": 92,
     "metadata": {},
     "output_type": "execute_result"
    }
   ],
   "source": [
    "'abcdef'.isalpha()"
   ]
  },
  {
   "cell_type": "code",
   "execution_count": 93,
   "id": "a1fab99d",
   "metadata": {},
   "outputs": [
    {
     "data": {
      "text/plain": [
       "<function str.isalpha()>"
      ]
     },
     "execution_count": 93,
     "metadata": {},
     "output_type": "execute_result"
    }
   ],
   "source": [
    "# Deliberate error - Must include ()\n",
    "'abcdef'.isalpha"
   ]
  },
  {
   "cell_type": "code",
   "execution_count": 94,
   "id": "fd969734",
   "metadata": {},
   "outputs": [
    {
     "data": {
      "text/plain": [
       "False"
      ]
     },
     "execution_count": 94,
     "metadata": {},
     "output_type": "execute_result"
    }
   ],
   "source": [
    "'abc123f'.isalpha()"
   ]
  },
  {
   "cell_type": "code",
   "execution_count": 95,
   "id": "9c24fd53",
   "metadata": {},
   "outputs": [
    {
     "data": {
      "text/plain": [
       "True"
      ]
     },
     "execution_count": 95,
     "metadata": {},
     "output_type": "execute_result"
    }
   ],
   "source": [
    "# Is Alpha Numberic\n",
    "'abc123f'.isalnum()"
   ]
  },
  {
   "cell_type": "code",
   "execution_count": 96,
   "id": "4f440490",
   "metadata": {},
   "outputs": [
    {
     "data": {
      "text/plain": [
       "True"
      ]
     },
     "execution_count": 96,
     "metadata": {},
     "output_type": "execute_result"
    }
   ],
   "source": [
    "'123456'.isdigit()"
   ]
  },
  {
   "cell_type": "code",
   "execution_count": 97,
   "id": "2286b557",
   "metadata": {
    "scrolled": true
   },
   "outputs": [
    {
     "data": {
      "text/plain": [
       "False"
      ]
     },
     "execution_count": 97,
     "metadata": {},
     "output_type": "execute_result"
    }
   ],
   "source": [
    "'abc123f'.isdigit()"
   ]
  },
  {
   "cell_type": "code",
   "execution_count": 98,
   "id": "7912ee1f",
   "metadata": {},
   "outputs": [
    {
     "data": {
      "text/plain": [
       "False"
      ]
     },
     "execution_count": 98,
     "metadata": {},
     "output_type": "execute_result"
    }
   ],
   "source": [
    "'-123'.isdigit()"
   ]
  },
  {
   "cell_type": "code",
   "execution_count": 99,
   "id": "0cd7dc0b",
   "metadata": {},
   "outputs": [
    {
     "data": {
      "text/plain": [
       "True"
      ]
     },
     "execution_count": 99,
     "metadata": {},
     "output_type": "execute_result"
    }
   ],
   "source": [
    "' '.isspace()"
   ]
  },
  {
   "cell_type": "code",
   "execution_count": 100,
   "id": "54952458",
   "metadata": {},
   "outputs": [
    {
     "data": {
      "text/plain": [
       "False"
      ]
     },
     "execution_count": 100,
     "metadata": {},
     "output_type": "execute_result"
    }
   ],
   "source": [
    "'abc def'.isspace()"
   ]
  },
  {
   "cell_type": "code",
   "execution_count": 103,
   "id": "d2837054",
   "metadata": {},
   "outputs": [
    {
     "data": {
      "text/plain": [
       "True"
      ]
     },
     "execution_count": 103,
     "metadata": {},
     "output_type": "execute_result"
    }
   ],
   "source": [
    "string_example = 'abc def'\n",
    "string_example[3].isspace()"
   ]
  },
  {
   "cell_type": "markdown",
   "id": "1fbcdb24",
   "metadata": {},
   "source": [
    "### Strip Whitespace"
   ]
  },
  {
   "cell_type": "code",
   "execution_count": 104,
   "id": "0d0044b7",
   "metadata": {},
   "outputs": [
    {
     "data": {
      "text/plain": [
       "'something good may come of this'"
      ]
     },
     "execution_count": 104,
     "metadata": {},
     "output_type": "execute_result"
    }
   ],
   "source": [
    "# From left and right\n",
    "' something good may come of this '.strip()"
   ]
  },
  {
   "cell_type": "code",
   "execution_count": 105,
   "id": "cab4813c",
   "metadata": {},
   "outputs": [
    {
     "data": {
      "text/plain": [
       "' something good may come of this'"
      ]
     },
     "execution_count": 105,
     "metadata": {},
     "output_type": "execute_result"
    }
   ],
   "source": [
    "# From right\n",
    "' something good may come of this '.rstrip()"
   ]
  },
  {
   "cell_type": "code",
   "execution_count": 106,
   "id": "8ccd4f47",
   "metadata": {},
   "outputs": [
    {
     "data": {
      "text/plain": [
       "'something good may come of this '"
      ]
     },
     "execution_count": 106,
     "metadata": {},
     "output_type": "execute_result"
    }
   ],
   "source": [
    "# From left\n",
    "' something good may come of this '.lstrip()"
   ]
  },
  {
   "cell_type": "markdown",
   "id": "80c40a13",
   "metadata": {},
   "source": [
    "### Combine and Split Strings"
   ]
  },
  {
   "cell_type": "code",
   "execution_count": 121,
   "id": "29065300",
   "metadata": {},
   "outputs": [
    {
     "data": {
      "text/plain": [
       "'applesorangesbananas'"
      ]
     },
     "execution_count": 121,
     "metadata": {},
     "output_type": "execute_result"
    }
   ],
   "source": [
    "# In between the '' is what can separate the strings, but not after\n",
    "''.join( ['apples', 'oranges', 'bananas'] )"
   ]
  },
  {
   "cell_type": "code",
   "execution_count": 123,
   "id": "5bea9f49",
   "metadata": {
    "scrolled": true
   },
   "outputs": [
    {
     "data": {
      "text/plain": [
       "'apples, oranges, bananas'"
      ]
     },
     "execution_count": 123,
     "metadata": {},
     "output_type": "execute_result"
    }
   ],
   "source": [
    "','.join( ['apples', 'oranges', 'bananas'] )"
   ]
  },
  {
   "cell_type": "code",
   "execution_count": 124,
   "id": "cb039f32",
   "metadata": {},
   "outputs": [
    {
     "data": {
      "text/plain": [
       "'apples, oranges, bananas'"
      ]
     },
     "execution_count": 124,
     "metadata": {},
     "output_type": "execute_result"
    }
   ],
   "source": [
    "', '.join( ['apples', 'oranges', 'bananas'] )"
   ]
  },
  {
   "cell_type": "code",
   "execution_count": 125,
   "id": "cb7e473d",
   "metadata": {
    "scrolled": true
   },
   "outputs": [
    {
     "data": {
      "text/plain": [
       "'apples are a fruit, oranges are a fruit, bananas'"
      ]
     },
     "execution_count": 125,
     "metadata": {},
     "output_type": "execute_result"
    }
   ],
   "source": [
    "' are a fruit, '.join( ['apples', 'oranges', 'bananas'] )"
   ]
  },
  {
   "cell_type": "code",
   "execution_count": 129,
   "id": "584809ee",
   "metadata": {},
   "outputs": [
    {
     "name": "stdout",
     "output_type": "stream",
     "text": [
      "apples are a fruit, oranges are a fruit, bananas are a fruit\n"
     ]
    }
   ],
   "source": [
    "# Sometimes, you can use concatenation (+ on a string) to account for looping\n",
    "\n",
    "updated_string = full_string + ' are a fruit'\n",
    "print( updated_string )"
   ]
  },
  {
   "cell_type": "code",
   "execution_count": 131,
   "id": "8facd8f6",
   "metadata": {},
   "outputs": [
    {
     "data": {
      "text/plain": [
       "['the', 'good,', 'the', 'bad,', 'and', 'the', 'ugly']"
      ]
     },
     "execution_count": 131,
     "metadata": {},
     "output_type": "execute_result"
    }
   ],
   "source": [
    "# The character inside is where we split. Default is a space\n",
    "'the good, the bad, and the ugly'.split()"
   ]
  },
  {
   "cell_type": "code",
   "execution_count": 132,
   "id": "49509d4e",
   "metadata": {},
   "outputs": [
    {
     "data": {
      "text/plain": [
       "['the good', ' the bad', ' and the ugly']"
      ]
     },
     "execution_count": 132,
     "metadata": {},
     "output_type": "execute_result"
    }
   ],
   "source": [
    "'the good, the bad, and the ugly'.split(',')"
   ]
  },
  {
   "cell_type": "code",
   "execution_count": 133,
   "id": "05933cd9",
   "metadata": {},
   "outputs": [
    {
     "data": {
      "text/plain": [
       "['', ' good, ', ' bad, and ', ' ugly']"
      ]
     },
     "execution_count": 133,
     "metadata": {},
     "output_type": "execute_result"
    }
   ],
   "source": [
    "# Example of confusing spacing, so choose your split carefully!\n",
    "'the good, the bad, and the ugly'.split('the')"
   ]
  }
 ],
 "metadata": {
  "kernelspec": {
   "display_name": "Python 3 (ipykernel)",
   "language": "python",
   "name": "python3"
  },
  "language_info": {
   "codemirror_mode": {
    "name": "ipython",
    "version": 3
   },
   "file_extension": ".py",
   "mimetype": "text/x-python",
   "name": "python",
   "nbconvert_exporter": "python",
   "pygments_lexer": "ipython3",
   "version": "3.9.13"
  }
 },
 "nbformat": 4,
 "nbformat_minor": 5
}
