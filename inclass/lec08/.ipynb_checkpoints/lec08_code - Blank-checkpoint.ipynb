{
 "cells": [
  {
   "cell_type": "markdown",
   "id": "dc9a5b60",
   "metadata": {},
   "source": [
    "### This is the Notebook for Lecture 08"
   ]
  },
  {
   "cell_type": "markdown",
   "id": "2ca4c93f",
   "metadata": {},
   "source": [
    "In this section, you will learn\n",
    "<ol>\n",
    "    <li>The process of implementing an <b>Algorithm</b>\n",
    "    <li>Implementing an algorithm called <b>Selection Sort</b>\n",
    "    <li>Implementing an algorithm called <b>Merge Sort Sort</b>\n",
    "    <li>Use the %timeit to compare the run times of those algorithms\n",
    "</ol>"
   ]
  },
  {
   "cell_type": "code",
   "execution_count": null,
   "id": "162ed27f",
   "metadata": {},
   "outputs": [],
   "source": [
    "# Binary Search Algorithm\n",
    "# Function num_array, target\n",
    "def binary_search( num_array, target ):\n",
    "    \n"
   ]
  },
  {
   "cell_type": "code",
   "execution_count": null,
   "id": "d45e497a",
   "metadata": {},
   "outputs": [],
   "source": [
    "num_array = [3, 14, 22, 28, 34, 42, 47]\n",
    "\n",
    "# Search for 14\n",
    "binary_search( num_array, 14 )"
   ]
  },
  {
   "cell_type": "code",
   "execution_count": null,
   "id": "2bcc4240",
   "metadata": {},
   "outputs": [],
   "source": [
    "# Search for 34\n",
    "binary_search( num_array, 34 )"
   ]
  },
  {
   "cell_type": "code",
   "execution_count": null,
   "id": "c210f8a2",
   "metadata": {},
   "outputs": [],
   "source": [
    "# Search for 2\n",
    "binary_search( num_array, 2 )"
   ]
  },
  {
   "cell_type": "markdown",
   "id": "43c3ca1d",
   "metadata": {},
   "source": [
    "### In-Class Coding Opportunity\n",
    "\n",
    "We will code a Selection Sort Algorithm\n",
    "\n",
    "<ol>\n",
    "    <li>Search for the smallest element in the unsorted portion of the list</li>\n",
    "    <li>Swap the smallest element with the first element in the unsorted portion of the list</li>\n",
    "    <li>Repeat process on remaining unsorted portion of the list</li>\n",
    "</ol>"
   ]
  },
  {
   "cell_type": "code",
   "execution_count": null,
   "id": "70289f68",
   "metadata": {},
   "outputs": [],
   "source": [
    "# Selection Sort\n",
    "def selection_sort( array_to_sort):"
   ]
  },
  {
   "cell_type": "code",
   "execution_count": null,
   "id": "0491b478",
   "metadata": {},
   "outputs": [],
   "source": [
    "int_array = [10, 7, 5, 3, 0, 2, 1, 11]\n",
    "selection_sort( int_array )\n",
    "print( int_array )"
   ]
  },
  {
   "cell_type": "code",
   "execution_count": null,
   "id": "7fdb7975",
   "metadata": {},
   "outputs": [],
   "source": [
    "# Merging Algorithm\n",
    "def merge(left, right):"
   ]
  },
  {
   "cell_type": "code",
   "execution_count": null,
   "id": "55a3bfb5",
   "metadata": {},
   "outputs": [],
   "source": [
    "def merge_sort(numbers):"
   ]
  },
  {
   "cell_type": "code",
   "execution_count": null,
   "id": "146df68c",
   "metadata": {},
   "outputs": [],
   "source": [
    "int_array = [10, 7, 5, 3, 0, 2, 1, 11]\n",
    "sorted_array = merge_sort( int_array )\n",
    "print( sorted_array )"
   ]
  },
  {
   "cell_type": "markdown",
   "id": "c1085720",
   "metadata": {},
   "source": [
    "## Strings\n",
    "\n",
    "In this section you will learn:\n",
    "<ol>\n",
    "    <li>Review of string basics</li>\n",
    "    <li>Advanced string topics</li>\n",
    "</ol>"
   ]
  },
  {
   "cell_type": "code",
   "execution_count": null,
   "id": "446a38e0",
   "metadata": {},
   "outputs": [],
   "source": [
    "pupfessor_name = 'Eirinn'"
   ]
  },
  {
   "cell_type": "markdown",
   "id": "de39ae43",
   "metadata": {},
   "source": [
    "### Strings: Immutability\n",
    "\n",
    "Strings in Python are immutable, which means that you cannot change the elements of a string once it is set:"
   ]
  },
  {
   "cell_type": "code",
   "execution_count": null,
   "id": "a486cf27",
   "metadata": {},
   "outputs": [],
   "source": [
    "# Deliberate TypeError to show students immutability"
   ]
  },
  {
   "cell_type": "code",
   "execution_count": null,
   "id": "485b7051",
   "metadata": {},
   "outputs": [],
   "source": []
  },
  {
   "cell_type": "code",
   "execution_count": null,
   "id": "cfc7b052",
   "metadata": {},
   "outputs": [],
   "source": [
    "sorted(pupfessor_name)"
   ]
  },
  {
   "cell_type": "code",
   "execution_count": null,
   "id": "e479913d",
   "metadata": {},
   "outputs": [],
   "source": [
    "sorted(new_pupfessor_name)"
   ]
  },
  {
   "cell_type": "code",
   "execution_count": null,
   "id": "f88eb666",
   "metadata": {},
   "outputs": [],
   "source": [
    "max(pupfessor_name)"
   ]
  },
  {
   "cell_type": "code",
   "execution_count": null,
   "id": "2c269ca5",
   "metadata": {},
   "outputs": [],
   "source": [
    "min(pupfessor_name)"
   ]
  },
  {
   "cell_type": "code",
   "execution_count": null,
   "id": "23ece56c",
   "metadata": {},
   "outputs": [],
   "source": [
    "'i' in pupfessor_name"
   ]
  },
  {
   "cell_type": "code",
   "execution_count": null,
   "id": "14f6d462",
   "metadata": {},
   "outputs": [],
   "source": [
    "'rin' in pupfessor_name"
   ]
  },
  {
   "cell_type": "code",
   "execution_count": null,
   "id": "36ad86a1",
   "metadata": {},
   "outputs": [],
   "source": [
    "'ran' in pupfessor_name"
   ]
  },
  {
   "cell_type": "code",
   "execution_count": null,
   "id": "6e739b03",
   "metadata": {},
   "outputs": [],
   "source": [
    "# Of course it's false! Eirinn is a GOOD GIRL!\n",
    "'bad dog' in pupfessor_name"
   ]
  },
  {
   "cell_type": "markdown",
   "id": "f7baee25",
   "metadata": {},
   "source": [
    "### String Logical Comparisons in Python"
   ]
  },
  {
   "cell_type": "code",
   "execution_count": null,
   "id": "77f20eeb",
   "metadata": {},
   "outputs": [],
   "source": [
    "def print_ascii( string_to_print ):"
   ]
  },
  {
   "cell_type": "code",
   "execution_count": null,
   "id": "8ca50143",
   "metadata": {},
   "outputs": [],
   "source": [
    "print_ascii( pupfessor_name )"
   ]
  },
  {
   "cell_type": "code",
   "execution_count": null,
   "id": "4abd32fd",
   "metadata": {},
   "outputs": [],
   "source": [
    "print_ascii( \"Notre Dame Fighting Irish!\" )"
   ]
  },
  {
   "cell_type": "markdown",
   "id": "379d78d7",
   "metadata": {},
   "source": [
    "### Escape Characters\n",
    "\n",
    "There are some characters which we may wish to print, but do not correspond to a normal alphanumeric or punctuation character. One such example is the newline which forces the proceeding characters to move to the next line. To render a newline you can use the '\\n' escape code:"
   ]
  },
  {
   "cell_type": "code",
   "execution_count": null,
   "id": "732df8de",
   "metadata": {},
   "outputs": [],
   "source": [
    "print(\"\\nThere will be a space before and after this sentence\\n\")"
   ]
  },
  {
   "cell_type": "code",
   "execution_count": null,
   "id": "ee6bfb88",
   "metadata": {},
   "outputs": [],
   "source": [
    "print_ascii(\"\\nThere will be a space before and after this sentence\\n\" )"
   ]
  },
  {
   "cell_type": "code",
   "execution_count": null,
   "id": "85294e39",
   "metadata": {},
   "outputs": [],
   "source": [
    "print(\"\\tThis sentence will be tabbed over\")"
   ]
  },
  {
   "cell_type": "code",
   "execution_count": null,
   "id": "753a0f61",
   "metadata": {},
   "outputs": [],
   "source": [
    "print_ascii(\"\\tThis sentence will be tabbed over\")"
   ]
  },
  {
   "cell_type": "code",
   "execution_count": null,
   "id": "2cf7ea9b",
   "metadata": {},
   "outputs": [],
   "source": [
    "# Example of organized spacing"
   ]
  },
  {
   "cell_type": "markdown",
   "id": "fd24a3e8",
   "metadata": {},
   "source": [
    "### String Methods (Case)\n",
    "Because certain operations on strings are so common, Python includes a variety of built-in methods that you can apply to a string object"
   ]
  },
  {
   "cell_type": "code",
   "execution_count": null,
   "id": "ba9e5ac7",
   "metadata": {},
   "outputs": [],
   "source": [
    "# Will capitalize the first letter only\n"
   ]
  },
  {
   "cell_type": "code",
   "execution_count": null,
   "id": "a6b2e9b9",
   "metadata": {},
   "outputs": [],
   "source": [
    "# Converts all to upper case"
   ]
  },
  {
   "cell_type": "code",
   "execution_count": null,
   "id": "5744f66b",
   "metadata": {},
   "outputs": [],
   "source": [
    "# Converts all to lower"
   ]
  },
  {
   "cell_type": "code",
   "execution_count": null,
   "id": "e68db0a5",
   "metadata": {},
   "outputs": [],
   "source": [
    "# Puts the first character in each word as a capital"
   ]
  },
  {
   "cell_type": "markdown",
   "id": "2308a22b",
   "metadata": {},
   "source": [
    "### String Methods (Search)"
   ]
  },
  {
   "cell_type": "code",
   "execution_count": null,
   "id": "0cad3f5a",
   "metadata": {},
   "outputs": [],
   "source": []
  },
  {
   "cell_type": "code",
   "execution_count": null,
   "id": "778139bf",
   "metadata": {},
   "outputs": [],
   "source": []
  },
  {
   "cell_type": "code",
   "execution_count": null,
   "id": "d1b1597b",
   "metadata": {},
   "outputs": [],
   "source": []
  },
  {
   "cell_type": "code",
   "execution_count": null,
   "id": "a6350790",
   "metadata": {},
   "outputs": [],
   "source": [
    "# Will return -1 because who is not found after character 10"
   ]
  },
  {
   "cell_type": "code",
   "execution_count": null,
   "id": "63235939",
   "metadata": {},
   "outputs": [],
   "source": []
  },
  {
   "cell_type": "code",
   "execution_count": null,
   "id": "0fdfa2b1",
   "metadata": {},
   "outputs": [],
   "source": []
  },
  {
   "cell_type": "markdown",
   "id": "2a1ccb77",
   "metadata": {},
   "source": [
    "### Strings: Methods (Properties)"
   ]
  },
  {
   "cell_type": "code",
   "execution_count": null,
   "id": "a9c308b7",
   "metadata": {
    "scrolled": true
   },
   "outputs": [],
   "source": [
    "'abcdef'.isalpha()"
   ]
  },
  {
   "cell_type": "code",
   "execution_count": null,
   "id": "fd969734",
   "metadata": {},
   "outputs": [],
   "source": [
    "# Deliberate error - Must include ()\n",
    "'abcdef'.isalpha"
   ]
  },
  {
   "cell_type": "code",
   "execution_count": null,
   "id": "9c24fd53",
   "metadata": {},
   "outputs": [],
   "source": [
    "# Is Alpha Numberic\n",
    "'abc123f'.isalnum()"
   ]
  },
  {
   "cell_type": "code",
   "execution_count": null,
   "id": "4f440490",
   "metadata": {},
   "outputs": [],
   "source": [
    "'123456'.isdigit()"
   ]
  },
  {
   "cell_type": "code",
   "execution_count": null,
   "id": "2286b557",
   "metadata": {},
   "outputs": [],
   "source": [
    "'abc123f'.isdigit()"
   ]
  },
  {
   "cell_type": "code",
   "execution_count": null,
   "id": "0cd7dc0b",
   "metadata": {},
   "outputs": [],
   "source": [
    "'-123'.isdigit()"
   ]
  },
  {
   "cell_type": "code",
   "execution_count": null,
   "id": "54952458",
   "metadata": {},
   "outputs": [],
   "source": [
    "' '.isspace()"
   ]
  },
  {
   "cell_type": "code",
   "execution_count": null,
   "id": "d2837054",
   "metadata": {},
   "outputs": [],
   "source": [
    "'abc def'.isspace()"
   ]
  },
  {
   "cell_type": "code",
   "execution_count": null,
   "id": "70fbecb0",
   "metadata": {},
   "outputs": [],
   "source": [
    "string_example = 'abc def'\n",
    "string_example[3].isspace()"
   ]
  },
  {
   "cell_type": "markdown",
   "id": "1fbcdb24",
   "metadata": {},
   "source": [
    "### Strip Whitespace"
   ]
  },
  {
   "cell_type": "code",
   "execution_count": null,
   "id": "0d0044b7",
   "metadata": {},
   "outputs": [],
   "source": [
    "# From left and right\n",
    "' something good may come of this '.strip()"
   ]
  },
  {
   "cell_type": "code",
   "execution_count": null,
   "id": "cab4813c",
   "metadata": {},
   "outputs": [],
   "source": [
    "# From right\n",
    "' something good may come of this '.rstrip()"
   ]
  },
  {
   "cell_type": "code",
   "execution_count": null,
   "id": "8ccd4f47",
   "metadata": {},
   "outputs": [],
   "source": [
    "# From left\n",
    "' something good may come of this '.lstrip()"
   ]
  },
  {
   "cell_type": "markdown",
   "id": "80c40a13",
   "metadata": {},
   "source": [
    "### Combine and Split Strings"
   ]
  },
  {
   "cell_type": "code",
   "execution_count": null,
   "id": "29065300",
   "metadata": {},
   "outputs": [],
   "source": [
    "# In between the '' is what can separate the strings, but not after"
   ]
  },
  {
   "cell_type": "code",
   "execution_count": null,
   "id": "5bea9f49",
   "metadata": {},
   "outputs": [],
   "source": []
  },
  {
   "cell_type": "code",
   "execution_count": null,
   "id": "cb7e473d",
   "metadata": {},
   "outputs": [],
   "source": []
  },
  {
   "cell_type": "code",
   "execution_count": null,
   "id": "55bc5642",
   "metadata": {},
   "outputs": [],
   "source": [
    "# Sometimes, you can use concatenation (+ on a string) to account for looping"
   ]
  },
  {
   "cell_type": "code",
   "execution_count": null,
   "id": "8facd8f6",
   "metadata": {},
   "outputs": [],
   "source": [
    "# The character inside is where we split. Default is a space"
   ]
  },
  {
   "cell_type": "code",
   "execution_count": null,
   "id": "49509d4e",
   "metadata": {},
   "outputs": [],
   "source": []
  },
  {
   "cell_type": "code",
   "execution_count": null,
   "id": "05933cd9",
   "metadata": {},
   "outputs": [],
   "source": []
  }
 ],
 "metadata": {
  "kernelspec": {
   "display_name": "Python 3 (ipykernel)",
   "language": "python",
   "name": "python3"
  },
  "language_info": {
   "codemirror_mode": {
    "name": "ipython",
    "version": 3
   },
   "file_extension": ".py",
   "mimetype": "text/x-python",
   "name": "python",
   "nbconvert_exporter": "python",
   "pygments_lexer": "ipython3",
   "version": "3.9.13"
  }
 },
 "nbformat": 4,
 "nbformat_minor": 5
}
