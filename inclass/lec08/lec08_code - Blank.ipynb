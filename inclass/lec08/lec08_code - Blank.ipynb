{
 "cells": [
  {
   "cell_type": "markdown",
   "id": "dc9a5b60",
   "metadata": {},
   "source": [
    "### This is the Notebook for Lecture 08\n",
    "\n",
    "In this lecture you will learn:\n",
    "<ol>\n",
    "    <li>Review of string basics\n",
    "    <li>Advanced string topics\n",
    "</ol>"
   ]
  },
  {
   "cell_type": "code",
   "execution_count": null,
   "id": "446a38e0",
   "metadata": {},
   "outputs": [],
   "source": [
    "pupfessor_name = 'Eirinn'"
   ]
  },
  {
   "cell_type": "code",
   "execution_count": null,
   "id": "56c55d51",
   "metadata": {},
   "outputs": [],
   "source": []
  },
  {
   "cell_type": "code",
   "execution_count": null,
   "id": "06b4a0fc",
   "metadata": {},
   "outputs": [],
   "source": []
  },
  {
   "cell_type": "code",
   "execution_count": null,
   "id": "2b48c3ca",
   "metadata": {},
   "outputs": [],
   "source": []
  },
  {
   "cell_type": "code",
   "execution_count": null,
   "id": "8f1e61f9",
   "metadata": {},
   "outputs": [],
   "source": []
  },
  {
   "cell_type": "code",
   "execution_count": null,
   "id": "242eee9c",
   "metadata": {},
   "outputs": [],
   "source": []
  },
  {
   "cell_type": "code",
   "execution_count": null,
   "id": "833e6b20",
   "metadata": {},
   "outputs": [],
   "source": []
  },
  {
   "cell_type": "code",
   "execution_count": null,
   "id": "4147f071",
   "metadata": {},
   "outputs": [],
   "source": []
  },
  {
   "cell_type": "markdown",
   "id": "dc8f83f7",
   "metadata": {},
   "source": [
    "#### We can cast certain objects into strings using str:"
   ]
  },
  {
   "cell_type": "code",
   "execution_count": null,
   "id": "52929eaf",
   "metadata": {},
   "outputs": [],
   "source": []
  },
  {
   "cell_type": "code",
   "execution_count": null,
   "id": "628f50f2",
   "metadata": {},
   "outputs": [],
   "source": []
  },
  {
   "cell_type": "code",
   "execution_count": null,
   "id": "5609e74a",
   "metadata": {},
   "outputs": [],
   "source": []
  },
  {
   "cell_type": "code",
   "execution_count": null,
   "id": "01ded5d6",
   "metadata": {},
   "outputs": [],
   "source": []
  },
  {
   "cell_type": "markdown",
   "id": "de39ae43",
   "metadata": {},
   "source": [
    "### Strings: Immutability\n",
    "\n",
    "Strings in Python are immutable, which means that you cannot change the elements of a string once it is set:"
   ]
  },
  {
   "cell_type": "code",
   "execution_count": null,
   "id": "a486cf27",
   "metadata": {},
   "outputs": [],
   "source": [
    "# Deliberate TypeError to show students immutability"
   ]
  },
  {
   "cell_type": "code",
   "execution_count": null,
   "id": "485b7051",
   "metadata": {},
   "outputs": [],
   "source": []
  },
  {
   "cell_type": "code",
   "execution_count": null,
   "id": "cfc7b052",
   "metadata": {},
   "outputs": [],
   "source": []
  },
  {
   "cell_type": "code",
   "execution_count": null,
   "id": "e479913d",
   "metadata": {},
   "outputs": [],
   "source": []
  },
  {
   "cell_type": "code",
   "execution_count": null,
   "id": "f88eb666",
   "metadata": {},
   "outputs": [],
   "source": []
  },
  {
   "cell_type": "code",
   "execution_count": null,
   "id": "2c269ca5",
   "metadata": {},
   "outputs": [],
   "source": []
  },
  {
   "cell_type": "code",
   "execution_count": null,
   "id": "23ece56c",
   "metadata": {},
   "outputs": [],
   "source": []
  },
  {
   "cell_type": "code",
   "execution_count": null,
   "id": "6e739b03",
   "metadata": {},
   "outputs": [],
   "source": [
    "# Of course it's false! Eirinn is a GOOD GIRL!"
   ]
  },
  {
   "cell_type": "markdown",
   "id": "f7baee25",
   "metadata": {},
   "source": [
    "### String Logical Comparisons in Python"
   ]
  },
  {
   "cell_type": "code",
   "execution_count": null,
   "id": "77f20eeb",
   "metadata": {},
   "outputs": [],
   "source": []
  },
  {
   "cell_type": "code",
   "execution_count": null,
   "id": "8ca50143",
   "metadata": {},
   "outputs": [],
   "source": []
  },
  {
   "cell_type": "code",
   "execution_count": null,
   "id": "4abd32fd",
   "metadata": {},
   "outputs": [],
   "source": []
  },
  {
   "cell_type": "code",
   "execution_count": null,
   "id": "aee24825",
   "metadata": {},
   "outputs": [],
   "source": []
  },
  {
   "cell_type": "code",
   "execution_count": null,
   "id": "26f329ab",
   "metadata": {},
   "outputs": [],
   "source": []
  },
  {
   "cell_type": "code",
   "execution_count": null,
   "id": "b539abae",
   "metadata": {},
   "outputs": [],
   "source": []
  },
  {
   "cell_type": "code",
   "execution_count": null,
   "id": "f0c10365",
   "metadata": {},
   "outputs": [],
   "source": []
  },
  {
   "cell_type": "markdown",
   "id": "379d78d7",
   "metadata": {},
   "source": [
    "### Escape Characters\n",
    "\n",
    "There are some characters which we may wish to print, but do not correspond to a normal alphanumeric or punctuation character. One such example is the newline which forces the proceeding characters to move to the next line. To render a newline you can use the '\\n' escape code:"
   ]
  },
  {
   "cell_type": "code",
   "execution_count": null,
   "id": "732df8de",
   "metadata": {},
   "outputs": [],
   "source": []
  },
  {
   "cell_type": "code",
   "execution_count": null,
   "id": "ee6bfb88",
   "metadata": {},
   "outputs": [],
   "source": []
  },
  {
   "cell_type": "code",
   "execution_count": null,
   "id": "2cf7ea9b",
   "metadata": {},
   "outputs": [],
   "source": [
    "# Example of organized spacing"
   ]
  },
  {
   "cell_type": "markdown",
   "id": "fd24a3e8",
   "metadata": {},
   "source": [
    "### String Methods (Case)\n",
    "Because certain operations on strings are so common, Python includes a variety of built-in methods that you can apply to a string object"
   ]
  },
  {
   "cell_type": "code",
   "execution_count": null,
   "id": "ba9e5ac7",
   "metadata": {},
   "outputs": [],
   "source": [
    "# Will capitalize the first letter only\n"
   ]
  },
  {
   "cell_type": "code",
   "execution_count": null,
   "id": "a6b2e9b9",
   "metadata": {},
   "outputs": [],
   "source": [
    "# Converts all to upper case"
   ]
  },
  {
   "cell_type": "code",
   "execution_count": null,
   "id": "5744f66b",
   "metadata": {},
   "outputs": [],
   "source": [
    "# Converts all to lower"
   ]
  },
  {
   "cell_type": "code",
   "execution_count": null,
   "id": "e68db0a5",
   "metadata": {},
   "outputs": [],
   "source": [
    "# Puts the first character in each word as a capital"
   ]
  },
  {
   "cell_type": "markdown",
   "id": "2308a22b",
   "metadata": {},
   "source": [
    "### String Methods (Search)"
   ]
  },
  {
   "cell_type": "code",
   "execution_count": null,
   "id": "0cad3f5a",
   "metadata": {},
   "outputs": [],
   "source": []
  },
  {
   "cell_type": "code",
   "execution_count": null,
   "id": "778139bf",
   "metadata": {},
   "outputs": [],
   "source": []
  },
  {
   "cell_type": "code",
   "execution_count": null,
   "id": "d1b1597b",
   "metadata": {},
   "outputs": [],
   "source": []
  },
  {
   "cell_type": "code",
   "execution_count": null,
   "id": "a6350790",
   "metadata": {},
   "outputs": [],
   "source": [
    "# Will return -1 because who is not found after character 10"
   ]
  },
  {
   "cell_type": "code",
   "execution_count": null,
   "id": "63235939",
   "metadata": {},
   "outputs": [],
   "source": []
  },
  {
   "cell_type": "code",
   "execution_count": null,
   "id": "0fdfa2b1",
   "metadata": {},
   "outputs": [],
   "source": []
  },
  {
   "cell_type": "markdown",
   "id": "2a1ccb77",
   "metadata": {},
   "source": [
    "### Strings: Methods (Properties)"
   ]
  },
  {
   "cell_type": "code",
   "execution_count": null,
   "id": "a9c308b7",
   "metadata": {
    "scrolled": true
   },
   "outputs": [],
   "source": []
  },
  {
   "cell_type": "code",
   "execution_count": null,
   "id": "fd969734",
   "metadata": {},
   "outputs": [],
   "source": []
  },
  {
   "cell_type": "code",
   "execution_count": null,
   "id": "9c24fd53",
   "metadata": {},
   "outputs": [],
   "source": [
    "# Is Alpha Numberic"
   ]
  },
  {
   "cell_type": "code",
   "execution_count": null,
   "id": "4f440490",
   "metadata": {},
   "outputs": [],
   "source": []
  },
  {
   "cell_type": "code",
   "execution_count": null,
   "id": "2286b557",
   "metadata": {},
   "outputs": [],
   "source": []
  },
  {
   "cell_type": "code",
   "execution_count": null,
   "id": "0cd7dc0b",
   "metadata": {},
   "outputs": [],
   "source": []
  },
  {
   "cell_type": "code",
   "execution_count": null,
   "id": "54952458",
   "metadata": {},
   "outputs": [],
   "source": []
  },
  {
   "cell_type": "code",
   "execution_count": null,
   "id": "d2837054",
   "metadata": {},
   "outputs": [],
   "source": []
  },
  {
   "cell_type": "code",
   "execution_count": null,
   "id": "70fbecb0",
   "metadata": {},
   "outputs": [],
   "source": []
  },
  {
   "cell_type": "markdown",
   "id": "1fbcdb24",
   "metadata": {},
   "source": [
    "### Strip Whitespace"
   ]
  },
  {
   "cell_type": "code",
   "execution_count": null,
   "id": "0d0044b7",
   "metadata": {},
   "outputs": [],
   "source": [
    "# From left and right"
   ]
  },
  {
   "cell_type": "code",
   "execution_count": null,
   "id": "cab4813c",
   "metadata": {},
   "outputs": [],
   "source": [
    "# From right"
   ]
  },
  {
   "cell_type": "code",
   "execution_count": null,
   "id": "8ccd4f47",
   "metadata": {},
   "outputs": [],
   "source": [
    "# From left"
   ]
  },
  {
   "cell_type": "markdown",
   "id": "80c40a13",
   "metadata": {},
   "source": [
    "### Combine and Split Strings"
   ]
  },
  {
   "cell_type": "code",
   "execution_count": null,
   "id": "29065300",
   "metadata": {},
   "outputs": [],
   "source": [
    "# In between the '' is what can separate the strings, but not after"
   ]
  },
  {
   "cell_type": "code",
   "execution_count": null,
   "id": "5bea9f49",
   "metadata": {},
   "outputs": [],
   "source": []
  },
  {
   "cell_type": "code",
   "execution_count": null,
   "id": "cb7e473d",
   "metadata": {},
   "outputs": [],
   "source": []
  },
  {
   "cell_type": "code",
   "execution_count": null,
   "id": "8facd8f6",
   "metadata": {},
   "outputs": [],
   "source": [
    "# The character inside is where we split. Default is a space"
   ]
  },
  {
   "cell_type": "code",
   "execution_count": null,
   "id": "49509d4e",
   "metadata": {},
   "outputs": [],
   "source": []
  },
  {
   "cell_type": "code",
   "execution_count": null,
   "id": "05933cd9",
   "metadata": {},
   "outputs": [],
   "source": []
  }
 ],
 "metadata": {
  "kernelspec": {
   "display_name": "Python 3 (ipykernel)",
   "language": "python",
   "name": "python3"
  },
  "language_info": {
   "codemirror_mode": {
    "name": "ipython",
    "version": 3
   },
   "file_extension": ".py",
   "mimetype": "text/x-python",
   "name": "python",
   "nbconvert_exporter": "python",
   "pygments_lexer": "ipython3",
   "version": "3.9.12"
  }
 },
 "nbformat": 4,
 "nbformat_minor": 5
}
