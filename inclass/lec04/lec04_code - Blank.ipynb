{
 "cells": [
  {
   "cell_type": "markdown",
   "id": "b5069922",
   "metadata": {},
   "source": [
    "### This is the preview Notebook for Lecture 04\n",
    "\n",
    "In this lecture, we will learn about:\n",
    "<ol>\n",
    "    <li>Importing libraries and reviewing conditional execution</li>\n",
    "    <li>Try/Except</li>\n",
    "    <li>HTML and interact</li>\n",
    "</ol>\n",
    "    "
   ]
  },
  {
   "cell_type": "code",
   "execution_count": null,
   "id": "c6d5d5ee",
   "metadata": {},
   "outputs": [],
   "source": [
    "# Import the random library\n",
    "import random"
   ]
  },
  {
   "cell_type": "code",
   "execution_count": null,
   "id": "25fb5969",
   "metadata": {
    "scrolled": true
   },
   "outputs": [],
   "source": [
    "# We will learn how to call the random function, then use conditionals!\n",
    "\n",
    "# Call the random number\n",
    "\n",
    "# Use if, elif, else to save to a string if it is positive, negative, or zero\n",
    "    \n",
    "# We will learn a new print format here!"
   ]
  },
  {
   "cell_type": "code",
   "execution_count": null,
   "id": "0aba98c4",
   "metadata": {},
   "outputs": [],
   "source": [
    "# A while loop without a break statement\n",
    "name = input('Please type your name: ')\n",
    "\n",
    "while name != 'Matt Morrison':\n",
    "\n",
    "    print('Nah... you are not as cool as ' + name)\n",
    "    \n",
    "    # But note how I have to call input again. Same line of code twice!\n",
    "    name = input('Please type your name: ')\n",
    "        \n",
    "print('Thank you!')"
   ]
  },
  {
   "cell_type": "code",
   "execution_count": null,
   "id": "02c438c3",
   "metadata": {},
   "outputs": [],
   "source": [
    "# Same code, but practicing break statements!"
   ]
  },
  {
   "cell_type": "markdown",
   "id": "8d65f317",
   "metadata": {},
   "source": [
    "#### Combining Concepts\n",
    "In this exercise we will review and introduce:\n",
    "<ol>\n",
    "    <li>Importing libraries (this time, to generate random numbers</li>\n",
    "    <li>While loops</li>\n",
    "    <li>Conditional statements</li>\n",
    "    <li>Functions</li>\n",
    "</ol>\n",
    "<p></p>\n",
    "In this exercise, working with a classmate, you will <b>import a library</b> which will generate a random integer <b>between 0 and 10</b>, and the user will guess <i>until they get it correct</i>. If they get the guess wrong, ou should print a hint that the user was either <b>below or above</b> the random number. You will then print the correct guess <i>and</i> the total number of guesses the user required. The user should be able to play this game repeatedly.\n",
    "<p></p>\n",
    "<b>Hints:</b>\n",
    "<ol>\n",
    "    <li>You can reduce the number of lines of code and improve readability using a break</li>\n",
    "    <li>Be sure to use clear variable names for readibility!</li>\n",
    "    <li>Conditional statements</li>\n",
    "    <li>Functions</li>\n",
    "</ol>"
   ]
  },
  {
   "cell_type": "code",
   "execution_count": null,
   "id": "7d3f4cea",
   "metadata": {},
   "outputs": [],
   "source": [
    "# Next, write a function that calls the library, and then generates a random number"
   ]
  },
  {
   "cell_type": "code",
   "execution_count": null,
   "id": "1cbb08c0",
   "metadata": {
    "scrolled": true
   },
   "outputs": [],
   "source": [
    "# Call your function to test the result"
   ]
  },
  {
   "cell_type": "markdown",
   "id": "556646f2",
   "metadata": {},
   "source": [
    "### Next, we will learn about try/except\n",
    "<p></p>\n",
    "We will first learn about this using <b>ZeroDivisionError</b>"
   ]
  },
  {
   "cell_type": "code",
   "execution_count": null,
   "id": "1edd86e4",
   "metadata": {},
   "outputs": [],
   "source": [
    "# Practice Exceptions"
   ]
  },
  {
   "cell_type": "code",
   "execution_count": null,
   "id": "f4d38c4e",
   "metadata": {},
   "outputs": [],
   "source": [
    "# An example of AND using &\n",
    "# Compares the binary in each column\n",
    "# Only true if BOTH are 1"
   ]
  },
  {
   "cell_type": "code",
   "execution_count": null,
   "id": "4b428195",
   "metadata": {},
   "outputs": [],
   "source": [
    "# An example of OR using |\n",
    "# Compares the binary in each column\n",
    "# True if EITHER are 1"
   ]
  },
  {
   "cell_type": "code",
   "execution_count": null,
   "id": "023d0bee",
   "metadata": {},
   "outputs": [],
   "source": [
    "# Importing HTML\n",
    "from IPython.core.display import HTML"
   ]
  },
  {
   "cell_type": "code",
   "execution_count": null,
   "id": "3d1d1ec8",
   "metadata": {},
   "outputs": [],
   "source": [
    "# Importing interact\n",
    "from __future__ import print_function\n",
    "from ipywidgets import interact, interactive, fixed, interact_manual\n",
    "import ipywidgets as widgets"
   ]
  },
  {
   "cell_type": "code",
   "execution_count": null,
   "id": "3a1179fc",
   "metadata": {},
   "outputs": [],
   "source": [
    "    # Tabbed to be inside to function\n",
    "    TABLE = \"\"\"\n",
    "    <h5>Converting four input numbers from int to hex, binary, and char:</h5>\n",
    "    <div style=\"background: #{};\">&nbsp;</div>\n",
    "    <table>\n",
    "        <thead>\n",
    "            <th>Decimal</th>\n",
    "            <th>Hexadecimal</th>\n",
    "            <th>Binary</th>\n",
    "            <th>Char</th>\n",
    "        </thead>\n",
    "        <tbody>\n",
    "            <tr>\n",
    "                <td>{}</td>\n",
    "                <td>{}</td>\n",
    "                <td>{}</td>\n",
    "                <td>{}</td>\n",
    "            </tr>\n",
    "            <tr>\n",
    "                <td>{}</td>\n",
    "                <td>{}</td>\n",
    "                <td>{}</td>\n",
    "                <td>{}</td>\n",
    "            </tr>\n",
    "            <tr>\n",
    "                <td>{}</td>\n",
    "                <td>{}</td>\n",
    "                <td>{}</td>\n",
    "                <td>{}</td>\n",
    "            </tr>\n",
    "            <tr>\n",
    "                <td>{}</td>\n",
    "                <td>{}</td>\n",
    "                <td>{}</td>\n",
    "                <td>{}</td>\n",
    "            </tr>\n",
    "        </tbody>\n",
    "    </table>\n",
    "    \"\"\""
   ]
  },
  {
   "cell_type": "code",
   "execution_count": null,
   "id": "f64386ca",
   "metadata": {},
   "outputs": [],
   "source": [
    "# Here, we will test print table with four numbers"
   ]
  },
  {
   "cell_type": "code",
   "execution_count": null,
   "id": "b8dc5b4e",
   "metadata": {},
   "outputs": [],
   "source": [
    "# Now, we will test interact"
   ]
  },
  {
   "cell_type": "code",
   "execution_count": null,
   "id": "0b6e1fc5",
   "metadata": {},
   "outputs": [],
   "source": [
    "# Mapping Dorms to Quads"
   ]
  },
  {
   "cell_type": "code",
   "execution_count": null,
   "id": "24b8c75c",
   "metadata": {},
   "outputs": [],
   "source": [
    "# Python's inputs are not case sensitive\n",
    "# We can put in all lower-case and this will work\n",
    "# This is not the case with most programming languages"
   ]
  },
  {
   "cell_type": "code",
   "execution_count": null,
   "id": "8f7114bd",
   "metadata": {},
   "outputs": [],
   "source": [
    "# We can do uppercase first letter"
   ]
  },
  {
   "cell_type": "code",
   "execution_count": null,
   "id": "00619562",
   "metadata": {},
   "outputs": [],
   "source": [
    "# We can do random letters"
   ]
  }
 ],
 "metadata": {
  "kernelspec": {
   "display_name": "Python 3 (ipykernel)",
   "language": "python",
   "name": "python3"
  },
  "language_info": {
   "codemirror_mode": {
    "name": "ipython",
    "version": 3
   },
   "file_extension": ".py",
   "mimetype": "text/x-python",
   "name": "python",
   "nbconvert_exporter": "python",
   "pygments_lexer": "ipython3",
   "version": "3.9.12"
  }
 },
 "nbformat": 4,
 "nbformat_minor": 5
}
