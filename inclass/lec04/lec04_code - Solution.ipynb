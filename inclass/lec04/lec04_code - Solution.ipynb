{
 "cells": [
  {
   "cell_type": "markdown",
   "id": "b5069922",
   "metadata": {},
   "source": [
    "### This is the preview Notebook for Lecture 04\n",
    "\n",
    "In this lecture, we will learn about:\n",
    "<ol>\n",
    "    <li>Importing libraries and reviewing conditional execution</li>\n",
    "    <li>Try/Except</li>\n",
    "    <li>HTML and interact</li>\n",
    "</ol>\n",
    "    "
   ]
  },
  {
   "cell_type": "markdown",
   "id": "5e735c6a",
   "metadata": {},
   "source": [
    "<p></p>\n",
    "Now, you will write a function that calculates the nth <b>Fibonacci Number</b>.\n",
    "<p></p>\n",
    "The logic is:\n",
    "<ol>\n",
    "    <li>If less than 1, return 0</li>\n",
    "    <li>If 1 or 2, return 1</li>\n",
    "    <li>Otherwise, we will loop until we get to the nth number, adding the values</li>\n",
    "</ol>"
   ]
  },
  {
   "cell_type": "code",
   "execution_count": 1,
   "id": "51c8b801",
   "metadata": {},
   "outputs": [],
   "source": [
    "# Enter the function here here\n",
    "\n",
    "def fibonacci( fib_num ):\n",
    "    if fib_num == 0:\n",
    "        return 0\n",
    "    elif fib_num == 1:\n",
    "        return 1\n",
    "    elif fib_num == 2:\n",
    "        return 1\n",
    "    else:\n",
    "        iterator = 2\n",
    "        num_1 = 1\n",
    "        num_2 = 1\n",
    "        \n",
    "        # Iterate until the number is solves\n",
    "        while iterator <= fib_num:\n",
    "            temp = num_1 + num_2\n",
    "            num_2 = num_1\n",
    "            num_1 = temp\n",
    "            iterator += 1\n",
    "        \n",
    "        return num_2"
   ]
  },
  {
   "cell_type": "code",
   "execution_count": 2,
   "id": "4157de25",
   "metadata": {
    "scrolled": true
   },
   "outputs": [
    {
     "name": "stdout",
     "output_type": "stream",
     "text": [
      "Which Fibonacci number: 8\n",
      "The 8th Fibonacci number is 21\n"
     ]
    }
   ],
   "source": [
    "# Enter the run code here\n",
    "fib_num = int( input('Which Fibonacci number: '))\n",
    "\n",
    "print( \"The \" + str(fib_num) +\"th Fibonacci number is \" + str(fibonacci(fib_num)) )"
   ]
  },
  {
   "cell_type": "markdown",
   "id": "aa5ca536",
   "metadata": {},
   "source": [
    "## Break Statements"
   ]
  },
  {
   "cell_type": "markdown",
   "id": "dda57132",
   "metadata": {},
   "source": [
    "The provided while loop has an issue: It asks the user to enter a value greater than 0, and then enter Y to continue. But it increments instead of decrements!\n",
    "\n",
    "> <b>Note:</b> To stop this endless loop in Jupyter Notebook, you would go to <code>Kernel -> Restart & Clear Output</code>"
   ]
  },
  {
   "cell_type": "code",
   "execution_count": null,
   "id": "ea931dd5",
   "metadata": {},
   "outputs": [],
   "source": [
    "int_no_break = int(input('Enter the value greater than 0: '))\n",
    "\n",
    "while int_no_break > 0:\n",
    "    print(int_no_break)\n",
    "    input('Enter Y to continue ')\n",
    "    int_no_break = int_no_break + 1"
   ]
  },
  {
   "cell_type": "code",
   "execution_count": 3,
   "id": "22340317",
   "metadata": {
    "scrolled": true
   },
   "outputs": [
    {
     "name": "stdout",
     "output_type": "stream",
     "text": [
      "Enter the value greater than 0: 5\n",
      "5\n",
      "Enter Y to continue Y\n",
      "6\n",
      "Enter Y to continue Y\n",
      "7\n",
      "Enter Y to continue Y\n",
      "8\n"
     ]
    }
   ],
   "source": [
    "# Now that we've cleared the output, let's fix it with a break statement stopping the loop if it is greater than 7\n",
    "\n",
    "int_with_break = int(input('Enter the value greater than 0: '))\n",
    "\n",
    "while int_with_break > 0:\n",
    "    print(int_with_break)\n",
    "    \n",
    "    if int_with_break > 7:\n",
    "        break\n",
    "    \n",
    "    input('Enter Y to continue ')\n",
    "    int_with_break = int_with_break + 1"
   ]
  },
  {
   "cell_type": "markdown",
   "id": "2a57c355",
   "metadata": {},
   "source": [
    "Next, we will learn about try/except\n",
    "\n",
    "We will first learn about this using <b>ZeroDivisionError</b>"
   ]
  },
  {
   "cell_type": "code",
   "execution_count": 5,
   "id": "c7562336",
   "metadata": {
    "scrolled": true
   },
   "outputs": [
    {
     "name": "stdout",
     "output_type": "stream",
     "text": [
      "X? 12\n",
      "Y? 0\n",
      "Y cannot be 0!\n"
     ]
    }
   ],
   "source": [
    "x = int(input('X? '))\n",
    "y = int(input('Y? '))\n",
    "\n",
    "# We will write the try/except here\n",
    "\n",
    "try: # Attempt division\n",
    "    z = x / y\n",
    "    print(z)\n",
    "    \n",
    "except ZeroDivisionError:\n",
    "    # Handle Exception\n",
    "    print('Y cannot be 0!')"
   ]
  },
  {
   "cell_type": "markdown",
   "id": "02a6c69a",
   "metadata": {},
   "source": [
    "### Importing the random library"
   ]
  },
  {
   "cell_type": "code",
   "execution_count": 8,
   "id": "c6d5d5ee",
   "metadata": {},
   "outputs": [],
   "source": [
    "# Import the random library\n",
    "import random"
   ]
  },
  {
   "cell_type": "code",
   "execution_count": null,
   "id": "25fb5969",
   "metadata": {
    "scrolled": true
   },
   "outputs": [],
   "source": [
    "# We will learn how to call the random function, then use conditionals!\n",
    "\n",
    "# Call the random number\n",
    "rand_num = random.randint(-10, 10)\n",
    "\n",
    "# Use if, elif, else to save to a string if it is positive, negative, or zero\n",
    "if rand_num < 0:\n",
    "    num_type = 'negative'\n",
    "    \n",
    "elif rand_num > 0:\n",
    "    num_type = 'positive'\n",
    "    \n",
    "else:\n",
    "    num_type = 'zero'\n",
    "    \n",
    "# We will learn a new print format here!\n",
    "print( '{} is {}'.format( rand_num, num_type ) )"
   ]
  }
 ],
 "metadata": {
  "kernelspec": {
   "display_name": "Python 3 (ipykernel)",
   "language": "python",
   "name": "python3"
  },
  "language_info": {
   "codemirror_mode": {
    "name": "ipython",
    "version": 3
   },
   "file_extension": ".py",
   "mimetype": "text/x-python",
   "name": "python",
   "nbconvert_exporter": "python",
   "pygments_lexer": "ipython3",
   "version": "3.9.13"
  }
 },
 "nbformat": 4,
 "nbformat_minor": 5
}
