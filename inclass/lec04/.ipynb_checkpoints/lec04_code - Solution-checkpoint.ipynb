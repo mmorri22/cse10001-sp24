{
 "cells": [
  {
   "cell_type": "markdown",
   "id": "b5069922",
   "metadata": {},
   "source": [
    "### This is the preview Notebook for Lecture 04\n",
    "\n",
    "In this lecture, we will learn about:\n",
    "<ol>\n",
    "    <li>Importing libraries and reviewing conditional execution</li>\n",
    "    <li>Try/Except</li>\n",
    "    <li>HTML and interact</li>\n",
    "</ol>\n",
    "    "
   ]
  },
  {
   "cell_type": "markdown",
   "id": "5e735c6a",
   "metadata": {},
   "source": [
    "<p></p>\n",
    "Now, you will write a function that calculates the nth <b>Fibonacci Number</b>.\n",
    "<p></p>\n",
    "The logic is:\n",
    "<ol>\n",
    "    <li>If less than 1, return 0</li>\n",
    "    <li>If 1 or 2, return 1</li>\n",
    "    <li>Otherwise, we will loop until we get to the nth number, adding the values</li>\n",
    "</ol>"
   ]
  },
  {
   "cell_type": "code",
   "execution_count": 1,
   "id": "51c8b801",
   "metadata": {},
   "outputs": [],
   "source": [
    "# Enter the function here here\n",
    "\n",
    "def fibonacci( fib_num ):\n",
    "    if fib_num == 0:\n",
    "        return 0\n",
    "    elif fib_num == 1:\n",
    "        return 1\n",
    "    elif fib_num == 2:\n",
    "        return 1\n",
    "    else:\n",
    "        iterator = 2\n",
    "        num_1 = 1\n",
    "        num_2 = 1\n",
    "        \n",
    "        # Iterate until the number is solves\n",
    "        while iterator <= fib_num:\n",
    "            temp = num_1 + num_2\n",
    "            num_2 = num_1\n",
    "            num_1 = temp\n",
    "            iterator += 1\n",
    "        \n",
    "        return num_2"
   ]
  },
  {
   "cell_type": "code",
   "execution_count": 2,
   "id": "4157de25",
   "metadata": {
    "scrolled": true
   },
   "outputs": [
    {
     "name": "stdout",
     "output_type": "stream",
     "text": [
      "Which Fibonacci number: 8\n",
      "The 8th Fibonacci number is 21\n"
     ]
    }
   ],
   "source": [
    "# Enter the run code here\n",
    "fib_num = int( input('Which Fibonacci number: '))\n",
    "\n",
    "print( \"The \" + str(fib_num) +\"th Fibonacci number is \" + str(fibonacci(fib_num)) )"
   ]
  },
  {
   "cell_type": "markdown",
   "id": "aa5ca536",
   "metadata": {},
   "source": [
    "## Break Statements"
   ]
  },
  {
   "cell_type": "markdown",
   "id": "dda57132",
   "metadata": {},
   "source": [
    "The provided while loop has an issue: It asks the user to enter a value greater than 0, and then enter Y to continue. But it increments instead of decrements!\n",
    "\n",
    "> <b>Note:</b> To stop this endless loop in Jupyter Notebook, you would go to <code>Kernel -> Restart & Clear Output</code>"
   ]
  },
  {
   "cell_type": "code",
   "execution_count": null,
   "id": "ea931dd5",
   "metadata": {},
   "outputs": [],
   "source": [
    "int_no_break = int(input('Enter the value greater than 0: '))\n",
    "\n",
    "while int_no_break > 0:\n",
    "    print(int_no_break)\n",
    "    input('Enter Y to continue ')\n",
    "    int_no_break = int_no_break + 1"
   ]
  },
  {
   "cell_type": "code",
   "execution_count": 3,
   "id": "22340317",
   "metadata": {
    "scrolled": true
   },
   "outputs": [
    {
     "name": "stdout",
     "output_type": "stream",
     "text": [
      "Enter the value greater than 0: 5\n",
      "5\n",
      "Enter Y to continue Y\n",
      "6\n",
      "Enter Y to continue Y\n",
      "7\n",
      "Enter Y to continue Y\n",
      "8\n"
     ]
    }
   ],
   "source": [
    "# Now that we've cleared the output, let's fix it with a break statement stopping the loop if it is greater than 7\n",
    "\n",
    "int_with_break = int(input('Enter the value greater than 0: '))\n",
    "\n",
    "while int_with_break > 0:\n",
    "    print(int_with_break)\n",
    "    \n",
    "    if int_with_break > 7:\n",
    "        break\n",
    "    \n",
    "    input('Enter Y to continue ')\n",
    "    int_with_break = int_with_break + 1"
   ]
  },
  {
   "cell_type": "markdown",
   "id": "2a57c355",
   "metadata": {},
   "source": [
    "Next, we will learn about try/except\n",
    "\n",
    "We will first learn about this using <b>ZeroDivisionError</b>"
   ]
  },
  {
   "cell_type": "code",
   "execution_count": 5,
   "id": "c7562336",
   "metadata": {
    "scrolled": true
   },
   "outputs": [
    {
     "name": "stdout",
     "output_type": "stream",
     "text": [
      "X? 12\n",
      "Y? 0\n",
      "Y cannot be 0!\n"
     ]
    }
   ],
   "source": [
    "x = int(input('X? '))\n",
    "y = int(input('Y? '))\n",
    "\n",
    "# We will write the try/except here\n",
    "\n",
    "try: # Attempt division\n",
    "    z = x / y\n",
    "    print(z)\n",
    "    \n",
    "except ZeroDivisionError:\n",
    "    # Handle Exception\n",
    "    print('Y cannot be 0!')"
   ]
  },
  {
   "cell_type": "markdown",
   "id": "02a6c69a",
   "metadata": {},
   "source": [
    "### Importing the random library"
   ]
  },
  {
   "cell_type": "code",
   "execution_count": 8,
   "id": "c6d5d5ee",
   "metadata": {},
   "outputs": [],
   "source": [
    "# Import the random library\n",
    "import random"
   ]
  },
  {
   "cell_type": "code",
   "execution_count": null,
   "id": "25fb5969",
   "metadata": {
    "scrolled": true
   },
   "outputs": [],
   "source": [
    "# We will learn how to call the random function, then use conditionals!\n",
    "\n",
    "# Call the random number\n",
    "rand_num = random.randint(-10, 10)\n",
    "\n",
    "# Use if, elif, else to save to a string if it is positive, negative, or zero\n",
    "if rand_num < 0:\n",
    "    num_type = 'negative'\n",
    "    \n",
    "elif rand_num > 0:\n",
    "    num_type = 'positive'\n",
    "    \n",
    "else:\n",
    "    num_type = 'zero'\n",
    "    \n",
    "# We will learn a new print format here!\n",
    "print( '{} is {}'.format( rand_num, num_type ) )"
   ]
  },
  {
   "cell_type": "markdown",
   "id": "8d65f317",
   "metadata": {},
   "source": [
    "#### Combining Concepts\n",
    "In this exercise we will review and introduce:\n",
    "<ol>\n",
    "    <li>Importing libraries (this time, to generate random numbers</li>\n",
    "    <li>While loops</li>\n",
    "    <li>Conditional statements</li>\n",
    "    <li>Functions</li>\n",
    "</ol>\n",
    "<p></p>\n",
    "In this exercise, working with a classmate, you will <b>import a library</b> which will generate a random integer <b>between 0 and 10</b>, and the user will guess <i>until they get it correct</i>. If they get the guess wrong, ou should print a hint that the user was either <b>below or above</b> the random number. You will then print the correct guess <i>and</i> the total number of guesses the user required. The user should be able to play this game repeatedly.\n",
    "<p></p>\n",
    "<b>Hints:</b>\n",
    "<ol>\n",
    "    <li>You can reduce the number of lines of code and improve readability using a break</li>\n",
    "    <li>Be sure to use clear variable names for readibility!</li>\n",
    "    <li>Conditional statements</li>\n",
    "    <li>Functions</li>\n",
    "</ol>"
   ]
  },
  {
   "cell_type": "code",
   "execution_count": 11,
   "id": "7d3f4cea",
   "metadata": {},
   "outputs": [],
   "source": [
    "# Next, write a function that calls the library, and then generates a random number\n",
    "def random_guess():\n",
    "    \n",
    "    random_num = random.randint(0,10)\n",
    "    \n",
    "    num_guess = 0\n",
    "    \n",
    "    while True:\n",
    "        \n",
    "        user_guess = int( input( 'Guess an int between 0 and 10: ') )\n",
    "        num_guess += 1\n",
    "        \n",
    "        if user_guess == random_num:\n",
    "            break\n",
    "        \n",
    "        print( str(user_guess) + ' was not correct')\n",
    "        # print( '{} was not correct'.format(user_guess))\n",
    "        \n",
    "        if user_guess < random_num:\n",
    "            print( str(user_guess) + ' is less than the random number')\n",
    "            \n",
    "        else:\n",
    "            print( str(user_guess) + ' is greater than the random number')\n",
    "            \n",
    "    print ('The correct answer was ' + str(random_num) + ' which took you ' + str(num_guess) + ' guesses.')"
   ]
  },
  {
   "cell_type": "code",
   "execution_count": 12,
   "id": "1cbb08c0",
   "metadata": {
    "scrolled": false
   },
   "outputs": [
    {
     "name": "stdout",
     "output_type": "stream",
     "text": [
      "Guess an int between 0 and 10: 5\n",
      "5 was not correct\n",
      "5 is less than the random number\n",
      "Guess an int between 0 and 10: 8\n",
      "8 was not correct\n",
      "8 is less than the random number\n",
      "Guess an int between 0 and 10: 9\n",
      "The correct answer was 9 which took you 3 guesses.\n"
     ]
    }
   ],
   "source": [
    "# Call your function to test the result\n",
    "random_guess()"
   ]
  },
  {
   "cell_type": "markdown",
   "id": "376508f6",
   "metadata": {},
   "source": [
    "## Displaying HTML in Python using a Table"
   ]
  },
  {
   "cell_type": "code",
   "execution_count": 13,
   "id": "023d0bee",
   "metadata": {},
   "outputs": [],
   "source": [
    "# Importing HTML - Use this in HW 3\n",
    "from IPython.core.display import HTML"
   ]
  },
  {
   "cell_type": "code",
   "execution_count": 14,
   "id": "3d1d1ec8",
   "metadata": {},
   "outputs": [],
   "source": [
    "# Importing interact - Use this in HW 3\n",
    "from __future__ import print_function\n",
    "from ipywidgets import interact, interactive, fixed, interact_manual\n",
    "import ipywidgets as widgets"
   ]
  },
  {
   "cell_type": "code",
   "execution_count": 15,
   "id": "3a1179fc",
   "metadata": {},
   "outputs": [],
   "source": [
    "def print_table( num_1, num_2, num_3, num_4, num_5 ):\n",
    "\n",
    "    num_1_str = str( num_1 )\n",
    "    hex_1_str = str( hex(num_1) )\n",
    "    bin_1_str = str( bin(num_1) )\n",
    "    chr_1_str = str( chr(num_1) )\n",
    "    \n",
    "    num_2_str = str( num_2 )\n",
    "    hex_2_str = str( hex(num_2) )\n",
    "    bin_2_str = str( bin(num_2) )\n",
    "    chr_2_str = str( chr(num_2) )\n",
    "\n",
    "    num_3_str = str( num_3 )\n",
    "    hex_3_str = str( hex(num_3) )\n",
    "    bin_3_str = str( bin(num_3) )\n",
    "    chr_3_str = str( chr(num_3) )\n",
    "\n",
    "    num_4_str = str( num_4 )\n",
    "    hex_4_str = str( hex(num_4) )\n",
    "    bin_4_str = str( bin(num_4) )\n",
    "    chr_4_str = str( chr(num_4) )\n",
    "    \n",
    "    num_5_str = str( num_5 )\n",
    "    hex_5_str = str( hex(num_5) )\n",
    "    bin_5_str = str( bin(num_5) )\n",
    "    chr_5_str = str( chr(num_5) )\n",
    "    \n",
    "    # Tabbed to be inside to function\n",
    "    # You will use \"\"\" to get the HTML formatting done\n",
    "    # Table: <table> </table>\n",
    "    # Thread: Used for column names - <thead> </thead>\n",
    "    # Table Header Names: <th> </th>\n",
    "    # Body: Table body - <tbody> </tbody>\n",
    "    # Table Row: <tr> </tr>\n",
    "    # Table Cell: <td>  </td>\n",
    "    TABLE = \"\"\"\n",
    "    <h5>Converting four input numbers from int to hex, binary, and char:</h5>\n",
    "    <div style=\"background: #{};\">&nbsp;</div>\n",
    "    <table>\n",
    "        <thead>\n",
    "            <th>Decimal</th>\n",
    "            <th>Hexadecimal</th>\n",
    "            <th>Binary</th>\n",
    "            <th>Char</th>\n",
    "        </thead>\n",
    "        <tbody>\n",
    "            <tr>\n",
    "                <td>{\"\"\" + num_1_str + \"\"\"}</td>\n",
    "                <td>{\"\"\" + hex_1_str + \"\"\"}</td>\n",
    "                <td>{\"\"\" + bin_1_str + \"\"\"}</td>\n",
    "                <td>{\"\"\" + chr_1_str + \"\"\"}</td>\n",
    "            </tr>\n",
    "            <tr>\n",
    "                <td>{\"\"\" + num_2_str + \"\"\"}</td>\n",
    "                <td>{\"\"\" + hex_2_str + \"\"\"}</td>\n",
    "                <td>{\"\"\" + bin_2_str + \"\"\"}</td>\n",
    "                <td>{\"\"\" + chr_2_str + \"\"\"}</td>\n",
    "            </tr>\n",
    "            <tr>\n",
    "                <td>{}</td>\n",
    "                <td>{}</td>\n",
    "                <td>{}</td>\n",
    "                <td>{}</td>\n",
    "            </tr>\n",
    "            <tr>\n",
    "                <td>{}</td>\n",
    "                <td>{}</td>\n",
    "                <td>{}</td>\n",
    "                <td>{}</td>\n",
    "            </tr>\n",
    "            <tr>\n",
    "                <td>{}</td>\n",
    "                <td>{}</td>\n",
    "                <td>{}</td>\n",
    "                <td>{}</td>\n",
    "            </tr>\n",
    "        </tbody>\n",
    "    </table>\n",
    "    \"\"\"\n",
    "    \n",
    "    display( HTML(TABLE) )"
   ]
  },
  {
   "cell_type": "code",
   "execution_count": 16,
   "id": "f64386ca",
   "metadata": {},
   "outputs": [
    {
     "data": {
      "text/html": [
       "\n",
       "    <h5>Converting four input numbers from int to hex, binary, and char:</h5>\n",
       "    <div style=\"background: #{};\">&nbsp;</div>\n",
       "    <table>\n",
       "        <thead>\n",
       "            <th>Decimal</th>\n",
       "            <th>Hexadecimal</th>\n",
       "            <th>Binary</th>\n",
       "            <th>Char</th>\n",
       "        </thead>\n",
       "        <tbody>\n",
       "            <tr>\n",
       "                <td>{101}</td>\n",
       "                <td>{0x65}</td>\n",
       "                <td>{0b1100101}</td>\n",
       "                <td>{e}</td>\n",
       "            </tr>\n",
       "            <tr>\n",
       "                <td>{2}</td>\n",
       "                <td>{0x2}</td>\n",
       "                <td>{0b10}</td>\n",
       "                <td>{\u0002}</td>\n",
       "            </tr>\n",
       "            <tr>\n",
       "                <td>{}</td>\n",
       "                <td>{}</td>\n",
       "                <td>{}</td>\n",
       "                <td>{}</td>\n",
       "            </tr>\n",
       "            <tr>\n",
       "                <td>{}</td>\n",
       "                <td>{}</td>\n",
       "                <td>{}</td>\n",
       "                <td>{}</td>\n",
       "            </tr>\n",
       "        </tbody>\n",
       "    </table>\n",
       "    "
      ],
      "text/plain": [
       "<IPython.core.display.HTML object>"
      ]
     },
     "metadata": {},
     "output_type": "display_data"
    }
   ],
   "source": [
    "# Here, we will test print table with four numbers\n",
    "print_table( 101, 2, 3, 4 )"
   ]
  },
  {
   "cell_type": "code",
   "execution_count": 17,
   "id": "b8dc5b4e",
   "metadata": {},
   "outputs": [
    {
     "data": {
      "application/vnd.jupyter.widget-view+json": {
       "model_id": "82294e56cd96459184c4c0448c00c465",
       "version_major": 2,
       "version_minor": 0
      },
      "text/plain": [
       "interactive(children=(IntSlider(value=63, description='num_1', max=127), IntSlider(value=63, description='num_…"
      ]
     },
     "metadata": {},
     "output_type": "display_data"
    },
    {
     "data": {
      "text/plain": [
       "<function __main__.print_table(num_1, num_2, num_3, num_4)>"
      ]
     },
     "execution_count": 17,
     "metadata": {},
     "output_type": "execute_result"
    }
   ],
   "source": [
    "# Now, we will test interact\n",
    "interact( print_table, num_1=(0,127), num_2=(0,127), num_3=(0,127), num_4=(0,127), num_5=(0,127) )"
   ]
  }
 ],
 "metadata": {
  "kernelspec": {
   "display_name": "Python 3 (ipykernel)",
   "language": "python",
   "name": "python3"
  },
  "language_info": {
   "codemirror_mode": {
    "name": "ipython",
    "version": 3
   },
   "file_extension": ".py",
   "mimetype": "text/x-python",
   "name": "python",
   "nbconvert_exporter": "python",
   "pygments_lexer": "ipython3",
   "version": "3.9.13"
  }
 },
 "nbformat": 4,
 "nbformat_minor": 5
}
