{
 "cells": [
  {
   "cell_type": "markdown",
   "id": "b5069922",
   "metadata": {},
   "source": [
    "### This is the preview Notebook for Lecture 04\n",
    "\n",
    "In this lecture, we will learn about:\n",
    "<ol>\n",
    "    <li>Importing libraries and reviewing conditional execution</li>\n",
    "    <li>Try/Except</li>\n",
    "    <li>HTML and interact</li>\n",
    "</ol>\n",
    "    "
   ]
  },
  {
   "cell_type": "markdown",
   "id": "800309c8",
   "metadata": {},
   "source": [
    "<p></p>\n",
    "Now, you will write a function that calculates the nth <b>Fibonacci Number</b>.\n",
    "<p></p>\n",
    "The logic is:\n",
    "<ol>\n",
    "    <li>If less than 1, return 0</li>\n",
    "    <li>If 1 or 2, return 1</li>\n",
    "    <li>Otherwise, we will loop until we get to the nth number, adding the values</li>\n",
    "</ol>"
   ]
  },
  {
   "cell_type": "code",
   "execution_count": null,
   "id": "0ac5966e",
   "metadata": {},
   "outputs": [],
   "source": [
    "# Enter the function here here\n"
   ]
  },
  {
   "cell_type": "code",
   "execution_count": null,
   "id": "5410c11a",
   "metadata": {},
   "outputs": [],
   "source": [
    "# Enter the run code here\n"
   ]
  },
  {
   "cell_type": "markdown",
   "id": "f4d21833",
   "metadata": {},
   "source": [
    "## Break Statements"
   ]
  },
  {
   "cell_type": "markdown",
   "id": "df118443",
   "metadata": {},
   "source": [
    "The provided while loop has an issue: It asks the user to enter a value greater than 0, and then enter Y to continue. But it increments instead of decrements!\n",
    "\n",
    "> <b>Note:</b> To stop this endless loop in Jupyter Notebook, you would go to <code>Kernel -> Restart & Clear Output</code>"
   ]
  },
  {
   "cell_type": "code",
   "execution_count": null,
   "id": "bb39bf19",
   "metadata": {},
   "outputs": [],
   "source": [
    "# While loop without a break statement\n",
    "\n",
    "int_no_break = int(input('Enter the value greater than 0: '))\n",
    "\n",
    "while int_no_break > 0:\n",
    "    print(int_no_break)\n",
    "    input('Enter Y to continue ')\n",
    "    int_no_break = int_no_break + 1"
   ]
  },
  {
   "cell_type": "code",
   "execution_count": null,
   "id": "2f3dea22",
   "metadata": {},
   "outputs": [],
   "source": [
    "# Now let's fix it with a break statement stopping the loop if int_with_break is larger than 7\n",
    "\n",
    "int_with_break = int(input('Enter the value greater than 0: '))\n",
    "\n",
    "while int_with_break > 0:\n",
    "    print(int_with_break)\n",
    "    input('Enter Y to continue ')\n",
    "    int_with_break = int_with_break + 1"
   ]
  },
  {
   "cell_type": "markdown",
   "id": "1ae1905f",
   "metadata": {},
   "source": [
    "Next, we will learn about try/except\n",
    "\n",
    "We will first learn about this using <b>ZeroDivisionError</b>"
   ]
  },
  {
   "cell_type": "code",
   "execution_count": null,
   "id": "594b4976",
   "metadata": {},
   "outputs": [],
   "source": [
    "x = int(input('X?'))\n",
    "y = int(input('Y?'))\n",
    "\n",
    "# We will write the try/except here\n",
    "\n"
   ]
  },
  {
   "cell_type": "code",
   "execution_count": null,
   "id": "de2f35c4",
   "metadata": {},
   "outputs": [],
   "source": []
  },
  {
   "cell_type": "markdown",
   "id": "03bb5b59",
   "metadata": {},
   "source": [
    "### Importing the random library"
   ]
  },
  {
   "cell_type": "code",
   "execution_count": null,
   "id": "c6d5d5ee",
   "metadata": {},
   "outputs": [],
   "source": [
    "# Import the random library\n",
    "import random"
   ]
  },
  {
   "cell_type": "code",
   "execution_count": null,
   "id": "25fb5969",
   "metadata": {
    "scrolled": true
   },
   "outputs": [],
   "source": [
    "# We will learn how to call the random function, then use conditionals!\n",
    "\n",
    "# Call the random number\n",
    "\n",
    "# Use if, elif, else to save to a string if it is positive, negative, or zero\n",
    "    \n",
    "# We will learn a new print format here!"
   ]
  },
  {
   "cell_type": "code",
   "execution_count": null,
   "id": "02c438c3",
   "metadata": {},
   "outputs": [],
   "source": [
    "# Same code, but practicing break statements!"
   ]
  },
  {
   "cell_type": "markdown",
   "id": "8d65f317",
   "metadata": {},
   "source": [
    "### Combining Concepts\n",
    "In this exercise we will review and introduce:\n",
    "<ol>\n",
    "    <li>Importing libraries (this time, to generate random numbers</li>\n",
    "    <li>While loops</li>\n",
    "    <li>Conditional statements</li>\n",
    "    <li>Functions</li>\n",
    "</ol>\n",
    "<p></p>\n",
    "In this exercise, working with a classmate, you will <b>import a library</b> which will generate a random integer <b>between 0 and 10</b>, and the user will guess <i>until they get it correct</i>. If they get the guess wrong, ou should print a hint that the user was either <b>below or above</b> the random number. You will then print the correct guess <i>and</i> the total number of guesses the user required. The user should be able to play this game repeatedly.\n",
    "<p></p>\n",
    "<b>Hints:</b>\n",
    "<ol>\n",
    "    <li>You can reduce the number of lines of code and improve readability using a break</li>\n",
    "    <li>Be sure to use clear variable names for readibility!</li>\n",
    "    <li>Conditional statements</li>\n",
    "    <li>Functions</li>\n",
    "</ol>"
   ]
  },
  {
   "cell_type": "code",
   "execution_count": null,
   "id": "7d3f4cea",
   "metadata": {},
   "outputs": [],
   "source": [
    "# Next, write a function that calls the library, and then generates a random number"
   ]
  },
  {
   "cell_type": "code",
   "execution_count": null,
   "id": "1cbb08c0",
   "metadata": {
    "scrolled": true
   },
   "outputs": [],
   "source": [
    "# Call your function to test the result"
   ]
  },
  {
   "cell_type": "markdown",
   "id": "608bff57",
   "metadata": {},
   "source": [
    "## Displaying HTML in Python using a Table"
   ]
  },
  {
   "cell_type": "code",
   "execution_count": null,
   "id": "023d0bee",
   "metadata": {},
   "outputs": [],
   "source": [
    "# Importing HTML\n",
    "from IPython.core.display import HTML"
   ]
  },
  {
   "cell_type": "code",
   "execution_count": null,
   "id": "3d1d1ec8",
   "metadata": {},
   "outputs": [],
   "source": [
    "# Importing interact\n",
    "from __future__ import print_function\n",
    "from ipywidgets import interact, interactive, fixed, interact_manual\n",
    "import ipywidgets as widgets"
   ]
  },
  {
   "cell_type": "code",
   "execution_count": null,
   "id": "3a1179fc",
   "metadata": {},
   "outputs": [],
   "source": [
    "def print_table( num_1, num_2, num_3, num_4, num_5 ):\n",
    "\n",
    "    num_1_str = str( num_1 )\n",
    "    hex_1_str = str( hex(num_1) )\n",
    "    bin_1_str = str( bin(num_1) )\n",
    "    chr_1_str = str( chr(num_1) )\n",
    "    \n",
    "    num_2_str = str( num_2 )\n",
    "    hex_2_str = str( hex(num_2) )\n",
    "    bin_2_str = str( bin(num_2) )\n",
    "    chr_2_str = str( chr(num_2) )\n",
    "\n",
    "    num_3_str = str( num_3 )\n",
    "    hex_3_str = str( hex(num_3) )\n",
    "    bin_3_str = str( bin(num_3) )\n",
    "    chr_3_str = str( chr(num_3) )\n",
    "\n",
    "    num_4_str = str( num_4 )\n",
    "    hex_4_str = str( hex(num_4) )\n",
    "    bin_4_str = str( bin(num_4) )\n",
    "    chr_4_str = str( chr(num_4) )\n",
    "    \n",
    "    num_5_str = str( num_5 )\n",
    "    hex_5_str = str( hex(num_5) )\n",
    "    bin_5_str = str( bin(num_5) )\n",
    "    chr_5_str = str( chr(num_5) )\n",
    "    \n",
    "    # Tabbed to be inside to function\n",
    "    # You will use \"\"\" to get the HTML formatting done\n",
    "    # Table: <table> </table>\n",
    "    # Thread: Used for column names - <thead> </thead>\n",
    "    # Table Header Names: <th> </th>\n",
    "    # Body: Table body - <tbody> </tbody>\n",
    "    # Table Row: <tr> </tr>\n",
    "    # Table Cell: <td>  </td>"
   ]
  },
  {
   "cell_type": "code",
   "execution_count": null,
   "id": "f64386ca",
   "metadata": {},
   "outputs": [],
   "source": [
    "# Here, we will test print table with four numbers"
   ]
  },
  {
   "cell_type": "code",
   "execution_count": null,
   "id": "b8dc5b4e",
   "metadata": {},
   "outputs": [],
   "source": [
    "# Now, we will test interact"
   ]
  },
  {
   "cell_type": "code",
   "execution_count": null,
   "id": "24b8c75c",
   "metadata": {},
   "outputs": [],
   "source": [
    "# Python's inputs are not case sensitive\n",
    "# We can put in all lower-case and this will work\n",
    "# This is not the case with most programming languages"
   ]
  },
  {
   "cell_type": "code",
   "execution_count": null,
   "id": "8f7114bd",
   "metadata": {},
   "outputs": [],
   "source": [
    "# We can do uppercase first letter"
   ]
  },
  {
   "cell_type": "code",
   "execution_count": null,
   "id": "00619562",
   "metadata": {},
   "outputs": [],
   "source": [
    "# We can do random letters"
   ]
  }
 ],
 "metadata": {
  "kernelspec": {
   "display_name": "Python 3 (ipykernel)",
   "language": "python",
   "name": "python3"
  },
  "language_info": {
   "codemirror_mode": {
    "name": "ipython",
    "version": 3
   },
   "file_extension": ".py",
   "mimetype": "text/x-python",
   "name": "python",
   "nbconvert_exporter": "python",
   "pygments_lexer": "ipython3",
   "version": "3.9.13"
  }
 },
 "nbformat": 4,
 "nbformat_minor": 5
}
