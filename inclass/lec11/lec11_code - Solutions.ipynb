{
 "cells": [
  {
   "cell_type": "markdown",
   "id": "d4e8982c",
   "metadata": {},
   "source": [
    "### This is the Notebook for Lecture 11\n",
    "\n",
    "In this lecture, we will learn techniques for using Python to interact with the Operating System, as well as how recursion and memory affects computing performance. This will include:\n",
    "\n",
    "<ol>\n",
    "    <li>Printing the date and time</li>\n",
    "    <li>Recursion using the Fibonacci Sequence</li>\n",
    "    <li>Memoization using a dictionary</li>\n",
    "    <li>Showing how memoization will significantly improve the run time of the program.</li>\n",
    "</ol>"
   ]
  },
  {
   "cell_type": "code",
   "execution_count": 3,
   "id": "ad3bbb58",
   "metadata": {},
   "outputs": [],
   "source": [
    "import os.path, time"
   ]
  },
  {
   "cell_type": "code",
   "execution_count": 4,
   "id": "ae1807ab",
   "metadata": {},
   "outputs": [
    {
     "data": {
      "text/plain": [
       "1"
      ]
     },
     "execution_count": 4,
     "metadata": {},
     "output_type": "execute_result"
    }
   ],
   "source": [
    "os.system('date')"
   ]
  },
  {
   "cell_type": "code",
   "execution_count": 10,
   "id": "96a97b4d",
   "metadata": {},
   "outputs": [
    {
     "name": "stdout",
     "output_type": "stream",
     "text": [
      "0 .ipynb_checkpoints\n",
      "1 10.1515_9781400884803-003.pdf\n",
      "2 Dictionary.htm\n",
      "3 FightSong.txt\n",
      "4 Lecture 04 - CPU and Conditionals Execution.pptx\n",
      "5 Lecture 05 - Advanced Conditionals and HTML Printing.pptx\n",
      "6 Lecture 06 - Iteration and Lists.pptx\n",
      "7 Lecture 08 - Algorithms.pptx\n",
      "8 Lecture 10 - File Input-Output.pptx\n",
      "9 Lecture 11 - Dictionaries and Spell Check.pptx\n",
      "10 Lecture 12 - Operating Systems and Recursion.pptx\n",
      "11 Untitled.ipynb\n",
      "12 cse10001\n",
      "13 desktop.ini\n",
      "14 frost.htm\n",
      "15 frost.txt\n",
      "16 google.txt\n",
      "17 imagejpeg_0_11_.jpg\n",
      "18 inigo.htm\n",
      "19 inigo.txt\n",
      "20 lec02_code.ipynb\n",
      "21 lec03_code.ipynb\n",
      "22 lec04_code - Blank.ipynb\n",
      "23 lec05_code - Blank.ipynb\n",
      "24 lec06_code - Blank.ipynb\n",
      "25 lec08_code - Blank.ipynb\n",
      "26 lec10_code - Blank.ipynb\n",
      "27 lec11_code - Solutions.ipynb\n",
      "28 lec12_code - Blank.ipynb\n",
      "29 words.txt\n"
     ]
    }
   ],
   "source": [
    "for index, file in enumerate( sorted( os.listdir('.') ) ):\n",
    "    print(index, file)"
   ]
  },
  {
   "cell_type": "code",
   "execution_count": 11,
   "id": "b2386e94",
   "metadata": {},
   "outputs": [
    {
     "name": "stdout",
     "output_type": "stream",
     "text": [
      "10.1515_9781400884803-003.pdf has 2765243 bytes!\n",
      "Dictionary.htm has 14142566 bytes!\n",
      "FightSong.txt has 265 bytes!\n",
      "Lecture 04 - CPU and Conditionals Execution.pptx has 49233269 bytes!\n",
      "Lecture 05 - Advanced Conditionals and HTML Printing.pptx has 428490 bytes!\n",
      "Lecture 06 - Iteration and Lists.pptx has 665331 bytes!\n",
      "Lecture 08 - Algorithms.pptx has 710512 bytes!\n",
      "Lecture 10 - File Input-Output.pptx has 785828 bytes!\n",
      "Lecture 11 - Dictionaries and Spell Check.pptx has 616228 bytes!\n",
      "Lecture 12 - Operating Systems and Recursion.pptx has 46858420 bytes!\n",
      "Untitled.ipynb has 589 bytes!\n",
      "desktop.ini has 282 bytes!\n",
      "frost.htm has 155995 bytes!\n",
      "frost.txt has 729 bytes!\n",
      "google.txt has 14785 bytes!\n",
      "imagejpeg_0_11_.jpg has 62465 bytes!\n",
      "inigo.htm has 150470 bytes!\n",
      "inigo.txt has 74 bytes!\n",
      "lec02_code.ipynb has 15258 bytes!\n",
      "lec03_code.ipynb has 21291 bytes!\n",
      "lec04_code - Blank.ipynb has 8141 bytes!\n",
      "lec05_code - Blank.ipynb has 13179 bytes!\n",
      "lec06_code - Blank.ipynb has 20251 bytes!\n",
      "lec08_code - Blank.ipynb has 15496 bytes!\n",
      "lec10_code - Blank.ipynb has 14709 bytes!\n",
      "lec11_code - Solutions.ipynb has 27739 bytes!\n",
      "lec12_code - Blank.ipynb has 6070 bytes!\n",
      "words.txt has 4862992 bytes!\n"
     ]
    }
   ],
   "source": [
    "for path in sorted(os.listdir('.')):\n",
    "    \n",
    "    if os.path.isfile(path):\n",
    "        stat = os.stat(path)\n",
    "        print( f'{path} has {stat.st_size} bytes!')"
   ]
  },
  {
   "cell_type": "code",
   "execution_count": 15,
   "id": "5a2eb9fb",
   "metadata": {},
   "outputs": [
    {
     "name": "stdout",
     "output_type": "stream",
     "text": [
      "Call: 5\n",
      "Call: 4\n",
      "Call: 3\n",
      "Call: 2\n",
      "Call: 1\n",
      "Call: 0\n",
      "Got to base case. Return 1\n",
      "Recursive case: 1 + 1 = 2\n",
      "Recursive case: 2 + 2 = 4\n",
      "Recursive case: 4 + 3 = 7\n",
      "Recursive case: 7 + 4 = 11\n",
      "Recursive case: 11 + 5 = 16\n"
     ]
    },
    {
     "data": {
      "text/plain": [
       "16"
      ]
     },
     "execution_count": 15,
     "metadata": {},
     "output_type": "execute_result"
    }
   ],
   "source": [
    "def recurse1( int_x ):\n",
    "    \n",
    "    print( f'Call: {int_x}' )\n",
    "    \n",
    "    # Base case\n",
    "    if int_x <= 0:\n",
    "        print( 'Got to base case. Return 1')\n",
    "        return 1\n",
    "    \n",
    "    # Recursive case\n",
    "    int_temp = recurse1( int_x - 1 )\n",
    "    int_result = int_temp + int_x\n",
    "    \n",
    "    print( f'Recursive case: {int_temp} + {int_x} = {int_result}')\n",
    "    \n",
    "    return int_result\n",
    "\n",
    "recurse1( 5 )"
   ]
  },
  {
   "cell_type": "code",
   "execution_count": null,
   "id": "1ca13d22",
   "metadata": {},
   "outputs": [],
   "source": []
  },
  {
   "cell_type": "code",
   "execution_count": 16,
   "id": "dc06893d",
   "metadata": {},
   "outputs": [
    {
     "data": {
      "text/plain": [
       "8"
      ]
     },
     "execution_count": 16,
     "metadata": {},
     "output_type": "execute_result"
    }
   ],
   "source": [
    "# Recursion Example\n",
    "def fibonacci(n):\n",
    "    # In-Class Code Goes Here\n",
    "    \n",
    "    if n <= 1:\n",
    "        return 1\n",
    "    \n",
    "    else:\n",
    "        return fibonacci(n - 1) + fibonacci(n - 2)\n",
    "    \n",
    "fibonacci(5)"
   ]
  },
  {
   "cell_type": "code",
   "execution_count": 17,
   "id": "673b5592",
   "metadata": {},
   "outputs": [
    {
     "name": "stdout",
     "output_type": "stream",
     "text": [
      "1\n",
      "1\n",
      "2\n",
      "3\n",
      "5\n",
      "8\n",
      "13\n",
      "21\n",
      "34\n",
      "55\n"
     ]
    }
   ],
   "source": [
    "for i in range(0,10):\n",
    "    print(fibonacci(i))"
   ]
  },
  {
   "cell_type": "code",
   "execution_count": 18,
   "id": "e37fb36e",
   "metadata": {},
   "outputs": [
    {
     "name": "stdout",
     "output_type": "stream",
     "text": [
      "1.9 s ± 16.2 ms per loop (mean ± std. dev. of 7 runs, 1 loop each)\n"
     ]
    }
   ],
   "source": [
    "# Output has been cleared\n",
    "# Running 34th Fibonacci will process\n",
    "%timeit fibonacci(34)"
   ]
  },
  {
   "cell_type": "code",
   "execution_count": null,
   "id": "a438908d",
   "metadata": {},
   "outputs": [],
   "source": [
    "# Using dictionaries to improve recursive run time\n",
    "def fibonacci_memo( fib_dict, n ):\n",
    "    \n",
    "    # If it is already in the dictionary\n",
    "    \n",
    "    # Else if n <= 1\n",
    "    \n",
    "    # Else"
   ]
  },
  {
   "cell_type": "code",
   "execution_count": null,
   "id": "c915e7fc",
   "metadata": {},
   "outputs": [],
   "source": [
    "# Create a dictionary and run the fibonacci_memo code\n",
    "fib_dict = {}\n",
    "\n",
    "for n in range(0, 10):\n",
    "    print( fibonacci_memo(fib_dict, n) )"
   ]
  },
  {
   "cell_type": "code",
   "execution_count": null,
   "id": "4e36b2c4",
   "metadata": {},
   "outputs": [],
   "source": [
    "fibonacci_memo(fib_dict, 100)"
   ]
  },
  {
   "cell_type": "markdown",
   "id": "7432c329",
   "metadata": {},
   "source": [
    "You can check the value of the 100th Fibonacci number <a href = \"https://www.google.com/search?q=100th+fibonacci+number&rlz=1C1JZAP_enUS828US828&oq=100th+Fibo&aqs=chrome.0.0i512j69i57j0i512j0i22i30j0i390l2.2678j0j4&sourceid=chrome&ie=UTF-8\">by searching on Google here</a>"
   ]
  },
  {
   "cell_type": "code",
   "execution_count": null,
   "id": "468578f3",
   "metadata": {},
   "outputs": [],
   "source": [
    "# Look how much faster we can calculate these numbers!\n",
    "fibonacci_memo(fib_dict, 100)"
   ]
  },
  {
   "cell_type": "code",
   "execution_count": null,
   "id": "d0d92077",
   "metadata": {},
   "outputs": [],
   "source": [
    "# Compared o 3.41 s ± 300 ms for the regular Fibonacci sequence for just 34!\n",
    "%timeit fibonacci_memo(fib_dict, 100)"
   ]
  }
 ],
 "metadata": {
  "kernelspec": {
   "display_name": "Python 3 (ipykernel)",
   "language": "python",
   "name": "python3"
  },
  "language_info": {
   "codemirror_mode": {
    "name": "ipython",
    "version": 3
   },
   "file_extension": ".py",
   "mimetype": "text/x-python",
   "name": "python",
   "nbconvert_exporter": "python",
   "pygments_lexer": "ipython3",
   "version": "3.9.12"
  }
 },
 "nbformat": 4,
 "nbformat_minor": 5
}
