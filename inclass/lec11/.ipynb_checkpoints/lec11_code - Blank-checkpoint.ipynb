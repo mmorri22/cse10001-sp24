{
 "cells": [
  {
   "cell_type": "markdown",
   "id": "d4e8982c",
   "metadata": {},
   "source": [
    "### This is the Notebook for Lecture 11\n",
    "\n",
    "In this lecture, we will learn techniques for using Python to interact with the Operating System, as well as how recursion and memory affects computing performance. This will include:\n",
    "\n",
    "<ol>\n",
    "    <li>Printing the date and time</li>\n",
    "    <li>Recursion using the Fibonacci Sequence</li>\n",
    "    <li>Memoization using a dictionary</li>\n",
    "    <li>Showing how memoization will significantly improve the run time of the program.</li>\n",
    "</ol>"
   ]
  },
  {
   "cell_type": "code",
   "execution_count": null,
   "id": "ad3bbb58",
   "metadata": {},
   "outputs": [],
   "source": [
    "import os"
   ]
  },
  {
   "cell_type": "code",
   "execution_count": null,
   "id": "ae1807ab",
   "metadata": {},
   "outputs": [],
   "source": []
  },
  {
   "cell_type": "code",
   "execution_count": null,
   "id": "96a97b4d",
   "metadata": {},
   "outputs": [],
   "source": []
  },
  {
   "cell_type": "code",
   "execution_count": null,
   "id": "b2386e94",
   "metadata": {},
   "outputs": [],
   "source": []
  },
  {
   "cell_type": "code",
   "execution_count": null,
   "id": "5a2eb9fb",
   "metadata": {},
   "outputs": [],
   "source": []
  },
  {
   "cell_type": "code",
   "execution_count": null,
   "id": "1ca13d22",
   "metadata": {},
   "outputs": [],
   "source": []
  },
  {
   "cell_type": "code",
   "execution_count": null,
   "id": "dc06893d",
   "metadata": {},
   "outputs": [],
   "source": [
    "# Recursion Example\n",
    "def fibonacci(n):\n",
    "    # In-Class Code Goes Here"
   ]
  },
  {
   "cell_type": "code",
   "execution_count": null,
   "id": "673b5592",
   "metadata": {},
   "outputs": [],
   "source": [
    "for i in range(1,10):\n",
    "    print(fibonacci(i))"
   ]
  },
  {
   "cell_type": "code",
   "execution_count": null,
   "id": "e37fb36e",
   "metadata": {},
   "outputs": [],
   "source": [
    "# Output has been cleared\n",
    "# Running 34th Fibonacci will process\n",
    "%timeit fibonacci(34)"
   ]
  },
  {
   "cell_type": "code",
   "execution_count": null,
   "id": "a438908d",
   "metadata": {},
   "outputs": [],
   "source": [
    "# Using dictionaries to improve recursive run time\n",
    "def fibonacci_memo( fib_dict, n ):\n",
    "    \n",
    "    # If it is already in the dictionary\n",
    "    \n",
    "    # Else if n <= 1\n",
    "    \n",
    "    # Else"
   ]
  },
  {
   "cell_type": "code",
   "execution_count": null,
   "id": "c915e7fc",
   "metadata": {},
   "outputs": [],
   "source": [
    "# Create a dictionary and run the fibonacci_memo code\n",
    "fib_dict = {}\n",
    "\n",
    "for n in range(0, 10):\n",
    "    print( fibonacci_memo(fib_dict, n) )"
   ]
  },
  {
   "cell_type": "code",
   "execution_count": null,
   "id": "4e36b2c4",
   "metadata": {},
   "outputs": [],
   "source": [
    "fibonacci_memo(fib_dict, 100)"
   ]
  },
  {
   "cell_type": "markdown",
   "id": "7432c329",
   "metadata": {},
   "source": [
    "You can check the value of the 100th Fibonacci number <a href = \"https://www.google.com/search?q=100th+fibonacci+number&rlz=1C1JZAP_enUS828US828&oq=100th+Fibo&aqs=chrome.0.0i512j69i57j0i512j0i22i30j0i390l2.2678j0j4&sourceid=chrome&ie=UTF-8\">by searching on Google here</a>"
   ]
  },
  {
   "cell_type": "code",
   "execution_count": null,
   "id": "468578f3",
   "metadata": {},
   "outputs": [],
   "source": [
    "# Look how much faster we can calculate these numbers!\n",
    "fibonacci_memo(fib_dict, 100)"
   ]
  },
  {
   "cell_type": "code",
   "execution_count": null,
   "id": "d0d92077",
   "metadata": {},
   "outputs": [],
   "source": [
    "# Compared o 3.41 s ± 300 ms for the regular Fibonacci sequence for just 34!\n",
    "%timeit fibonacci_memo(fib_dict, 100)"
   ]
  }
 ],
 "metadata": {
  "kernelspec": {
   "display_name": "Python 3 (ipykernel)",
   "language": "python",
   "name": "python3"
  },
  "language_info": {
   "codemirror_mode": {
    "name": "ipython",
    "version": 3
   },
   "file_extension": ".py",
   "mimetype": "text/x-python",
   "name": "python",
   "nbconvert_exporter": "python",
   "pygments_lexer": "ipython3",
   "version": "3.9.13"
  }
 },
 "nbformat": 4,
 "nbformat_minor": 5
}
