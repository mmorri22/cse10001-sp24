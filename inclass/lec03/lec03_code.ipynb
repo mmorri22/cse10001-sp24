{
 "cells": [
  {
   "cell_type": "markdown",
   "id": "b5069922",
   "metadata": {},
   "source": [
    "### This is the preview Notebook for Lecture 03\n",
    "\n",
    "In this lecture, we will learn about the <b>Central Processing Unit</b> and <font color=\"red\">Conditional Executions</font>"
   ]
  },
  {
   "cell_type": "markdown",
   "id": "74963fc3",
   "metadata": {},
   "source": [
    "First, we will write a function called <b>simple</b> that <b>adds two numbers</b> and then <b>displays the result</b>"
   ]
  },
  {
   "cell_type": "code",
   "execution_count": 1,
   "id": "7fb4d820",
   "metadata": {},
   "outputs": [],
   "source": [
    "# We will write the function for simple here:\n",
    "def simple():\n",
    "    x = int(input(\"x? \"))\n",
    "    y = int(input(\"y? \"))\n",
    "\n",
    "    print(x + y)"
   ]
  },
  {
   "cell_type": "code",
   "execution_count": 2,
   "id": "b31dd538",
   "metadata": {},
   "outputs": [],
   "source": [
    "# Next, we will import the dis library, which will help us view the assembly code\n",
    "import dis"
   ]
  },
  {
   "cell_type": "code",
   "execution_count": 3,
   "id": "b95bf89e",
   "metadata": {
    "scrolled": true
   },
   "outputs": [
    {
     "name": "stdout",
     "output_type": "stream",
     "text": [
      "x? 5\n",
      "y? 6\n",
      "11\n"
     ]
    }
   ],
   "source": [
    "# Run example\n",
    "simple()"
   ]
  },
  {
   "cell_type": "code",
   "execution_count": 8,
   "id": "dca760db",
   "metadata": {},
   "outputs": [
    {
     "name": "stdout",
     "output_type": "stream",
     "text": [
      "  3           0 LOAD_GLOBAL              0 (int)\n",
      "              2 LOAD_GLOBAL              1 (input)\n",
      "              4 LOAD_CONST               1 ('x? ')\n",
      "              6 CALL_FUNCTION            1\n",
      "              8 CALL_FUNCTION            1\n",
      "             10 STORE_FAST               0 (x)\n",
      "\n",
      "  4          12 LOAD_GLOBAL              0 (int)\n",
      "             14 LOAD_GLOBAL              1 (input)\n",
      "             16 LOAD_CONST               2 ('y? ')\n",
      "             18 CALL_FUNCTION            1\n",
      "             20 CALL_FUNCTION            1\n",
      "             22 STORE_FAST               1 (y)\n",
      "\n",
      "  6          24 LOAD_GLOBAL              2 (print)\n",
      "             26 LOAD_FAST                0 (x)\n",
      "             28 LOAD_FAST                1 (y)\n",
      "             30 BINARY_ADD\n",
      "             32 CALL_FUNCTION            1\n",
      "             34 POP_TOP\n",
      "             36 LOAD_CONST               0 (None)\n",
      "             38 RETURN_VALUE\n"
     ]
    }
   ],
   "source": [
    "# By passing simple to a dis function, we can see how the compiler will organize it\n",
    "# Functions are put in cache and then are cleared when done (like cramming for an exam)\n",
    "dis.dis(simple)"
   ]
  },
  {
   "cell_type": "markdown",
   "id": "d2e07017",
   "metadata": {},
   "source": [
    "### Next, we will write a function that adds up all numbers until 0 is entered"
   ]
  },
  {
   "cell_type": "code",
   "execution_count": 28,
   "id": "f1743a42",
   "metadata": {},
   "outputs": [
    {
     "name": "stdout",
     "output_type": "stream",
     "text": [
      "number? 5\n",
      "Current total = 5\n",
      "number? 6\n",
      "Current total = 11\n",
      "number? 13\n",
      "Current total = 24\n",
      "number? -10\n",
      "Current total = 14\n",
      "number? 8\n",
      "Current total = 22\n",
      "number? 4\n",
      "Current total = 26\n",
      "number? 0\n",
      "Final total = 26\n"
     ]
    }
   ],
   "source": [
    "total  = 0\n",
    "number = int(input('number? '))\n",
    "\n",
    "while number != 0:\n",
    "    total  = total + number\n",
    "    print( 'Current total = ' + f'{total}')\n",
    "    number = int(input('number? '))\n",
    "    \n",
    "print( 'Final total = ' + f'{total}')"
   ]
  },
  {
   "cell_type": "markdown",
   "id": "ebee6ce7",
   "metadata": {},
   "source": [
    "### Combining Concepts\n",
    "<p></p>\n",
    "Now, you will write a function that calculates the nth <b>Fibonacci Number</b>.\n",
    "<p></p>\n",
    "The logic is:\n",
    "<ol>\n",
    "    <li>If less than 1, return 0</li>\n",
    "    <li>If 1 or 2, return 1</li>\n",
    "    <li>Otherwise, we will loop until we get to the nth number, adding the values</li>\n",
    "</ol>"
   ]
  },
  {
   "cell_type": "code",
   "execution_count": 20,
   "id": "61a9873f",
   "metadata": {},
   "outputs": [],
   "source": [
    "def fibonacci( fib_num ):\n",
    "    if fib_num == 0:\n",
    "        return 0\n",
    "    elif fib_num == 1:\n",
    "        return 1\n",
    "    elif fib_num == 2:\n",
    "        return 1\n",
    "    else:\n",
    "        iterator = 2\n",
    "        num_1 = 1\n",
    "        num_2 = 1\n",
    "        \n",
    "        # Iterate until the number is solves\n",
    "        while iterator <= fib_num:\n",
    "            temp = num_1 + num_2\n",
    "            num_2 = num_1\n",
    "            num_1 = temp\n",
    "            iterator += 1\n",
    "        \n",
    "        return num_2"
   ]
  },
  {
   "cell_type": "code",
   "execution_count": 30,
   "id": "8187b36b",
   "metadata": {
    "scrolled": true
   },
   "outputs": [
    {
     "name": "stdout",
     "output_type": "stream",
     "text": [
      "Which Fibonacci number: 8\n",
      "The 8th Fibonacci number is 21\n"
     ]
    }
   ],
   "source": [
    "fib_num = int( input('Which Fibonacci number: '))\n",
    "\n",
    "print( \"The \" + f'{fib_num}' +\"th Fibonacci number is \" f'{fibonacci(fib_num)}')"
   ]
  }
 ],
 "metadata": {
  "kernelspec": {
   "display_name": "Python 3 (ipykernel)",
   "language": "python",
   "name": "python3"
  },
  "language_info": {
   "codemirror_mode": {
    "name": "ipython",
    "version": 3
   },
   "file_extension": ".py",
   "mimetype": "text/x-python",
   "name": "python",
   "nbconvert_exporter": "python",
   "pygments_lexer": "ipython3",
   "version": "3.9.12"
  }
 },
 "nbformat": 4,
 "nbformat_minor": 5
}
