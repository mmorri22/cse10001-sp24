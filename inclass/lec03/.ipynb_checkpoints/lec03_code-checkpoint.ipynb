{
 "cells": [
  {
   "cell_type": "markdown",
   "id": "b5069922",
   "metadata": {},
   "source": [
    "### This is the preview Notebook for Lecture 03\n",
    "\n",
    "In this lecture, we will learn about the <b>Central Processing Unit</b> and <font color=\"red\">Conditional Executions</font>"
   ]
  },
  {
   "cell_type": "markdown",
   "id": "c578e406",
   "metadata": {},
   "source": [
    "### Introduction to Functions Continued\n",
    "\n",
    "Combining Concepts - Functions, ASCII, and Hexadecimal Values"
   ]
  },
  {
   "cell_type": "code",
   "execution_count": 2,
   "id": "e0af8234",
   "metadata": {},
   "outputs": [],
   "source": [
    "# Initial Values for our functions\n",
    "val_1 = 78\n",
    "val_2 = 111\n",
    "val_3 = 116\n",
    "val_4 = 114\n",
    "val_5 = 101"
   ]
  },
  {
   "cell_type": "code",
   "execution_count": 3,
   "id": "f741900b",
   "metadata": {},
   "outputs": [],
   "source": [
    "# Get the binary values\n",
    "binary_1 = bin( val_1 )\n",
    "binary_2 = bin( val_2 )\n",
    "binary_3 = bin( val_3 )\n",
    "binary_4 = bin( val_4 )\n",
    "binary_5 = bin( val_5 )"
   ]
  },
  {
   "cell_type": "code",
   "execution_count": 4,
   "id": "b08e99f6",
   "metadata": {},
   "outputs": [],
   "source": [
    "# Get the hexadecimal values\n",
    "hex_1 = hex( val_1 )\n",
    "hex_2 = hex( val_2 )\n",
    "hex_3 = hex( val_3 )\n",
    "hex_4 = hex( val_4 )\n",
    "hex_5 = hex( val_5 )"
   ]
  },
  {
   "cell_type": "code",
   "execution_count": 5,
   "id": "96ad0e7d",
   "metadata": {},
   "outputs": [],
   "source": [
    "# Get the ascii characters\n",
    "char_1 = chr( val_1 )\n",
    "char_2 = chr( val_2 )\n",
    "char_3 = chr( val_3 )\n",
    "char_4 = chr( val_4 )\n",
    "char_5 = chr( val_5 )"
   ]
  },
  {
   "cell_type": "code",
   "execution_count": 6,
   "id": "2dbc4733",
   "metadata": {},
   "outputs": [],
   "source": [
    "def print_conversions( int_val, binary_val, hex_val, char_val ):\n",
    "    print( f'{int_val}' + ': ' + f'{binary_val} ' + f'{hex_val} ' + f'{char_val}')"
   ]
  },
  {
   "cell_type": "code",
   "execution_count": 7,
   "id": "cc179577",
   "metadata": {
    "scrolled": true
   },
   "outputs": [
    {
     "name": "stdout",
     "output_type": "stream",
     "text": [
      "78: 0b1001110 0x4e N\n",
      "111: 0b1101111 0x6f o\n",
      "116: 0b1110100 0x74 t\n",
      "114: 0b1110010 0x72 r\n",
      "101: 0b1100101 0x65 e\n"
     ]
    }
   ],
   "source": [
    "# Print all results\n",
    "print_conversions(val_1, binary_1, hex_1, char_1)\n",
    "print_conversions(val_2, binary_2, hex_2, char_2)\n",
    "print_conversions(val_3, binary_3, hex_3, char_3)\n",
    "print_conversions(val_4, binary_4, hex_4, char_4)\n",
    "print_conversions(val_5, binary_5, hex_5, char_5)"
   ]
  },
  {
   "cell_type": "code",
   "execution_count": 8,
   "id": "082572c0",
   "metadata": {
    "scrolled": true
   },
   "outputs": [
    {
     "name": "stdout",
     "output_type": "stream",
     "text": [
      "78: 0b1001110 0x4e N\n",
      "111: 0b1101111 0x6f o\n",
      "116: 0b1110100 0x74 t\n",
      "114: 0b1110010 0x72 r\n",
      "101: 0b1100101 0x65 e\n"
     ]
    }
   ],
   "source": [
    "# Nested Functions to perform the same tasks\n",
    "print_conversions(val_1, bin( val_1 ), hex( val_1 ), chr( val_1 ))\n",
    "print_conversions(val_2, bin( val_2 ), hex( val_2 ), chr( val_2 ))\n",
    "print_conversions(val_3, bin( val_3 ), hex( val_3 ), chr( val_3 ))\n",
    "print_conversions(val_4, bin( val_4 ), hex( val_4 ), chr( val_4 ))\n",
    "print_conversions(val_5, bin( val_5 ), hex( val_5 ), chr( val_5 ))"
   ]
  },
  {
   "cell_type": "code",
   "execution_count": 9,
   "id": "f97eea0d",
   "metadata": {},
   "outputs": [],
   "source": [
    "# Write a function to Interact with\n",
    "def make_conversions( val_input ):\n",
    "    print_conversions(val_input, bin( val_input ), hex( val_input ), chr( val_input ))"
   ]
  },
  {
   "cell_type": "code",
   "execution_count": 10,
   "id": "145608fc",
   "metadata": {},
   "outputs": [],
   "source": [
    "# Libraries to import interact\n",
    "from __future__ import print_function\n",
    "from ipywidgets import interact, interactive, fixed, interact_manual\n",
    "import ipywidgets as widgets"
   ]
  },
  {
   "cell_type": "code",
   "execution_count": 11,
   "id": "e63aeaaa",
   "metadata": {
    "scrolled": true
   },
   "outputs": [
    {
     "data": {
      "application/vnd.jupyter.widget-view+json": {
       "model_id": "604ffd82034c47a9bfb3521544662576",
       "version_major": 2,
       "version_minor": 0
      },
      "text/plain": [
       "interactive(children=(IntSlider(value=63, description='val_input', max=127), Output()), _dom_classes=('widget-…"
      ]
     },
     "metadata": {},
     "output_type": "display_data"
    },
    {
     "data": {
      "text/plain": [
       "<function __main__.make_conversions(val_input)>"
      ]
     },
     "execution_count": 11,
     "metadata": {},
     "output_type": "execute_result"
    }
   ],
   "source": [
    "# How to run and implement interact\n",
    "\n",
    "interact( make_conversions, val_input=(0,127) )"
   ]
  },
  {
   "cell_type": "markdown",
   "id": "ad960881",
   "metadata": {},
   "source": [
    "### Simple Use of ANSI color codes\n",
    "\n",
    "For more detail, go to this link: <a href = \"https://ask.replit.com/t/rgb-colors-in-python/37782\">RGB colors in Python</a>\n",
    "\n",
    "The code below reads: <code>\\033[38;2;{};{};{}m{} \\033[38;2;255;255;255m</code>\n",
    "<ul>\n",
    "    <li><code>\\033[38;2;{};{};{}m{}</code> means format the color with RGB inputs in the first three {} values, and then the fourth including the text</li>\n",
    "    <li><code>\\033[38;2;255;255;255m</code> means the background is white</li>\n",
    "</ul>"
   ]
  },
  {
   "cell_type": "code",
   "execution_count": 39,
   "id": "96636050",
   "metadata": {},
   "outputs": [],
   "source": [
    "def colored(red, green, blue, text):\n",
    "    return \"\\033[38;2;{};{};{}m{} \\033[48;2;255;255;255m\".format(red, green, blue, text)"
   ]
  },
  {
   "cell_type": "code",
   "execution_count": 40,
   "id": "817d4509",
   "metadata": {},
   "outputs": [
    {
     "name": "stdout",
     "output_type": "stream",
     "text": [
      "\u001b[38;2;12;35;64mNotre \u001b[48;2;255;255;255m \u001b[38;2;201;151;0mDame \u001b[48;2;255;255;255m \u001b[38;2;10;131;64mFighting \u001b[48;2;255;255;255m \u001b[38;2;201;151;0mIrish \u001b[48;2;255;255;255m\n"
     ]
    }
   ],
   "source": [
    "notre_blue = colored( 12, 35, 64, 'Notre')\n",
    "dame_gold = colored( 201, 151, 0, 'Dame')\n",
    "fighting_green = colored( 10, 131, 64, 'Fighting')\n",
    "irish_gold = colored( 201, 151, 0, 'Irish')\n",
    "print( notre_blue + ' ' + dame_gold + ' ' + fighting_green + ' ' + irish_gold )"
   ]
  },
  {
   "cell_type": "markdown",
   "id": "68ae61da",
   "metadata": {},
   "source": [
    "### User Interaction\n",
    "\n",
    "First, we will write a function called <b>simple</b> that <b>adds two numbers</b> and then <b>displays the result</b>"
   ]
  },
  {
   "cell_type": "code",
   "execution_count": 12,
   "id": "7fb4d820",
   "metadata": {},
   "outputs": [],
   "source": [
    "# We will write the function for simple here:\n",
    "def simple():\n",
    "    x = int(input(\"x? \"))\n",
    "    y = int(input(\"y? \"))\n",
    "\n",
    "    print(x + y)"
   ]
  },
  {
   "cell_type": "code",
   "execution_count": 13,
   "id": "b31dd538",
   "metadata": {},
   "outputs": [],
   "source": [
    "# Next, we will import the dis library, which will help us view the assembly code\n",
    "import dis"
   ]
  },
  {
   "cell_type": "code",
   "execution_count": 14,
   "id": "b95bf89e",
   "metadata": {
    "scrolled": true
   },
   "outputs": [
    {
     "name": "stdout",
     "output_type": "stream",
     "text": [
      "x? 5\n",
      "y? 6\n",
      "11\n"
     ]
    }
   ],
   "source": [
    "# Run example\n",
    "simple()"
   ]
  },
  {
   "cell_type": "code",
   "execution_count": 15,
   "id": "dca760db",
   "metadata": {},
   "outputs": [
    {
     "name": "stdout",
     "output_type": "stream",
     "text": [
      "  3           0 LOAD_GLOBAL              0 (int)\n",
      "              2 LOAD_GLOBAL              1 (input)\n",
      "              4 LOAD_CONST               1 ('x? ')\n",
      "              6 CALL_FUNCTION            1\n",
      "              8 CALL_FUNCTION            1\n",
      "             10 STORE_FAST               0 (x)\n",
      "\n",
      "  4          12 LOAD_GLOBAL              0 (int)\n",
      "             14 LOAD_GLOBAL              1 (input)\n",
      "             16 LOAD_CONST               2 ('y? ')\n",
      "             18 CALL_FUNCTION            1\n",
      "             20 CALL_FUNCTION            1\n",
      "             22 STORE_FAST               1 (y)\n",
      "\n",
      "  6          24 LOAD_GLOBAL              2 (print)\n",
      "             26 LOAD_FAST                0 (x)\n",
      "             28 LOAD_FAST                1 (y)\n",
      "             30 BINARY_ADD\n",
      "             32 CALL_FUNCTION            1\n",
      "             34 POP_TOP\n",
      "             36 LOAD_CONST               0 (None)\n",
      "             38 RETURN_VALUE\n"
     ]
    }
   ],
   "source": [
    "# By passing simple to a dis function, we can see how the compiler will organize it\n",
    "# Functions are put in cache and then are cleared when done (like cramming for an exam)\n",
    "dis.dis(simple)"
   ]
  },
  {
   "cell_type": "markdown",
   "id": "d2e07017",
   "metadata": {},
   "source": [
    "### Next, we will write a function that adds up all numbers until 0 is entered"
   ]
  },
  {
   "cell_type": "code",
   "execution_count": 16,
   "id": "f1743a42",
   "metadata": {},
   "outputs": [
    {
     "name": "stdout",
     "output_type": "stream",
     "text": [
      "number? 8\n",
      "Current total = 8\n",
      "number? 7\n",
      "Current total = 15\n",
      "number? 22\n",
      "Current total = 37\n",
      "number? 19\n",
      "Current total = 56\n",
      "number? 6\n",
      "Current total = 62\n",
      "number? 81\n",
      "Current total = 143\n",
      "number? 0\n",
      "Final total = 143\n"
     ]
    }
   ],
   "source": [
    "total  = 0\n",
    "number = int(input('number? '))\n",
    "\n",
    "while number != 0:\n",
    "    total  = total + number\n",
    "    print( 'Current total = ' + f'{total}')\n",
    "    number = int(input('number? '))\n",
    "    \n",
    "print( 'Final total = ' + f'{total}')"
   ]
  },
  {
   "cell_type": "markdown",
   "id": "ebee6ce7",
   "metadata": {},
   "source": [
    "### Combining Concepts\n",
    "<p></p>\n",
    "Now, you will write a function that calculates the nth <b>Fibonacci Number</b>.\n",
    "<p></p>\n",
    "The logic is:\n",
    "<ol>\n",
    "    <li>If less than 1, return 0</li>\n",
    "    <li>If 1 or 2, return 1</li>\n",
    "    <li>Otherwise, we will loop until we get to the nth number, adding the values</li>\n",
    "</ol>"
   ]
  },
  {
   "cell_type": "code",
   "execution_count": 19,
   "id": "61a9873f",
   "metadata": {},
   "outputs": [],
   "source": [
    "# Enter the function here here\n",
    "\n",
    "def fibonacci( fib_num ):\n",
    "    if fib_num == 0:\n",
    "        return 0\n",
    "    elif fib_num == 1:\n",
    "        return 1\n",
    "    elif fib_num == 2:\n",
    "        return 1\n",
    "    else:\n",
    "        iterator = 2\n",
    "        num_1 = 1\n",
    "        num_2 = 1\n",
    "        \n",
    "        # Iterate until the number is solves\n",
    "        while iterator <= fib_num:\n",
    "            temp = num_1 + num_2\n",
    "            num_2 = num_1\n",
    "            num_1 = temp\n",
    "            iterator += 1\n",
    "        \n",
    "        return num_2"
   ]
  },
  {
   "cell_type": "code",
   "execution_count": 20,
   "id": "8187b36b",
   "metadata": {
    "scrolled": true
   },
   "outputs": [
    {
     "name": "stdout",
     "output_type": "stream",
     "text": [
      "Which Fibonacci number: 9\n",
      "The 9th Fibonacci number is 34\n"
     ]
    }
   ],
   "source": [
    "# Run the code here\n",
    "\n",
    "fib_num = int( input('Which Fibonacci number: '))\n",
    "\n",
    "print( \"The \" + f'{fib_num}' +\"th Fibonacci number is \" f'{fibonacci(fib_num)}')"
   ]
  },
  {
   "cell_type": "markdown",
   "id": "725d4884",
   "metadata": {},
   "source": [
    "## Break Statements"
   ]
  },
  {
   "cell_type": "code",
   "execution_count": null,
   "id": "a3f1701e",
   "metadata": {},
   "outputs": [],
   "source": [
    "# A while loop without a break statement\n",
    "name = input('Please type your name: ')\n",
    "\n",
    "while name != 'Matt Morrison':\n",
    "\n",
    "    print('Nah... you are not as cool as ' + name)\n",
    "    \n",
    "    # But note how I have to call input again. Same line of code twice!\n",
    "    name = input('Please type your name: ')\n",
    "        \n",
    "print('Thank you!')"
   ]
  },
  {
   "cell_type": "code",
   "execution_count": null,
   "id": "7cc31649",
   "metadata": {},
   "outputs": [],
   "source": [
    "# Practicing break statements\n",
    "while True:\n",
    "    name = input('Please type your name: ')\n",
    "    if name == 'Matt Morrison':\n",
    "        break\n",
    "    else:\n",
    "        print('Nah... you are not as cool as ' + name)\n",
    "        \n",
    "print('Thank you!')"
   ]
  },
  {
   "cell_type": "markdown",
   "id": "d9212791",
   "metadata": {},
   "source": [
    "### Time Permitting: Next, we will learn about try/except\n",
    "\n",
    "We will first learn about this using <b>ZeroDivisionError</b>"
   ]
  },
  {
   "cell_type": "code",
   "execution_count": null,
   "id": "2d29bd56",
   "metadata": {},
   "outputs": [],
   "source": [
    "x = int(input('X?'))\n",
    "y = int(input('Y?'))\n",
    "\n",
    "# We will write the try/except here\n",
    "\n",
    "try: # Attempt division\n",
    "    z = x / y\n",
    "    print(z)\n",
    "    \n",
    "except ZeroDivisionError:\n",
    "    # Handle Exception\n",
    "    print('Y cannot be 0!')"
   ]
  }
 ],
 "metadata": {
  "kernelspec": {
   "display_name": "Python 3 (ipykernel)",
   "language": "python",
   "name": "python3"
  },
  "language_info": {
   "codemirror_mode": {
    "name": "ipython",
    "version": 3
   },
   "file_extension": ".py",
   "mimetype": "text/x-python",
   "name": "python",
   "nbconvert_exporter": "python",
   "pygments_lexer": "ipython3",
   "version": "3.9.13"
  }
 },
 "nbformat": 4,
 "nbformat_minor": 5
}
