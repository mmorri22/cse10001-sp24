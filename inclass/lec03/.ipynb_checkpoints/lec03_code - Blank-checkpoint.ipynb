{
 "cells": [
  {
   "cell_type": "markdown",
   "id": "b5069922",
   "metadata": {},
   "source": [
    "### This is the preview Notebook for Lecture 03\n",
    "\n",
    "In this lecture, we will learn about the <b>Central Processing Unit</b> and <font color=\"red\">Conditional Executions</font>"
   ]
  },
  {
   "cell_type": "markdown",
   "id": "750d5b4a",
   "metadata": {},
   "source": [
    "### Introduction to Functions Continued\n",
    "\n",
    "Combining Concepts - Functions, ASCII, and Hexadecimal Values"
   ]
  },
  {
   "cell_type": "code",
   "execution_count": 5,
   "id": "1bc6a34a",
   "metadata": {},
   "outputs": [],
   "source": [
    "# Initial Values for our functions\n",
    "val_1 = 78\n",
    "val_2 = 111\n",
    "val_3 = 116\n",
    "val_4 = 114\n",
    "val_5 = 101"
   ]
  },
  {
   "cell_type": "code",
   "execution_count": 6,
   "id": "4cc2255b",
   "metadata": {
    "scrolled": false
   },
   "outputs": [],
   "source": [
    "# Get the binary values\n"
   ]
  },
  {
   "cell_type": "code",
   "execution_count": null,
   "id": "201ee15e",
   "metadata": {},
   "outputs": [],
   "source": []
  },
  {
   "cell_type": "code",
   "execution_count": null,
   "id": "d2973c43",
   "metadata": {},
   "outputs": [],
   "source": [
    "# Get the hexadecimal values\n"
   ]
  },
  {
   "cell_type": "code",
   "execution_count": null,
   "id": "56c05214",
   "metadata": {},
   "outputs": [],
   "source": [
    "# Get the ascii characters\n"
   ]
  },
  {
   "cell_type": "code",
   "execution_count": null,
   "id": "4019df5f",
   "metadata": {},
   "outputs": [],
   "source": [
    "# print_conversions\n"
   ]
  },
  {
   "cell_type": "code",
   "execution_count": null,
   "id": "c54a69cd",
   "metadata": {},
   "outputs": [],
   "source": [
    "# Print all results\n"
   ]
  },
  {
   "cell_type": "code",
   "execution_count": null,
   "id": "bc08f4f3",
   "metadata": {},
   "outputs": [],
   "source": [
    "# Nested functions!\n"
   ]
  },
  {
   "cell_type": "code",
   "execution_count": null,
   "id": "27ae6ec5",
   "metadata": {},
   "outputs": [],
   "source": [
    "# Call print_conversions within another function make_conversions\n",
    "# Reduce the work!\n"
   ]
  },
  {
   "cell_type": "code",
   "execution_count": null,
   "id": "d09a83e5",
   "metadata": {},
   "outputs": [],
   "source": [
    "# Libraries to import interact\n",
    "from __future__ import print_function\n",
    "from ipywidgets import interact, interactive, fixed, interact_manual\n",
    "import ipywidgets as widgets"
   ]
  },
  {
   "cell_type": "code",
   "execution_count": null,
   "id": "31bfddec",
   "metadata": {},
   "outputs": [],
   "source": [
    "# How to run and implement interact\n"
   ]
  },
  {
   "cell_type": "markdown",
   "id": "74963fc3",
   "metadata": {},
   "source": [
    "### User Interaction\n",
    "\n",
    "First, we will write a function called <b>simple</b> that <b>adds two numbers</b> and then <b>displays the result</b>"
   ]
  },
  {
   "cell_type": "code",
   "execution_count": 1,
   "id": "7fb4d820",
   "metadata": {},
   "outputs": [],
   "source": [
    "# We will write the function for simple here:"
   ]
  },
  {
   "cell_type": "code",
   "execution_count": 2,
   "id": "b31dd538",
   "metadata": {},
   "outputs": [],
   "source": [
    "# Next, we will import the dis library, which will help us view the assembly code"
   ]
  },
  {
   "cell_type": "code",
   "execution_count": 1,
   "id": "b95bf89e",
   "metadata": {
    "scrolled": true
   },
   "outputs": [],
   "source": [
    "# Run example"
   ]
  },
  {
   "cell_type": "code",
   "execution_count": 2,
   "id": "dca760db",
   "metadata": {},
   "outputs": [],
   "source": [
    "# By passing simple to a dis function, we can see how the compiler will organize it\n",
    "# Functions are put in cache and then are cleared when done (like cramming for an exam)"
   ]
  },
  {
   "cell_type": "markdown",
   "id": "d2e07017",
   "metadata": {},
   "source": [
    "### Next, we will write a function that adds up all numbers until 0 is entered"
   ]
  },
  {
   "cell_type": "code",
   "execution_count": 3,
   "id": "f1743a42",
   "metadata": {},
   "outputs": [],
   "source": [
    "# Enter the code here"
   ]
  },
  {
   "cell_type": "markdown",
   "id": "38eca557",
   "metadata": {},
   "source": [
    "### Combining Concepts\n",
    "<p></p>\n",
    "Now, you will write a function that calculates the nth <b>Fibonacci Number</b>.\n",
    "<p></p>\n",
    "The logic is:\n",
    "<ol>\n",
    "    <li>If less than 1, return 0</li>\n",
    "    <li>If 1 or 2, return 1</li>\n",
    "    <li>Otherwise, we will loop until we get to the nth number, adding the values</li>\n",
    "</ol>"
   ]
  },
  {
   "cell_type": "code",
   "execution_count": 20,
   "id": "61a9873f",
   "metadata": {},
   "outputs": [],
   "source": [
    "# Enter the function here here"
   ]
  },
  {
   "cell_type": "code",
   "execution_count": 4,
   "id": "8187b36b",
   "metadata": {},
   "outputs": [],
   "source": [
    "# Enter the run code here"
   ]
  },
  {
   "cell_type": "markdown",
   "id": "e6afbe96",
   "metadata": {},
   "source": [
    "## Break Statements"
   ]
  },
  {
   "cell_type": "code",
   "execution_count": null,
   "id": "3083454a",
   "metadata": {},
   "outputs": [],
   "source": [
    "# While loop without a break statement"
   ]
  },
  {
   "cell_type": "code",
   "execution_count": null,
   "id": "0fb79675",
   "metadata": {},
   "outputs": [],
   "source": [
    "# Practicing break statements"
   ]
  },
  {
   "cell_type": "markdown",
   "id": "46a8aae7",
   "metadata": {},
   "source": [
    "### Time Permitting: Next, we will learn about try/except\n",
    "\n",
    "We will first learn about this using <b>ZeroDivisionError</b>"
   ]
  },
  {
   "cell_type": "code",
   "execution_count": null,
   "id": "cf9a0187",
   "metadata": {},
   "outputs": [],
   "source": [
    "x = int(input('X?'))\n",
    "y = int(input('Y?'))\n",
    "\n",
    "# We will write the try/except here\n",
    "\n"
   ]
  },
  {
   "cell_type": "code",
   "execution_count": null,
   "id": "82e32d7e",
   "metadata": {},
   "outputs": [],
   "source": []
  }
 ],
 "metadata": {
  "kernelspec": {
   "display_name": "Python 3 (ipykernel)",
   "language": "python",
   "name": "python3"
  },
  "language_info": {
   "codemirror_mode": {
    "name": "ipython",
    "version": 3
   },
   "file_extension": ".py",
   "mimetype": "text/x-python",
   "name": "python",
   "nbconvert_exporter": "python",
   "pygments_lexer": "ipython3",
   "version": "3.9.13"
  }
 },
 "nbformat": 4,
 "nbformat_minor": 5
}
