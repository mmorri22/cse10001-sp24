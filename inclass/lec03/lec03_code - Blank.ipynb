{
 "cells": [
  {
   "cell_type": "markdown",
   "id": "b5069922",
   "metadata": {},
   "source": [
    "### This is the preview Notebook for Lecture 03\n",
    "\n",
    "In this lecture, we will learn about the <b>Central Processing Unit</b> and <font color=\"red\">Conditional Executions</font>"
   ]
  },
  {
   "cell_type": "markdown",
   "id": "74963fc3",
   "metadata": {},
   "source": [
    "First, we will write a function called <b>simple</b> that <b>adds two numbers</b> and then <b>displays the result</b>"
   ]
  },
  {
   "cell_type": "code",
   "execution_count": 1,
   "id": "7fb4d820",
   "metadata": {},
   "outputs": [],
   "source": [
    "# We will write the function for simple here:"
   ]
  },
  {
   "cell_type": "code",
   "execution_count": 2,
   "id": "b31dd538",
   "metadata": {},
   "outputs": [],
   "source": [
    "# Next, we will import the dis library, which will help us view the assembly code"
   ]
  },
  {
   "cell_type": "code",
   "execution_count": 1,
   "id": "b95bf89e",
   "metadata": {
    "scrolled": true
   },
   "outputs": [],
   "source": [
    "# Run example"
   ]
  },
  {
   "cell_type": "code",
   "execution_count": 2,
   "id": "dca760db",
   "metadata": {},
   "outputs": [],
   "source": [
    "# By passing simple to a dis function, we can see how the compiler will organize it\n",
    "# Functions are put in cache and then are cleared when done (like cramming for an exam)"
   ]
  },
  {
   "cell_type": "markdown",
   "id": "d2e07017",
   "metadata": {},
   "source": [
    "### Next, we will write a function that adds up all numbers until 0 is entered"
   ]
  },
  {
   "cell_type": "code",
   "execution_count": 3,
   "id": "f1743a42",
   "metadata": {},
   "outputs": [],
   "source": [
    "# Enter the code here"
   ]
  },
  {
   "cell_type": "markdown",
   "id": "38eca557",
   "metadata": {},
   "source": [
    "### Combining Concepts\n",
    "<p></p>\n",
    "Now, you will write a function that calculates the nth <b>Fibonacci Number</b>.\n",
    "<p></p>\n",
    "The logic is:\n",
    "<ol>\n",
    "    <li>If less than 1, return 0</li>\n",
    "    <li>If 1 or 2, return 1</li>\n",
    "    <li>Otherwise, we will loop until we get to the nth number, adding the values</li>\n",
    "</ol>"
   ]
  },
  {
   "cell_type": "code",
   "execution_count": 20,
   "id": "61a9873f",
   "metadata": {},
   "outputs": [],
   "source": [
    "# Enter the function here here"
   ]
  },
  {
   "cell_type": "code",
   "execution_count": 4,
   "id": "8187b36b",
   "metadata": {},
   "outputs": [],
   "source": [
    "# Enter the run code here"
   ]
  },
  {
   "cell_type": "markdown",
   "id": "1e872c01",
   "metadata": {},
   "source": [
    "### Here, we will code an example of an exception.\n",
    "\n",
    "You will see it code will <i>not</i> call print(z) because the exception was caught\n",
    "\n",
    "Good for protecting your program!"
   ]
  },
  {
   "cell_type": "code",
   "execution_count": 5,
   "id": "1edd86e4",
   "metadata": {},
   "outputs": [],
   "source": [
    "# Exception Code here"
   ]
  },
  {
   "cell_type": "markdown",
   "id": "695868d2",
   "metadata": {},
   "source": [
    "### Now let's do some examples of code using binary logic!"
   ]
  },
  {
   "cell_type": "code",
   "execution_count": 6,
   "id": "f4d38c4e",
   "metadata": {},
   "outputs": [],
   "source": [
    "# An example of AND using &\n",
    "# Compares the binary in each column\n",
    "# Only true if BOTH are 1"
   ]
  },
  {
   "cell_type": "code",
   "execution_count": 7,
   "id": "4b428195",
   "metadata": {},
   "outputs": [],
   "source": [
    "# An example of OR using |\n",
    "# Compares the binary in each column\n",
    "# True if EITHER are 1"
   ]
  },
  {
   "cell_type": "code",
   "execution_count": 9,
   "id": "0b6e1fc5",
   "metadata": {},
   "outputs": [],
   "source": [
    "# Mapping Dorms to Quads\n",
    "\n",
    "# Calls dorm_to_quad and then prints a formatted result"
   ]
  },
  {
   "cell_type": "code",
   "execution_count": 8,
   "id": "24b8c75c",
   "metadata": {},
   "outputs": [],
   "source": [
    "# Python's inputs are not case sensitive\n",
    "# We can put in all lower-case and this will work\n",
    "# This is not the case with most programming languages"
   ]
  },
  {
   "cell_type": "code",
   "execution_count": 10,
   "id": "8f7114bd",
   "metadata": {},
   "outputs": [],
   "source": [
    "# We can do uppercase first letter"
   ]
  },
  {
   "cell_type": "code",
   "execution_count": 11,
   "id": "00619562",
   "metadata": {},
   "outputs": [],
   "source": [
    "# We can do random letters"
   ]
  },
  {
   "cell_type": "code",
   "execution_count": null,
   "id": "6c6c5154",
   "metadata": {},
   "outputs": [],
   "source": []
  }
 ],
 "metadata": {
  "kernelspec": {
   "display_name": "Python 3 (ipykernel)",
   "language": "python",
   "name": "python3"
  },
  "language_info": {
   "codemirror_mode": {
    "name": "ipython",
    "version": 3
   },
   "file_extension": ".py",
   "mimetype": "text/x-python",
   "name": "python",
   "nbconvert_exporter": "python",
   "pygments_lexer": "ipython3",
   "version": "3.9.12"
  }
 },
 "nbformat": 4,
 "nbformat_minor": 5
}
