{
 "cells": [
  {
   "cell_type": "markdown",
   "id": "4ee9d952",
   "metadata": {},
   "source": [
    "## In-Class Lecture 26-3 - Building a Library"
   ]
  },
  {
   "cell_type": "markdown",
   "id": "2111c7aa",
   "metadata": {},
   "source": [
    "In this lecture, we will combine your understanding of C structs, dynamic memory, FILE*, and standard input/output in order to develop a library."
   ]
  },
  {
   "cell_type": "markdown",
   "id": "e1fdcc7f",
   "metadata": {},
   "source": [
    "### Build the Library\n",
    "\n",
    "We will perform the following tasks\n",
    "<ul>\n",
    "    <li>Check the command line input for a file name</li>\n",
    "    <li>Create a FILE* for the file, and properly check to ensure the FILE* is pointing to a valid file</li>\n",
    "    <li>Read in information from the library</li>\n",
    "    <li>Create a dynamically allocated array of those struct that represents the library information for each book</li>\n",
    "    <li>Ensure we have properly cleaned the memory</li>\n",
    "    <li>Store the information</li>\n",
    "    <li>Print the information</li>\n",
    "    <li>Time Permitting: Update the number of books</li>\n",
    "</ul>"
   ]
  },
  {
   "cell_type": "markdown",
   "id": "4c0ec102",
   "metadata": {},
   "source": [
    "## Compilation Run\n",
    "\n",
    "    make library\n",
    "    \n",
    "    valgrind --leak-check=full ./library library.txt library_out.txt"
   ]
  }
 ],
 "metadata": {
  "kernelspec": {
   "display_name": "Python 3 (ipykernel)",
   "language": "python",
   "name": "python3"
  },
  "language_info": {
   "codemirror_mode": {
    "name": "ipython",
    "version": 3
   },
   "file_extension": ".py",
   "mimetype": "text/x-python",
   "name": "python",
   "nbconvert_exporter": "python",
   "pygments_lexer": "ipython3",
   "version": "3.9.13"
  }
 },
 "nbformat": 4,
 "nbformat_minor": 5
}
