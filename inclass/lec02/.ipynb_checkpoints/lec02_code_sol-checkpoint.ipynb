{
 "cells": [
  {
   "cell_type": "markdown",
   "id": "c150a205",
   "metadata": {},
   "source": [
    "### Key Concepts\n",
    "1. Binary conversion to ASCII\n",
    "2. Paying close attention to what data type you are using\n",
    "3. Floats vs. Integers ( Precision vs. Accuracy )\n",
    "4. Errors, and making sure you are using the correct syntax."
   ]
  },
  {
   "cell_type": "markdown",
   "id": "b63c9385",
   "metadata": {},
   "source": [
    "### This is the preview notebook for Lecture 02\n",
    "<p>   </p>\n",
    "In this lecture, we will learn about <b>variables</b>, <font color = \"red\">expressions</font>, and <i>functions</i>. Specifically, you will learn about:<br>\n",
    "<ol>\n",
    "    <li>Expressions and how to determine a data type<br>\n",
    "    <li>Boolean operators in Python<br>\n",
    "    <li>Variables and variable tracing<br>\n",
    "    <li>Functions<br>\n",
    "    <li>Nested Functions<br>\n",
    "</ol>\n"
   ]
  },
  {
   "cell_type": "code",
   "execution_count": 1,
   "id": "d6cd0815",
   "metadata": {
    "scrolled": true
   },
   "outputs": [
    {
     "data": {
      "text/plain": [
       "'Hello, World'"
      ]
     },
     "execution_count": 1,
     "metadata": {},
     "output_type": "execute_result"
    }
   ],
   "source": [
    "# Print a basic string\n",
    "'Hello, World'"
   ]
  },
  {
   "cell_type": "code",
   "execution_count": 2,
   "id": "ab8b37ea",
   "metadata": {},
   "outputs": [
    {
     "ename": "SyntaxError",
     "evalue": "EOL while scanning string literal (1025742826.py, line 2)",
     "output_type": "error",
     "traceback": [
      "\u001b[1;36m  File \u001b[1;32m\"C:\\Users\\mmorri22\\AppData\\Local\\Temp\\ipykernel_21120\\1025742826.py\"\u001b[1;36m, line \u001b[1;32m2\u001b[0m\n\u001b[1;33m    'Hello, World\u001b[0m\n\u001b[1;37m                 ^\u001b[0m\n\u001b[1;31mSyntaxError\u001b[0m\u001b[1;31m:\u001b[0m EOL while scanning string literal\n"
     ]
    }
   ],
   "source": [
    "# Compiler Error Example - Common coding mistake\n",
    "'Hello, World"
   ]
  },
  {
   "cell_type": "code",
   "execution_count": 3,
   "id": "10c1fd80",
   "metadata": {},
   "outputs": [
    {
     "data": {
      "text/plain": [
       "'AliceBob'"
      ]
     },
     "execution_count": 3,
     "metadata": {},
     "output_type": "execute_result"
    }
   ],
   "source": [
    "# Concatenate two strings using +\n",
    "'Alice' + 'Bob'"
   ]
  },
  {
   "cell_type": "code",
   "execution_count": 4,
   "id": "91fe7cde",
   "metadata": {},
   "outputs": [
    {
     "data": {
      "text/plain": [
       "'Go Irish!'"
      ]
     },
     "execution_count": 4,
     "metadata": {},
     "output_type": "execute_result"
    }
   ],
   "source": [
    "# Remember the space in ASCII\n",
    "'Go ' + 'Irish!' "
   ]
  },
  {
   "cell_type": "code",
   "execution_count": 5,
   "id": "1aff6bf6",
   "metadata": {},
   "outputs": [
    {
     "ename": "TypeError",
     "evalue": "can only concatenate str (not \"int\") to str",
     "output_type": "error",
     "traceback": [
      "\u001b[1;31m---------------------------------------------------------------------------\u001b[0m",
      "\u001b[1;31mTypeError\u001b[0m                                 Traceback (most recent call last)",
      "\u001b[1;32m~\\AppData\\Local\\Temp\\ipykernel_21120\\1980721940.py\u001b[0m in \u001b[0;36m<module>\u001b[1;34m\u001b[0m\n\u001b[0;32m      1\u001b[0m \u001b[1;31m# Example of Type Error\u001b[0m\u001b[1;33m\u001b[0m\u001b[1;33m\u001b[0m\u001b[0m\n\u001b[1;32m----> 2\u001b[1;33m \u001b[1;34m'Alice'\u001b[0m \u001b[1;33m+\u001b[0m \u001b[1;36m42\u001b[0m\u001b[1;33m\u001b[0m\u001b[1;33m\u001b[0m\u001b[0m\n\u001b[0m",
      "\u001b[1;31mTypeError\u001b[0m: can only concatenate str (not \"int\") to str"
     ]
    }
   ],
   "source": [
    "# Example of Type Error\n",
    "'Alice' + 42"
   ]
  },
  {
   "cell_type": "code",
   "execution_count": 6,
   "id": "570ca379",
   "metadata": {},
   "outputs": [
    {
     "data": {
      "text/plain": [
       "'AliceAliceAliceAliceAlice'"
      ]
     },
     "execution_count": 6,
     "metadata": {},
     "output_type": "execute_result"
    }
   ],
   "source": [
    "# But multiplying a string in Python works!\n",
    "'Alice' * 5"
   ]
  },
  {
   "cell_type": "markdown",
   "id": "ec747622",
   "metadata": {},
   "source": [
    "### Using Variables in Python"
   ]
  },
  {
   "cell_type": "code",
   "execution_count": 1,
   "id": "0f4f0dca",
   "metadata": {},
   "outputs": [],
   "source": [
    "# Setting the variable name\n",
    "x = 5"
   ]
  },
  {
   "cell_type": "code",
   "execution_count": 2,
   "id": "023e3e11",
   "metadata": {},
   "outputs": [
    {
     "data": {
      "text/plain": [
       "5"
      ]
     },
     "execution_count": 2,
     "metadata": {},
     "output_type": "execute_result"
    }
   ],
   "source": [
    "# Print the variable value\n",
    "x"
   ]
  },
  {
   "cell_type": "code",
   "execution_count": 7,
   "id": "79b82018",
   "metadata": {},
   "outputs": [
    {
     "data": {
      "text/plain": [
       "6"
      ]
     },
     "execution_count": 7,
     "metadata": {},
     "output_type": "execute_result"
    }
   ],
   "source": [
    "# Update and print the result\n",
    "x = 6\n",
    "x"
   ]
  },
  {
   "cell_type": "code",
   "execution_count": 8,
   "id": "d530e667",
   "metadata": {},
   "outputs": [],
   "source": [
    "# You can change variable types in Python by setting the name of the variable type\n",
    "# Just be careful to keep track\n",
    "# (In C, we will need to be more explicit)\n",
    "\n",
    "x = 'CSE10001'"
   ]
  },
  {
   "cell_type": "code",
   "execution_count": 5,
   "id": "7a0dd5bf",
   "metadata": {},
   "outputs": [
    {
     "data": {
      "text/plain": [
       "'CSE10001'"
      ]
     },
     "execution_count": 5,
     "metadata": {},
     "output_type": "execute_result"
    }
   ],
   "source": [
    "x"
   ]
  },
  {
   "cell_type": "code",
   "execution_count": 6,
   "id": "5e1c1e83",
   "metadata": {},
   "outputs": [
    {
     "data": {
      "text/plain": [
       "str"
      ]
     },
     "execution_count": 6,
     "metadata": {},
     "output_type": "execute_result"
    }
   ],
   "source": [
    "# How to check the type when troubleshooting\n",
    "type(x)"
   ]
  },
  {
   "cell_type": "code",
   "execution_count": 7,
   "id": "3ee36d71",
   "metadata": {},
   "outputs": [
    {
     "data": {
      "text/plain": [
       "int"
      ]
     },
     "execution_count": 7,
     "metadata": {},
     "output_type": "execute_result"
    }
   ],
   "source": [
    "type(5)"
   ]
  },
  {
   "cell_type": "code",
   "execution_count": 8,
   "id": "8f2e267a",
   "metadata": {},
   "outputs": [
    {
     "data": {
      "text/plain": [
       "str"
      ]
     },
     "execution_count": 8,
     "metadata": {},
     "output_type": "execute_result"
    }
   ],
   "source": [
    "type(\"5\")"
   ]
  },
  {
   "cell_type": "code",
   "execution_count": 9,
   "id": "abbd4e0e",
   "metadata": {
    "scrolled": false
   },
   "outputs": [
    {
     "data": {
      "text/plain": [
       "float"
      ]
     },
     "execution_count": 9,
     "metadata": {},
     "output_type": "execute_result"
    }
   ],
   "source": [
    "type(5.0)"
   ]
  },
  {
   "cell_type": "markdown",
   "id": "7d8c2238",
   "metadata": {},
   "source": [
    "### Boolean Values"
   ]
  },
  {
   "cell_type": "code",
   "execution_count": 13,
   "id": "87a6c357",
   "metadata": {},
   "outputs": [
    {
     "data": {
      "text/plain": [
       "True"
      ]
     },
     "execution_count": 13,
     "metadata": {},
     "output_type": "execute_result"
    }
   ],
   "source": [
    "True"
   ]
  },
  {
   "cell_type": "code",
   "execution_count": 14,
   "id": "8863d986",
   "metadata": {},
   "outputs": [
    {
     "data": {
      "text/plain": [
       "False"
      ]
     },
     "execution_count": 14,
     "metadata": {},
     "output_type": "execute_result"
    }
   ],
   "source": [
    "False"
   ]
  },
  {
   "cell_type": "code",
   "execution_count": 15,
   "id": "5e096fed",
   "metadata": {},
   "outputs": [
    {
     "data": {
      "text/plain": [
       "True"
      ]
     },
     "execution_count": 15,
     "metadata": {},
     "output_type": "execute_result"
    }
   ],
   "source": [
    "# OR Example\n",
    "True or False"
   ]
  },
  {
   "cell_type": "code",
   "execution_count": 16,
   "id": "10e7aeed",
   "metadata": {},
   "outputs": [
    {
     "data": {
      "text/plain": [
       "False"
      ]
     },
     "execution_count": 16,
     "metadata": {},
     "output_type": "execute_result"
    }
   ],
   "source": [
    "False or False"
   ]
  },
  {
   "cell_type": "code",
   "execution_count": 17,
   "id": "7c0d00b3",
   "metadata": {},
   "outputs": [
    {
     "data": {
      "text/plain": [
       "False"
      ]
     },
     "execution_count": 17,
     "metadata": {},
     "output_type": "execute_result"
    }
   ],
   "source": [
    "# AND Operator\n",
    "False and True"
   ]
  },
  {
   "cell_type": "code",
   "execution_count": 18,
   "id": "e17662ae",
   "metadata": {},
   "outputs": [
    {
     "data": {
      "text/plain": [
       "True"
      ]
     },
     "execution_count": 18,
     "metadata": {},
     "output_type": "execute_result"
    }
   ],
   "source": [
    "True and True"
   ]
  },
  {
   "cell_type": "code",
   "execution_count": 19,
   "id": "3e070079",
   "metadata": {},
   "outputs": [
    {
     "data": {
      "text/plain": [
       "False"
      ]
     },
     "execution_count": 19,
     "metadata": {},
     "output_type": "execute_result"
    }
   ],
   "source": [
    "False and False"
   ]
  },
  {
   "cell_type": "code",
   "execution_count": 20,
   "id": "fad55a28",
   "metadata": {},
   "outputs": [
    {
     "data": {
      "text/plain": [
       "False"
      ]
     },
     "execution_count": 20,
     "metadata": {},
     "output_type": "execute_result"
    }
   ],
   "source": [
    "(True and True) and False"
   ]
  },
  {
   "cell_type": "code",
   "execution_count": 21,
   "id": "e75e3c37",
   "metadata": {},
   "outputs": [
    {
     "data": {
      "text/plain": [
       "False"
      ]
     },
     "execution_count": 21,
     "metadata": {},
     "output_type": "execute_result"
    }
   ],
   "source": [
    "False or (True and False)"
   ]
  },
  {
   "cell_type": "code",
   "execution_count": 22,
   "id": "f918671c",
   "metadata": {},
   "outputs": [],
   "source": [
    "# Booleans in Variables\n",
    "x = True\n",
    "y = True\n",
    "z = False"
   ]
  },
  {
   "cell_type": "code",
   "execution_count": 23,
   "id": "fc73d4f9",
   "metadata": {},
   "outputs": [
    {
     "data": {
      "text/plain": [
       "bool"
      ]
     },
     "execution_count": 23,
     "metadata": {},
     "output_type": "execute_result"
    }
   ],
   "source": [
    "type(x)"
   ]
  },
  {
   "cell_type": "code",
   "execution_count": 24,
   "id": "13921fff",
   "metadata": {},
   "outputs": [
    {
     "data": {
      "text/plain": [
       "True"
      ]
     },
     "execution_count": 24,
     "metadata": {},
     "output_type": "execute_result"
    }
   ],
   "source": [
    "x and y"
   ]
  },
  {
   "cell_type": "code",
   "execution_count": 25,
   "id": "897eb1d8",
   "metadata": {},
   "outputs": [
    {
     "data": {
      "text/plain": [
       "False"
      ]
     },
     "execution_count": 25,
     "metadata": {},
     "output_type": "execute_result"
    }
   ],
   "source": [
    "x and z"
   ]
  },
  {
   "cell_type": "markdown",
   "id": "399826cb",
   "metadata": {},
   "source": [
    "### Print Function"
   ]
  },
  {
   "cell_type": "code",
   "execution_count": 26,
   "id": "ac28e5b7",
   "metadata": {},
   "outputs": [
    {
     "name": "stdout",
     "output_type": "stream",
     "text": [
      "18\n"
     ]
    }
   ],
   "source": [
    "x = 13 # Add and print a variable\n",
    "print( x + 5 )"
   ]
  },
  {
   "cell_type": "code",
   "execution_count": 10,
   "id": "6e0bc749",
   "metadata": {},
   "outputs": [],
   "source": [
    "# Trace Variable Example\n",
    "x_trace = 5"
   ]
  },
  {
   "cell_type": "code",
   "execution_count": 11,
   "id": "4581ee5c",
   "metadata": {},
   "outputs": [
    {
     "data": {
      "text/plain": [
       "5"
      ]
     },
     "execution_count": 11,
     "metadata": {},
     "output_type": "execute_result"
    }
   ],
   "source": [
    "x_trace"
   ]
  },
  {
   "cell_type": "code",
   "execution_count": 12,
   "id": "c07cfb7a",
   "metadata": {},
   "outputs": [
    {
     "name": "stdout",
     "output_type": "stream",
     "text": [
      "5\n"
     ]
    }
   ],
   "source": [
    "print( x_trace )"
   ]
  },
  {
   "cell_type": "code",
   "execution_count": 13,
   "id": "2e417c94",
   "metadata": {},
   "outputs": [
    {
     "data": {
      "text/plain": [
       "6"
      ]
     },
     "execution_count": 13,
     "metadata": {},
     "output_type": "execute_result"
    }
   ],
   "source": [
    "# Put in ALU and only print\n",
    "x_trace + 1"
   ]
  },
  {
   "cell_type": "code",
   "execution_count": 14,
   "id": "b111986f",
   "metadata": {},
   "outputs": [
    {
     "name": "stdout",
     "output_type": "stream",
     "text": [
      "5\n"
     ]
    }
   ],
   "source": [
    "# Example of addition NOT updating the variable \n",
    "print( x_trace )"
   ]
  },
  {
   "cell_type": "code",
   "execution_count": 15,
   "id": "34745068",
   "metadata": {},
   "outputs": [
    {
     "name": "stdout",
     "output_type": "stream",
     "text": [
      "x_trace = 5\n"
     ]
    }
   ],
   "source": [
    "# Example of using f'{} to convert a variable name into a string.\n",
    "# Remember - Numbers are represented differently in a computer than characters\n",
    "\n",
    "print( 'x_trace = ' + f'{x_trace}' )"
   ]
  },
  {
   "cell_type": "code",
   "execution_count": 16,
   "id": "8aa09f16",
   "metadata": {},
   "outputs": [],
   "source": [
    "x_trace = x_trace + 5"
   ]
  },
  {
   "cell_type": "code",
   "execution_count": 17,
   "id": "95ad13af",
   "metadata": {},
   "outputs": [
    {
     "name": "stdout",
     "output_type": "stream",
     "text": [
      "10\n"
     ]
    }
   ],
   "source": [
    "print( f'{x_trace}' )"
   ]
  },
  {
   "cell_type": "code",
   "execution_count": 18,
   "id": "1cdc4a6b",
   "metadata": {},
   "outputs": [],
   "source": [
    "# Example of +=\n",
    "# Take tha variable, and add the value to the right to itself\n",
    "\n",
    "x_trace += 5"
   ]
  },
  {
   "cell_type": "code",
   "execution_count": 19,
   "id": "dcfbd28f",
   "metadata": {
    "scrolled": true
   },
   "outputs": [
    {
     "name": "stdout",
     "output_type": "stream",
     "text": [
      "15\n"
     ]
    }
   ],
   "source": [
    "print( f'{x_trace}' )"
   ]
  },
  {
   "cell_type": "markdown",
   "id": "fd784634",
   "metadata": {},
   "source": [
    "### Boolean Operators\n",
    "\n",
    "Different than <code>and</code> and <code>or</code>, these are used to make <b>comparisons</b>"
   ]
  },
  {
   "cell_type": "code",
   "execution_count": 21,
   "id": "63cf786f",
   "metadata": {},
   "outputs": [],
   "source": [
    "# Variables we will use\n",
    "x_bool = 5\n",
    "y_bool = 6"
   ]
  },
  {
   "cell_type": "code",
   "execution_count": 22,
   "id": "fd6de7f3",
   "metadata": {},
   "outputs": [
    {
     "data": {
      "text/plain": [
       "False"
      ]
     },
     "execution_count": 22,
     "metadata": {},
     "output_type": "execute_result"
    }
   ],
   "source": [
    "# True if equal\n",
    "\n",
    "x_bool == y_bool"
   ]
  },
  {
   "cell_type": "code",
   "execution_count": 23,
   "id": "eec332ec",
   "metadata": {},
   "outputs": [
    {
     "data": {
      "text/plain": [
       "True"
      ]
     },
     "execution_count": 23,
     "metadata": {},
     "output_type": "execute_result"
    }
   ],
   "source": [
    "# True if not equal\n",
    "\n",
    "x_bool != y_bool"
   ]
  },
  {
   "cell_type": "code",
   "execution_count": 24,
   "id": "cb04a3cb",
   "metadata": {},
   "outputs": [
    {
     "data": {
      "text/plain": [
       "True"
      ]
     },
     "execution_count": 24,
     "metadata": {},
     "output_type": "execute_result"
    }
   ],
   "source": [
    "# True if less than\n",
    "\n",
    "x_bool < y_bool"
   ]
  },
  {
   "cell_type": "code",
   "execution_count": 25,
   "id": "39a86c85",
   "metadata": {},
   "outputs": [
    {
     "data": {
      "text/plain": [
       "True"
      ]
     },
     "execution_count": 25,
     "metadata": {},
     "output_type": "execute_result"
    }
   ],
   "source": [
    "# True if less than or equal to\n",
    "\n",
    "x_bool <= y_bool"
   ]
  },
  {
   "cell_type": "code",
   "execution_count": 26,
   "id": "629904ca",
   "metadata": {},
   "outputs": [
    {
     "data": {
      "text/plain": [
       "False"
      ]
     },
     "execution_count": 26,
     "metadata": {},
     "output_type": "execute_result"
    }
   ],
   "source": [
    "# True if greater than\n",
    "\n",
    "x_bool > y_bool"
   ]
  },
  {
   "cell_type": "code",
   "execution_count": 27,
   "id": "bc4e159b",
   "metadata": {},
   "outputs": [
    {
     "data": {
      "text/plain": [
       "False"
      ]
     },
     "execution_count": 27,
     "metadata": {},
     "output_type": "execute_result"
    }
   ],
   "source": [
    "# True if greater than or equal to\n",
    "\n",
    "x_bool >= y_bool"
   ]
  },
  {
   "cell_type": "markdown",
   "id": "89fc4810",
   "metadata": {},
   "source": [
    "### Conversion between binary, hex, and "
   ]
  },
  {
   "cell_type": "code",
   "execution_count": 45,
   "id": "c40cfbd1",
   "metadata": {},
   "outputs": [
    {
     "data": {
      "text/plain": [
       "382037"
      ]
     },
     "execution_count": 45,
     "metadata": {},
     "output_type": "execute_result"
    }
   ],
   "source": [
    "# Binary conversion\n",
    "int( '1011101010001010101', 2 )"
   ]
  },
  {
   "cell_type": "code",
   "execution_count": 46,
   "id": "77324341",
   "metadata": {},
   "outputs": [
    {
     "data": {
      "text/plain": [
       "119251022934"
      ]
     },
     "execution_count": 46,
     "metadata": {},
     "output_type": "execute_result"
    }
   ],
   "source": [
    "int( '1bc3ea3456', 16)"
   ]
  },
  {
   "cell_type": "code",
   "execution_count": 47,
   "id": "3dc0d314",
   "metadata": {},
   "outputs": [],
   "source": [
    "def add_nums( x_input, y_input ):\n",
    "    z = x_input + y_input"
   ]
  },
  {
   "cell_type": "code",
   "execution_count": 48,
   "id": "8d9a3a8f",
   "metadata": {},
   "outputs": [],
   "source": [
    "add_nums( 5 , 6 )"
   ]
  },
  {
   "cell_type": "code",
   "execution_count": 49,
   "id": "8582d6c5",
   "metadata": {},
   "outputs": [],
   "source": [
    "def add_nums_return( x_input, y_input ):\n",
    "    return x_input + y_input"
   ]
  },
  {
   "cell_type": "code",
   "execution_count": 50,
   "id": "60277c7b",
   "metadata": {
    "scrolled": true
   },
   "outputs": [
    {
     "data": {
      "text/plain": [
       "11"
      ]
     },
     "execution_count": 50,
     "metadata": {},
     "output_type": "execute_result"
    }
   ],
   "source": [
    "add_nums_return( 5 , 6 )"
   ]
  },
  {
   "cell_type": "code",
   "execution_count": 51,
   "id": "04ef9cfb",
   "metadata": {},
   "outputs": [
    {
     "name": "stdout",
     "output_type": "stream",
     "text": [
      "11\n"
     ]
    }
   ],
   "source": [
    "print( add_nums_return( 5 , 6 ) )"
   ]
  },
  {
   "cell_type": "code",
   "execution_count": 55,
   "id": "a4360a6d",
   "metadata": {},
   "outputs": [],
   "source": [
    "def print_add( x, y ):\n",
    "    z = add_nums_return( x , y )\n",
    "    print(z)"
   ]
  },
  {
   "cell_type": "code",
   "execution_count": 56,
   "id": "0659a4d7",
   "metadata": {},
   "outputs": [
    {
     "name": "stdout",
     "output_type": "stream",
     "text": [
      "24\n"
     ]
    }
   ],
   "source": [
    "print_add( 11, 13 )"
   ]
  },
  {
   "cell_type": "code",
   "execution_count": 57,
   "id": "45a6eccb",
   "metadata": {},
   "outputs": [],
   "source": [
    "# Initial Values\n",
    "val_1 = 78\n",
    "val_2 = 111\n",
    "val_3 = 116\n",
    "val_4 = 114\n",
    "val_5 = 101"
   ]
  },
  {
   "cell_type": "code",
   "execution_count": 58,
   "id": "e26ce21b",
   "metadata": {},
   "outputs": [],
   "source": [
    "# Get the binary values\n",
    "binary_1 = bin( val_1 )\n",
    "binary_2 = bin( val_2 )\n",
    "binary_3 = bin( val_3 )\n",
    "binary_4 = bin( val_4 )\n",
    "binary_5 = bin( val_5 )"
   ]
  },
  {
   "cell_type": "code",
   "execution_count": 59,
   "id": "ed3a9b75",
   "metadata": {},
   "outputs": [],
   "source": [
    "# Get the hexadecimal values\n",
    "hex_1 = hex( val_1 )\n",
    "hex_2 = hex( val_2 )\n",
    "hex_3 = hex( val_3 )\n",
    "hex_4 = hex( val_4 )\n",
    "hex_5 = hex( val_5 )"
   ]
  },
  {
   "cell_type": "code",
   "execution_count": 60,
   "id": "ebb32712",
   "metadata": {},
   "outputs": [],
   "source": [
    "# Get the ascii characters\n",
    "char_1 = chr( val_1 )\n",
    "char_2 = chr( val_2 )\n",
    "char_3 = chr( val_3 )\n",
    "char_4 = chr( val_4 )\n",
    "char_5 = chr( val_5 )"
   ]
  },
  {
   "cell_type": "code",
   "execution_count": 61,
   "id": "23cd6b7f",
   "metadata": {},
   "outputs": [],
   "source": [
    "def print_conversions( int_val, binary_val, hex_val, char_val ):\n",
    "    print( f'{int_val}' + ': ' + f'{binary_val} ' + f'{hex_val} ' + f'{char_val}')"
   ]
  },
  {
   "cell_type": "code",
   "execution_count": 62,
   "id": "8ed3c192",
   "metadata": {},
   "outputs": [
    {
     "name": "stdout",
     "output_type": "stream",
     "text": [
      "78: 0b1001110 0x4e N\n",
      "111: 0b1101111 0x6f o\n",
      "116: 0b1110100 0x74 t\n",
      "114: 0b1110010 0x72 r\n",
      "101: 0b1100101 0x65 e\n"
     ]
    }
   ],
   "source": [
    "# Print all results\n",
    "print_conversions(val_1, binary_1, hex_1, char_1)\n",
    "print_conversions(val_2, binary_2, hex_2, char_2)\n",
    "print_conversions(val_3, binary_3, hex_3, char_3)\n",
    "print_conversions(val_4, binary_4, hex_4, char_4)\n",
    "print_conversions(val_5, binary_5, hex_5, char_5)"
   ]
  },
  {
   "cell_type": "code",
   "execution_count": 64,
   "id": "097b54cd",
   "metadata": {},
   "outputs": [
    {
     "name": "stdout",
     "output_type": "stream",
     "text": [
      "78: 0b1001110 0x4e N\n",
      "111: 0b1101111 0x6f o\n",
      "116: 0b1110100 0x74 t\n",
      "114: 0b1110010 0x72 r\n",
      "101: 0b1100101 0x65 e\n"
     ]
    }
   ],
   "source": [
    "print_conversions(val_1, bin( val_1 ), hex( val_1 ), chr( val_1 )) # Nested Functions\n",
    "print_conversions(val_2, bin( val_2 ), hex( val_2 ), chr( val_2 ))\n",
    "print_conversions(val_3, bin( val_3 ), hex( val_3 ), chr( val_3 ))\n",
    "print_conversions(val_4, bin( val_4 ), hex( val_4 ), chr( val_4 ))\n",
    "print_conversions(val_5, bin( val_5 ), hex( val_5 ), chr( val_5 ))"
   ]
  },
  {
   "cell_type": "code",
   "execution_count": 65,
   "id": "34f1ed1e",
   "metadata": {},
   "outputs": [],
   "source": [
    "def make_conversions( val_input ):\n",
    "    print_conversions(val_input, bin( val_input ), hex( val_input ), chr( val_input ))"
   ]
  },
  {
   "cell_type": "code",
   "execution_count": 66,
   "id": "65e61ecb",
   "metadata": {},
   "outputs": [],
   "source": [
    "# Libraries to import interact\n",
    "from __future__ import print_function\n",
    "from ipywidgets import interact, interactive, fixed, interact_manual\n",
    "import ipywidgets as widgets"
   ]
  },
  {
   "cell_type": "code",
   "execution_count": 67,
   "id": "a4a93987",
   "metadata": {},
   "outputs": [
    {
     "data": {
      "application/vnd.jupyter.widget-view+json": {
       "model_id": "7617d9a516c04b5b841b678b0efed405",
       "version_major": 2,
       "version_minor": 0
      },
      "text/plain": [
       "interactive(children=(IntSlider(value=63, description='val_input', max=127), Output()), _dom_classes=('widget-…"
      ]
     },
     "metadata": {},
     "output_type": "display_data"
    },
    {
     "data": {
      "text/plain": [
       "<function __main__.make_conversions(val_input)>"
      ]
     },
     "execution_count": 67,
     "metadata": {},
     "output_type": "execute_result"
    }
   ],
   "source": [
    "interact( make_conversions, val_input=(0,127) )"
   ]
  },
  {
   "cell_type": "code",
   "execution_count": null,
   "id": "2c59831a",
   "metadata": {},
   "outputs": [],
   "source": []
  }
 ],
 "metadata": {
  "kernelspec": {
   "display_name": "Python 3 (ipykernel)",
   "language": "python",
   "name": "python3"
  },
  "language_info": {
   "codemirror_mode": {
    "name": "ipython",
    "version": 3
   },
   "file_extension": ".py",
   "mimetype": "text/x-python",
   "name": "python",
   "nbconvert_exporter": "python",
   "pygments_lexer": "ipython3",
   "version": "3.9.13"
  }
 },
 "nbformat": 4,
 "nbformat_minor": 5
}
