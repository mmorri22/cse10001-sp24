{
 "cells": [
  {
   "cell_type": "markdown",
   "id": "c150a205",
   "metadata": {},
   "source": [
    "### Key Concepts\n",
    "1. Binary conversion to ASCII\n",
    "2. Paying close attention to what data type you are using\n",
    "3. Floats vs. Integers ( Precision vs. Accuracy )\n",
    "4. Errors, and making sure you are using the correct syntax."
   ]
  },
  {
   "cell_type": "markdown",
   "id": "b63c9385",
   "metadata": {},
   "source": [
    "### This is the preview notebook for Lecture 02\n",
    "<p>   </p>\n",
    "In this lecture, we will learn about <b>variables</b>, <font color = \"red\">expressions</font>, and <i>functions</i>. Specifically, you will learn about:<br>\n",
    "<ol>\n",
    "    <li>Expressions and how to determine a data type<br>\n",
    "    <li>Boolean operators in Python<br>\n",
    "    <li>Variables and variable tracing<br>\n",
    "    <li>Functions<br>\n",
    "    <li>Nested Functions<br>\n",
    "</ol>\n"
   ]
  },
  {
   "cell_type": "code",
   "execution_count": 1,
   "id": "dc362a92",
   "metadata": {
    "scrolled": true
   },
   "outputs": [],
   "source": [
    "# Print a basic string\n"
   ]
  },
  {
   "cell_type": "code",
   "execution_count": 2,
   "id": "bacfbe46",
   "metadata": {},
   "outputs": [],
   "source": [
    "# Compiler Error Example - Common coding mistake\n"
   ]
  },
  {
   "cell_type": "code",
   "execution_count": 3,
   "id": "f6df6fae",
   "metadata": {},
   "outputs": [],
   "source": [
    "# Concatenate two strings using +\n"
   ]
  },
  {
   "cell_type": "code",
   "execution_count": 4,
   "id": "2e5ea64e",
   "metadata": {},
   "outputs": [],
   "source": [
    "# Remember the space in ASCII\n"
   ]
  },
  {
   "cell_type": "code",
   "execution_count": 5,
   "id": "65e5e09e",
   "metadata": {},
   "outputs": [],
   "source": [
    "# Example of Type Error\n"
   ]
  },
  {
   "cell_type": "code",
   "execution_count": 6,
   "id": "a6087b98",
   "metadata": {},
   "outputs": [],
   "source": [
    "# But... multiplying a string in Python works!\n"
   ]
  },
  {
   "cell_type": "markdown",
   "id": "75ded947",
   "metadata": {},
   "source": [
    "### Using Variables in Python"
   ]
  },
  {
   "cell_type": "code",
   "execution_count": 7,
   "id": "0f4f0dca",
   "metadata": {},
   "outputs": [],
   "source": [
    "# Setting the variable name\n"
   ]
  },
  {
   "cell_type": "code",
   "execution_count": 8,
   "id": "023e3e11",
   "metadata": {},
   "outputs": [],
   "source": [
    "# Print the variable value\n"
   ]
  },
  {
   "cell_type": "code",
   "execution_count": 9,
   "id": "79b82018",
   "metadata": {},
   "outputs": [],
   "source": [
    "# Update and print the result\n",
    "\n"
   ]
  },
  {
   "cell_type": "code",
   "execution_count": 10,
   "id": "d530e667",
   "metadata": {},
   "outputs": [],
   "source": [
    "# You can change variable types in Python by setting the name of the variable type\n",
    "# Just be careful to keep track\n",
    "# (In C, we will need to be more explicit)\n",
    "\n"
   ]
  },
  {
   "cell_type": "code",
   "execution_count": null,
   "id": "7a0dd5bf",
   "metadata": {},
   "outputs": [],
   "source": []
  },
  {
   "cell_type": "code",
   "execution_count": 11,
   "id": "5e1c1e83",
   "metadata": {},
   "outputs": [],
   "source": [
    "# How to check the type when troubleshooting\n"
   ]
  },
  {
   "cell_type": "code",
   "execution_count": null,
   "id": "3ee36d71",
   "metadata": {},
   "outputs": [],
   "source": []
  },
  {
   "cell_type": "code",
   "execution_count": null,
   "id": "8f2e267a",
   "metadata": {},
   "outputs": [],
   "source": []
  },
  {
   "cell_type": "code",
   "execution_count": null,
   "id": "abbd4e0e",
   "metadata": {
    "scrolled": false
   },
   "outputs": [],
   "source": []
  },
  {
   "cell_type": "markdown",
   "id": "c8aa1745",
   "metadata": {},
   "source": [
    "### Boolean Values"
   ]
  },
  {
   "cell_type": "code",
   "execution_count": null,
   "id": "87a6c357",
   "metadata": {},
   "outputs": [],
   "source": []
  },
  {
   "cell_type": "code",
   "execution_count": null,
   "id": "8863d986",
   "metadata": {},
   "outputs": [],
   "source": []
  },
  {
   "cell_type": "code",
   "execution_count": 12,
   "id": "5e096fed",
   "metadata": {},
   "outputs": [],
   "source": [
    "# OR Examples\n"
   ]
  },
  {
   "cell_type": "code",
   "execution_count": null,
   "id": "10e7aeed",
   "metadata": {},
   "outputs": [],
   "source": []
  },
  {
   "cell_type": "code",
   "execution_count": 13,
   "id": "7c0d00b3",
   "metadata": {},
   "outputs": [],
   "source": [
    "# AND Operator\n"
   ]
  },
  {
   "cell_type": "code",
   "execution_count": null,
   "id": "e17662ae",
   "metadata": {},
   "outputs": [],
   "source": []
  },
  {
   "cell_type": "code",
   "execution_count": null,
   "id": "3e070079",
   "metadata": {},
   "outputs": [],
   "source": []
  },
  {
   "cell_type": "code",
   "execution_count": null,
   "id": "fad55a28",
   "metadata": {},
   "outputs": [],
   "source": []
  },
  {
   "cell_type": "code",
   "execution_count": null,
   "id": "e75e3c37",
   "metadata": {},
   "outputs": [],
   "source": []
  },
  {
   "cell_type": "code",
   "execution_count": 22,
   "id": "f918671c",
   "metadata": {},
   "outputs": [],
   "source": [
    "# Booleans in Variables\n"
   ]
  },
  {
   "cell_type": "code",
   "execution_count": null,
   "id": "fc73d4f9",
   "metadata": {},
   "outputs": [],
   "source": []
  },
  {
   "cell_type": "code",
   "execution_count": null,
   "id": "13921fff",
   "metadata": {},
   "outputs": [],
   "source": []
  },
  {
   "cell_type": "code",
   "execution_count": null,
   "id": "897eb1d8",
   "metadata": {},
   "outputs": [],
   "source": []
  },
  {
   "cell_type": "markdown",
   "id": "fd181810",
   "metadata": {},
   "source": [
    "### Print Function"
   ]
  },
  {
   "cell_type": "code",
   "execution_count": 14,
   "id": "ac28e5b7",
   "metadata": {},
   "outputs": [],
   "source": [
    "# Add and print a variable\n"
   ]
  },
  {
   "cell_type": "code",
   "execution_count": 10,
   "id": "6e0bc749",
   "metadata": {},
   "outputs": [],
   "source": [
    "# Trace Variable Example\n"
   ]
  },
  {
   "cell_type": "code",
   "execution_count": null,
   "id": "4581ee5c",
   "metadata": {},
   "outputs": [],
   "source": []
  },
  {
   "cell_type": "code",
   "execution_count": null,
   "id": "c07cfb7a",
   "metadata": {},
   "outputs": [],
   "source": []
  },
  {
   "cell_type": "code",
   "execution_count": 16,
   "id": "2e417c94",
   "metadata": {},
   "outputs": [],
   "source": [
    "# Add one and print\n"
   ]
  },
  {
   "cell_type": "code",
   "execution_count": 17,
   "id": "b111986f",
   "metadata": {},
   "outputs": [],
   "source": [
    "# Example of addition NOT updating the variable \n"
   ]
  },
  {
   "cell_type": "code",
   "execution_count": 18,
   "id": "34745068",
   "metadata": {},
   "outputs": [],
   "source": [
    "# Example of using f'{} to convert a variable name into a string.\n",
    "# Remember - Numbers are represented differently in a computer than characters\n",
    "\n"
   ]
  },
  {
   "cell_type": "code",
   "execution_count": null,
   "id": "8aa09f16",
   "metadata": {},
   "outputs": [],
   "source": []
  },
  {
   "cell_type": "code",
   "execution_count": null,
   "id": "95ad13af",
   "metadata": {},
   "outputs": [],
   "source": []
  },
  {
   "cell_type": "code",
   "execution_count": 19,
   "id": "1cdc4a6b",
   "metadata": {},
   "outputs": [],
   "source": [
    "# Example of +=\n",
    "# Take tha variable, and add the value to the right to itself\n",
    "\n"
   ]
  },
  {
   "cell_type": "code",
   "execution_count": null,
   "id": "dcfbd28f",
   "metadata": {
    "scrolled": true
   },
   "outputs": [],
   "source": []
  },
  {
   "cell_type": "markdown",
   "id": "192046fd",
   "metadata": {},
   "source": [
    "### Boolean Operators\n",
    "\n",
    "Different than <code>and</code> and <code>or</code>, these are used to make <b>comparisons</b>"
   ]
  },
  {
   "cell_type": "code",
   "execution_count": 21,
   "id": "63cf786f",
   "metadata": {},
   "outputs": [],
   "source": [
    "# Variables we will use\n",
    "x_bool = 5\n",
    "y_bool = 6"
   ]
  },
  {
   "cell_type": "code",
   "execution_count": 21,
   "id": "fd6de7f3",
   "metadata": {},
   "outputs": [],
   "source": [
    "# True if equal\n",
    "\n"
   ]
  },
  {
   "cell_type": "code",
   "execution_count": 20,
   "id": "eec332ec",
   "metadata": {},
   "outputs": [],
   "source": [
    "# True if not equal\n",
    "\n"
   ]
  },
  {
   "cell_type": "code",
   "execution_count": 22,
   "id": "cb04a3cb",
   "metadata": {},
   "outputs": [],
   "source": [
    "# True if less than\n",
    "\n"
   ]
  },
  {
   "cell_type": "code",
   "execution_count": 23,
   "id": "39a86c85",
   "metadata": {},
   "outputs": [],
   "source": [
    "# True if less than or equal to\n",
    "\n"
   ]
  },
  {
   "cell_type": "code",
   "execution_count": 24,
   "id": "629904ca",
   "metadata": {},
   "outputs": [],
   "source": [
    "# True if greater than\n",
    "\n"
   ]
  },
  {
   "cell_type": "code",
   "execution_count": 25,
   "id": "bc4e159b",
   "metadata": {},
   "outputs": [],
   "source": [
    "# True if greater than or equal to\n",
    "\n"
   ]
  },
  {
   "cell_type": "markdown",
   "id": "e669a5ca",
   "metadata": {},
   "source": [
    "### Conversion between binary, hex, and decimal"
   ]
  },
  {
   "cell_type": "code",
   "execution_count": 26,
   "id": "c40cfbd1",
   "metadata": {},
   "outputs": [],
   "source": [
    "# Binary conversion to decimal - Use base 2 to indicate binary\n",
    "\n"
   ]
  },
  {
   "cell_type": "code",
   "execution_count": 27,
   "id": "77324341",
   "metadata": {},
   "outputs": [],
   "source": [
    "# Hex conversion to decimal - Use base 15 to indicate hex\n",
    "\n"
   ]
  },
  {
   "cell_type": "code",
   "execution_count": 28,
   "id": "b9842986",
   "metadata": {},
   "outputs": [],
   "source": [
    "# Binary conversion to hex\n",
    "# The hex function only takes in integers, so we need to convert to int first\n",
    "\n",
    "\n",
    "\n",
    "# Now we use the integer in hex()\n",
    "\n"
   ]
  },
  {
   "cell_type": "markdown",
   "id": "ec9ab957",
   "metadata": {},
   "source": [
    "### Introduction to Functions"
   ]
  },
  {
   "cell_type": "code",
   "execution_count": 36,
   "id": "3dc0d314",
   "metadata": {},
   "outputs": [],
   "source": [
    "# Define a function add_nums that takes in two inputs and prints a result\n",
    "# It is critical that you indent your code in functions in Python!\n",
    "\n"
   ]
  },
  {
   "cell_type": "code",
   "execution_count": 37,
   "id": "8d9a3a8f",
   "metadata": {},
   "outputs": [],
   "source": [
    "# Call the function on 5 and 6\n",
    "\n"
   ]
  },
  {
   "cell_type": "code",
   "execution_count": 49,
   "id": "8582d6c5",
   "metadata": {},
   "outputs": [],
   "source": [
    "# The return keyword helps with \n",
    "\n"
   ]
  },
  {
   "cell_type": "code",
   "execution_count": null,
   "id": "60277c7b",
   "metadata": {
    "scrolled": true
   },
   "outputs": [],
   "source": []
  },
  {
   "cell_type": "code",
   "execution_count": null,
   "id": "04ef9cfb",
   "metadata": {},
   "outputs": [],
   "source": []
  },
  {
   "cell_type": "code",
   "execution_count": null,
   "id": "a4360a6d",
   "metadata": {},
   "outputs": [],
   "source": []
  },
  {
   "cell_type": "code",
   "execution_count": null,
   "id": "0659a4d7",
   "metadata": {},
   "outputs": [],
   "source": []
  },
  {
   "cell_type": "code",
   "execution_count": 57,
   "id": "45a6eccb",
   "metadata": {},
   "outputs": [],
   "source": [
    "# Initial Values for our functions\n",
    "val_1 = 78\n",
    "val_2 = 111\n",
    "val_3 = 116\n",
    "val_4 = 114\n",
    "val_5 = 101"
   ]
  },
  {
   "cell_type": "code",
   "execution_count": 58,
   "id": "e26ce21b",
   "metadata": {},
   "outputs": [],
   "source": [
    "# Get the binary values\n"
   ]
  },
  {
   "cell_type": "code",
   "execution_count": 59,
   "id": "ed3a9b75",
   "metadata": {},
   "outputs": [],
   "source": [
    "# Get the hexadecimal values\n"
   ]
  },
  {
   "cell_type": "code",
   "execution_count": 60,
   "id": "ebb32712",
   "metadata": {},
   "outputs": [],
   "source": [
    "# Get the ascii characters\n"
   ]
  },
  {
   "cell_type": "code",
   "execution_count": 61,
   "id": "23cd6b7f",
   "metadata": {},
   "outputs": [],
   "source": [
    "# print_conversions"
   ]
  },
  {
   "cell_type": "code",
   "execution_count": 29,
   "id": "8ed3c192",
   "metadata": {},
   "outputs": [],
   "source": [
    "# Print all results\n"
   ]
  },
  {
   "cell_type": "code",
   "execution_count": 30,
   "id": "097b54cd",
   "metadata": {},
   "outputs": [],
   "source": [
    "# Nested functions!"
   ]
  },
  {
   "cell_type": "code",
   "execution_count": 65,
   "id": "34f1ed1e",
   "metadata": {},
   "outputs": [],
   "source": [
    "# Call print_conversions within another function make_conversions\n",
    "# Reduce the work!"
   ]
  },
  {
   "cell_type": "code",
   "execution_count": 66,
   "id": "65e61ecb",
   "metadata": {},
   "outputs": [],
   "source": [
    "# Libraries to import interact\n",
    "from __future__ import print_function\n",
    "from ipywidgets import interact, interactive, fixed, interact_manual\n",
    "import ipywidgets as widgets"
   ]
  },
  {
   "cell_type": "code",
   "execution_count": 31,
   "id": "a4a93987",
   "metadata": {},
   "outputs": [],
   "source": [
    "# How to run and implement interact"
   ]
  },
  {
   "cell_type": "markdown",
   "id": "b3217c42",
   "metadata": {},
   "source": [
    "### Time Permitting - Markdown\n",
    "\n",
    "We can use Markdown in Jupyter notebooks in order to make lists, display elements, or tables.\n",
    "\n",
    "We will go over a couple of examples if time permits"
   ]
  }
 ],
 "metadata": {
  "kernelspec": {
   "display_name": "Python 3 (ipykernel)",
   "language": "python",
   "name": "python3"
  },
  "language_info": {
   "codemirror_mode": {
    "name": "ipython",
    "version": 3
   },
   "file_extension": ".py",
   "mimetype": "text/x-python",
   "name": "python",
   "nbconvert_exporter": "python",
   "pygments_lexer": "ipython3",
   "version": "3.9.13"
  }
 },
 "nbformat": 4,
 "nbformat_minor": 5
}
