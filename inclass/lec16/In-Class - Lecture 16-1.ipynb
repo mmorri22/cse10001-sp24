{
 "cells": [
  {
   "cell_type": "markdown",
   "id": "805e0913",
   "metadata": {},
   "source": [
    "# In-Class - Lecture 16-1 - Floats and Doubles"
   ]
  },
  {
   "cell_type": "markdown",
   "id": "2b65a888",
   "metadata": {},
   "source": [
    "Log into your Docker and VS Code the way you did in Programming Challenge 0.\n",
    "\n",
    "<b>To review:</b>\n",
    "\n",
    "<b>1.</b> Open Docker Desktop. Go to the cse10001-user Container you created. Press the Blue Triangle to start the Container.\n",
    "\n",
    "<b>2.</b> Open VSCode, and on the left, select the blue button in the bottom left of VSCode. At the top, select the pull-down choice “Attach to running container” and select your CSE 10001 course container.\n",
    "\n",
    "<b>3.</b> Go into your Git Folder:\n",
    "\n",
    "> Recall that @USERNAME is the unique username you created when you created your GitHub account. You will see your user name in the VS Code Docker\n",
    "\n",
    "    cd cse10001-user/cse10001-@USERNAME\n",
    "\n",
    "At this point, you will make a directory for you to practice your code. The command <code>mkdir</code> stands for <b>Make Directory</b>. Then you will change directory (using the command <code>cd</code>) into that folder.\n",
    "\n",
    "    mkdir lec16\n",
    "    cd lec16"
   ]
  },
  {
   "cell_type": "markdown",
   "id": "aed9db9b",
   "metadata": {},
   "source": [
    "## A Quirk with Floats and Double\n",
    "\n",
    "Perform the command:\n",
    "\n",
    "    wget https://raw.githubusercontent.com/mmorri22/cse10001-sp24/main/inclass/lec16/float_no_compile.c\n",
    "    \n",
    "Now, we will look at this file and try to predict what will happen.\n",
    "    \n",
    "Next, compile using the following commands:\n",
    "\n",
    "    gcc -Wall -std=c2x -Wconversion -Werror float_no_compile.c -o float_no_compile\n",
    "    \n",
    "We get a compiler error! Any theories as to why?\n",
    "\n",
    "To fix it, we will <b>cast</b> the 3.1 to ensure the compiler sets it as a float first\n",
    "\n",
    "    cp float_no_compile.c float_compile.c\n",
    "    vim float_compile.c\n",
    "    \n",
    "Change the line of code to:\n",
    "\n",
    "<code>float the_float = <font color = \"red\">(float)</font>3.1;</code>\n",
    "\n",
    "Next, compile using the following commands:\n",
    "\n",
    "    gcc -Wall -std=c2x -Wconversion -Werror float_compile.c -o float_compile\n",
    "    ./float_compile\n",
    "    rm float_compile\n",
    "\n",
    "> Moral of the Story: When in doubt, use a double!"
   ]
  },
  {
   "cell_type": "markdown",
   "id": "f11af484",
   "metadata": {},
   "source": [
    "## Double Comparisons: Or when 0.1 doesn't equal 0.1\n",
    "\n",
    "Perform the following command:\n",
    "\n",
    "    wget https://raw.githubusercontent.com/mmorri22/cse10001-sp24/main/inclass/lec16/double_comp.c\n",
    "    \n",
    "\n",
    "Now, let's review the code and try to predict what will happen.\n",
    "\n",
    "Let's see what actually happens!\n",
    "\n",
    "    gcc -Wall -std=c2x -Wconversion -Werror double_comp.c -o double_comp\n",
    "    ./double_comp\n",
    "    rm double_comp\n",
    "    \n",
    "> <b>Main Takeaway</b>: When performing comparisons with if, else if, and switch statements, your decision needs to be <i>accurate</i>, not </i>precise</i>"
   ]
  }
 ],
 "metadata": {
  "kernelspec": {
   "display_name": "Python 3 (ipykernel)",
   "language": "python",
   "name": "python3"
  },
  "language_info": {
   "codemirror_mode": {
    "name": "ipython",
    "version": 3
   },
   "file_extension": ".py",
   "mimetype": "text/x-python",
   "name": "python",
   "nbconvert_exporter": "python",
   "pygments_lexer": "ipython3",
   "version": "3.9.13"
  }
 },
 "nbformat": 4,
 "nbformat_minor": 5
}
