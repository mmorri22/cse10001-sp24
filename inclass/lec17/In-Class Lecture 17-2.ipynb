{
 "cells": [
  {
   "cell_type": "markdown",
   "id": "fd31b8c8",
   "metadata": {},
   "source": [
    "## In-Class Lecture 17-2 - Building and Iterating Through Arrays"
   ]
  },
  {
   "cell_type": "markdown",
   "id": "34f2f4e3",
   "metadata": {},
   "source": [
    "### Basic Arrays\n",
    "\n",
    "We will work together to create a file <code>static_basic.c</code> where we will initialize an integer array with six elements, and then we will iterate through the array, printing out the value and its location at each stage.\n",
    "\n",
    "We will also learn about compiler directives\n",
    "\n",
    "    #ARRAYSIZE 6\n",
    "    \n",
    "The Makefile will contain a <code>make static_basic</code> command with a <b>deliberate error</b>. We will find it together.\n",
    "\n",
    "    make static_basic\n",
    "\n",
    "We will draw a memory map, where we correlate the memory locations printed to our Thinking Model"
   ]
  },
  {
   "cell_type": "markdown",
   "id": "83917f83",
   "metadata": {},
   "source": [
    "We will work together to pass the array by reference, along with the array size, in order to increment each element in the array by a specified number. We will also update the sum while iterating through the array, where the sum register is in main. We will also print the results in a third function.\n",
    "\n",
    "    cp static_basic.c static_pbr.c\n",
    "    \n",
    "Then we will pass the array to a function and perform the same task\n",
    "\n",
    "    make static_pbr\n",
    "    \n",
    "We will also build up a memory map of the static array"
   ]
  }
 ],
 "metadata": {
  "kernelspec": {
   "display_name": "Python 3 (ipykernel)",
   "language": "python",
   "name": "python3"
  },
  "language_info": {
   "codemirror_mode": {
    "name": "ipython",
    "version": 3
   },
   "file_extension": ".py",
   "mimetype": "text/x-python",
   "name": "python",
   "nbconvert_exporter": "python",
   "pygments_lexer": "ipython3",
   "version": "3.9.13"
  }
 },
 "nbformat": 4,
 "nbformat_minor": 5
}
