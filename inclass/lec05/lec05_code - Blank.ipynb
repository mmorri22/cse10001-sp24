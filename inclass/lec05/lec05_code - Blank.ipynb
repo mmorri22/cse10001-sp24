{
 "cells": [
  {
   "cell_type": "markdown",
   "id": "8cfa3e93",
   "metadata": {},
   "source": [
    "### This is the preview notebook for Lecture 05\n",
    "\n",
    "In this lecture, we will learn about:\n",
    "<ol>\n",
    "    <li>while loops</li>\n",
    "    <li>for loops</li>\n",
    "    <li>Lists</li>\n",
    "    <li>Review try/except</li>\n",
    "</ol>"
   ]
  },
  {
   "cell_type": "markdown",
   "id": "a62d4cdc",
   "metadata": {},
   "source": [
    "### range( start, end )\n",
    "\n",
    "Will actually go to <b>end-1</b>"
   ]
  },
  {
   "cell_type": "code",
   "execution_count": null,
   "id": "16fc3c1d",
   "metadata": {
    "scrolled": true
   },
   "outputs": [],
   "source": [
    "# You can even control the range\n",
    "# But for range(0,4), will it go to 3 or 104?"
   ]
  },
  {
   "cell_type": "code",
   "execution_count": null,
   "id": "974b6cd2",
   "metadata": {
    "scrolled": false
   },
   "outputs": [],
   "source": [
    "# Every loop, this will add 2\n",
    "# After it gets to 11, it will add 2, but then not print\n",
    "# A good example of *needing to understand the syntax*\n",
    "# Remember, we are shooting electricity into rocks and trying to make them think"
   ]
  },
  {
   "cell_type": "markdown",
   "id": "f6b53057",
   "metadata": {},
   "source": [
    "### In-Class Coding Opportunity"
   ]
  },
  {
   "cell_type": "code",
   "execution_count": null,
   "id": "1064deb5",
   "metadata": {},
   "outputs": [],
   "source": [
    "# Read in a set of integers until you enter a 0, and then print their average"
   ]
  },
  {
   "cell_type": "markdown",
   "id": "0fe2b325",
   "metadata": {},
   "source": [
    "### For loops \n",
    "\n",
    "Iterating through a definite set of objects is a common looping pattern"
   ]
  },
  {
   "cell_type": "code",
   "execution_count": null,
   "id": "71eccafc",
   "metadata": {
    "scrolled": false
   },
   "outputs": [],
   "source": [
    "# Using []"
   ]
  },
  {
   "cell_type": "code",
   "execution_count": null,
   "id": "4668862e",
   "metadata": {
    "scrolled": true
   },
   "outputs": [],
   "source": [
    "# Using range"
   ]
  },
  {
   "cell_type": "markdown",
   "id": "b5974082",
   "metadata": {},
   "source": [
    "### List Syntax and Operators"
   ]
  },
  {
   "cell_type": "code",
   "execution_count": null,
   "id": "3fec569c",
   "metadata": {},
   "outputs": [],
   "source": [
    "# The basic format for a Python list"
   ]
  },
  {
   "cell_type": "code",
   "execution_count": null,
   "id": "ae070386",
   "metadata": {},
   "outputs": [],
   "source": [
    "# You can use a variable name to save lists"
   ]
  },
  {
   "cell_type": "code",
   "execution_count": null,
   "id": "84201716",
   "metadata": {},
   "outputs": [],
   "source": [
    "# By calling print, you can print the entire list"
   ]
  },
  {
   "cell_type": "code",
   "execution_count": null,
   "id": "0d1b1c9c",
   "metadata": {},
   "outputs": [],
   "source": [
    "# Review: Lists have their own type!"
   ]
  },
  {
   "cell_type": "code",
   "execution_count": null,
   "id": "31d870b5",
   "metadata": {},
   "outputs": [],
   "source": [
    "# You can access a list element using []"
   ]
  },
  {
   "cell_type": "markdown",
   "id": "05181b6a",
   "metadata": {},
   "source": [
    "### In-Class Coding Opportunity: Let's loop through the list and print the elements\n",
    "\n",
    "Key Takeaway: The value at a location is not the same as the location itself!"
   ]
  },
  {
   "cell_type": "code",
   "execution_count": null,
   "id": "f2301f7a",
   "metadata": {},
   "outputs": [],
   "source": [
    "# Loop through lists example using len"
   ]
  },
  {
   "cell_type": "code",
   "execution_count": null,
   "id": "91d8a1c3",
   "metadata": {
    "scrolled": true
   },
   "outputs": [],
   "source": [
    "# Loop through lists example using in"
   ]
  },
  {
   "cell_type": "markdown",
   "id": "134c6ae7",
   "metadata": {},
   "source": [
    "### In-Class Coding Opportunity\n",
    "\n",
    "Write a function called find_smallest that returns the smallest item in a list. Then, write a line of code that passes an integer array to that function to test your result!"
   ]
  },
  {
   "cell_type": "code",
   "execution_count": null,
   "id": "ce8dc4be",
   "metadata": {},
   "outputs": [],
   "source": [
    "# Function "
   ]
  },
  {
   "cell_type": "code",
   "execution_count": null,
   "id": "5910e597",
   "metadata": {
    "scrolled": false
   },
   "outputs": [],
   "source": [
    "# Test with integers\n",
    "find_smallest([6, 3, 10, 6, 8, -2, 25, -7, -6, 9])"
   ]
  },
  {
   "cell_type": "code",
   "execution_count": null,
   "id": "fd6b0245",
   "metadata": {},
   "outputs": [],
   "source": [
    "# Test char array\n",
    "char_array = ['N', 'o', 't', 'r', 'e', 'D', 'a', 'm', 'e']"
   ]
  },
  {
   "cell_type": "code",
   "execution_count": null,
   "id": "580ec288",
   "metadata": {},
   "outputs": [],
   "source": [
    "# Test with char array\n",
    "find_smallest( char_array )"
   ]
  },
  {
   "cell_type": "markdown",
   "id": "8c7617c4",
   "metadata": {},
   "source": [
    "### Why do you think this happened?\n",
    "\n",
    "Hint: <a href = \"https://www.asciitable.com/\">ASCII Table</a>"
   ]
  },
  {
   "cell_type": "code",
   "execution_count": null,
   "id": "3ef8633c",
   "metadata": {},
   "outputs": [],
   "source": [
    "# Lists do not need to be the same type, although this can be rare"
   ]
  },
  {
   "cell_type": "code",
   "execution_count": null,
   "id": "2fc6f5e9",
   "metadata": {},
   "outputs": [],
   "source": [
    "# What will the type of this list be?"
   ]
  },
  {
   "cell_type": "code",
   "execution_count": null,
   "id": "418ab76b",
   "metadata": {},
   "outputs": [],
   "source": [
    "# You can also print a list!"
   ]
  },
  {
   "cell_type": "code",
   "execution_count": null,
   "id": "6614ebae",
   "metadata": {},
   "outputs": [],
   "source": [
    "# The len function will print the length of the list"
   ]
  },
  {
   "cell_type": "code",
   "execution_count": null,
   "id": "1c9f997a",
   "metadata": {},
   "outputs": [],
   "source": [
    "# Using the [] operator to access specific elements\n",
    "\n",
    "# We can print the value and the type as output strings"
   ]
  },
  {
   "cell_type": "code",
   "execution_count": null,
   "id": "5044e688",
   "metadata": {},
   "outputs": [],
   "source": [
    "# You cannot compare different types in a heterogeneous list"
   ]
  },
  {
   "cell_type": "markdown",
   "id": "399f53a9",
   "metadata": {},
   "source": [
    "### In-Class Coding Opportunity: \n",
    "\n",
    "We will write a function called <i>swap</i> that performs the following tasks\n",
    "\n",
    "<ol>\n",
    "    <li>Reads in a list and two <b>locations</b> to swap</li>\n",
    "    <ol>\n",
    "        <li>We need to understand that locations are <b>physical</b> and must be kep track of\n",
    "    </ol>\n",
    "    <li>Using conditionals, check if the locations are either less than 0 OR greater than or equal to the array length. If that fails, we do not swap!</li>\n",
    "    <li>Otherwise, swaps the locations</li>\n",
    "    <li>Then we will call it several times, including testing outside of the array\n",
    "</ol>"
   ]
  },
  {
   "cell_type": "code",
   "execution_count": null,
   "id": "399b502f",
   "metadata": {},
   "outputs": [],
   "source": [
    "# Swap Function"
   ]
  },
  {
   "cell_type": "code",
   "execution_count": null,
   "id": "717001b1",
   "metadata": {},
   "outputs": [],
   "source": [
    "# Creating the list to test\n",
    "list_to_swap = [0, 1, 2, 3, 4, 5]\n",
    "first_loc = 3\n",
    "second_loc = 2\n",
    "\n",
    "# We will see that lists are \"passed by reference\" to the function\n",
    "swap( list_to_swap, first_loc, second_loc )\n",
    "print( list_to_swap )"
   ]
  },
  {
   "cell_type": "code",
   "execution_count": null,
   "id": "857aeb96",
   "metadata": {},
   "outputs": [],
   "source": [
    "# Now let's do it with 0 and array length - 1\n",
    "first_loc = 0\n",
    "second_loc = len(list_to_swap) - 1\n",
    "\n",
    "# We will see that lists are \"passed by reference\" to the function\n",
    "swap( list_to_swap, first_loc, second_loc )\n",
    "print( list_to_swap )"
   ]
  },
  {
   "cell_type": "code",
   "execution_count": null,
   "id": "40474435",
   "metadata": {},
   "outputs": [],
   "source": [
    "# Now let's see what happens when we go out of bounds!\n",
    "second_loc = len(list_to_swap)\n",
    "\n",
    "# We will see that lists have \"bounds\"\n",
    "swap( list_to_swap, first_loc, second_loc )\n",
    "print( list_to_swap )"
   ]
  },
  {
   "cell_type": "markdown",
   "id": "4a3e9a7f",
   "metadata": {},
   "source": [
    "### We now see that we have an IndexError\n",
    "\n",
    "Even with the if/elif/else statements, the Python recognizes the *possible* issue"
   ]
  },
  {
   "cell_type": "markdown",
   "id": "7f221f43",
   "metadata": {},
   "source": [
    "### In-Class Coding Opportunity: swap_except\n",
    "\n",
    "So let's write a modified swap function, which we will call <b>swap_except</b>, that does the same thing as swap, except now we will use our understanding of try/except from the previous lecture"
   ]
  },
  {
   "cell_type": "code",
   "execution_count": null,
   "id": "b5d04d88",
   "metadata": {},
   "outputs": [],
   "source": [
    "# Swap Except"
   ]
  },
  {
   "cell_type": "code",
   "execution_count": null,
   "id": "e56b195b",
   "metadata": {},
   "outputs": [],
   "source": [
    "# The initial test will work as normal\n",
    "list_to_swap = [0, 1, 2, 3, 4, 5]\n",
    "first_loc = 3\n",
    "second_loc = 2\n",
    "\n",
    "swap_except( list_to_swap, first_loc, second_loc )\n",
    "print( list_to_swap )"
   ]
  },
  {
   "cell_type": "code",
   "execution_count": null,
   "id": "320a7b0f",
   "metadata": {},
   "outputs": [],
   "source": [
    "# The second test will work as expeced\n",
    "first_loc = 0\n",
    "second_loc = len(list_to_swap) - 1\n",
    "\n",
    "swap_except( list_to_swap, first_loc, second_loc )\n",
    "print( list_to_swap )"
   ]
  },
  {
   "cell_type": "code",
   "execution_count": null,
   "id": "e7176482",
   "metadata": {},
   "outputs": [],
   "source": [
    "# Now let's see what happens when we go out of bounds!\n",
    "second_loc = len(list_to_swap)\n",
    "\n",
    "# We will see that the values print, and that the program is permitted to continue!\n",
    "swap_except( list_to_swap, first_loc, second_loc )\n",
    "print( list_to_swap )"
   ]
  }
 ],
 "metadata": {
  "kernelspec": {
   "display_name": "Python 3 (ipykernel)",
   "language": "python",
   "name": "python3"
  },
  "language_info": {
   "codemirror_mode": {
    "name": "ipython",
    "version": 3
   },
   "file_extension": ".py",
   "mimetype": "text/x-python",
   "name": "python",
   "nbconvert_exporter": "python",
   "pygments_lexer": "ipython3",
   "version": "3.9.12"
  }
 },
 "nbformat": 4,
 "nbformat_minor": 5
}
