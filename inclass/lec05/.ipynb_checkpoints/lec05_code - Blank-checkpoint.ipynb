{
 "cells": [
  {
   "cell_type": "markdown",
   "id": "8cfa3e93",
   "metadata": {},
   "source": [
    "### This is the preview notebook for Lecture 05\n",
    "\n",
    "In this lecture, we will learn about:\n",
    "<ol>\n",
    "    <li>while loops</li>\n",
    "    <li>for loops</li>\n",
    "    <li>Lists</li>\n",
    "    <li>Review try/except</li>\n",
    "</ol>"
   ]
  },
  {
   "cell_type": "markdown",
   "id": "a62d4cdc",
   "metadata": {},
   "source": [
    "### range( start, end )\n",
    "\n",
    "Will actually go to <b>end-1</b>"
   ]
  },
  {
   "cell_type": "code",
   "execution_count": null,
   "id": "16fc3c1d",
   "metadata": {
    "scrolled": true
   },
   "outputs": [],
   "source": [
    "# You can even control the range\n",
    "# But for range(0,4), will it go to 3 or 104?"
   ]
  },
  {
   "cell_type": "code",
   "execution_count": null,
   "id": "974b6cd2",
   "metadata": {
    "scrolled": false
   },
   "outputs": [],
   "source": [
    "# Every loop, this will add 2\n",
    "# After it gets to 11, it will add 2, but then not print\n",
    "# A good example of *needing to understand the syntax*\n",
    "# Remember, we are shooting electricity into rocks and trying to make them think"
   ]
  },
  {
   "cell_type": "markdown",
   "id": "f6b53057",
   "metadata": {},
   "source": [
    "### In-Class Coding Opportunity"
   ]
  },
  {
   "cell_type": "code",
   "execution_count": null,
   "id": "1064deb5",
   "metadata": {},
   "outputs": [],
   "source": [
    "# Read in a set of integers until you enter a 0, and then print their average"
   ]
  },
  {
   "cell_type": "markdown",
   "id": "0fe2b325",
   "metadata": {},
   "source": [
    "### For loops \n",
    "\n",
    "Iterating through a definite set of objects is a common looping pattern"
   ]
  },
  {
   "cell_type": "code",
   "execution_count": null,
   "id": "71eccafc",
   "metadata": {
    "scrolled": false
   },
   "outputs": [],
   "source": [
    "# Using []"
   ]
  },
  {
   "cell_type": "code",
   "execution_count": null,
   "id": "4668862e",
   "metadata": {
    "scrolled": true
   },
   "outputs": [],
   "source": [
    "# Using range"
   ]
  },
  {
   "cell_type": "markdown",
   "id": "b5974082",
   "metadata": {},
   "source": [
    "### List Syntax and Operators"
   ]
  },
  {
   "cell_type": "code",
   "execution_count": null,
   "id": "3fec569c",
   "metadata": {},
   "outputs": [],
   "source": [
    "# The basic format for a Python list"
   ]
  },
  {
   "cell_type": "code",
   "execution_count": null,
   "id": "ae070386",
   "metadata": {},
   "outputs": [],
   "source": [
    "# You can use a variable name to save lists"
   ]
  },
  {
   "cell_type": "code",
   "execution_count": null,
   "id": "84201716",
   "metadata": {},
   "outputs": [],
   "source": [
    "# By calling print, you can print the entire list"
   ]
  },
  {
   "cell_type": "code",
   "execution_count": null,
   "id": "0d1b1c9c",
   "metadata": {},
   "outputs": [],
   "source": [
    "# Review: Lists have their own type!"
   ]
  },
  {
   "cell_type": "code",
   "execution_count": null,
   "id": "31d870b5",
   "metadata": {},
   "outputs": [],
   "source": [
    "# You can access a list element using []"
   ]
  },
  {
   "cell_type": "markdown",
   "id": "05181b6a",
   "metadata": {},
   "source": [
    "### In-Class Coding Opportunity: Let's loop through the list and print the elements\n",
    "\n",
    "Key Takeaway: The value at a location is not the same as the location itself!"
   ]
  },
  {
   "cell_type": "code",
   "execution_count": null,
   "id": "f2301f7a",
   "metadata": {},
   "outputs": [],
   "source": [
    "# Loop through lists example using len"
   ]
  },
  {
   "cell_type": "code",
   "execution_count": null,
   "id": "91d8a1c3",
   "metadata": {
    "scrolled": true
   },
   "outputs": [],
   "source": [
    "# Loop through lists example using in"
   ]
  },
  {
   "cell_type": "markdown",
   "id": "134c6ae7",
   "metadata": {},
   "source": [
    "### In-Class Coding Opportunity\n",
    "\n",
    "Write a function called find_smallest that returns the smallest item in a list. Then, write a line of code that passes an integer array to that function to test your result!"
   ]
  },
  {
   "cell_type": "code",
   "execution_count": null,
   "id": "ce8dc4be",
   "metadata": {},
   "outputs": [],
   "source": [
    "# Function "
   ]
  },
  {
   "cell_type": "code",
   "execution_count": null,
   "id": "5910e597",
   "metadata": {
    "scrolled": false
   },
   "outputs": [],
   "source": [
    "# Test with integers\n",
    "find_smallest([6, 3, 10, 6, 8, -2, 25, -7, -6, 9])"
   ]
  },
  {
   "cell_type": "code",
   "execution_count": null,
   "id": "fd6b0245",
   "metadata": {},
   "outputs": [],
   "source": [
    "# Test char array\n",
    "char_array = ['N', 'o', 't', 'r', 'e', 'D', 'a', 'm', 'e']"
   ]
  },
  {
   "cell_type": "code",
   "execution_count": null,
   "id": "580ec288",
   "metadata": {},
   "outputs": [],
   "source": [
    "# Test with char array\n",
    "find_smallest( char_array )"
   ]
  }
 ],
 "metadata": {
  "kernelspec": {
   "display_name": "Python 3 (ipykernel)",
   "language": "python",
   "name": "python3"
  },
  "language_info": {
   "codemirror_mode": {
    "name": "ipython",
    "version": 3
   },
   "file_extension": ".py",
   "mimetype": "text/x-python",
   "name": "python",
   "nbconvert_exporter": "python",
   "pygments_lexer": "ipython3",
   "version": "3.9.13"
  }
 },
 "nbformat": 4,
 "nbformat_minor": 5
}
