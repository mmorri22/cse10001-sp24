{
 "cells": [
  {
   "cell_type": "markdown",
   "id": "8cfa3e93",
   "metadata": {},
   "source": [
    "### This is the preview notebook for Lecture 05\n",
    "\n",
    "\n",
    "In this lecture, we will learn about:\n",
    "<ol>\n",
    "    <li>while loops</li>\n",
    "    <li>for loops</li>\n",
    "    <li>Lists</li>\n",
    "    <li>Review try/except</li>\n",
    "</ol>"
   ]
  },
  {
   "cell_type": "markdown",
   "id": "a62d4cdc",
   "metadata": {},
   "source": [
    "### range( start, end )\n",
    "\n",
    "Will actually go to <b>end-1</b>"
   ]
  },
  {
   "cell_type": "code",
   "execution_count": 3,
   "id": "16fc3c1d",
   "metadata": {
    "scrolled": true
   },
   "outputs": [
    {
     "name": "stdout",
     "output_type": "stream",
     "text": [
      "0\n",
      "1\n",
      "2\n",
      "3\n"
     ]
    }
   ],
   "source": [
    "# You can even control the range\n",
    "# But for range(0,4), will it go to 3 or 104?\n",
    "iterator = 0\n",
    "\n",
    "while iterator in range(0, 4):\n",
    "    print(iterator)\n",
    "    iterator += 1"
   ]
  },
  {
   "cell_type": "code",
   "execution_count": 6,
   "id": "974b6cd2",
   "metadata": {
    "scrolled": false
   },
   "outputs": [
    {
     "name": "stdout",
     "output_type": "stream",
     "text": [
      "3\n",
      "5\n",
      "7\n",
      "9\n",
      "11\n"
     ]
    }
   ],
   "source": [
    "# Every loop, this will add 2\n",
    "# After it gets to 11, it will add 2, but then not print\n",
    "# A good example of *needing to understand the syntax*\n",
    "# Remember, we are shooting electricity into rocks and trying to make them think\n",
    "\n",
    "temp_val = 3\n",
    "add_val = 2\n",
    "\n",
    "while temp_val in range(3, 13):\n",
    "    print( temp_val )\n",
    "    temp_val += add_val"
   ]
  },
  {
   "cell_type": "markdown",
   "id": "f6b53057",
   "metadata": {},
   "source": [
    "### In-Class Coding Opportunity"
   ]
  },
  {
   "cell_type": "code",
   "execution_count": 11,
   "id": "1064deb5",
   "metadata": {},
   "outputs": [
    {
     "name": "stdout",
     "output_type": "stream",
     "text": [
      "Input the next integer: 10\n",
      "Input the next integer: -2\n",
      "Input the next integer: 3\n",
      "Input the next integer: 34\n",
      "Input the next integer: 5\n",
      "Input the next integer: 0\n",
      "The sum is 50, num elements is 5, average is 10.0\n"
     ]
    }
   ],
   "source": [
    "# Read in a set of integers until you enter a 0, and then print their average\n",
    "# Consider a potential *issue*\n",
    "\n",
    "int_input = 0\n",
    "sum_val = 0\n",
    "count_val = 0\n",
    "\n",
    "while True:\n",
    "    int_input = int(input( 'Input the next integer: '))\n",
    "    \n",
    "    if int_input == 0:\n",
    "        break\n",
    "        \n",
    "    sum_val += int_input\n",
    "    count_val += 1\n",
    "    \n",
    "try:\n",
    "    print( f'The sum is {sum_val}, num elements is {count_val}, average is {sum_val/count_val}')\n",
    "    \n",
    "except ZeroDivisionError:\n",
    "    print( 'Attempted to divide by Zero!')"
   ]
  },
  {
   "cell_type": "markdown",
   "id": "0fe2b325",
   "metadata": {},
   "source": [
    "### For loops \n",
    "\n",
    "Iterating through a definite set of objects is a common looping pattern"
   ]
  },
  {
   "cell_type": "code",
   "execution_count": 12,
   "id": "71eccafc",
   "metadata": {
    "scrolled": false
   },
   "outputs": [
    {
     "name": "stdout",
     "output_type": "stream",
     "text": [
      "0\n",
      "1\n",
      "2\n",
      "3\n"
     ]
    }
   ],
   "source": [
    "# Using []\n",
    "for i in [0, 1, 2, 3]:\n",
    "    print(i)"
   ]
  },
  {
   "cell_type": "code",
   "execution_count": 13,
   "id": "4668862e",
   "metadata": {
    "scrolled": true
   },
   "outputs": [
    {
     "name": "stdout",
     "output_type": "stream",
     "text": [
      "0\n",
      "1\n",
      "2\n",
      "3\n"
     ]
    }
   ],
   "source": [
    "# Using range\n",
    "for i in range (0, 4):\n",
    "    print(i)"
   ]
  },
  {
   "cell_type": "markdown",
   "id": "b5974082",
   "metadata": {},
   "source": [
    "### List Syntax and Operators"
   ]
  },
  {
   "cell_type": "code",
   "execution_count": 16,
   "id": "3fec569c",
   "metadata": {},
   "outputs": [
    {
     "name": "stdout",
     "output_type": "stream",
     "text": [
      "[11, 13, 4, 22, -7]\n"
     ]
    }
   ],
   "source": [
    "# The basic format for a Python list\n",
    "print( [11, 13, 4, 22, -7] )"
   ]
  },
  {
   "cell_type": "code",
   "execution_count": 17,
   "id": "ae070386",
   "metadata": {},
   "outputs": [],
   "source": [
    "# You can use a variable name to save lists\n",
    "int_list = [11, 13, 4, 22, -7]"
   ]
  },
  {
   "cell_type": "code",
   "execution_count": 18,
   "id": "84201716",
   "metadata": {},
   "outputs": [
    {
     "name": "stdout",
     "output_type": "stream",
     "text": [
      "[11, 13, 4, 22, -7]\n"
     ]
    }
   ],
   "source": [
    "# By calling print, you can print the entire list\n",
    "print( int_list )"
   ]
  },
  {
   "cell_type": "code",
   "execution_count": 19,
   "id": "0d1b1c9c",
   "metadata": {},
   "outputs": [
    {
     "data": {
      "text/plain": [
       "list"
      ]
     },
     "execution_count": 19,
     "metadata": {},
     "output_type": "execute_result"
    }
   ],
   "source": [
    "# Review: Lists have their own type!\n",
    "type( int_list )"
   ]
  },
  {
   "cell_type": "code",
   "execution_count": 30,
   "id": "31d870b5",
   "metadata": {},
   "outputs": [
    {
     "name": "stdout",
     "output_type": "stream",
     "text": [
      "4\n",
      "5\n"
     ]
    }
   ],
   "source": [
    "# You can access a list element using []\n",
    "print( int_list[2] )\n",
    "\n",
    "print( len( int_list ) )"
   ]
  },
  {
   "cell_type": "markdown",
   "id": "05181b6a",
   "metadata": {},
   "source": [
    "### In-Class Coding Opportunity: Let's loop through the list and print the elements\n",
    "\n",
    "Key Takeaway: The value at a location is not the same as the location itself!"
   ]
  },
  {
   "cell_type": "code",
   "execution_count": 34,
   "id": "f2301f7a",
   "metadata": {},
   "outputs": [
    {
     "name": "stdout",
     "output_type": "stream",
     "text": [
      "int_list[0] = 11\n",
      "int_list[1] = 13\n",
      "int_list[2] = 4\n",
      "int_list[3] = 22\n",
      "int_list[4] = -7\n"
     ]
    }
   ],
   "source": [
    "# Loop through lists example using len\n",
    "iterator = 0\n",
    "\n",
    "while iterator < len( int_list ):\n",
    "    print( \"int_list[\" + f'{iterator}' + \"] = \" + f'{int_list[iterator]}' )\n",
    "    iterator += 1"
   ]
  },
  {
   "cell_type": "code",
   "execution_count": 35,
   "id": "91d8a1c3",
   "metadata": {
    "scrolled": true
   },
   "outputs": [
    {
     "name": "stdout",
     "output_type": "stream",
     "text": [
      "11\n",
      "13\n",
      "4\n",
      "22\n",
      "-7\n"
     ]
    }
   ],
   "source": [
    "# Loop through lists example using in\n",
    "for iterator in range( 0, len( int_list ) ):\n",
    "    print( int_list[iterator] )"
   ]
  },
  {
   "cell_type": "markdown",
   "id": "134c6ae7",
   "metadata": {},
   "source": [
    "### In-Class Coding Opportunity\n",
    "\n",
    "Write a function called find_smallest that returns the smallest item in a list. Then, write a line of code that passes an integer array to that function to test your result!"
   ]
  },
  {
   "cell_type": "code",
   "execution_count": 6,
   "id": "ce8dc4be",
   "metadata": {},
   "outputs": [],
   "source": [
    "# Function \n",
    "\n",
    "def find_smallest( data ):\n",
    "    \n",
    "    try:\n",
    "    \n",
    "        smallest = data[0]\n",
    "        index = 0\n",
    "\n",
    "        while index < len(data):\n",
    "            if data[index] < smallest:\n",
    "                smallest = data[index]\n",
    "\n",
    "            index += 1\n",
    "\n",
    "        return smallest\n",
    "    \n",
    "    except IndexError:\n",
    "        print( 'Hey prof, list empty!')"
   ]
  },
  {
   "cell_type": "code",
   "execution_count": 43,
   "id": "5910e597",
   "metadata": {
    "scrolled": false
   },
   "outputs": [
    {
     "data": {
      "text/plain": [
       "-7"
      ]
     },
     "execution_count": 43,
     "metadata": {},
     "output_type": "execute_result"
    }
   ],
   "source": [
    "# Test with integers\n",
    "find_smallest([6, 3, 10, 6, 8, -2, 25, -7, -6, 9])"
   ]
  },
  {
   "cell_type": "code",
   "execution_count": 44,
   "id": "cb514182",
   "metadata": {},
   "outputs": [
    {
     "name": "stdout",
     "output_type": "stream",
     "text": [
      "Hey prof, list empty!\n"
     ]
    }
   ],
   "source": [
    "# Test with updated exception\n",
    "find_smallest([])"
   ]
  },
  {
   "cell_type": "code",
   "execution_count": 38,
   "id": "fd6b0245",
   "metadata": {},
   "outputs": [],
   "source": [
    "# Test char array\n",
    "char_array = ['N', 'o', 't', 'r', 'e', 'D', 'a', 'm', 'e']"
   ]
  },
  {
   "cell_type": "code",
   "execution_count": 39,
   "id": "580ec288",
   "metadata": {},
   "outputs": [
    {
     "data": {
      "text/plain": [
       "'D'"
      ]
     },
     "execution_count": 39,
     "metadata": {},
     "output_type": "execute_result"
    }
   ],
   "source": [
    "# Test with char array\n",
    "find_smallest( char_array )"
   ]
  },
  {
   "cell_type": "markdown",
   "id": "8c7617c4",
   "metadata": {},
   "source": [
    "### Why do you think this happened?\n",
    "\n",
    "Hint: <a href = \"https://www.asciitable.com/\">ASCII Table</a>"
   ]
  },
  {
   "cell_type": "code",
   "execution_count": 2,
   "id": "3ef8633c",
   "metadata": {},
   "outputs": [],
   "source": [
    "# Lists do not need to be the same type, although this can be rare\n",
    "type_list = [ 1, 'Hello!']"
   ]
  },
  {
   "cell_type": "code",
   "execution_count": 3,
   "id": "2fc6f5e9",
   "metadata": {},
   "outputs": [
    {
     "data": {
      "text/plain": [
       "list"
      ]
     },
     "execution_count": 3,
     "metadata": {},
     "output_type": "execute_result"
    }
   ],
   "source": [
    "# What will the type of this list be?\n",
    "type( type_list )"
   ]
  },
  {
   "cell_type": "code",
   "execution_count": 7,
   "id": "5044e688",
   "metadata": {},
   "outputs": [
    {
     "ename": "TypeError",
     "evalue": "'<' not supported between instances of 'str' and 'int'",
     "output_type": "error",
     "traceback": [
      "\u001b[1;31m---------------------------------------------------------------------------\u001b[0m",
      "\u001b[1;31mTypeError\u001b[0m                                 Traceback (most recent call last)",
      "Input \u001b[1;32mIn [7]\u001b[0m, in \u001b[0;36m<cell line: 2>\u001b[1;34m()\u001b[0m\n\u001b[0;32m      1\u001b[0m \u001b[38;5;66;03m# You cannot compare different types in a heterogeneous list\u001b[39;00m\n\u001b[1;32m----> 2\u001b[0m \u001b[43mfind_smallest\u001b[49m\u001b[43m(\u001b[49m\u001b[43m \u001b[49m\u001b[43mtype_list\u001b[49m\u001b[43m \u001b[49m\u001b[43m)\u001b[49m\n",
      "Input \u001b[1;32mIn [6]\u001b[0m, in \u001b[0;36mfind_smallest\u001b[1;34m(data)\u001b[0m\n\u001b[0;32m      8\u001b[0m index \u001b[38;5;241m=\u001b[39m \u001b[38;5;241m0\u001b[39m\n\u001b[0;32m     10\u001b[0m \u001b[38;5;28;01mwhile\u001b[39;00m index \u001b[38;5;241m<\u001b[39m \u001b[38;5;28mlen\u001b[39m(data):\n\u001b[1;32m---> 11\u001b[0m     \u001b[38;5;28;01mif\u001b[39;00m \u001b[43mdata\u001b[49m\u001b[43m[\u001b[49m\u001b[43mindex\u001b[49m\u001b[43m]\u001b[49m\u001b[43m \u001b[49m\u001b[38;5;241;43m<\u001b[39;49m\u001b[43m \u001b[49m\u001b[43msmallest\u001b[49m:\n\u001b[0;32m     12\u001b[0m         smallest \u001b[38;5;241m=\u001b[39m data[index]\n\u001b[0;32m     14\u001b[0m     index \u001b[38;5;241m+\u001b[39m\u001b[38;5;241m=\u001b[39m \u001b[38;5;241m1\u001b[39m\n",
      "\u001b[1;31mTypeError\u001b[0m: '<' not supported between instances of 'str' and 'int'"
     ]
    }
   ],
   "source": [
    "# You cannot compare different types in a heterogeneous list\n",
    "find_smallest( type_list )"
   ]
  },
  {
   "cell_type": "markdown",
   "id": "399f53a9",
   "metadata": {},
   "source": [
    "### In-Class Coding Opportunity: \n",
    "\n",
    "We will write a function called <i>swap</i> that performs the following tasks\n",
    "\n",
    "<ol>\n",
    "    <li>Reads in a list and two <b>locations</b> to swap</li>\n",
    "    <ol>\n",
    "        <li>We need to understand that locations are <b>physical</b> and must be kep track of\n",
    "    </ol>\n",
    "    <li>Using conditionals, check if the locations are either less than 0 OR greater than or equal to the array length. If that fails, we do not swap!</li>\n",
    "    <li>Otherwise, swaps the locations</li>\n",
    "    <li>Then we will call it several times, including testing outside of the array\n",
    "</ol>"
   ]
  },
  {
   "cell_type": "code",
   "execution_count": 45,
   "id": "399b502f",
   "metadata": {},
   "outputs": [],
   "source": [
    "# Swap Function\n",
    "def swap( list_to_swap, first_loc, second_loc ):\n",
    "    \n",
    "    temp = list_to_swap[first_loc]\n",
    "    \n",
    "    list_to_swap[first_loc] = list_to_swap[second_loc]\n",
    "    \n",
    "    list_to_swap[second_loc] = temp"
   ]
  },
  {
   "cell_type": "code",
   "execution_count": 46,
   "id": "717001b1",
   "metadata": {},
   "outputs": [
    {
     "name": "stdout",
     "output_type": "stream",
     "text": [
      "[0, 1, 3, 2, 4, 5]\n"
     ]
    }
   ],
   "source": [
    "# Creating the list to test\n",
    "list_to_swap = [0, 1, 2, 3, 4, 5]\n",
    "first_loc = 3\n",
    "second_loc = 2\n",
    "\n",
    "# We will see that lists are \"passed by reference\" to the function\n",
    "swap( list_to_swap, first_loc, second_loc )\n",
    "print( list_to_swap )"
   ]
  },
  {
   "cell_type": "code",
   "execution_count": 47,
   "id": "857aeb96",
   "metadata": {},
   "outputs": [
    {
     "name": "stdout",
     "output_type": "stream",
     "text": [
      "[5, 1, 3, 2, 4, 0]\n"
     ]
    }
   ],
   "source": [
    "# Now let's do it with 0 and array length - 1\n",
    "first_loc = 0\n",
    "second_loc = len(list_to_swap) - 1\n",
    "\n",
    "# We will see that lists are \"passed by reference\" to the function\n",
    "swap( list_to_swap, first_loc, second_loc )\n",
    "print( list_to_swap )"
   ]
  },
  {
   "cell_type": "code",
   "execution_count": 48,
   "id": "40474435",
   "metadata": {},
   "outputs": [
    {
     "ename": "IndexError",
     "evalue": "list index out of range",
     "output_type": "error",
     "traceback": [
      "\u001b[1;31m---------------------------------------------------------------------------\u001b[0m",
      "\u001b[1;31mIndexError\u001b[0m                                Traceback (most recent call last)",
      "\u001b[1;32m~\\AppData\\Local\\Temp\\ipykernel_7872\\1166022424.py\u001b[0m in \u001b[0;36m<module>\u001b[1;34m\u001b[0m\n\u001b[0;32m      3\u001b[0m \u001b[1;33m\u001b[0m\u001b[0m\n\u001b[0;32m      4\u001b[0m \u001b[1;31m# We will see that lists have \"bounds\"\u001b[0m\u001b[1;33m\u001b[0m\u001b[1;33m\u001b[0m\u001b[0m\n\u001b[1;32m----> 5\u001b[1;33m \u001b[0mswap\u001b[0m\u001b[1;33m(\u001b[0m \u001b[0mlist_to_swap\u001b[0m\u001b[1;33m,\u001b[0m \u001b[0mfirst_loc\u001b[0m\u001b[1;33m,\u001b[0m \u001b[0msecond_loc\u001b[0m \u001b[1;33m)\u001b[0m\u001b[1;33m\u001b[0m\u001b[1;33m\u001b[0m\u001b[0m\n\u001b[0m\u001b[0;32m      6\u001b[0m \u001b[0mprint\u001b[0m\u001b[1;33m(\u001b[0m \u001b[0mlist_to_swap\u001b[0m \u001b[1;33m)\u001b[0m\u001b[1;33m\u001b[0m\u001b[1;33m\u001b[0m\u001b[0m\n",
      "\u001b[1;32m~\\AppData\\Local\\Temp\\ipykernel_7872\\2964931270.py\u001b[0m in \u001b[0;36mswap\u001b[1;34m(list_to_swap, first_loc, second_loc)\u001b[0m\n\u001b[0;32m      4\u001b[0m     \u001b[0mtemp\u001b[0m \u001b[1;33m=\u001b[0m \u001b[0mlist_to_swap\u001b[0m\u001b[1;33m[\u001b[0m\u001b[0mfirst_loc\u001b[0m\u001b[1;33m]\u001b[0m\u001b[1;33m\u001b[0m\u001b[1;33m\u001b[0m\u001b[0m\n\u001b[0;32m      5\u001b[0m \u001b[1;33m\u001b[0m\u001b[0m\n\u001b[1;32m----> 6\u001b[1;33m     \u001b[0mlist_to_swap\u001b[0m\u001b[1;33m[\u001b[0m\u001b[0mfirst_loc\u001b[0m\u001b[1;33m]\u001b[0m \u001b[1;33m=\u001b[0m \u001b[0mlist_to_swap\u001b[0m\u001b[1;33m[\u001b[0m\u001b[0msecond_loc\u001b[0m\u001b[1;33m]\u001b[0m\u001b[1;33m\u001b[0m\u001b[1;33m\u001b[0m\u001b[0m\n\u001b[0m\u001b[0;32m      7\u001b[0m \u001b[1;33m\u001b[0m\u001b[0m\n\u001b[0;32m      8\u001b[0m     \u001b[0mlist_to_swap\u001b[0m\u001b[1;33m[\u001b[0m\u001b[0msecond_loc\u001b[0m\u001b[1;33m]\u001b[0m \u001b[1;33m=\u001b[0m \u001b[0mtemp\u001b[0m\u001b[1;33m\u001b[0m\u001b[1;33m\u001b[0m\u001b[0m\n",
      "\u001b[1;31mIndexError\u001b[0m: list index out of range"
     ]
    }
   ],
   "source": [
    "# Now let's see what happens when we go out of bounds!\n",
    "second_loc = len(list_to_swap)\n",
    "\n",
    "# We will see that lists have \"bounds\"\n",
    "swap( list_to_swap, first_loc, second_loc )\n",
    "print( list_to_swap )"
   ]
  },
  {
   "cell_type": "markdown",
   "id": "4a3e9a7f",
   "metadata": {},
   "source": [
    "### We now see that we have an IndexError\n",
    "\n",
    "Even with the if/elif/else statements, the Python recognizes the *possible* issue"
   ]
  },
  {
   "cell_type": "markdown",
   "id": "7f221f43",
   "metadata": {},
   "source": [
    "### In-Class Coding Opportunity: swap_except\n",
    "\n",
    "So let's write a modified swap function, which we will call <b>swap_except</b>, that does the same thing as swap, except now we will use our understanding of try/except from the previous lecture"
   ]
  },
  {
   "cell_type": "code",
   "execution_count": 49,
   "id": "b5d04d88",
   "metadata": {},
   "outputs": [],
   "source": [
    "# Swap Except\n",
    "# Swap Function\n",
    "def swap_except( list_to_swap, first_loc, second_loc ):\n",
    "    \n",
    "    try:\n",
    "    \n",
    "        temp = list_to_swap[first_loc]\n",
    "\n",
    "        list_to_swap[first_loc] = list_to_swap[second_loc]\n",
    "\n",
    "        list_to_swap[second_loc] = temp\n",
    "        \n",
    "    except IndexError:\n",
    "        print( 'Sorry Yoda, there IS a try' )"
   ]
  },
  {
   "cell_type": "code",
   "execution_count": 50,
   "id": "e56b195b",
   "metadata": {},
   "outputs": [
    {
     "name": "stdout",
     "output_type": "stream",
     "text": [
      "[0, 1, 3, 2, 4, 5]\n"
     ]
    }
   ],
   "source": [
    "# The initial test will work as normal\n",
    "list_to_swap = [0, 1, 2, 3, 4, 5]\n",
    "first_loc = 3\n",
    "second_loc = 2\n",
    "\n",
    "swap_except( list_to_swap, first_loc, second_loc )\n",
    "print( list_to_swap )"
   ]
  },
  {
   "cell_type": "code",
   "execution_count": 51,
   "id": "320a7b0f",
   "metadata": {},
   "outputs": [
    {
     "name": "stdout",
     "output_type": "stream",
     "text": [
      "[5, 1, 3, 2, 4, 0]\n"
     ]
    }
   ],
   "source": [
    "# The second test will work as expeced\n",
    "first_loc = 0\n",
    "second_loc = len(list_to_swap) - 1\n",
    "\n",
    "swap_except( list_to_swap, first_loc, second_loc )\n",
    "print( list_to_swap )"
   ]
  },
  {
   "cell_type": "code",
   "execution_count": 52,
   "id": "e7176482",
   "metadata": {},
   "outputs": [
    {
     "name": "stdout",
     "output_type": "stream",
     "text": [
      "Sorry Yoda, there IS a try\n",
      "[5, 1, 3, 2, 4, 0]\n"
     ]
    }
   ],
   "source": [
    "# Now let's see what happens when we go out of bounds!\n",
    "second_loc = len(list_to_swap)\n",
    "\n",
    "# We will see that the values print, and that the program is permitted to continue!\n",
    "swap_except( list_to_swap, first_loc, second_loc )\n",
    "print( list_to_swap )"
   ]
  },
  {
   "cell_type": "code",
   "execution_count": null,
   "id": "f9fd6b4d",
   "metadata": {},
   "outputs": [],
   "source": []
  }
 ],
 "metadata": {
  "kernelspec": {
   "display_name": "Python 3 (ipykernel)",
   "language": "python",
   "name": "python3"
  },
  "language_info": {
   "codemirror_mode": {
    "name": "ipython",
    "version": 3
   },
   "file_extension": ".py",
   "mimetype": "text/x-python",
   "name": "python",
   "nbconvert_exporter": "python",
   "pygments_lexer": "ipython3",
   "version": "3.9.12"
  }
 },
 "nbformat": 4,
 "nbformat_minor": 5
}
