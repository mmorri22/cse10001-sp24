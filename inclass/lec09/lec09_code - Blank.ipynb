{
 "cells": [
  {
   "cell_type": "markdown",
   "id": "cb706603",
   "metadata": {},
   "source": [
    "### This is the Notebook for Lecture 09\n",
    "\n",
    "In this lecture, we will focus primarily on File I/O. Specifically, we will focus on:\n",
    "<ol>\n",
    "    <li>Opening and closing a file</li>\n",
    "    <li>Reading from a text file, and applying our understanding of ASCII</li>\n",
    "    <li>Searching a file</li>\n",
    "    <li>Writing to a file</li>\n",
    "    <li>Error handling</li>\n",
    "</ol>"
   ]
  },
  {
   "cell_type": "code",
   "execution_count": null,
   "id": "7384c5d4",
   "metadata": {},
   "outputs": [],
   "source": [
    "# In order to perform File I/O in Python, you need to invoke the os"
   ]
  },
  {
   "cell_type": "code",
   "execution_count": null,
   "id": "b6057c06",
   "metadata": {},
   "outputs": [],
   "source": [
    "# List all the files in the current directory"
   ]
  },
  {
   "cell_type": "code",
   "execution_count": null,
   "id": "db02d760",
   "metadata": {},
   "outputs": [],
   "source": [
    "# Combining Concepts: Use enumerate to loop and print files"
   ]
  },
  {
   "cell_type": "markdown",
   "id": "50f8ce17",
   "metadata": {},
   "source": [
    "### Determining the size of the file"
   ]
  },
  {
   "cell_type": "code",
   "execution_count": null,
   "id": "7e32edbb",
   "metadata": {},
   "outputs": [],
   "source": [
    "# Use the getsize() to determine the size of the file"
   ]
  },
  {
   "cell_type": "code",
   "execution_count": null,
   "id": "32735e9a",
   "metadata": {},
   "outputs": [],
   "source": [
    "# Combining Concepts: Use enumerate to loop and print files and file sizes"
   ]
  },
  {
   "cell_type": "markdown",
   "id": "af820df0",
   "metadata": {},
   "source": [
    "### Opening a File"
   ]
  },
  {
   "cell_type": "code",
   "execution_count": null,
   "id": "828faada",
   "metadata": {},
   "outputs": [],
   "source": [
    "# First, download the FightSong.txt file from Canvas\n",
    "# Whenever you open a file..."
   ]
  },
  {
   "cell_type": "code",
   "execution_count": null,
   "id": "503ea936",
   "metadata": {
    "scrolled": true
   },
   "outputs": [],
   "source": [
    "# Read the file to the screen"
   ]
  },
  {
   "cell_type": "code",
   "execution_count": null,
   "id": "9de0bbef",
   "metadata": {},
   "outputs": [],
   "source": [
    "# What do you think happens when I try to read it again?"
   ]
  },
  {
   "cell_type": "code",
   "execution_count": null,
   "id": "7df7bf83",
   "metadata": {},
   "outputs": [],
   "source": [
    "#... write a code segment to close the file to preserve computing resources"
   ]
  },
  {
   "cell_type": "code",
   "execution_count": null,
   "id": "ba1c4b1b",
   "metadata": {},
   "outputs": [],
   "source": [
    "# To get back to the top of the file, we re-open"
   ]
  },
  {
   "cell_type": "code",
   "execution_count": null,
   "id": "c56dc646",
   "metadata": {},
   "outputs": [],
   "source": [
    "# Then we can use newlines to print each *line*. But there will be extra newlines"
   ]
  },
  {
   "cell_type": "code",
   "execution_count": null,
   "id": "e0190378",
   "metadata": {},
   "outputs": [],
   "source": [
    "#And again, we close the file to get back to the top of the file when we re-open"
   ]
  },
  {
   "cell_type": "code",
   "execution_count": null,
   "id": "419a6f70",
   "metadata": {},
   "outputs": [],
   "source": [
    "# To get back to the top of the file, we re-open"
   ]
  },
  {
   "cell_type": "code",
   "execution_count": null,
   "id": "3e762440",
   "metadata": {},
   "outputs": [],
   "source": [
    "# We will use the strip() method to remove the newline characters"
   ]
  },
  {
   "cell_type": "code",
   "execution_count": null,
   "id": "b8b8f891",
   "metadata": {},
   "outputs": [],
   "source": [
    "# And we will close the file to reset the File pointer"
   ]
  },
  {
   "cell_type": "markdown",
   "id": "b8ddc453",
   "metadata": {},
   "source": [
    "### In-Class Coding Opportunity\n",
    "\n",
    "Write a function search_file(path, target) that returns all the lines (i.e. a list of strings) in the file specified by path that contain the target string.\n",
    "\n",
    "The example I will use is frost.txt. My file contains the poem \"The Road Not Taken\" by Robert Frost.\n",
    "\n",
    "You should create a folder and a small file, and read from that file"
   ]
  },
  {
   "cell_type": "code",
   "execution_count": null,
   "id": "b1269b3b",
   "metadata": {},
   "outputs": [],
   "source": [
    "# search_file(path_targe)"
   ]
  },
  {
   "cell_type": "code",
   "execution_count": null,
   "id": "785b4c6f",
   "metadata": {},
   "outputs": [],
   "source": [
    "#strip() command"
   ]
  },
  {
   "cell_type": "markdown",
   "id": "d37f02fe",
   "metadata": {},
   "source": [
    "### In-Class Coding Opportunity\n",
    "\n",
    "Write a function read_write(file_name) that performs the following tasks:\n",
    "<ol>\n",
    "    <li>Open a file to write</li>\n",
    "    <li>Input sentences to write to the file (using ‘End’ as a loop break), and writes each sentence to the file</li>\n",
    "    <li>Closes the file</li>\n",
    "    <li>Opens the file to read, prints the contents, and then closes the file</li>\n",
    "</ol>"
   ]
  },
  {
   "cell_type": "code",
   "execution_count": null,
   "id": "743cbc76",
   "metadata": {},
   "outputs": [],
   "source": [
    "# read_write( file_name )"
   ]
  },
  {
   "cell_type": "code",
   "execution_count": null,
   "id": "8f551eb6",
   "metadata": {},
   "outputs": [],
   "source": []
  },
  {
   "cell_type": "markdown",
   "id": "6675dd5a",
   "metadata": {},
   "source": [
    "### File Exception Handling"
   ]
  },
  {
   "cell_type": "code",
   "execution_count": null,
   "id": "267a0d64",
   "metadata": {},
   "outputs": [],
   "source": []
  },
  {
   "cell_type": "code",
   "execution_count": null,
   "id": "eb0fdf21",
   "metadata": {},
   "outputs": [],
   "source": []
  },
  {
   "cell_type": "markdown",
   "id": "922b8c4c",
   "metadata": {},
   "source": [
    "### Use a with statement to open/close in a scope"
   ]
  },
  {
   "cell_type": "code",
   "execution_count": null,
   "id": "e59ddf85",
   "metadata": {},
   "outputs": [],
   "source": []
  },
  {
   "cell_type": "code",
   "execution_count": null,
   "id": "524a2fd9",
   "metadata": {},
   "outputs": [],
   "source": []
  }
 ],
 "metadata": {
  "kernelspec": {
   "display_name": "Python 3 (ipykernel)",
   "language": "python",
   "name": "python3"
  },
  "language_info": {
   "codemirror_mode": {
    "name": "ipython",
    "version": 3
   },
   "file_extension": ".py",
   "mimetype": "text/x-python",
   "name": "python",
   "nbconvert_exporter": "python",
   "pygments_lexer": "ipython3",
   "version": "3.9.12"
  }
 },
 "nbformat": 4,
 "nbformat_minor": 5
}
