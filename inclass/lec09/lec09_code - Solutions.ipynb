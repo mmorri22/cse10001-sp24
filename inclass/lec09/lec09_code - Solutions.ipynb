{
 "cells": [
  {
   "cell_type": "markdown",
   "id": "cb706603",
   "metadata": {},
   "source": [
    "### This is the Notebook for Lecture 09\n",
    "\n",
    "In this lecture, we will focus primarily on File I/O. Specifically, we will focus on:\n",
    "<ol>\n",
    "    <li>Opening and closing a file</li>\n",
    "    <li>Reading from a text file, and applying our understanding of ASCII</li>\n",
    "    <li>Searching a file</li>\n",
    "    <li>Writing to a file</li>\n",
    "    <li>Error handling</li>\n",
    "</ol>"
   ]
  },
  {
   "cell_type": "code",
   "execution_count": 1,
   "id": "7384c5d4",
   "metadata": {},
   "outputs": [],
   "source": [
    "# In order to perform File I/O in Python, you need to invoke the os\n",
    "import os"
   ]
  },
  {
   "cell_type": "code",
   "execution_count": 2,
   "id": "b6057c06",
   "metadata": {},
   "outputs": [
    {
     "data": {
      "text/plain": [
       "['.ipynb_checkpoints',\n",
       " '10.1515_9781400884803-003.pdf',\n",
       " 'desktop.ini',\n",
       " 'Dictionary.htm',\n",
       " 'FightSong.txt',\n",
       " 'frost.htm',\n",
       " 'imagejpeg_0_11_.jpg',\n",
       " 'inigo.htm',\n",
       " 'lec02_code.ipynb',\n",
       " 'lec03_code.ipynb',\n",
       " 'lec04_code - Blank.ipynb',\n",
       " 'lec05_code - Blank.ipynb',\n",
       " 'lec06_code - Blank.ipynb',\n",
       " 'lec08_code - Blank.ipynb',\n",
       " 'lec10_code - Blank.ipynb',\n",
       " 'Lecture 04 - CPU and Conditionals Execution.pptx',\n",
       " 'Lecture 05 - Advanced Conditionals and HTML Printing.pptx',\n",
       " 'Lecture 06 - Iteration and Lists.pptx',\n",
       " 'Lecture 08 - Algorithms.pptx',\n",
       " 'Lecture 10 - File Input-Output.pptx',\n",
       " 'Untitled.ipynb']"
      ]
     },
     "execution_count": 2,
     "metadata": {},
     "output_type": "execute_result"
    }
   ],
   "source": [
    "# List all the files in the current directory\n",
    "os.listdir()"
   ]
  },
  {
   "cell_type": "code",
   "execution_count": 35,
   "id": "db02d760",
   "metadata": {},
   "outputs": [
    {
     "name": "stdout",
     "output_type": "stream",
     "text": [
      "1 .ipynb_checkpoints\n",
      "2 10.1515_9781400884803-003.pdf\n",
      "3 Dictionary.htm\n",
      "4 FightSong.txt\n",
      "5 Lecture 04 - CPU and Conditionals Execution.pptx\n",
      "6 Lecture 05 - Advanced Conditionals and HTML Printing.pptx\n",
      "7 Lecture 06 - Iteration and Lists.pptx\n",
      "8 Lecture 08 - Algorithms.pptx\n",
      "9 Lecture 10 - File Input-Output.pptx\n",
      "10 Untitled.ipynb\n",
      "11 desktop.ini\n",
      "12 frost.htm\n",
      "13 frost.txt\n",
      "14 imagejpeg_0_11_.jpg\n",
      "15 inigo.htm\n",
      "16 inigo.txt\n",
      "17 lec02_code.ipynb\n",
      "18 lec03_code.ipynb\n",
      "19 lec04_code - Blank.ipynb\n",
      "20 lec05_code - Blank.ipynb\n",
      "21 lec06_code - Blank.ipynb\n",
      "22 lec08_code - Blank.ipynb\n",
      "23 lec10_code - Blank.ipynb\n"
     ]
    }
   ],
   "source": [
    "# Combining Concepts: Use enumerate to loop and print files\n",
    "for index, file_name in enumerate( sorted( os.listdir() ), 1 ):\n",
    "    print( index, file_name )"
   ]
  },
  {
   "cell_type": "markdown",
   "id": "50f8ce17",
   "metadata": {},
   "source": [
    "### Determining the size of the file"
   ]
  },
  {
   "cell_type": "code",
   "execution_count": 6,
   "id": "7e32edbb",
   "metadata": {},
   "outputs": [
    {
     "data": {
      "text/plain": [
       "20251"
      ]
     },
     "execution_count": 6,
     "metadata": {},
     "output_type": "execute_result"
    }
   ],
   "source": [
    "# Use the getsize() to determine the size of the file\n",
    "os.path.getsize('lec06_code - Blank.ipynb')"
   ]
  },
  {
   "cell_type": "code",
   "execution_count": 29,
   "id": "32735e9a",
   "metadata": {},
   "outputs": [
    {
     "name": "stdout",
     "output_type": "stream",
     "text": [
      "1 .ipynb_checkpoints 4096\n",
      "2 10.1515_9781400884803-003.pdf 2765243\n",
      "3 Dictionary.htm 14142566\n",
      "4 FightSong.txt 265\n",
      "5 Lecture 04 - CPU and Conditionals Execution.pptx 49233269\n",
      "6 Lecture 05 - Advanced Conditionals and HTML Printing.pptx 428490\n",
      "7 Lecture 06 - Iteration and Lists.pptx 665331\n",
      "8 Lecture 08 - Algorithms.pptx 710512\n",
      "9 Lecture 10 - File Input-Output.pptx 785828\n",
      "10 Untitled.ipynb 589\n",
      "11 desktop.ini 282\n",
      "12 frost.htm 155995\n",
      "13 frost.txt 729\n",
      "14 imagejpeg_0_11_.jpg 62465\n",
      "15 inigo.htm 150470\n",
      "16 lec02_code.ipynb 15258\n",
      "17 lec03_code.ipynb 21291\n",
      "18 lec04_code - Blank.ipynb 8141\n",
      "19 lec05_code - Blank.ipynb 13179\n",
      "20 lec06_code - Blank.ipynb 20251\n",
      "21 lec08_code - Blank.ipynb 15496\n",
      "22 lec10_code - Blank.ipynb 12976\n"
     ]
    }
   ],
   "source": [
    "# Combining Concepts: Use enumerate to loop and print files and file sizes\n",
    "for index, file_name in enumerate( sorted( os.listdir() ), 1 ):\n",
    "    print( index, file_name, os.path.getsize(file_name) )"
   ]
  },
  {
   "cell_type": "markdown",
   "id": "af820df0",
   "metadata": {},
   "source": [
    "### Opening a File"
   ]
  },
  {
   "cell_type": "code",
   "execution_count": 12,
   "id": "828faada",
   "metadata": {},
   "outputs": [],
   "source": [
    "# First, download the FightSong.txt file from Canvas\n",
    "# Whenever you open a file...\n",
    "fight_song_file = open('FightSong.txt')"
   ]
  },
  {
   "cell_type": "code",
   "execution_count": 13,
   "id": "503ea936",
   "metadata": {
    "scrolled": true
   },
   "outputs": [
    {
     "data": {
      "text/plain": [
       "'Cheer, cheer for old Notre Dame,\\nWake up the echoes cheering her name,\\nSend a volley cheer on high,\\nShake down the thunder from the sky.\\nWhat though the odds be great or small\\nOld Notre Dame will win over all,\\nWhile her loyal sons and daughters\\nMarch on to victory.'"
      ]
     },
     "execution_count": 13,
     "metadata": {},
     "output_type": "execute_result"
    }
   ],
   "source": [
    "# Read the file to the screen\n",
    "fight_song_file.read()"
   ]
  },
  {
   "cell_type": "code",
   "execution_count": 14,
   "id": "9de0bbef",
   "metadata": {},
   "outputs": [
    {
     "data": {
      "text/plain": [
       "''"
      ]
     },
     "execution_count": 14,
     "metadata": {},
     "output_type": "execute_result"
    }
   ],
   "source": [
    "# What do you think happens when I try to read it again?\n",
    "fight_song_file.read()"
   ]
  },
  {
   "cell_type": "code",
   "execution_count": 19,
   "id": "7df7bf83",
   "metadata": {},
   "outputs": [],
   "source": [
    "#... write a code segment to close the file to preserve computing resources\n",
    "fight_song_file.close()"
   ]
  },
  {
   "cell_type": "code",
   "execution_count": 20,
   "id": "ba1c4b1b",
   "metadata": {},
   "outputs": [],
   "source": [
    "# To get back to the top of the file, we re-open\n",
    "fight_song_file = open('FightSong.txt')"
   ]
  },
  {
   "cell_type": "code",
   "execution_count": 21,
   "id": "c56dc646",
   "metadata": {},
   "outputs": [
    {
     "name": "stdout",
     "output_type": "stream",
     "text": [
      "Cheer, cheer for old Notre Dame,\n",
      "\n",
      "Wake up the echoes cheering her name,\n",
      "\n",
      "Send a volley cheer on high,\n",
      "\n",
      "Shake down the thunder from the sky.\n",
      "\n",
      "What though the odds be great or small\n",
      "\n",
      "Old Notre Dame will win over all,\n",
      "\n",
      "While her loyal sons and daughters\n",
      "\n",
      "March on to victory.\n"
     ]
    }
   ],
   "source": [
    "# Then we can use newlines to print each *line*. But there will be extra newlines\n",
    "for line in fight_song_file:\n",
    "    print(line)"
   ]
  },
  {
   "cell_type": "code",
   "execution_count": 22,
   "id": "e0190378",
   "metadata": {},
   "outputs": [],
   "source": [
    "#And again, we close the file to get back to the top of the file when we re-open\n",
    "fight_song_file.close()"
   ]
  },
  {
   "cell_type": "code",
   "execution_count": 24,
   "id": "419a6f70",
   "metadata": {},
   "outputs": [],
   "source": [
    "# To get back to the top of the file, we re-open\n",
    "fight_song_file = open('FightSong.txt')"
   ]
  },
  {
   "cell_type": "code",
   "execution_count": 25,
   "id": "3e762440",
   "metadata": {},
   "outputs": [
    {
     "name": "stdout",
     "output_type": "stream",
     "text": [
      "Cheer, cheer for old Notre Dame,\n",
      "Wake up the echoes cheering her name,\n",
      "Send a volley cheer on high,\n",
      "Shake down the thunder from the sky.\n",
      "What though the odds be great or small\n",
      "Old Notre Dame will win over all,\n",
      "While her loyal sons and daughters\n",
      "March on to victory.\n"
     ]
    }
   ],
   "source": [
    "# We will use the strip() method to remove the newline characters\n",
    "for line in fight_song_file:\n",
    "    print( line.strip() )"
   ]
  },
  {
   "cell_type": "code",
   "execution_count": 26,
   "id": "b8b8f891",
   "metadata": {},
   "outputs": [],
   "source": [
    "# And we will close the file to reset the File pointer\n",
    "fight_song_file.close()"
   ]
  },
  {
   "cell_type": "markdown",
   "id": "b8ddc453",
   "metadata": {},
   "source": [
    "### In-Class Coding Opportunity\n",
    "\n",
    "Write a function search_file(path, target) that returns all the lines (i.e. a list of strings) in the file specified by path that contain the target string.\n",
    "\n",
    "The example I will use is frost.txt. My file contains the poem \"The Road Not Taken\" by Robert Frost.\n",
    "\n",
    "You should create a folder and a small file, and read from that file"
   ]
  },
  {
   "cell_type": "code",
   "execution_count": 30,
   "id": "b1269b3b",
   "metadata": {},
   "outputs": [],
   "source": [
    "# search_file(path_targe)\n",
    "def search_file( path, target ):\n",
    "    \n",
    "    # Open the file\n",
    "    search_file = open(path)\n",
    "    \n",
    "    return_string = ''\n",
    "    \n",
    "    for line in search_file:\n",
    "        \n",
    "        if line.find(target) != -1:\n",
    "            return_string += line\n",
    "    \n",
    "    \n",
    "    # Close the file\n",
    "    search_file.close()\n",
    "    \n",
    "    return return_string"
   ]
  },
  {
   "cell_type": "code",
   "execution_count": 34,
   "id": "785b4c6f",
   "metadata": {},
   "outputs": [
    {
     "name": "stdout",
     "output_type": "stream",
     "text": [
      "To where it bent in the undergrowth;\n",
      "Then took the other, as just as fair,\n",
      "And having perhaps the better claim,\n",
      "Though as for that the passing there\n",
      "Had worn them really about the same,\n",
      "Oh, I kept the first for another day!\n",
      "I took the one less traveled by,\n",
      "And that has made all the difference.\n"
     ]
    }
   ],
   "source": [
    "#strip() command\n",
    "text_file_path = 'frost.txt'\n",
    "target_string = ' the '\n",
    "\n",
    "result_string = search_file(text_file_path, target_string )\n",
    "\n",
    "print( result_string.strip() )"
   ]
  },
  {
   "cell_type": "markdown",
   "id": "d37f02fe",
   "metadata": {},
   "source": [
    "### In-Class Coding Opportunity\n",
    "\n",
    "Write a function read_write(file_name) that performs the following tasks:\n",
    "<ol>\n",
    "    <li>Open a file to write</li>\n",
    "    <li>Input sentences to write to the file (using ‘End’ as a loop break), and writes each sentence to the file</li>\n",
    "    <li>Closes the file</li>\n",
    "    <li>Opens the file to read, prints the contents, and then closes the file</li>\n",
    "</ol>"
   ]
  },
  {
   "cell_type": "code",
   "execution_count": 36,
   "id": "743cbc76",
   "metadata": {},
   "outputs": [],
   "source": [
    "# read_write( file_name )\n",
    "def read_write( file_name ):\n",
    "    \n",
    "    write_file = open( file_name, 'w' )\n",
    "    \n",
    "    input_string = input('Input next line of End to finish: ')\n",
    "    \n",
    "    while input_string != 'End':\n",
    "        write_file.write( input_string + '\\n' )\n",
    "        input_string = input('Input next line of End to finish: ')\n",
    "    \n",
    "    # Always remember to close the file\n",
    "    write_file.close()\n",
    "    \n",
    "    print_file = open(file_name)\n",
    "    \n",
    "    for line in print_file:\n",
    "        print( line.strip() )\n",
    "    \n",
    "    print_file.close()"
   ]
  },
  {
   "cell_type": "code",
   "execution_count": 37,
   "id": "8f551eb6",
   "metadata": {},
   "outputs": [
    {
     "name": "stdout",
     "output_type": "stream",
     "text": [
      "Input next line of End to finish: Hello, my name is Inigo Montoya!\n",
      "Input next line of End to finish: You killed my father!\n",
      "Input next line of End to finish: Prepare to die!\n",
      "Input next line of End to finish: End\n",
      "Hello, my name is Inigo Montoya!\n",
      "You killed my father!\n",
      "Prepare to die!\n"
     ]
    }
   ],
   "source": [
    "read_write('inigo.txt')"
   ]
  },
  {
   "cell_type": "markdown",
   "id": "6675dd5a",
   "metadata": {},
   "source": [
    "### File Exception Handling"
   ]
  },
  {
   "cell_type": "code",
   "execution_count": null,
   "id": "267a0d64",
   "metadata": {},
   "outputs": [],
   "source": []
  },
  {
   "cell_type": "code",
   "execution_count": null,
   "id": "eb0fdf21",
   "metadata": {},
   "outputs": [],
   "source": []
  },
  {
   "cell_type": "markdown",
   "id": "922b8c4c",
   "metadata": {},
   "source": [
    "### Use a with statement to open/close in a scope"
   ]
  },
  {
   "cell_type": "code",
   "execution_count": null,
   "id": "e59ddf85",
   "metadata": {},
   "outputs": [],
   "source": []
  },
  {
   "cell_type": "code",
   "execution_count": null,
   "id": "524a2fd9",
   "metadata": {},
   "outputs": [],
   "source": []
  }
 ],
 "metadata": {
  "kernelspec": {
   "display_name": "Python 3 (ipykernel)",
   "language": "python",
   "name": "python3"
  },
  "language_info": {
   "codemirror_mode": {
    "name": "ipython",
    "version": 3
   },
   "file_extension": ".py",
   "mimetype": "text/x-python",
   "name": "python",
   "nbconvert_exporter": "python",
   "pygments_lexer": "ipython3",
   "version": "3.9.12"
  }
 },
 "nbformat": 4,
 "nbformat_minor": 5
}
