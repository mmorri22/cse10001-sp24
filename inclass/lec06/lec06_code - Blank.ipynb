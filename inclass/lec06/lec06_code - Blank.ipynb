{
 "cells": [
  {
   "cell_type": "markdown",
   "id": "b7f7146b",
   "metadata": {},
   "source": [
    "### This is the preview notebook for Lecture 06\n",
    "\n",
    "In this lecture, we will learn about:\n",
    "<ol>\n",
    "    <li>Advanced List Operations</li>\n",
    "    <ol>\n",
    "        <li>Enumerating list pairs (index, value)</li>\n",
    "        <li>Using index, letter for string enumeration</li>\n",
    "        <li>Reviewing Range Operators for lists from the Reading</li>\n",
    "        <li>in operators</li>\n",
    "        <li>Concatenating lists</li>\n",
    "    </ol>\n",
    "    <li>Advanced Topics: Real-World Application</li>\n",
    "    <ol>\n",
    "        <li>Dice Rolling</li>\n",
    "        <li>Compound Interest</li>\n",
    "    </ol>\n",
    "</ol>"
   ]
  },
  {
   "cell_type": "markdown",
   "id": "9e3d8481",
   "metadata": {},
   "source": [
    "### In-Class Coding Opportunity\n",
    "\n",
    "Write a function <b>update_list</b> that\n",
    "<ol>\n",
    "    <li>Takes in a list of integers, an index, and a value to update</li>\n",
    "    <li>Tries to update the index of that list with the value</li>\n",
    "    <li>Prints an IndexError exception if the index is out of bounds</li>\n",
    "</ol>"
   ]
  },
  {
   "cell_type": "code",
   "execution_count": null,
   "id": "a2cebf11",
   "metadata": {},
   "outputs": [],
   "source": [
    "# Code Together Opportunity\n",
    "\n"
   ]
  },
  {
   "cell_type": "code",
   "execution_count": null,
   "id": "c82d7ad1",
   "metadata": {
    "scrolled": true
   },
   "outputs": [],
   "source": [
    "# Run to test in-class coding opportunity\n",
    "numbers = [22, 37, 81, 46, 99, 102, 106]\n",
    "89 in numbers"
   ]
  },
  {
   "cell_type": "code",
   "execution_count": null,
   "id": "c9cdce8b",
   "metadata": {},
   "outputs": [],
   "source": [
    "update_list( numbers, 4, 89 )"
   ]
  },
  {
   "cell_type": "code",
   "execution_count": null,
   "id": "67b8bc03",
   "metadata": {
    "scrolled": true
   },
   "outputs": [],
   "source": [
    "89 in numbers"
   ]
  },
  {
   "cell_type": "markdown",
   "id": "79d263f7",
   "metadata": {},
   "source": [
    "### Enumerate \n",
    "\n",
    "We can generate a list of pairs consisting of the index and the item using enumerate:"
   ]
  },
  {
   "cell_type": "code",
   "execution_count": null,
   "id": "c97bc2e6",
   "metadata": {
    "scrolled": true
   },
   "outputs": [],
   "source": [
    "# Enumerating lists"
   ]
  },
  {
   "cell_type": "code",
   "execution_count": null,
   "id": "5d9a4299",
   "metadata": {
    "scrolled": false
   },
   "outputs": [],
   "source": [
    "# For loops and enumerating lists"
   ]
  },
  {
   "cell_type": "markdown",
   "id": "590951f0",
   "metadata": {},
   "source": [
    "### List Range Operators\n",
    "\n",
    "We will review and apply our understanding of List Range Operators"
   ]
  },
  {
   "cell_type": "code",
   "execution_count": null,
   "id": "96c30a24",
   "metadata": {},
   "outputs": [],
   "source": [
    "# A string list\n",
    "colors = [ 'blue', 'gold', 'green', 'white']"
   ]
  },
  {
   "cell_type": "code",
   "execution_count": null,
   "id": "615f807e",
   "metadata": {},
   "outputs": [],
   "source": [
    "# We start at 0, but let's start at -1"
   ]
  },
  {
   "cell_type": "code",
   "execution_count": null,
   "id": "f0429a01",
   "metadata": {},
   "outputs": [],
   "source": [
    "# Some creative looping!\n",
    "\n",
    "# Multiply by negative 1\n",
    "\n",
    "# Python iteration starts in reverse"
   ]
  },
  {
   "cell_type": "code",
   "execution_count": null,
   "id": "de1fd752",
   "metadata": {},
   "outputs": [],
   "source": [
    "colors[1:]"
   ]
  },
  {
   "cell_type": "code",
   "execution_count": null,
   "id": "664f5d50",
   "metadata": {},
   "outputs": [],
   "source": [
    "colors[2:3]"
   ]
  },
  {
   "cell_type": "code",
   "execution_count": null,
   "id": "179ceecb",
   "metadata": {
    "scrolled": true
   },
   "outputs": [],
   "source": [
    "colors[1:-1]"
   ]
  },
  {
   "cell_type": "markdown",
   "id": "d81ecc88",
   "metadata": {},
   "source": [
    "### In-Class Coding Opportunity\n",
    "\n",
    "Write the following function:\n",
    "\n",
    "def generate_random_numbers(input_list, start, end)\n",
    "\n",
    "Write code to do the following:\n",
    "<ol>\n",
    "    <li>Print the sum, min, max, and length of the list.</li>\n",
    "    <li>Print the first and last element of in the list.</li>\n",
    "    <li>Print out every other item in the list.</li>\n",
    "    <li>Implement try/except using IndexError</li>\n",
    "</ol>"
   ]
  },
  {
   "cell_type": "code",
   "execution_count": null,
   "id": "191301df",
   "metadata": {},
   "outputs": [],
   "source": []
  },
  {
   "cell_type": "code",
   "execution_count": null,
   "id": "1f1e9cb0",
   "metadata": {
    "scrolled": false
   },
   "outputs": [],
   "source": [
    "# Testing code for the In-Class Coding Oppportunity\n",
    "\n",
    "input_list = [0, 10, 3, 4, 22, -6, 7]\n",
    "list_end_index = len(input_list) - 1\n",
    "generate_random_numbers( input_list, 0, list_end_index )"
   ]
  },
  {
   "cell_type": "markdown",
   "id": "4b04eb5c",
   "metadata": {},
   "source": [
    "### List of Lists\n",
    "\n",
    "Remember the analogy that a sentence is a list of a list of strings"
   ]
  },
  {
   "cell_type": "code",
   "execution_count": null,
   "id": "dea41a76",
   "metadata": {},
   "outputs": [],
   "source": [
    "sentence = [\"Cheer\", \"cheer\", \"for\", \"old\", \"Notre\", \"Dame\"]"
   ]
  },
  {
   "cell_type": "code",
   "execution_count": null,
   "id": "db8d3f03",
   "metadata": {},
   "outputs": [],
   "source": [
    "# Will give us the word 'cheer', which is a list of 5 characters\n",
    "sentence[1]"
   ]
  },
  {
   "cell_type": "code",
   "execution_count": null,
   "id": "e56701ae",
   "metadata": {},
   "outputs": [],
   "source": [
    "# Now we get the [4]th character, which is r\n",
    "sentence[1][4]"
   ]
  },
  {
   "cell_type": "markdown",
   "id": "bd34064a",
   "metadata": {},
   "source": [
    "Now we can do list of lists of numbers! For example, a set of points in a graph!"
   ]
  },
  {
   "cell_type": "code",
   "execution_count": null,
   "id": "02096ae6",
   "metadata": {},
   "outputs": [],
   "source": [
    "points = [ [0, 1], [2, 3], [-1, 4], [3, -7] ]"
   ]
  },
  {
   "cell_type": "code",
   "execution_count": null,
   "id": "8665d8e8",
   "metadata": {},
   "outputs": [],
   "source": [
    "points[1]"
   ]
  },
  {
   "cell_type": "code",
   "execution_count": null,
   "id": "99befef0",
   "metadata": {},
   "outputs": [],
   "source": [
    "points[2][0]"
   ]
  },
  {
   "cell_type": "code",
   "execution_count": null,
   "id": "ec0694fc",
   "metadata": {
    "scrolled": true
   },
   "outputs": [],
   "source": [
    "points[1][1]"
   ]
  },
  {
   "cell_type": "markdown",
   "id": "459ae5fe",
   "metadata": {},
   "source": [
    "Use the <b>in</b> operator to quickly search for an element in a list\n",
    "\n",
    "Simplified version of a for loop. But only recommended if you need a true/false, not an index."
   ]
  },
  {
   "cell_type": "code",
   "execution_count": null,
   "id": "0f78194a",
   "metadata": {},
   "outputs": [],
   "source": [
    "numbers = [10, 22, 17, 9, -7, 34, 88, 35, 36, 41, 47, 101, 346, -10, -18, 36]"
   ]
  },
  {
   "cell_type": "code",
   "execution_count": null,
   "id": "e6774552",
   "metadata": {},
   "outputs": [],
   "source": [
    "0 in numbers"
   ]
  },
  {
   "cell_type": "code",
   "execution_count": null,
   "id": "82ea8fce",
   "metadata": {
    "scrolled": true
   },
   "outputs": [],
   "source": [
    "346 in numbers"
   ]
  },
  {
   "cell_type": "markdown",
   "id": "7b0d0163",
   "metadata": {},
   "source": [
    "### List Concatenation"
   ]
  },
  {
   "cell_type": "code",
   "execution_count": null,
   "id": "e3d26760",
   "metadata": {},
   "outputs": [],
   "source": [
    "[0, 1, 2] + [3, 4, 5]"
   ]
  },
  {
   "cell_type": "code",
   "execution_count": null,
   "id": "c12ee9b7",
   "metadata": {
    "scrolled": true
   },
   "outputs": [],
   "source": [
    "# You can copy-and-appent a list a number of times using the * operator\n",
    "[0, 1, 2] * 3"
   ]
  },
  {
   "cell_type": "markdown",
   "id": "0eeeddb2",
   "metadata": {},
   "source": [
    "### List Appending and Deleting"
   ]
  },
  {
   "cell_type": "code",
   "execution_count": null,
   "id": "5e03db8a",
   "metadata": {},
   "outputs": [],
   "source": [
    "# Use append mehod to add 4 to the end of the list\n",
    "append_list = [0, 1, 2, 3]\n",
    "append_list.append(4)\n",
    "print(append_list)"
   ]
  },
  {
   "cell_type": "code",
   "execution_count": null,
   "id": "b069da3e",
   "metadata": {
    "scrolled": true
   },
   "outputs": [],
   "source": [
    "# Use the extend and range methods to add an entire range of values\n",
    "append_list.extend( range(5,8) )\n",
    "print(append_list)"
   ]
  },
  {
   "cell_type": "code",
   "execution_count": null,
   "id": "6721d562",
   "metadata": {
    "scrolled": true
   },
   "outputs": [],
   "source": [
    "# Remove item at index 0 and return it\n",
    "# Notice how 3 is no longer in the list\n",
    "popped_val = append_list.pop(3)\n",
    "print(popped_val)\n",
    "print(append_list)"
   ]
  },
  {
   "cell_type": "code",
   "execution_count": null,
   "id": "820f689e",
   "metadata": {},
   "outputs": [],
   "source": [
    "# Remove item at index 0\n",
    "del append_list[0]\n",
    "print(append_list)"
   ]
  },
  {
   "cell_type": "markdown",
   "id": "25ed8409",
   "metadata": {},
   "source": [
    "### List Sorting"
   ]
  },
  {
   "cell_type": "code",
   "execution_count": null,
   "id": "6b26600a",
   "metadata": {},
   "outputs": [],
   "source": [
    "# Using sort() will permanently sort the list\n",
    "\n",
    "sort_list = [ 10, 22, -7, 13, 39, 8, 1 ]\n",
    "sort_list.sort()\n",
    "print(sort_list)"
   ]
  },
  {
   "cell_type": "code",
   "execution_count": null,
   "id": "e632eff4",
   "metadata": {},
   "outputs": [],
   "source": [
    "# Using sorted will print them in order, but leave the list as is\n",
    "sort_list = [ 10, 22, -7, 13, 39, 8, 1 ]\n",
    "sorted( sort_list )"
   ]
  },
  {
   "cell_type": "code",
   "execution_count": null,
   "id": "5797efc9",
   "metadata": {
    "scrolled": true
   },
   "outputs": [],
   "source": [
    "print( sort_list )"
   ]
  },
  {
   "cell_type": "markdown",
   "id": "8e241aba",
   "metadata": {},
   "source": [
    "### List Reversing"
   ]
  },
  {
   "cell_type": "code",
   "execution_count": null,
   "id": "e4078c9f",
   "metadata": {},
   "outputs": [],
   "source": [
    "# Empty List and then append\n",
    "reverse_list = []\n",
    "reverse_list.extend( range(0,10) )\n",
    "print( reverse_list )"
   ]
  },
  {
   "cell_type": "code",
   "execution_count": null,
   "id": "8d63e0ee",
   "metadata": {
    "scrolled": true
   },
   "outputs": [],
   "source": [
    "# Reverse in place\n",
    "reverse_list.reverse()\n",
    "print( reverse_list )"
   ]
  },
  {
   "cell_type": "code",
   "execution_count": null,
   "id": "6f2a606b",
   "metadata": {},
   "outputs": [],
   "source": [
    "# Reverse, but printing only\n",
    "regular_list = [\"sky\",\"the\",\"from\",\"thunder\",\"the\",\"down\",\"Shake\"]\n",
    "regular_list[::-1]"
   ]
  },
  {
   "cell_type": "markdown",
   "id": "0c1d9d4f",
   "metadata": {},
   "source": [
    "### List Utility Functions"
   ]
  },
  {
   "cell_type": "code",
   "execution_count": null,
   "id": "df9639fb",
   "metadata": {},
   "outputs": [],
   "source": [
    "list_utility_test =[10, 22, 7, -1, 3, 0, 4, -6]"
   ]
  },
  {
   "cell_type": "code",
   "execution_count": null,
   "id": "6440f11e",
   "metadata": {},
   "outputs": [],
   "source": [
    "# Sums all values in an integer list\n",
    "sum( list_utility_test )"
   ]
  },
  {
   "cell_type": "code",
   "execution_count": null,
   "id": "4c133dd8",
   "metadata": {
    "scrolled": true
   },
   "outputs": [],
   "source": [
    "# Finds the maximum value\n",
    "max( list_utility_test )"
   ]
  },
  {
   "cell_type": "code",
   "execution_count": null,
   "id": "fb886b87",
   "metadata": {
    "scrolled": true
   },
   "outputs": [],
   "source": [
    "# Finds the minumum value\n",
    "min( list_utility_test )"
   ]
  },
  {
   "cell_type": "code",
   "execution_count": null,
   "id": "05f75b7c",
   "metadata": {},
   "outputs": [],
   "source": [
    "# Choose an element at random\n",
    "# You must import random\n",
    "import random\n",
    "random.choice( list_utility_test )"
   ]
  },
  {
   "cell_type": "code",
   "execution_count": null,
   "id": "1fd5cafe",
   "metadata": {},
   "outputs": [],
   "source": [
    "# Gets 3 random values from the list\n",
    "random.sample( list_utility_test, 3 )"
   ]
  },
  {
   "cell_type": "markdown",
   "id": "47026977",
   "metadata": {},
   "source": [
    "### Coin Flipping Simulation"
   ]
  },
  {
   "cell_type": "code",
   "execution_count": null,
   "id": "e5730547",
   "metadata": {},
   "outputs": [],
   "source": [
    "import random\n",
    "\n",
    "HEADS = 0\n",
    "TAILS = 1\n",
    "\n",
    "# Write a function simulate_coin_flip "
   ]
  },
  {
   "cell_type": "code",
   "execution_count": null,
   "id": "baff3675",
   "metadata": {},
   "outputs": [],
   "source": [
    "simulate_coin_flip(100)"
   ]
  },
  {
   "cell_type": "markdown",
   "id": "7c90b987",
   "metadata": {},
   "source": [
    "### Plotting using MatLAB\n",
    "\n",
    "Note: MatLAB stands for \"Matrix Laboratory\""
   ]
  },
  {
   "cell_type": "code",
   "execution_count": null,
   "id": "6dc73196",
   "metadata": {},
   "outputs": [],
   "source": [
    "import matplotlib.pyplot as plt\n",
    "\n",
    "# def plot_coint_flips"
   ]
  },
  {
   "cell_type": "code",
   "execution_count": null,
   "id": "d232e52b",
   "metadata": {},
   "outputs": [],
   "source": [
    "counts = simulate_coin_flip(100)\n",
    "plot_coin_flips(counts)"
   ]
  },
  {
   "cell_type": "markdown",
   "id": "1d5524ac",
   "metadata": {},
   "source": [
    "### Interaction"
   ]
  },
  {
   "cell_type": "code",
   "execution_count": null,
   "id": "7d68e29e",
   "metadata": {},
   "outputs": [],
   "source": [
    "from ipywidgets import interact\n",
    "\n",
    "# def run_coin_simulation"
   ]
  },
  {
   "cell_type": "code",
   "execution_count": null,
   "id": "0c47f0ed",
   "metadata": {},
   "outputs": [],
   "source": [
    "interact(run_coin_simulation, flips=(1,100))"
   ]
  },
  {
   "cell_type": "code",
   "execution_count": null,
   "id": "8b02f733",
   "metadata": {},
   "outputs": [],
   "source": [
    "import random\n",
    "\n",
    "# def simulate_dice"
   ]
  },
  {
   "cell_type": "code",
   "execution_count": null,
   "id": "b01ee227",
   "metadata": {},
   "outputs": [],
   "source": [
    "data = simulate_dice(100, 4)"
   ]
  },
  {
   "cell_type": "code",
   "execution_count": null,
   "id": "f3591726",
   "metadata": {},
   "outputs": [],
   "source": [
    "# Print the data\n",
    "data"
   ]
  },
  {
   "cell_type": "code",
   "execution_count": null,
   "id": "d0841796",
   "metadata": {},
   "outputs": [],
   "source": [
    "data[1:]"
   ]
  },
  {
   "cell_type": "code",
   "execution_count": null,
   "id": "2c3e0c04",
   "metadata": {},
   "outputs": [],
   "source": [
    "data = [0, 1, 2, 3, 4, 5]"
   ]
  },
  {
   "cell_type": "code",
   "execution_count": null,
   "id": "cbf6f5c7",
   "metadata": {},
   "outputs": [],
   "source": [
    "data[1:]"
   ]
  },
  {
   "cell_type": "code",
   "execution_count": null,
   "id": "490805c7",
   "metadata": {},
   "outputs": [],
   "source": []
  }
 ],
 "metadata": {
  "kernelspec": {
   "display_name": "Python 3 (ipykernel)",
   "language": "python",
   "name": "python3"
  },
  "language_info": {
   "codemirror_mode": {
    "name": "ipython",
    "version": 3
   },
   "file_extension": ".py",
   "mimetype": "text/x-python",
   "name": "python",
   "nbconvert_exporter": "python",
   "pygments_lexer": "ipython3",
   "version": "3.9.12"
  }
 },
 "nbformat": 4,
 "nbformat_minor": 5
}
