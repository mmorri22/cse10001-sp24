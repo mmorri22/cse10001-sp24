{
 "cells": [
  {
   "cell_type": "markdown",
   "id": "b7f7146b",
   "metadata": {},
   "source": [
    "### This is the preview notebook for Lecture 06\n",
    "\n",
    "In this lecture, we will learn about:\n",
    "<ol>\n",
    "    <li>Advanced List Operations</li>\n",
    "    <ol>\n",
    "        <li>Enumerating list pairs (index, value)</li>\n",
    "        <li>Using index, letter for string enumeration</li>\n",
    "        <li>Reviewing Range Operators for lists from the Reading</li>\n",
    "        <li>in operators</li>\n",
    "        <li>Concatenating lists</li>\n",
    "    </ol>\n",
    "    <li>Advanced Topics: Real-World Application</li>\n",
    "    <ol>\n",
    "        <li>Dice Rolling</li>\n",
    "        <li>Compound Interest</li>\n",
    "    </ol>\n",
    "</ol>"
   ]
  },
  {
   "cell_type": "markdown",
   "id": "9e3d8481",
   "metadata": {},
   "source": [
    "### In-Class Coding Opportunity\n",
    "\n",
    "Write a function <b>update_list</b> that\n",
    "<ol>\n",
    "    <li>Takes in a list of integers, an index, and a value to update</li>\n",
    "    <li>Tries to update the index of that list with the value</li>\n",
    "    <li>Prints an IndexError exception if the index is out of bounds</li>\n",
    "</ol>"
   ]
  },
  {
   "cell_type": "code",
   "execution_count": 1,
   "id": "a2cebf11",
   "metadata": {},
   "outputs": [],
   "source": [
    "# Code Together Opportunity\n",
    "\n",
    "def update_list( numbers, index, value ):\n",
    "    try:\n",
    "        numbers[index] = value\n",
    "    except IndexError:\n",
    "        print( f'{index}' + \" is out of bounds\")"
   ]
  },
  {
   "cell_type": "code",
   "execution_count": 4,
   "id": "c82d7ad1",
   "metadata": {
    "scrolled": true
   },
   "outputs": [
    {
     "data": {
      "text/plain": [
       "False"
      ]
     },
     "execution_count": 4,
     "metadata": {},
     "output_type": "execute_result"
    }
   ],
   "source": [
    "numbers = [22, 37, 81, 46, 99, 102, 106]\n",
    "89 in numbers"
   ]
  },
  {
   "cell_type": "code",
   "execution_count": 5,
   "id": "c9cdce8b",
   "metadata": {},
   "outputs": [],
   "source": [
    "update_list( numbers, 4, 89 )"
   ]
  },
  {
   "cell_type": "code",
   "execution_count": 6,
   "id": "67b8bc03",
   "metadata": {
    "scrolled": true
   },
   "outputs": [
    {
     "data": {
      "text/plain": [
       "True"
      ]
     },
     "execution_count": 6,
     "metadata": {},
     "output_type": "execute_result"
    }
   ],
   "source": [
    "89 in numbers"
   ]
  },
  {
   "cell_type": "markdown",
   "id": "79d263f7",
   "metadata": {},
   "source": [
    "### Enumerate \n",
    "\n",
    "We can generate a list of pairs consisting of the index and the item using enumerate:"
   ]
  },
  {
   "cell_type": "code",
   "execution_count": 77,
   "id": "c97bc2e6",
   "metadata": {
    "scrolled": true
   },
   "outputs": [
    {
     "data": {
      "text/plain": [
       "[(0, 'a'), (1, 'b'), (2, 'c')]"
      ]
     },
     "execution_count": 77,
     "metadata": {},
     "output_type": "execute_result"
    }
   ],
   "source": [
    "list(enumerate(['a', 'b', 'c']))"
   ]
  },
  {
   "cell_type": "code",
   "execution_count": 78,
   "id": "5d9a4299",
   "metadata": {
    "scrolled": false
   },
   "outputs": [
    {
     "name": "stdout",
     "output_type": "stream",
     "text": [
      "0 a\n",
      "1 b\n",
      "2 c\n"
     ]
    }
   ],
   "source": [
    "for index, letter in enumerate('abc'):\n",
    "    print(index, letter)"
   ]
  },
  {
   "cell_type": "markdown",
   "id": "590951f0",
   "metadata": {},
   "source": [
    "### List Range Operators\n",
    "\n",
    "We will review and apply our understanding of List Range Operators"
   ]
  },
  {
   "cell_type": "code",
   "execution_count": 1,
   "id": "96c30a24",
   "metadata": {},
   "outputs": [],
   "source": [
    "colors = [ 'blue', 'gold', 'green', 'white']"
   ]
  },
  {
   "cell_type": "code",
   "execution_count": 2,
   "id": "615f807e",
   "metadata": {},
   "outputs": [
    {
     "data": {
      "text/plain": [
       "'white'"
      ]
     },
     "execution_count": 2,
     "metadata": {},
     "output_type": "execute_result"
    }
   ],
   "source": [
    "# We start at 0, but let's start at -1\n",
    "colors[-1]"
   ]
  },
  {
   "cell_type": "code",
   "execution_count": 8,
   "id": "f0429a01",
   "metadata": {},
   "outputs": [
    {
     "name": "stdout",
     "output_type": "stream",
     "text": [
      "white\n",
      "green\n",
      "gold\n",
      "blue\n"
     ]
    }
   ],
   "source": [
    "# Some creative looping!\n",
    "colors_len = len(colors)\n",
    "\n",
    "# Multiply by negative 1\n",
    "neg_colors_len = colors_len * -1\n",
    "\n",
    "# Python iteration starts in reverse\n",
    "iterator = -1\n",
    "while iterator >= neg_colors_len:\n",
    "    print( colors[iterator] )\n",
    "    iterator -= 1"
   ]
  },
  {
   "cell_type": "code",
   "execution_count": 3,
   "id": "de1fd752",
   "metadata": {},
   "outputs": [
    {
     "data": {
      "text/plain": [
       "['gold', 'green', 'white']"
      ]
     },
     "execution_count": 3,
     "metadata": {},
     "output_type": "execute_result"
    }
   ],
   "source": [
    "colors[1:]"
   ]
  },
  {
   "cell_type": "code",
   "execution_count": 9,
   "id": "664f5d50",
   "metadata": {},
   "outputs": [
    {
     "data": {
      "text/plain": [
       "['green']"
      ]
     },
     "execution_count": 9,
     "metadata": {},
     "output_type": "execute_result"
    }
   ],
   "source": [
    "colors[2:3]"
   ]
  },
  {
   "cell_type": "code",
   "execution_count": 10,
   "id": "179ceecb",
   "metadata": {
    "scrolled": true
   },
   "outputs": [
    {
     "data": {
      "text/plain": [
       "['gold', 'green']"
      ]
     },
     "execution_count": 10,
     "metadata": {},
     "output_type": "execute_result"
    }
   ],
   "source": [
    "colors[1:-1]"
   ]
  },
  {
   "cell_type": "markdown",
   "id": "d81ecc88",
   "metadata": {},
   "source": [
    "### In-Class Coding Opportunity\n",
    "\n",
    "Write the following function:\n",
    "\n",
    "def generate_random_numbers(input_list, start, end)\n",
    "\n",
    "Write code to do the following:\n",
    "<ol>\n",
    "    <li>Print the sum, min, max, and length of the list.</li>\n",
    "    <li>Print the first and last element of in the list.</li>\n",
    "    <li>Print out every other item in the list.</li>\n",
    "    <li>Implement try/except using IndexError</li>\n",
    "</ol>"
   ]
  },
  {
   "cell_type": "code",
   "execution_count": 89,
   "id": "191301df",
   "metadata": {},
   "outputs": [],
   "source": [
    "def generate_random_numbers(input_list, start, end):\n",
    "    \n",
    "    sum_val = sum( list_utility_test )\n",
    "    print( 'Sum = ' + f'{sum_val}')\n",
    "    min_val = min( list_utility_test )\n",
    "    print( 'Min = ' + f'{min_val}')\n",
    "    max_val = max( list_utility_test )\n",
    "    print( 'Max = ' + f'{max_val}')\n",
    "    \n",
    "    try: # Ensure elements are in the list\n",
    "        print( 'First element = ' + f'{input_list[start]}')\n",
    "        print( 'Last element = ' + f'{input_list[end]}')\n",
    "        \n",
    "        iterator = start + 1\n",
    "        while iterator < end:\n",
    "            print( 'input_list[' + f'{iterator}' + '] = ' + f'{input_list[iterator]}')\n",
    "            iterator += 1\n",
    "        \n",
    "    except IndexError:\n",
    "        print( 'Out of bounds')"
   ]
  },
  {
   "cell_type": "code",
   "execution_count": 90,
   "id": "1f1e9cb0",
   "metadata": {
    "scrolled": false
   },
   "outputs": [
    {
     "name": "stdout",
     "output_type": "stream",
     "text": [
      "Sum = 39\n",
      "Min = -6\n",
      "Max = 22\n",
      "First element = 0\n",
      "Last element = 7\n",
      "input_list[1] = 10\n",
      "input_list[2] = 3\n",
      "input_list[3] = 4\n",
      "input_list[4] = 22\n",
      "input_list[5] = -6\n"
     ]
    }
   ],
   "source": [
    "input_list = [0, 10, 3, 4, 22, -6, 7]\n",
    "list_end_index = len(input_list) - 1\n",
    "generate_random_numbers( input_list, 0, list_end_index )"
   ]
  },
  {
   "cell_type": "markdown",
   "id": "4b04eb5c",
   "metadata": {},
   "source": [
    "### List of Lists\n",
    "\n",
    "Remember the analogy that a sentence is a list of a list of strings"
   ]
  },
  {
   "cell_type": "code",
   "execution_count": 11,
   "id": "dea41a76",
   "metadata": {},
   "outputs": [],
   "source": [
    "sentence = [\"Cheer\", \"cheer\", \"for\", \"old\", \"Notre\", \"Dame\"]"
   ]
  },
  {
   "cell_type": "code",
   "execution_count": 13,
   "id": "db8d3f03",
   "metadata": {},
   "outputs": [
    {
     "data": {
      "text/plain": [
       "'cheer'"
      ]
     },
     "execution_count": 13,
     "metadata": {},
     "output_type": "execute_result"
    }
   ],
   "source": [
    "# Will give us the word 'cheer', which is a list of 5 characters\n",
    "sentence[1]"
   ]
  },
  {
   "cell_type": "code",
   "execution_count": 18,
   "id": "e56701ae",
   "metadata": {},
   "outputs": [
    {
     "data": {
      "text/plain": [
       "'r'"
      ]
     },
     "execution_count": 18,
     "metadata": {},
     "output_type": "execute_result"
    }
   ],
   "source": [
    "# Now we get the [4]th character, which is r\n",
    "sentence[1][4]"
   ]
  },
  {
   "cell_type": "markdown",
   "id": "bd34064a",
   "metadata": {},
   "source": [
    "Now we can do list of lists of numbers! For example, a set of points in a graph!"
   ]
  },
  {
   "cell_type": "code",
   "execution_count": 15,
   "id": "02096ae6",
   "metadata": {},
   "outputs": [],
   "source": [
    "points = [ [0, 1], [2, 3], [-1, 4], [3, -7] ]"
   ]
  },
  {
   "cell_type": "code",
   "execution_count": 16,
   "id": "8665d8e8",
   "metadata": {},
   "outputs": [
    {
     "data": {
      "text/plain": [
       "[2, 3]"
      ]
     },
     "execution_count": 16,
     "metadata": {},
     "output_type": "execute_result"
    }
   ],
   "source": [
    "points[1]"
   ]
  },
  {
   "cell_type": "code",
   "execution_count": 19,
   "id": "99befef0",
   "metadata": {},
   "outputs": [
    {
     "data": {
      "text/plain": [
       "-1"
      ]
     },
     "execution_count": 19,
     "metadata": {},
     "output_type": "execute_result"
    }
   ],
   "source": [
    "points[2][0]"
   ]
  },
  {
   "cell_type": "code",
   "execution_count": 20,
   "id": "ec0694fc",
   "metadata": {
    "scrolled": true
   },
   "outputs": [
    {
     "data": {
      "text/plain": [
       "3"
      ]
     },
     "execution_count": 20,
     "metadata": {},
     "output_type": "execute_result"
    }
   ],
   "source": [
    "points[1][1]"
   ]
  },
  {
   "cell_type": "markdown",
   "id": "459ae5fe",
   "metadata": {},
   "source": [
    "Use the <b>in</b> operator to quickly search for an element in a list\n",
    "\n",
    "Simplified version of a for loop. But only recommended if you need a true/false, not an index."
   ]
  },
  {
   "cell_type": "code",
   "execution_count": 21,
   "id": "0f78194a",
   "metadata": {},
   "outputs": [],
   "source": [
    "numbers = [10, 22, 17, 9, -7, 34, 88, 35, 36, 41, 47, 101, 346, -10, -18, 36]"
   ]
  },
  {
   "cell_type": "code",
   "execution_count": 22,
   "id": "e6774552",
   "metadata": {},
   "outputs": [
    {
     "data": {
      "text/plain": [
       "False"
      ]
     },
     "execution_count": 22,
     "metadata": {},
     "output_type": "execute_result"
    }
   ],
   "source": [
    "0 in numbers"
   ]
  },
  {
   "cell_type": "code",
   "execution_count": 23,
   "id": "82ea8fce",
   "metadata": {
    "scrolled": true
   },
   "outputs": [
    {
     "data": {
      "text/plain": [
       "True"
      ]
     },
     "execution_count": 23,
     "metadata": {},
     "output_type": "execute_result"
    }
   ],
   "source": [
    "346 in numbers"
   ]
  },
  {
   "cell_type": "markdown",
   "id": "7b0d0163",
   "metadata": {},
   "source": [
    "### List Concatenation"
   ]
  },
  {
   "cell_type": "code",
   "execution_count": 28,
   "id": "e3d26760",
   "metadata": {},
   "outputs": [
    {
     "data": {
      "text/plain": [
       "[0, 1, 2, 3, 4, 5]"
      ]
     },
     "execution_count": 28,
     "metadata": {},
     "output_type": "execute_result"
    }
   ],
   "source": [
    "[0, 1, 2] + [3, 4, 5]"
   ]
  },
  {
   "cell_type": "code",
   "execution_count": 29,
   "id": "c12ee9b7",
   "metadata": {
    "scrolled": true
   },
   "outputs": [
    {
     "data": {
      "text/plain": [
       "[0, 1, 2, 0, 1, 2, 0, 1, 2]"
      ]
     },
     "execution_count": 29,
     "metadata": {},
     "output_type": "execute_result"
    }
   ],
   "source": [
    "# You can copy-and-appent a list a number of times using the * operator\n",
    "[0, 1, 2] * 3"
   ]
  },
  {
   "cell_type": "markdown",
   "id": "0eeeddb2",
   "metadata": {},
   "source": [
    "### List Appending and Deleting"
   ]
  },
  {
   "cell_type": "code",
   "execution_count": 36,
   "id": "5e03db8a",
   "metadata": {},
   "outputs": [
    {
     "name": "stdout",
     "output_type": "stream",
     "text": [
      "[0, 1, 2, 3, 4]\n"
     ]
    }
   ],
   "source": [
    "# Use append mehod to add 4 to the end of the list\n",
    "append_list = [0, 1, 2, 3]\n",
    "append_list.append(4)\n",
    "print(append_list)"
   ]
  },
  {
   "cell_type": "code",
   "execution_count": 37,
   "id": "b069da3e",
   "metadata": {
    "scrolled": true
   },
   "outputs": [
    {
     "name": "stdout",
     "output_type": "stream",
     "text": [
      "[0, 1, 2, 3, 4, 5, 6, 7]\n"
     ]
    }
   ],
   "source": [
    "# Use the extend and range methods to add an entire range of values\n",
    "append_list.extend( range(5,8) )\n",
    "print(append_list)"
   ]
  },
  {
   "cell_type": "code",
   "execution_count": 38,
   "id": "6721d562",
   "metadata": {
    "scrolled": true
   },
   "outputs": [
    {
     "name": "stdout",
     "output_type": "stream",
     "text": [
      "3\n",
      "[0, 1, 2, 4, 5, 6, 7]\n"
     ]
    }
   ],
   "source": [
    "# Remove item at index 0 and return it\n",
    "# Notice how 3 is no longer in the list\n",
    "popped_val = append_list.pop(3)\n",
    "print(popped_val)\n",
    "print(append_list)"
   ]
  },
  {
   "cell_type": "code",
   "execution_count": 39,
   "id": "820f689e",
   "metadata": {},
   "outputs": [
    {
     "name": "stdout",
     "output_type": "stream",
     "text": [
      "[1, 2, 4, 5, 6, 7]\n"
     ]
    }
   ],
   "source": [
    "# Remove item at index 0\n",
    "del append_list[0]\n",
    "print(append_list)"
   ]
  },
  {
   "cell_type": "markdown",
   "id": "25ed8409",
   "metadata": {},
   "source": [
    "### List Sorting"
   ]
  },
  {
   "cell_type": "code",
   "execution_count": 42,
   "id": "6b26600a",
   "metadata": {},
   "outputs": [
    {
     "name": "stdout",
     "output_type": "stream",
     "text": [
      "[-7, 1, 8, 10, 13, 22, 39]\n"
     ]
    }
   ],
   "source": [
    "# Using sort() will permanently sort the list\n",
    "\n",
    "sort_list = [ 10, 22, -7, 13, 39, 8, 1 ]\n",
    "sort_list.sort()\n",
    "print(sort_list)"
   ]
  },
  {
   "cell_type": "code",
   "execution_count": 45,
   "id": "e632eff4",
   "metadata": {},
   "outputs": [
    {
     "data": {
      "text/plain": [
       "[-7, 1, 8, 10, 13, 22, 39]"
      ]
     },
     "execution_count": 45,
     "metadata": {},
     "output_type": "execute_result"
    }
   ],
   "source": [
    "# Using sorted will print them in order, but leave the list as is\n",
    "sort_list = [ 10, 22, -7, 13, 39, 8, 1 ]\n",
    "sorted( sort_list )"
   ]
  },
  {
   "cell_type": "code",
   "execution_count": 46,
   "id": "5797efc9",
   "metadata": {
    "scrolled": true
   },
   "outputs": [
    {
     "name": "stdout",
     "output_type": "stream",
     "text": [
      "[10, 22, -7, 13, 39, 8, 1]\n"
     ]
    }
   ],
   "source": [
    "print( sort_list )"
   ]
  },
  {
   "cell_type": "markdown",
   "id": "8e241aba",
   "metadata": {},
   "source": [
    "### List Reversing"
   ]
  },
  {
   "cell_type": "code",
   "execution_count": 60,
   "id": "e4078c9f",
   "metadata": {},
   "outputs": [
    {
     "name": "stdout",
     "output_type": "stream",
     "text": [
      "[0, 1, 2, 3, 4, 5, 6, 7, 8, 9]\n"
     ]
    }
   ],
   "source": [
    "# Empty List and then append\n",
    "reverse_list = []\n",
    "reverse_list.extend( range(0,10) )\n",
    "print( reverse_list )"
   ]
  },
  {
   "cell_type": "code",
   "execution_count": 61,
   "id": "8d63e0ee",
   "metadata": {
    "scrolled": true
   },
   "outputs": [
    {
     "name": "stdout",
     "output_type": "stream",
     "text": [
      "[9, 8, 7, 6, 5, 4, 3, 2, 1, 0]\n"
     ]
    }
   ],
   "source": [
    "# Reverse in place\n",
    "reverse_list.reverse()\n",
    "print( reverse_list )"
   ]
  },
  {
   "cell_type": "code",
   "execution_count": 68,
   "id": "6f2a606b",
   "metadata": {},
   "outputs": [
    {
     "data": {
      "text/plain": [
       "['Shake', 'down', 'the', 'thunder', 'from', 'the', 'sky']"
      ]
     },
     "execution_count": 68,
     "metadata": {},
     "output_type": "execute_result"
    }
   ],
   "source": [
    "# Reverse, but printing only\n",
    "regular_list = [\"sky\",\"the\",\"from\",\"thunder\",\"the\",\"down\",\"Shake\"]\n",
    "regular_list[::-1]"
   ]
  },
  {
   "cell_type": "markdown",
   "id": "0c1d9d4f",
   "metadata": {},
   "source": [
    "### List Utility Functions"
   ]
  },
  {
   "cell_type": "code",
   "execution_count": 69,
   "id": "df9639fb",
   "metadata": {},
   "outputs": [],
   "source": [
    "list_utility_test =[10, 22, 7, -1, 3, 0, 4, -6]"
   ]
  },
  {
   "cell_type": "code",
   "execution_count": 71,
   "id": "6440f11e",
   "metadata": {},
   "outputs": [
    {
     "data": {
      "text/plain": [
       "39"
      ]
     },
     "execution_count": 71,
     "metadata": {},
     "output_type": "execute_result"
    }
   ],
   "source": [
    "# Sums all values in an integer list\n",
    "sum( list_utility_test )"
   ]
  },
  {
   "cell_type": "code",
   "execution_count": 72,
   "id": "4c133dd8",
   "metadata": {
    "scrolled": true
   },
   "outputs": [
    {
     "data": {
      "text/plain": [
       "22"
      ]
     },
     "execution_count": 72,
     "metadata": {},
     "output_type": "execute_result"
    }
   ],
   "source": [
    "# Finds the maximum value\n",
    "max( list_utility_test )"
   ]
  },
  {
   "cell_type": "code",
   "execution_count": 73,
   "id": "fb886b87",
   "metadata": {
    "scrolled": true
   },
   "outputs": [
    {
     "data": {
      "text/plain": [
       "-6"
      ]
     },
     "execution_count": 73,
     "metadata": {},
     "output_type": "execute_result"
    }
   ],
   "source": [
    "# Finds the minumum value\n",
    "min( list_utility_test )"
   ]
  },
  {
   "cell_type": "code",
   "execution_count": 77,
   "id": "05f75b7c",
   "metadata": {},
   "outputs": [
    {
     "data": {
      "text/plain": [
       "22"
      ]
     },
     "execution_count": 77,
     "metadata": {},
     "output_type": "execute_result"
    }
   ],
   "source": [
    "# Choose an element at random\n",
    "# You must import random\n",
    "import random\n",
    "random.choice( list_utility_test )"
   ]
  },
  {
   "cell_type": "code",
   "execution_count": 78,
   "id": "1fd5cafe",
   "metadata": {},
   "outputs": [
    {
     "data": {
      "text/plain": [
       "[22, 7, 3]"
      ]
     },
     "execution_count": 78,
     "metadata": {},
     "output_type": "execute_result"
    }
   ],
   "source": [
    "# Gets 3 random values from the list\n",
    "random.sample( list_utility_test, 3 )"
   ]
  },
  {
   "cell_type": "markdown",
   "id": "47026977",
   "metadata": {},
   "source": [
    "### Coin Flipping Simulation"
   ]
  },
  {
   "cell_type": "code",
   "execution_count": 96,
   "id": "e5730547",
   "metadata": {},
   "outputs": [],
   "source": [
    "import random\n",
    "\n",
    "HEADS = 0\n",
    "TAILS = 1\n",
    "\n",
    "def simulate_coin_flip(flips):\n",
    "    ''' Simulate flipping a coin '''\n",
    "    \n",
    "    counts = [0, 0]\n",
    "    \n",
    "    for i in range(flips):\n",
    "        flip = random.randint(0, 1)\n",
    "        if flip == HEADS:\n",
    "            counts[HEADS] += 1\n",
    "        else:\n",
    "            counts[TAILS] += 1\n",
    "    \n",
    "    return counts"
   ]
  },
  {
   "cell_type": "code",
   "execution_count": 97,
   "id": "baff3675",
   "metadata": {},
   "outputs": [
    {
     "data": {
      "text/plain": [
       "[54, 46]"
      ]
     },
     "execution_count": 97,
     "metadata": {},
     "output_type": "execute_result"
    }
   ],
   "source": [
    "simulate_coin_flip(100)"
   ]
  },
  {
   "cell_type": "markdown",
   "id": "7c90b987",
   "metadata": {},
   "source": [
    "### Plotting using MatLAB\n",
    "\n",
    "Note: MatLAB stands for \"Matrix Laboratory\""
   ]
  },
  {
   "cell_type": "code",
   "execution_count": 98,
   "id": "6dc73196",
   "metadata": {},
   "outputs": [],
   "source": [
    "import matplotlib.pyplot as plt\n",
    "\n",
    "def plot_coin_flips(counts):\n",
    "    ''' Plot a bar graph of coin flip simulation counts '''\n",
    "    \n",
    "    plt.figure(figsize=(10, 10))\n",
    "    \n",
    "    plt.bar([HEADS, TAILS], counts)\n",
    "    \n",
    "    plt.ylabel('Counts')\n",
    "    plt.title('Coin Flips Simulations')"
   ]
  },
  {
   "cell_type": "code",
   "execution_count": 99,
   "id": "d232e52b",
   "metadata": {},
   "outputs": [
    {
     "data": {
      "image/png": "[encoded data removed]",
      "text/plain": [
       "<Figure size 720x720 with 1 Axes>"
      ]
     },
     "metadata": {
      "needs_background": "light"
     },
     "output_type": "display_data"
    }
   ],
   "source": [
    "counts = simulate_coin_flip(100)\n",
    "plot_coin_flips(counts)"
   ]
  },
  {
   "cell_type": "markdown",
   "id": "1d5524ac",
   "metadata": {},
   "source": [
    "### Interaction"
   ]
  },
  {
   "cell_type": "code",
   "execution_count": 100,
   "id": "7d68e29e",
   "metadata": {},
   "outputs": [],
   "source": [
    "from ipywidgets import interact\n",
    "\n",
    "def run_coin_simulation(flips):\n",
    "    ''' Simulate coin flips and then plot the counts '''\n",
    "    \n",
    "    counts = simulate_coin_flip(flips)\n",
    "    plot_coin_flips(counts)"
   ]
  },
  {
   "cell_type": "code",
   "execution_count": 101,
   "id": "0c47f0ed",
   "metadata": {},
   "outputs": [
    {
     "data": {
      "application/vnd.jupyter.widget-view+json": {
       "model_id": "8c491dcad9dd41d3b47308e4cb3d4beb",
       "version_major": 2,
       "version_minor": 0
      },
      "text/plain": [
       "interactive(children=(IntSlider(value=50, description='flips', min=1), Output()), _dom_classes=('widget-intera…"
      ]
     },
     "metadata": {},
     "output_type": "display_data"
    },
    {
     "data": {
      "text/plain": [
       "<function __main__.run_coin_simulation(flips)>"
      ]
     },
     "execution_count": 101,
     "metadata": {},
     "output_type": "execute_result"
    }
   ],
   "source": [
    "interact(run_coin_simulation, flips=(1,100))"
   ]
  },
  {
   "cell_type": "code",
   "execution_count": 91,
   "id": "8b02f733",
   "metadata": {},
   "outputs": [],
   "source": [
    "import random\n",
    "\n",
    "def simulate_dice(rolls, sides=6):\n",
    "    ''' Simulate dice rolls '''\n",
    "    results = []\n",
    "\n",
    "    # TODO: Initialize results list to zeroes\n",
    "    for i in range(sides + 1):\n",
    "        results.append(0)\n",
    "\n",
    "    # TODO: Simulate dice rolls\n",
    "    return results"
   ]
  },
  {
   "cell_type": "code",
   "execution_count": 92,
   "id": "b01ee227",
   "metadata": {},
   "outputs": [],
   "source": [
    "data = simulate_dice(100, 4)"
   ]
  },
  {
   "cell_type": "code",
   "execution_count": 93,
   "id": "f3591726",
   "metadata": {},
   "outputs": [
    {
     "data": {
      "text/plain": [
       "[0, 0, 0, 0, 0]"
      ]
     },
     "execution_count": 93,
     "metadata": {},
     "output_type": "execute_result"
    }
   ],
   "source": [
    "# Print the data\n",
    "data"
   ]
  },
  {
   "cell_type": "code",
   "execution_count": 94,
   "id": "d0841796",
   "metadata": {},
   "outputs": [
    {
     "data": {
      "text/plain": [
       "[0, 0, 0, 0]"
      ]
     },
     "execution_count": 94,
     "metadata": {},
     "output_type": "execute_result"
    }
   ],
   "source": [
    "data[1:]"
   ]
  },
  {
   "cell_type": "code",
   "execution_count": 95,
   "id": "2c3e0c04",
   "metadata": {},
   "outputs": [],
   "source": [
    "data = [0, 1, 2, 3, 4, 5]"
   ]
  },
  {
   "cell_type": "code",
   "execution_count": 96,
   "id": "cbf6f5c7",
   "metadata": {},
   "outputs": [
    {
     "data": {
      "text/plain": [
       "[1, 2, 3, 4, 5]"
      ]
     },
     "execution_count": 96,
     "metadata": {},
     "output_type": "execute_result"
    }
   ],
   "source": [
    "data[1:]"
   ]
  },
  {
   "cell_type": "code",
   "execution_count": null,
   "id": "490805c7",
   "metadata": {},
   "outputs": [],
   "source": []
  }
 ],
 "metadata": {
  "kernelspec": {
   "display_name": "Python 3 (ipykernel)",
   "language": "python",
   "name": "python3"
  },
  "language_info": {
   "codemirror_mode": {
    "name": "ipython",
    "version": 3
   },
   "file_extension": ".py",
   "mimetype": "text/x-python",
   "name": "python",
   "nbconvert_exporter": "python",
   "pygments_lexer": "ipython3",
   "version": "3.9.12"
  }
 },
 "nbformat": 4,
 "nbformat_minor": 5
}
