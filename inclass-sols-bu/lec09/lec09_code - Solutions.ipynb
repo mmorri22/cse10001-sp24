{
 "cells": [
  {
   "cell_type": "markdown",
   "id": "cb706603",
   "metadata": {},
   "source": [
    "### This is the Notebook for Lecture 09\n",
    "\n",
    "In this lecture, we will focus primarily on File I/O. Specifically, we will focus on:\n",
    "<ol>\n",
    "    <li>Opening and closing a file</li>\n",
    "    <li>Reading from a text file, and applying our understanding of ASCII</li>\n",
    "    <li>Searching a file</li>\n",
    "    <li>Writing to a file</li>\n",
    "    <li>Error handling</li>\n",
    "</ol>"
   ]
  },
  {
   "cell_type": "code",
   "execution_count": 1,
   "id": "7384c5d4",
   "metadata": {},
   "outputs": [],
   "source": [
    "# In order to perform File I/O in Python, you need to invoke the os\n",
    "import os"
   ]
  },
  {
   "cell_type": "code",
   "execution_count": 2,
   "id": "b6057c06",
   "metadata": {},
   "outputs": [
    {
     "data": {
      "text/plain": [
       "['.ipynb_checkpoints',\n",
       " '10.1515_9781400884803-003.pdf',\n",
       " '10.1515_9781400884803-005.pdf',\n",
       " 'computer_problems.png',\n",
       " 'desktop.ini',\n",
       " 'Dictionary.txt',\n",
       " 'FightSong.txt',\n",
       " 'frost.txt',\n",
       " 'inigo.txt',\n",
       " 'lab01.ipynb',\n",
       " 'lec01_code.ipynb',\n",
       " 'lec02_code.ipynb',\n",
       " 'lec03_code - Blank.ipynb',\n",
       " 'lec04_code - Blank.ipynb',\n",
       " 'lec04_code - Solution.ipynb',\n",
       " 'lec05_code - In-Class Solution.ipynb',\n",
       " 'lec06_code - In-Class Solutions.ipynb',\n",
       " 'lec07_code - Solutions.ipynb',\n",
       " 'lec08_code - Solutions.ipynb',\n",
       " 'lec09_code - Blank.ipynb',\n",
       " 'Lecture 00 - Introduction to Principles of Computing.pptx',\n",
       " 'Lecture 01 - Introduction to Programming and Data Representation (1).pptx',\n",
       " 'Lecture 01 - Introduction to Programming and Data Representation.pptx',\n",
       " 'Lecture 03 - CPU and Conditionals Execution.pptx',\n",
       " 'Lecture 04 - Advanced Conditionals and HTML Printing.pptx',\n",
       " 'Lecture 05 - Iteration and Lists.pptx',\n",
       " 'Lecture 07 - Algorithms.pptx',\n",
       " 'Lecture 09 - File Input-Output.pptx',\n",
       " 'Untitled.ipynb']"
      ]
     },
     "execution_count": 2,
     "metadata": {},
     "output_type": "execute_result"
    }
   ],
   "source": [
    "# List all the files in the current directory\n",
    "os.listdir()"
   ]
  },
  {
   "cell_type": "code",
   "execution_count": 4,
   "id": "db02d760",
   "metadata": {},
   "outputs": [
    {
     "name": "stdout",
     "output_type": "stream",
     "text": [
      "1 .ipynb_checkpoints\n",
      "2 10.1515_9781400884803-003.pdf\n",
      "3 10.1515_9781400884803-005.pdf\n",
      "4 Dictionary.txt\n",
      "5 FightSong.txt\n",
      "6 Lecture 00 - Introduction to Principles of Computing.pptx\n",
      "7 Lecture 01 - Introduction to Programming and Data Representation (1).pptx\n",
      "8 Lecture 01 - Introduction to Programming and Data Representation.pptx\n",
      "9 Lecture 03 - CPU and Conditionals Execution.pptx\n",
      "10 Lecture 04 - Advanced Conditionals and HTML Printing.pptx\n",
      "11 Lecture 05 - Iteration and Lists.pptx\n",
      "12 Lecture 07 - Algorithms.pptx\n",
      "13 Lecture 09 - File Input-Output.pptx\n",
      "14 Untitled.ipynb\n",
      "15 computer_problems.png\n",
      "16 desktop.ini\n",
      "17 frost.txt\n",
      "18 inigo.txt\n",
      "19 lab01.ipynb\n",
      "20 lec01_code.ipynb\n",
      "21 lec02_code.ipynb\n",
      "22 lec03_code - Blank.ipynb\n",
      "23 lec04_code - Blank.ipynb\n",
      "24 lec04_code - Solution.ipynb\n",
      "25 lec05_code - In-Class Solution.ipynb\n",
      "26 lec06_code - In-Class Solutions.ipynb\n",
      "27 lec07_code - Solutions.ipynb\n",
      "28 lec08_code - Solutions.ipynb\n",
      "29 lec09_code - Blank.ipynb\n"
     ]
    }
   ],
   "source": [
    "# Combining Concepts: Use enumerate to loop and print files\n",
    "for index, file_name in enumerate( sorted(os.listdir()), 1 ):\n",
    "    print(index, file_name)"
   ]
  },
  {
   "cell_type": "markdown",
   "id": "50f8ce17",
   "metadata": {},
   "source": [
    "### Determining the size of the file"
   ]
  },
  {
   "cell_type": "code",
   "execution_count": 6,
   "id": "7e32edbb",
   "metadata": {},
   "outputs": [
    {
     "data": {
      "text/plain": [
       "16168"
      ]
     },
     "execution_count": 6,
     "metadata": {},
     "output_type": "execute_result"
    }
   ],
   "source": [
    "# Use the getsize() to determine the size of the file\n",
    "os.path.getsize('lec04_code - Solution.ipynb')"
   ]
  },
  {
   "cell_type": "code",
   "execution_count": 7,
   "id": "32735e9a",
   "metadata": {},
   "outputs": [
    {
     "name": "stdout",
     "output_type": "stream",
     "text": [
      "1 .ipynb_checkpoints 4096\n",
      "2 10.1515_9781400884803-003.pdf 2765243\n",
      "3 10.1515_9781400884803-005.pdf 274912\n",
      "4 Dictionary.txt 542740\n",
      "5 FightSong.txt 265\n",
      "6 Lecture 00 - Introduction to Principles of Computing.pptx 104344196\n",
      "7 Lecture 01 - Introduction to Programming and Data Representation (1).pptx 38640888\n",
      "8 Lecture 01 - Introduction to Programming and Data Representation.pptx 38640888\n",
      "9 Lecture 03 - CPU and Conditionals Execution.pptx 49230382\n",
      "10 Lecture 04 - Advanced Conditionals and HTML Printing.pptx 427839\n",
      "11 Lecture 05 - Iteration and Lists.pptx 663226\n",
      "12 Lecture 07 - Algorithms.pptx 707013\n",
      "13 Lecture 09 - File Input-Output.pptx 782017\n",
      "14 Untitled.ipynb 2147\n",
      "15 computer_problems.png 33544\n",
      "16 desktop.ini 282\n",
      "17 frost.txt 729\n",
      "18 inigo.txt 85\n",
      "19 lab01.ipynb 6035\n",
      "20 lec01_code.ipynb 10210\n",
      "21 lec02_code.ipynb 26913\n",
      "22 lec03_code - Blank.ipynb 11536\n",
      "23 lec04_code - Blank.ipynb 12178\n",
      "24 lec04_code - Solution.ipynb 16168\n",
      "25 lec05_code - In-Class Solution.ipynb 17868\n",
      "26 lec06_code - In-Class Solutions.ipynb 27238\n",
      "27 lec07_code - Solutions.ipynb 32323\n",
      "28 lec08_code - Solutions.ipynb 19960\n",
      "29 lec09_code - Blank.ipynb 10137\n"
     ]
    }
   ],
   "source": [
    "# Combining Concepts: Use enumerate to loop and print files and file sizes\n",
    "for index, file_name in enumerate( sorted(os.listdir()), 1 ):\n",
    "    print(index, file_name, os.path.getsize(file_name) ) "
   ]
  },
  {
   "cell_type": "markdown",
   "id": "af820df0",
   "metadata": {},
   "source": [
    "### Opening a File"
   ]
  },
  {
   "cell_type": "code",
   "execution_count": 8,
   "id": "828faada",
   "metadata": {},
   "outputs": [],
   "source": [
    "# First, download the FightSong.txt file from Canvas\n",
    "# Whenever you open a file...\n",
    "\n",
    "fight_song_file = open('FightSong.txt')"
   ]
  },
  {
   "cell_type": "code",
   "execution_count": 9,
   "id": "503ea936",
   "metadata": {
    "scrolled": true
   },
   "outputs": [
    {
     "data": {
      "text/plain": [
       "'Cheer, cheer for old Notre Dame,\\nWake up the echoes cheering her name,\\nSend a volley cheer on high,\\nShake down the thunder from the sky.\\nWhat though the odds be great or small\\nOld Notre Dame will win over all,\\nWhile her loyal sons and daughters\\nMarch on to victory.'"
      ]
     },
     "execution_count": 9,
     "metadata": {},
     "output_type": "execute_result"
    }
   ],
   "source": [
    "# Read the file to the screen\n",
    "fight_song_file.read()"
   ]
  },
  {
   "cell_type": "code",
   "execution_count": 10,
   "id": "9de0bbef",
   "metadata": {},
   "outputs": [
    {
     "data": {
      "text/plain": [
       "''"
      ]
     },
     "execution_count": 10,
     "metadata": {},
     "output_type": "execute_result"
    }
   ],
   "source": [
    "# What do you think happens when I try to read it again?\n",
    "fight_song_file.read()"
   ]
  },
  {
   "cell_type": "code",
   "execution_count": 16,
   "id": "7df7bf83",
   "metadata": {},
   "outputs": [],
   "source": [
    "#... write a code segment to close the file to preserve computing resources\n",
    "fight_song_file.close()"
   ]
  },
  {
   "cell_type": "code",
   "execution_count": 17,
   "id": "ba1c4b1b",
   "metadata": {},
   "outputs": [],
   "source": [
    "# To get back to the top of the file, we re-open\n",
    "fight_song_file = open('FightSong.txt')"
   ]
  },
  {
   "cell_type": "code",
   "execution_count": 18,
   "id": "c56dc646",
   "metadata": {},
   "outputs": [
    {
     "name": "stdout",
     "output_type": "stream",
     "text": [
      "Cheer, cheer for old Notre Dame,\n",
      "\n",
      "Wake up the echoes cheering her name,\n",
      "\n",
      "Send a volley cheer on high,\n",
      "\n",
      "Shake down the thunder from the sky.\n",
      "\n",
      "What though the odds be great or small\n",
      "\n",
      "Old Notre Dame will win over all,\n",
      "\n",
      "While her loyal sons and daughters\n",
      "\n",
      "March on to victory.\n"
     ]
    }
   ],
   "source": [
    "# Then we can use newlines to print each *line*. But there will be extra newlines\n",
    "for line in fight_song_file:\n",
    "    print(line)"
   ]
  },
  {
   "cell_type": "code",
   "execution_count": 19,
   "id": "e0190378",
   "metadata": {},
   "outputs": [],
   "source": [
    "#And again, we close the file to get back to the top of the file when we re-open\n",
    "fight_song_file.close()"
   ]
  },
  {
   "cell_type": "code",
   "execution_count": 20,
   "id": "419a6f70",
   "metadata": {},
   "outputs": [],
   "source": [
    "# To get back to the top of the file, we re-open\n",
    "fight_song_file = open('FightSong.txt')"
   ]
  },
  {
   "cell_type": "code",
   "execution_count": 21,
   "id": "3e762440",
   "metadata": {},
   "outputs": [
    {
     "name": "stdout",
     "output_type": "stream",
     "text": [
      "Cheer, cheer for old Notre Dame,\n",
      "Wake up the echoes cheering her name,\n",
      "Send a volley cheer on high,\n",
      "Shake down the thunder from the sky.\n",
      "What though the odds be great or small\n",
      "Old Notre Dame will win over all,\n",
      "While her loyal sons and daughters\n",
      "March on to victory.\n"
     ]
    }
   ],
   "source": [
    "# We will use the strip() method to remove the newline characters\n",
    "for line in fight_song_file:\n",
    "    print(line.strip())"
   ]
  },
  {
   "cell_type": "code",
   "execution_count": 22,
   "id": "b8b8f891",
   "metadata": {},
   "outputs": [],
   "source": [
    "# And we will close the file to reset the File pointer\n",
    "fight_song_file.close()"
   ]
  },
  {
   "cell_type": "markdown",
   "id": "b8ddc453",
   "metadata": {},
   "source": [
    "### In-Class Coding Opportunity\n",
    "\n",
    "Write a function search_file(path, target) that returns all the lines (i.e. a list of strings) in the file specified by path that contain the target string.\n",
    "\n",
    "The example I will use is frost.txt. My file contains the poem \"The Road Not Taken\" by Robert Frost.\n",
    "\n",
    "You should create a folder and a small file, and read from that file"
   ]
  },
  {
   "cell_type": "code",
   "execution_count": 25,
   "id": "b1269b3b",
   "metadata": {},
   "outputs": [],
   "source": [
    "# search_file(path_targe)\n",
    "def search_file( path, target ):\n",
    "    \n",
    "    # Open the file\n",
    "    search_the_file = open(path) \n",
    "    \n",
    "    return_string = ''\n",
    "    \n",
    "    for line in search_the_file:\n",
    "        \n",
    "        if line.find(target) != -1:\n",
    "            # return_string.append(line)\n",
    "            return_string += line\n",
    "    \n",
    "    # Always close the file!\n",
    "    search_the_file.close()\n",
    "    \n",
    "    return return_string\n",
    "    "
   ]
  },
  {
   "cell_type": "code",
   "execution_count": 30,
   "id": "785b4c6f",
   "metadata": {},
   "outputs": [
    {
     "name": "stdout",
     "output_type": "stream",
     "text": [
      "To where it bent in the undergrowth;\n",
      "Then took the other, as just as fair,\n",
      "And having perhaps the better claim,\n",
      "Though as for that the passing there\n",
      "Had worn them really about the same,\n",
      "Oh, I kept the first for another day!\n",
      "I took the one less traveled by,\n",
      "And that has made all the difference.\n"
     ]
    }
   ],
   "source": [
    "#strip() command\n",
    "text_file = 'frost.txt'\n",
    "target_string = ' the '\n",
    "\n",
    "result_string = search_file( text_file, target_string )\n",
    "\n",
    "print( result_string )"
   ]
  },
  {
   "cell_type": "markdown",
   "id": "d37f02fe",
   "metadata": {},
   "source": [
    "### In-Class Coding Opportunity\n",
    "\n",
    "Write a function read_write(file_name) that performs the following tasks:\n",
    "<ol>\n",
    "    <li>Open a file to write</li>\n",
    "    <li>Input sentences to write to the file (using ‘End’ as a loop break), and writes each sentence to the file</li>\n",
    "    <li>Closes the file</li>\n",
    "    <li>Opens the file to read, prints the contents, and then closes the file</li>\n",
    "</ol>"
   ]
  },
  {
   "cell_type": "code",
   "execution_count": 36,
   "id": "743cbc76",
   "metadata": {},
   "outputs": [],
   "source": [
    "# read_write( file_name )\n",
    "def read_write( file_name ):\n",
    "    \n",
    "    # Lower-case 'w' to add write permissions\n",
    "    write_file = open( file_name, 'w' )\n",
    "    \n",
    "    input_string = input('Input next line or End to finish: ')\n",
    "    \n",
    "    while input_string != 'End':\n",
    "        write_file.write( input_string + '\\n' )\n",
    "        input_string = input('Input next line or End to finish: ')\n",
    "    \n",
    "    write_file.close()\n",
    "    \n",
    "    \n",
    "    print_file = open(file_name)\n",
    "    \n",
    "    for line in print_file:\n",
    "        print( line.strip() )\n",
    "    \n",
    "    print_file.close"
   ]
  },
  {
   "cell_type": "code",
   "execution_count": 37,
   "id": "8f551eb6",
   "metadata": {},
   "outputs": [
    {
     "name": "stdout",
     "output_type": "stream",
     "text": [
      "Input next line or End to finish: Hello!\n",
      "Input next line or End to finish: My name is Inigo Montoya\n",
      "Input next line or End to finish: You killed my father\n",
      "Input next line or End to finish: Prepare to die!\n",
      "Input next line or End to finish: End\n",
      "Hello!\n",
      "My name is Inigo Montoya\n",
      "You killed my father\n",
      "Prepare to die!\n"
     ]
    }
   ],
   "source": [
    "read_write('inigo.txt')"
   ]
  },
  {
   "cell_type": "markdown",
   "id": "6675dd5a",
   "metadata": {},
   "source": [
    "### File Exception Handling"
   ]
  },
  {
   "cell_type": "code",
   "execution_count": 40,
   "id": "267a0d64",
   "metadata": {},
   "outputs": [],
   "source": [
    "def file_try_except( file_name ):\n",
    "    \n",
    "    try: \n",
    "        read_file = open(file_name)\n",
    "\n",
    "        for line in read_file:\n",
    "            print( line.strip() )\n",
    "\n",
    "        read_file.close()\n",
    "        \n",
    "    except FileNotFoundError:\n",
    "        print( file_name + ' not found' )"
   ]
  },
  {
   "cell_type": "code",
   "execution_count": 41,
   "id": "eb0fdf21",
   "metadata": {},
   "outputs": [
    {
     "name": "stdout",
     "output_type": "stream",
     "text": [
      "bad_file_name.txt not found\n"
     ]
    }
   ],
   "source": [
    "file_try_except('bad_file_name.txt')"
   ]
  },
  {
   "cell_type": "markdown",
   "id": "922b8c4c",
   "metadata": {},
   "source": [
    "### Use a with statement to open/close in a scope"
   ]
  },
  {
   "cell_type": "code",
   "execution_count": null,
   "id": "e59ddf85",
   "metadata": {},
   "outputs": [],
   "source": []
  },
  {
   "cell_type": "code",
   "execution_count": null,
   "id": "524a2fd9",
   "metadata": {},
   "outputs": [],
   "source": []
  }
 ],
 "metadata": {
  "kernelspec": {
   "display_name": "Python 3 (ipykernel)",
   "language": "python",
   "name": "python3"
  },
  "language_info": {
   "codemirror_mode": {
    "name": "ipython",
    "version": 3
   },
   "file_extension": ".py",
   "mimetype": "text/x-python",
   "name": "python",
   "nbconvert_exporter": "python",
   "pygments_lexer": "ipython3",
   "version": "3.10.9"
  }
 },
 "nbformat": 4,
 "nbformat_minor": 5
}
