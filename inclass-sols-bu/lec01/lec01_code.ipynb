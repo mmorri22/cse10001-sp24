{
 "cells": [
  {
   "cell_type": "markdown",
   "id": "e558720d",
   "metadata": {},
   "source": [
    "### This is the preview notebook for Lecture 01\n",
    "<p>   </p>\n",
    "In this lecture, we will learn about <b>basics of programming</b> and the importance of <b>data types</b>. Specifically, you will learn about:<br>\n",
    "<ol>\n",
    "<li>The basics of <a href = \"https://www.python.org/\">Python</a></li>\n",
    "<li>Variables<br></li>\n",
    "<li>Data types<br></li>\n",
    "<tab>A. integers</tab><br>\n",
    "   B. floating point (decimals)<br>\n",
    "   C. strings<br>\n",
    "<li>Concatenation and printing<br></li>\n",
    "<li>Reading input and generating output<br></li>\n",
    "</ol>"
   ]
  },
  {
   "cell_type": "markdown",
   "id": "79b0498b",
   "metadata": {},
   "source": [
    "### Key Concepts\n",
    "1. Binary conversion to ASCII\n",
    "2. Paying close attention to what data type you are using\n",
    "3. Floats vs. Integers ( Precision vs. Accuracy )\n",
    "4. Errors, and making sure you are using the correct syntax."
   ]
  },
  {
   "cell_type": "code",
   "execution_count": 1,
   "id": "8480d89c",
   "metadata": {},
   "outputs": [
    {
     "data": {
      "text/plain": [
       "2"
      ]
     },
     "execution_count": 1,
     "metadata": {},
     "output_type": "execute_result"
    }
   ],
   "source": [
    "2"
   ]
  },
  {
   "cell_type": "code",
   "execution_count": 2,
   "id": "c3a30ffc",
   "metadata": {},
   "outputs": [
    {
     "data": {
      "text/plain": [
       "4"
      ]
     },
     "execution_count": 2,
     "metadata": {},
     "output_type": "execute_result"
    }
   ],
   "source": [
    "2+2"
   ]
  },
  {
   "cell_type": "code",
   "execution_count": 3,
   "id": "3d3304cc",
   "metadata": {},
   "outputs": [
    {
     "data": {
      "text/plain": [
       "20"
      ]
     },
     "execution_count": 3,
     "metadata": {},
     "output_type": "execute_result"
    }
   ],
   "source": [
    "2 + 3 * 6"
   ]
  },
  {
   "cell_type": "code",
   "execution_count": 4,
   "id": "bf3f7c23",
   "metadata": {},
   "outputs": [
    {
     "data": {
      "text/plain": [
       "30"
      ]
     },
     "execution_count": 4,
     "metadata": {},
     "output_type": "execute_result"
    }
   ],
   "source": [
    "(2+3) * 6"
   ]
  },
  {
   "cell_type": "code",
   "execution_count": 5,
   "id": "f54da8f1",
   "metadata": {},
   "outputs": [
    {
     "data": {
      "text/plain": [
       "25846343535638941480"
      ]
     },
     "execution_count": 5,
     "metadata": {},
     "output_type": "execute_result"
    }
   ],
   "source": [
    "78328745 * 329972649704"
   ]
  },
  {
   "cell_type": "code",
   "execution_count": 6,
   "id": "1ba5efb6",
   "metadata": {},
   "outputs": [
    {
     "data": {
      "text/plain": [
       "12642105850143979588598613150235271784740608639852002387351559343838015132790089186244580474"
      ]
     },
     "execution_count": 6,
     "metadata": {},
     "output_type": "execute_result"
    }
   ],
   "source": [
    "3878780703279732592905820958290859328509328590328509 * 3259298943983698436983496843986394864386"
   ]
  },
  {
   "cell_type": "code",
   "execution_count": 8,
   "id": "4626c91b",
   "metadata": {
    "scrolled": true
   },
   "outputs": [
    {
     "data": {
      "text/plain": [
       "797959846885261887271461057548651473824390685339196147910629494995433436696008017722095396769485443794153803586537721285907988320598645926383532728061153623945950226735024374148255274202569300350328205702640622890326752211245270644611969091379310020391709516804648482857206561257322138118801515114968442592682934316008511760336859350618904003567938030194438021394857035500881235812090467172287909251863454774955734315885015540426314382897783391949026562736491264091297496732769322361484957823141323727783318496365608108034796500189177348146536620254035229924547434221469414590152400555444143787687469034410470556988394349083479352761294637266062469680752646926125172676457145841880202337916213503614155518253013453110997799790249005379670593097414554478031935762013358757231996310122989744249538935261242274606672866892718339437187585129023509616410257706842067814318797809054345964867537867447569522342657197666588648641939207803724261550323961224809475399549048548999327731083292690290330643126787050199614128466633457683325665322580836149092349796224339884637480242138938017961885583077823451924417038310520676744328476681934035050024592741996519733090380975330898355808050151008878326987374771838424563611158543745977914566438457339235401436642365859818670458630031669600865572371731462821775617715956787658093771303770392670453645308456132586201788868838234707126895344397526972958226400246387654875492542357104926200544349118043929626797161312702345826715064342336239827048393972018336423914246851934920403578288163309096493895613430604464784088860923868980096235520843926895803641419389661048692275320855535477469594419501700834075835882865026316859811524248095050576647490125214972789449271043011730928125366214217796824103004268435425113504842575271834439203115158264407329177284314884014909101652002738444604072196"
      ]
     },
     "execution_count": 8,
     "metadata": {},
     "output_type": "execute_result"
    }
   ],
   "source": [
    "893285982698296843296843863486438634868932859826982968432968438634864386348689328598269829684329684386348643863486893285982698296843296843863486438634868932859826982968432968438634864386348689328598269829684329684386348643863486893285982698296843296843863486438634868932859826982968432968438634864386348689328598269829684329684386348643863486893285982698296843296843863486438634868932859826982968432968438634864386348689328598269829684329684386348643863486893285982698296843296843863486438634868932859826982968432968438634864386348689328598269829684329684386348643863486893285982698296843296843863486438634868932859826982968432968438634864386348689328598269829684329684386348643863486893285982698296843296843863486438634868932859826982968432968438634864386348689328598269829684329684386348643863486893285982698296843296843863486438634868932859826982968432968438634864386348689328598269829684329684386348643863486 * 893285982698296843296843863486438634868932859826982968432968438634864386348689328598269829684329684386348643863486893285982698296843296843863486438634868932859826982968432968438634864386348689328598269829684329684386348643863486893285982698296843296843863486438634868932859826982968432968438634864386348689328598269829684329684386348643863486893285982698296843296843863486438634868932859826982968432968438634864386348689328598269829684329684386348643863486893285982698296843296843863486438634868932859826982968432968438634864386348689328598269829684329684386348643863486893285982698296843296843863486438634868932859826982968432968438634864386348689328598269829684329684386348643863486893285982698296843296843863486438634868932859826982968432968438634864386348689328598269829684329684386348643863486893285982698296843296843863486438634868932859826982968432968438634864386348689328598269829684329684386348643863486 "
   ]
  },
  {
   "cell_type": "code",
   "execution_count": 9,
   "id": "8f6cbbc5",
   "metadata": {},
   "outputs": [
    {
     "data": {
      "text/plain": [
       "512"
      ]
     },
     "execution_count": 9,
     "metadata": {},
     "output_type": "execute_result"
    }
   ],
   "source": [
    "# Use ** for exponents \n",
    "\n",
    "2 ** 9"
   ]
  },
  {
   "cell_type": "code",
   "execution_count": 10,
   "id": "8b061228",
   "metadata": {},
   "outputs": [
    {
     "data": {
      "text/plain": [
       "3.2857142857142856"
      ]
     },
     "execution_count": 10,
     "metadata": {},
     "output_type": "execute_result"
    }
   ],
   "source": [
    "23 / 7"
   ]
  },
  {
   "cell_type": "code",
   "execution_count": 11,
   "id": "c57e25b8",
   "metadata": {},
   "outputs": [
    {
     "data": {
      "text/plain": [
       "3"
      ]
     },
     "execution_count": 11,
     "metadata": {},
     "output_type": "execute_result"
    }
   ],
   "source": [
    "# quotent\n",
    "\n",
    "23 // 7"
   ]
  },
  {
   "cell_type": "code",
   "execution_count": 12,
   "id": "4997db78",
   "metadata": {},
   "outputs": [
    {
     "data": {
      "text/plain": [
       "2"
      ]
     },
     "execution_count": 12,
     "metadata": {},
     "output_type": "execute_result"
    }
   ],
   "source": [
    "# Remainder - Modulo (%)\n",
    "\n",
    "23 % 7"
   ]
  },
  {
   "cell_type": "code",
   "execution_count": 13,
   "id": "8ad21632",
   "metadata": {},
   "outputs": [
    {
     "data": {
      "text/plain": [
       "0.30000000000000004"
      ]
     },
     "execution_count": 13,
     "metadata": {},
     "output_type": "execute_result"
    }
   ],
   "source": [
    "# Precision vs. Accuracy Example\n",
    "\n",
    "0.1 + 0.2"
   ]
  },
  {
   "cell_type": "code",
   "execution_count": 17,
   "id": "23036f38",
   "metadata": {},
   "outputs": [
    {
     "data": {
      "text/plain": [
       "16"
      ]
     },
     "execution_count": 17,
     "metadata": {},
     "output_type": "execute_result"
    }
   ],
   "source": [
    "(5-1) * ( (7+1) // (3-1))"
   ]
  },
  {
   "cell_type": "code",
   "execution_count": 18,
   "id": "77478c5d",
   "metadata": {},
   "outputs": [
    {
     "data": {
      "text/plain": [
       "1165505478510.0"
      ]
     },
     "execution_count": 18,
     "metadata": {},
     "output_type": "execute_result"
    }
   ],
   "source": [
    "26574.0 * 43858865"
   ]
  },
  {
   "cell_type": "code",
   "execution_count": null,
   "id": "b1f33902",
   "metadata": {},
   "outputs": [],
   "source": []
  }
 ],
 "metadata": {
  "kernelspec": {
   "display_name": "Python 3 (ipykernel)",
   "language": "python",
   "name": "python3"
  },
  "language_info": {
   "codemirror_mode": {
    "name": "ipython",
    "version": 3
   },
   "file_extension": ".py",
   "mimetype": "text/x-python",
   "name": "python",
   "nbconvert_exporter": "python",
   "pygments_lexer": "ipython3",
   "version": "3.10.9"
  }
 },
 "nbformat": 4,
 "nbformat_minor": 5
}
