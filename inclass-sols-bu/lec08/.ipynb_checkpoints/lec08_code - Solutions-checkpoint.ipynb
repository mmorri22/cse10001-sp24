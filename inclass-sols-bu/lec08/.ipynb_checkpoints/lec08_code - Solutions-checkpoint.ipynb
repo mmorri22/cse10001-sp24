{
 "cells": [
  {
   "cell_type": "markdown",
   "id": "dc9a5b60",
   "metadata": {},
   "source": [
    "### This is the Notebook for Lecture 08"
   ]
  },
  {
   "cell_type": "markdown",
   "id": "2ca4c93f",
   "metadata": {},
   "source": [
    "In this section, you will learn\n",
    "<ol>\n",
    "    <li>The process of implementing an <b>Algorithm</b>\n",
    "    <li>Implementing an algorithm called <b>Selection Sort</b>\n",
    "    <li>Implementing an algorithm called <b>Merge Sort Sort</b>\n",
    "    <li>Use the %timeit to compare the run times of those algorithms\n",
    "</ol>"
   ]
  },
  {
   "cell_type": "code",
   "execution_count": 1,
   "id": "fcb6283f",
   "metadata": {},
   "outputs": [],
   "source": [
    "# Code we developed last lecture\n",
    "# Binary Search Algorithm\n",
    "# Function num_array, target\n",
    "\n",
    "def binary_search( num_array, target ):\n",
    "\n",
    "    min_val = 0\n",
    "    max_val = len(num_array) - 1\n",
    "\n",
    "    while min_val <= max_val:\n",
    "\n",
    "        midpoint = (max_val + min_val) // 2\n",
    "\n",
    "        middle = num_array[midpoint]\n",
    "        print( 'num_array[' + str(midpoint) + '] = ' + str(middle) )\n",
    "\n",
    "        if middle == target:\n",
    "            return True\n",
    "\n",
    "        if middle < target:\n",
    "            min_val = midpoint + 1\n",
    "\n",
    "        else:\n",
    "            max_val = midpoint - 1\n",
    "\n",
    "    return False"
   ]
  },
  {
   "cell_type": "markdown",
   "id": "43c3ca1d",
   "metadata": {},
   "source": [
    "### In-Class Coding Opportunity\n",
    "\n",
    "We will code a Selection Sort Algorithm\n",
    "\n",
    "<ol>\n",
    "    <li>Search for the smallest element in the unsorted portion of the list</li>\n",
    "    <li>Swap the smallest element with the first element in the unsorted portion of the list</li>\n",
    "    <li>Repeat process on remaining unsorted portion of the list</li>\n",
    "</ol>"
   ]
  },
  {
   "cell_type": "code",
   "execution_count": 2,
   "id": "70289f68",
   "metadata": {},
   "outputs": [],
   "source": [
    "# Selection Sort\n",
    "def selection_sort( array_to_sort):\n",
    "    \n",
    "    for first in range(0, len(array_to_sort) ):\n",
    "        \n",
    "        smallest = first\n",
    "        \n",
    "        for current in range( first, len(array_to_sort) ):\n",
    "            \n",
    "            if array_to_sort[current] < array_to_sort[smallest]:\n",
    "                \n",
    "                smallest = current\n",
    "                \n",
    "        temp = array_to_sort[first]\n",
    "        array_to_sort[first] = array_to_sort[smallest]\n",
    "        array_to_sort[smallest] = temp\n",
    "        \n",
    "        print( array_to_sort )"
   ]
  },
  {
   "cell_type": "code",
   "execution_count": 3,
   "id": "0491b478",
   "metadata": {},
   "outputs": [
    {
     "name": "stdout",
     "output_type": "stream",
     "text": [
      "[10, 7, 5, 3, 0, 2, 1, 11, 3, 10, 15, 2, 1, 24, -1]\n",
      "[-1, 7, 5, 3, 0, 2, 1, 11, 3, 10, 15, 2, 1, 24, 10]\n",
      "[-1, 0, 5, 3, 7, 2, 1, 11, 3, 10, 15, 2, 1, 24, 10]\n",
      "[-1, 0, 1, 3, 7, 2, 5, 11, 3, 10, 15, 2, 1, 24, 10]\n",
      "[-1, 0, 1, 1, 7, 2, 5, 11, 3, 10, 15, 2, 3, 24, 10]\n",
      "[-1, 0, 1, 1, 2, 7, 5, 11, 3, 10, 15, 2, 3, 24, 10]\n",
      "[-1, 0, 1, 1, 2, 2, 5, 11, 3, 10, 15, 7, 3, 24, 10]\n",
      "[-1, 0, 1, 1, 2, 2, 3, 11, 5, 10, 15, 7, 3, 24, 10]\n",
      "[-1, 0, 1, 1, 2, 2, 3, 3, 5, 10, 15, 7, 11, 24, 10]\n",
      "[-1, 0, 1, 1, 2, 2, 3, 3, 5, 10, 15, 7, 11, 24, 10]\n",
      "[-1, 0, 1, 1, 2, 2, 3, 3, 5, 7, 15, 10, 11, 24, 10]\n",
      "[-1, 0, 1, 1, 2, 2, 3, 3, 5, 7, 10, 15, 11, 24, 10]\n",
      "[-1, 0, 1, 1, 2, 2, 3, 3, 5, 7, 10, 10, 11, 24, 15]\n",
      "[-1, 0, 1, 1, 2, 2, 3, 3, 5, 7, 10, 10, 11, 24, 15]\n",
      "[-1, 0, 1, 1, 2, 2, 3, 3, 5, 7, 10, 10, 11, 15, 24]\n",
      "[-1, 0, 1, 1, 2, 2, 3, 3, 5, 7, 10, 10, 11, 15, 24]\n",
      "[-1, 0, 1, 1, 2, 2, 3, 3, 5, 7, 10, 10, 11, 15, 24]\n"
     ]
    }
   ],
   "source": [
    "int_array = [10, 7, 5, 3, 0, 2, 1, 11, 3, 10, 15, 2, 1, 24, -1]\n",
    "print( int_array )\n",
    "selection_sort( int_array )\n",
    "print( int_array )"
   ]
  },
  {
   "cell_type": "code",
   "execution_count": 4,
   "id": "7fdb7975",
   "metadata": {},
   "outputs": [],
   "source": [
    "# Merging Algorithm\n",
    "def merge(left, right):\n",
    "    \n",
    "    # Empty Array\n",
    "    merged = [] \n",
    "    \n",
    "    while left or right:\n",
    "        \n",
    "        if not left:  # If the left array is empty\n",
    "            \n",
    "            # pop(0) remove from front, append put on back\n",
    "            merged.append( right.pop(0) )\n",
    "            \n",
    "        elif not right:\n",
    "            merged.append( left.pop(0) )\n",
    "            \n",
    "        elif left[0] <= right[0]:\n",
    "            merged.append( left.pop(0) )\n",
    "            \n",
    "        else:\n",
    "            merged.append( right.pop(0) )\n",
    "    \n",
    "    return merged"
   ]
  },
  {
   "cell_type": "code",
   "execution_count": 5,
   "id": "55a3bfb5",
   "metadata": {},
   "outputs": [],
   "source": [
    "def merge_sort(numbers):\n",
    "    \n",
    "    # If the list is 0 or 1 length, already sorted!\n",
    "    if len(numbers) <= 1:\n",
    "        return numbers\n",
    "    \n",
    "    # Divide the lists\n",
    "    middle = len(numbers) // 2\n",
    "    left = numbers[:middle]\n",
    "    right = numbers[middle:]\n",
    "    \n",
    "    print('Divide: middle=',middle,', left=',left,', right=',right)\n",
    "    \n",
    "    # Conquer\n",
    "    left = merge_sort(left)\n",
    "    right = merge_sort(right)\n",
    "    \n",
    "    print( 'Conquer: left=',left, ', right=', right)\n",
    "    \n",
    "    # Combine\n",
    "    return merge(left,right)"
   ]
  },
  {
   "cell_type": "code",
   "execution_count": 6,
   "id": "146df68c",
   "metadata": {},
   "outputs": [
    {
     "name": "stdout",
     "output_type": "stream",
     "text": [
      "Divide: middle= 4 , left= [10, 7, 5, 3] , right= [0, 2, 1, 11]\n",
      "Divide: middle= 2 , left= [10, 7] , right= [5, 3]\n",
      "Divide: middle= 1 , left= [10] , right= [7]\n",
      "Conquer: left= [10] , right= [7]\n",
      "Divide: middle= 1 , left= [5] , right= [3]\n",
      "Conquer: left= [5] , right= [3]\n",
      "Conquer: left= [7, 10] , right= [3, 5]\n",
      "Divide: middle= 2 , left= [0, 2] , right= [1, 11]\n",
      "Divide: middle= 1 , left= [0] , right= [2]\n",
      "Conquer: left= [0] , right= [2]\n",
      "Divide: middle= 1 , left= [1] , right= [11]\n",
      "Conquer: left= [1] , right= [11]\n",
      "Conquer: left= [0, 2] , right= [1, 11]\n",
      "Conquer: left= [3, 5, 7, 10] , right= [0, 1, 2, 11]\n",
      "[0, 1, 2, 3, 5, 7, 10, 11]\n",
      "num_array[3] = 3\n"
     ]
    },
    {
     "data": {
      "text/plain": [
       "True"
      ]
     },
     "execution_count": 6,
     "metadata": {},
     "output_type": "execute_result"
    }
   ],
   "source": [
    "int_array = [10, 7, 5, 3, 0, 2, 1, 11]\n",
    "sorted_array = merge_sort( int_array )\n",
    "print( sorted_array )\n",
    "binary_search( int_array, 3 )"
   ]
  },
  {
   "cell_type": "markdown",
   "id": "643301ac",
   "metadata": {},
   "source": [
    "### Comparing Selection Sort and Merge Sort"
   ]
  },
  {
   "cell_type": "code",
   "execution_count": 7,
   "id": "6b75c958",
   "metadata": {},
   "outputs": [],
   "source": [
    "import random\n",
    "\n",
    "def generate_random_numbers(n, low=1, high=1000):\n",
    "    numbers = []\n",
    "    for i in range(n):\n",
    "        numbers.append(random.randint(low, high))\n",
    "    return numbers"
   ]
  },
  {
   "cell_type": "code",
   "execution_count": 16,
   "id": "3c035073",
   "metadata": {},
   "outputs": [],
   "source": [
    "dataset1000 = generate_random_numbers(1000)"
   ]
  },
  {
   "cell_type": "code",
   "execution_count": 17,
   "id": "af90ae57",
   "metadata": {},
   "outputs": [],
   "source": [
    "# Selection Sort\n",
    "def selection_sort_no_print( array_to_sort):\n",
    "    \n",
    "    for first in range(0, len(array_to_sort) ):\n",
    "        \n",
    "        smallest = first\n",
    "        \n",
    "        for current in range( first, len(array_to_sort) ):\n",
    "            \n",
    "            if array_to_sort[current] < array_to_sort[smallest]:\n",
    "                \n",
    "                smallest = current\n",
    "                \n",
    "        temp = array_to_sort[first]\n",
    "        array_to_sort[first] = array_to_sort[smallest]\n",
    "        array_to_sort[smallest] = temp"
   ]
  },
  {
   "cell_type": "code",
   "execution_count": 18,
   "id": "d39553cc",
   "metadata": {},
   "outputs": [
    {
     "name": "stdout",
     "output_type": "stream",
     "text": [
      "58.7 ms ± 746 µs per loop (mean ± std. dev. of 7 runs, 10 loops each)\n"
     ]
    }
   ],
   "source": [
    "# %timeit runs the code 7 times with 1,000 loops to get a benchmark\n",
    "%timeit selection_sort_no_print(dataset1000)"
   ]
  },
  {
   "cell_type": "code",
   "execution_count": 19,
   "id": "a2c6d256",
   "metadata": {},
   "outputs": [],
   "source": [
    "def merge_sort_no_print(numbers):\n",
    "    # Base case\n",
    "    if len(numbers) <= 1:\n",
    "        return numbers\n",
    "    \n",
    "    # Divide\n",
    "    middle = len(numbers) // 2\n",
    "    left   = numbers[:middle]\n",
    "    right  = numbers[middle:] \n",
    "    \n",
    "    # Conquer\n",
    "    left   = merge_sort_no_print(left)\n",
    "    right  = merge_sort_no_print(right)\n",
    "    \n",
    "    # Combine\n",
    "    return merge(left, right)"
   ]
  },
  {
   "cell_type": "code",
   "execution_count": 20,
   "id": "0ff9c13a",
   "metadata": {},
   "outputs": [
    {
     "name": "stdout",
     "output_type": "stream",
     "text": [
      "7.42 ms ± 489 µs per loop (mean ± std. dev. of 7 runs, 100 loops each)\n"
     ]
    }
   ],
   "source": [
    "%timeit merge_sort_no_print(dataset1000)"
   ]
  },
  {
   "cell_type": "markdown",
   "id": "dbcc0683",
   "metadata": {},
   "source": [
    "## Strings\n",
    "\n",
    "In this section you will learn:\n",
    "<ol>\n",
    "    <li>Review of string basics</li>\n",
    "    <li>Advanced string topics</li>\n",
    "</ol>"
   ]
  },
  {
   "cell_type": "code",
   "execution_count": 21,
   "id": "41476d80",
   "metadata": {},
   "outputs": [],
   "source": [
    "pupfessor_name = 'Eirinn'"
   ]
  },
  {
   "cell_type": "markdown",
   "id": "797cd5bc",
   "metadata": {},
   "source": [
    "### Strings: Immutability\n",
    "\n",
    "Strings in Python are immutable, which means that you cannot change the elements of a string once it is set:"
   ]
  },
  {
   "cell_type": "code",
   "execution_count": 22,
   "id": "49aa55f4",
   "metadata": {},
   "outputs": [
    {
     "ename": "TypeError",
     "evalue": "'str' object does not support item assignment",
     "output_type": "error",
     "traceback": [
      "\u001b[1;31m---------------------------------------------------------------------------\u001b[0m",
      "\u001b[1;31mTypeError\u001b[0m                                 Traceback (most recent call last)",
      "\u001b[1;32m~\\AppData\\Local\\Temp\\ipykernel_26396\\1671001728.py\u001b[0m in \u001b[0;36m<module>\u001b[1;34m\u001b[0m\n\u001b[0;32m      1\u001b[0m \u001b[1;31m# Deliberate TypeError to show students immutability\u001b[0m\u001b[1;33m\u001b[0m\u001b[1;33m\u001b[0m\u001b[0m\n\u001b[1;32m----> 2\u001b[1;33m \u001b[0mpupfessor_name\u001b[0m\u001b[1;33m[\u001b[0m\u001b[1;36m4\u001b[0m\u001b[1;33m]\u001b[0m \u001b[1;33m=\u001b[0m \u001b[1;34m'Q'\u001b[0m\u001b[1;33m\u001b[0m\u001b[1;33m\u001b[0m\u001b[0m\n\u001b[0m",
      "\u001b[1;31mTypeError\u001b[0m: 'str' object does not support item assignment"
     ]
    }
   ],
   "source": [
    "# Deliberate TypeError to show students immutability\n",
    "pupfessor_name[4] = 'Q'"
   ]
  },
  {
   "cell_type": "code",
   "execution_count": 23,
   "id": "25ce8cc8",
   "metadata": {},
   "outputs": [
    {
     "name": "stdout",
     "output_type": "stream",
     "text": [
      "Qirinn\n"
     ]
    }
   ],
   "source": [
    "new_pupfessor_name = 'Q' + pupfessor_name[1:]\n",
    "\n",
    "print(new_pupfessor_name)"
   ]
  },
  {
   "cell_type": "code",
   "execution_count": 24,
   "id": "67259ebd",
   "metadata": {},
   "outputs": [
    {
     "data": {
      "text/plain": [
       "['E', 'i', 'i', 'n', 'n', 'r']"
      ]
     },
     "execution_count": 24,
     "metadata": {},
     "output_type": "execute_result"
    }
   ],
   "source": [
    "sorted(pupfessor_name)"
   ]
  },
  {
   "cell_type": "code",
   "execution_count": 25,
   "id": "f62e6cfb",
   "metadata": {},
   "outputs": [
    {
     "data": {
      "text/plain": [
       "['Q', 'i', 'i', 'n', 'n', 'r']"
      ]
     },
     "execution_count": 25,
     "metadata": {},
     "output_type": "execute_result"
    }
   ],
   "source": [
    "sorted(new_pupfessor_name)"
   ]
  },
  {
   "cell_type": "code",
   "execution_count": 26,
   "id": "6b335d75",
   "metadata": {},
   "outputs": [
    {
     "data": {
      "text/plain": [
       "'r'"
      ]
     },
     "execution_count": 26,
     "metadata": {},
     "output_type": "execute_result"
    }
   ],
   "source": [
    "max(pupfessor_name)"
   ]
  },
  {
   "cell_type": "code",
   "execution_count": 27,
   "id": "db04c02d",
   "metadata": {},
   "outputs": [
    {
     "data": {
      "text/plain": [
       "'E'"
      ]
     },
     "execution_count": 27,
     "metadata": {},
     "output_type": "execute_result"
    }
   ],
   "source": [
    "min(pupfessor_name)"
   ]
  },
  {
   "cell_type": "code",
   "execution_count": 28,
   "id": "27d7829c",
   "metadata": {},
   "outputs": [
    {
     "data": {
      "text/plain": [
       "True"
      ]
     },
     "execution_count": 28,
     "metadata": {},
     "output_type": "execute_result"
    }
   ],
   "source": [
    "'i' in pupfessor_name"
   ]
  },
  {
   "cell_type": "code",
   "execution_count": 29,
   "id": "7e5ae8d3",
   "metadata": {},
   "outputs": [
    {
     "data": {
      "text/plain": [
       "True"
      ]
     },
     "execution_count": 29,
     "metadata": {},
     "output_type": "execute_result"
    }
   ],
   "source": [
    "'rin' in pupfessor_name"
   ]
  },
  {
   "cell_type": "code",
   "execution_count": 30,
   "id": "badb18d8",
   "metadata": {},
   "outputs": [
    {
     "data": {
      "text/plain": [
       "False"
      ]
     },
     "execution_count": 30,
     "metadata": {},
     "output_type": "execute_result"
    }
   ],
   "source": [
    "# Of course it's false! Eirinn is a GOOD GIRL!\n",
    "'bad dog' in pupfessor_name"
   ]
  },
  {
   "cell_type": "markdown",
   "id": "18e52ece",
   "metadata": {},
   "source": [
    "### Print ASCII values"
   ]
  },
  {
   "cell_type": "code",
   "execution_count": 31,
   "id": "467b243d",
   "metadata": {},
   "outputs": [],
   "source": [
    "def print_ascii( string_to_print ):\n",
    "    \n",
    "    for current_letter in string_to_print:\n",
    "        print( f'The ASCII value of { current_letter } is { ord(current_letter) } ')"
   ]
  },
  {
   "cell_type": "code",
   "execution_count": 32,
   "id": "4abbfbce",
   "metadata": {},
   "outputs": [
    {
     "name": "stdout",
     "output_type": "stream",
     "text": [
      "The ASCII value of E is 69 \n",
      "The ASCII value of i is 105 \n",
      "The ASCII value of r is 114 \n",
      "The ASCII value of i is 105 \n",
      "The ASCII value of n is 110 \n",
      "The ASCII value of n is 110 \n"
     ]
    }
   ],
   "source": [
    "print_ascii( pupfessor_name )"
   ]
  },
  {
   "cell_type": "code",
   "execution_count": 33,
   "id": "d064ff8a",
   "metadata": {},
   "outputs": [
    {
     "name": "stdout",
     "output_type": "stream",
     "text": [
      "The ASCII value of N is 78 \n",
      "The ASCII value of o is 111 \n",
      "The ASCII value of t is 116 \n",
      "The ASCII value of r is 114 \n",
      "The ASCII value of e is 101 \n",
      "The ASCII value of   is 32 \n",
      "The ASCII value of D is 68 \n",
      "The ASCII value of a is 97 \n",
      "The ASCII value of m is 109 \n",
      "The ASCII value of e is 101 \n",
      "The ASCII value of   is 32 \n",
      "The ASCII value of F is 70 \n",
      "The ASCII value of i is 105 \n",
      "The ASCII value of g is 103 \n",
      "The ASCII value of h is 104 \n",
      "The ASCII value of t is 116 \n",
      "The ASCII value of i is 105 \n",
      "The ASCII value of n is 110 \n",
      "The ASCII value of g is 103 \n",
      "The ASCII value of   is 32 \n",
      "The ASCII value of I is 73 \n",
      "The ASCII value of r is 114 \n",
      "The ASCII value of i is 105 \n",
      "The ASCII value of s is 115 \n",
      "The ASCII value of h is 104 \n",
      "The ASCII value of ! is 33 \n"
     ]
    }
   ],
   "source": [
    "print_ascii( \"Notre Dame Fighting Irish!\" )"
   ]
  },
  {
   "cell_type": "markdown",
   "id": "ea91203b",
   "metadata": {},
   "source": [
    "### Escape Characters\n",
    "\n",
    "There are some characters which we may wish to print, but do not correspond to a normal alphanumeric or punctuation character. One such example is the newline which forces the proceeding characters to move to the next line. To render a newline you can use the '\\n' escape code:"
   ]
  },
  {
   "cell_type": "code",
   "execution_count": 34,
   "id": "9b6f0b0f",
   "metadata": {},
   "outputs": [
    {
     "name": "stdout",
     "output_type": "stream",
     "text": [
      "\n",
      "There will be a space before and after this sentence\n",
      "\n"
     ]
    }
   ],
   "source": [
    "print(\"\\nThere will be a space before and after this sentence\\n\")"
   ]
  },
  {
   "cell_type": "code",
   "execution_count": 35,
   "id": "b2ed923c",
   "metadata": {},
   "outputs": [
    {
     "name": "stdout",
     "output_type": "stream",
     "text": [
      "The ASCII value of \n",
      " is 10 \n",
      "The ASCII value of T is 84 \n",
      "The ASCII value of h is 104 \n",
      "The ASCII value of e is 101 \n",
      "The ASCII value of r is 114 \n",
      "The ASCII value of e is 101 \n",
      "The ASCII value of   is 32 \n",
      "The ASCII value of w is 119 \n",
      "The ASCII value of i is 105 \n",
      "The ASCII value of l is 108 \n",
      "The ASCII value of l is 108 \n",
      "The ASCII value of   is 32 \n",
      "The ASCII value of b is 98 \n",
      "The ASCII value of e is 101 \n",
      "The ASCII value of   is 32 \n",
      "The ASCII value of a is 97 \n",
      "The ASCII value of   is 32 \n",
      "The ASCII value of s is 115 \n",
      "The ASCII value of p is 112 \n",
      "The ASCII value of a is 97 \n",
      "The ASCII value of c is 99 \n",
      "The ASCII value of e is 101 \n",
      "The ASCII value of   is 32 \n",
      "The ASCII value of b is 98 \n",
      "The ASCII value of e is 101 \n",
      "The ASCII value of f is 102 \n",
      "The ASCII value of o is 111 \n",
      "The ASCII value of r is 114 \n",
      "The ASCII value of e is 101 \n",
      "The ASCII value of   is 32 \n",
      "The ASCII value of a is 97 \n",
      "The ASCII value of n is 110 \n",
      "The ASCII value of d is 100 \n",
      "The ASCII value of   is 32 \n",
      "The ASCII value of a is 97 \n",
      "The ASCII value of f is 102 \n",
      "The ASCII value of t is 116 \n",
      "The ASCII value of e is 101 \n",
      "The ASCII value of r is 114 \n",
      "The ASCII value of   is 32 \n",
      "The ASCII value of t is 116 \n",
      "The ASCII value of h is 104 \n",
      "The ASCII value of i is 105 \n",
      "The ASCII value of s is 115 \n",
      "The ASCII value of   is 32 \n",
      "The ASCII value of s is 115 \n",
      "The ASCII value of e is 101 \n",
      "The ASCII value of n is 110 \n",
      "The ASCII value of t is 116 \n",
      "The ASCII value of e is 101 \n",
      "The ASCII value of n is 110 \n",
      "The ASCII value of c is 99 \n",
      "The ASCII value of e is 101 \n",
      "The ASCII value of \n",
      " is 10 \n"
     ]
    }
   ],
   "source": [
    "print_ascii( \"\\nThere will be a space before and after this sentence\\n\" )"
   ]
  },
  {
   "cell_type": "code",
   "execution_count": 36,
   "id": "596f6d81",
   "metadata": {},
   "outputs": [
    {
     "name": "stdout",
     "output_type": "stream",
     "text": [
      "\tThis sentence will be tabbed over\n"
     ]
    }
   ],
   "source": [
    "print(\"\\tThis sentence will be tabbed over\")"
   ]
  },
  {
   "cell_type": "code",
   "execution_count": 40,
   "id": "9e6f00eb",
   "metadata": {},
   "outputs": [
    {
     "name": "stdout",
     "output_type": "stream",
     "text": [
      "Date\tOpponent\tTime\n",
      "8/31\t@Miami\t\t7:30pm\n",
      "9/13\tTexas A&M\t2:30pm\n",
      "9/20\tPurdue\t\t2:30pm\n",
      "9/27\t@Arkansas\t6:30pm\n"
     ]
    }
   ],
   "source": [
    "# Example of organized spacing\n",
    "print(\"Date\\tOpponent\\tTime\")\n",
    "print(\"8/31\\t@Miami\\t\\t7:30pm\")\n",
    "print(\"9/13\\tTexas A&M\\t2:30pm\")\n",
    "print(\"9/20\\tPurdue\\t\\t2:30pm\")\n",
    "print(\"9/27\\t@Arkansas\\t6:30pm\")"
   ]
  },
  {
   "cell_type": "markdown",
   "id": "7c8dc7aa",
   "metadata": {},
   "source": [
    "### String Methods (Case)\n",
    "Because certain operations on strings are so common, Python includes a variety of built-in methods that you can apply to a string object"
   ]
  },
  {
   "cell_type": "code",
   "execution_count": 41,
   "id": "c2d365c2",
   "metadata": {},
   "outputs": [
    {
     "data": {
      "text/plain": [
       "'Marcus freeman'"
      ]
     },
     "execution_count": 41,
     "metadata": {},
     "output_type": "execute_result"
    }
   ],
   "source": [
    "# Will capitalize the first letter only\n",
    "'marcus freeman'.capitalize()"
   ]
  },
  {
   "cell_type": "code",
   "execution_count": 42,
   "id": "5da8a49f",
   "metadata": {},
   "outputs": [
    {
     "data": {
      "text/plain": [
       "'MARCUS FREEMAN'"
      ]
     },
     "execution_count": 42,
     "metadata": {},
     "output_type": "execute_result"
    }
   ],
   "source": [
    "# Converts all to upper case\n",
    "'marcus freeman'.upper()"
   ]
  },
  {
   "cell_type": "code",
   "execution_count": 43,
   "id": "22d5aa89",
   "metadata": {},
   "outputs": [
    {
     "data": {
      "text/plain": [
       "'marcus freeman'"
      ]
     },
     "execution_count": 43,
     "metadata": {},
     "output_type": "execute_result"
    }
   ],
   "source": [
    "# Converts all to lower\n",
    "'MARCUS FREEMAN'.lower()"
   ]
  },
  {
   "cell_type": "code",
   "execution_count": 44,
   "id": "846bbbd8",
   "metadata": {},
   "outputs": [
    {
     "data": {
      "text/plain": [
       "'Marcus Freeman'"
      ]
     },
     "execution_count": 44,
     "metadata": {},
     "output_type": "execute_result"
    }
   ],
   "source": [
    "# Puts the first character in each word as a capital\n",
    "'marcus freeman'.title()"
   ]
  },
  {
   "cell_type": "markdown",
   "id": "d61dc644",
   "metadata": {},
   "source": [
    "### String Methods (Search)"
   ]
  },
  {
   "cell_type": "code",
   "execution_count": 46,
   "id": "0983cce2",
   "metadata": {},
   "outputs": [
    {
     "data": {
      "text/plain": [
       "True"
      ]
     },
     "execution_count": 46,
     "metadata": {},
     "output_type": "execute_result"
    }
   ],
   "source": [
    "'the boy who blocked his own shot'.startswith('the')"
   ]
  },
  {
   "cell_type": "code",
   "execution_count": 47,
   "id": "6b0b577a",
   "metadata": {},
   "outputs": [
    {
     "data": {
      "text/plain": [
       "False"
      ]
     },
     "execution_count": 47,
     "metadata": {},
     "output_type": "execute_result"
    }
   ],
   "source": [
    "'the boy who blocked his own shot'.startswith('boy')"
   ]
  },
  {
   "cell_type": "code",
   "execution_count": 48,
   "id": "4ed53f54",
   "metadata": {},
   "outputs": [
    {
     "data": {
      "text/plain": [
       "True"
      ]
     },
     "execution_count": 48,
     "metadata": {},
     "output_type": "execute_result"
    }
   ],
   "source": [
    "'the boy who blocked his own shot'.endswith('shot')"
   ]
  },
  {
   "cell_type": "code",
   "execution_count": 49,
   "id": "2df376da",
   "metadata": {},
   "outputs": [
    {
     "data": {
      "text/plain": [
       "8"
      ]
     },
     "execution_count": 49,
     "metadata": {},
     "output_type": "execute_result"
    }
   ],
   "source": [
    "'the boy who blocked his own shot'.find('who')"
   ]
  },
  {
   "cell_type": "code",
   "execution_count": 50,
   "id": "e255047c",
   "metadata": {},
   "outputs": [
    {
     "data": {
      "text/plain": [
       "33"
      ]
     },
     "execution_count": 50,
     "metadata": {},
     "output_type": "execute_result"
    }
   ],
   "source": [
    "# Now we can find the second 'who'\n",
    "'the boy who blocked his own shot who'.find('who', 10)"
   ]
  },
  {
   "cell_type": "code",
   "execution_count": 51,
   "id": "224cd0c0",
   "metadata": {},
   "outputs": [
    {
     "data": {
      "text/plain": [
       "8"
      ]
     },
     "execution_count": 51,
     "metadata": {},
     "output_type": "execute_result"
    }
   ],
   "source": [
    "# Finds the index of the first instance of 'who' after character [3]\n",
    "'the boy who blocked his own shot'.index('who', 3)"
   ]
  },
  {
   "cell_type": "code",
   "execution_count": 52,
   "id": "65b728ec",
   "metadata": {},
   "outputs": [
    {
     "ename": "ValueError",
     "evalue": "substring not found",
     "output_type": "error",
     "traceback": [
      "\u001b[1;31m---------------------------------------------------------------------------\u001b[0m",
      "\u001b[1;31mValueError\u001b[0m                                Traceback (most recent call last)",
      "\u001b[1;32m~\\AppData\\Local\\Temp\\ipykernel_26396\\2717826133.py\u001b[0m in \u001b[0;36m<module>\u001b[1;34m\u001b[0m\n\u001b[0;32m      1\u001b[0m \u001b[1;31m# ValueError if the index we are seeking is not found\u001b[0m\u001b[1;33m\u001b[0m\u001b[1;33m\u001b[0m\u001b[0m\n\u001b[1;32m----> 2\u001b[1;33m \u001b[1;34m'the boy who blocked his own shot'\u001b[0m\u001b[1;33m.\u001b[0m\u001b[0mindex\u001b[0m\u001b[1;33m(\u001b[0m\u001b[1;34m'who'\u001b[0m\u001b[1;33m,\u001b[0m \u001b[1;36m10\u001b[0m\u001b[1;33m)\u001b[0m\u001b[1;33m\u001b[0m\u001b[1;33m\u001b[0m\u001b[0m\n\u001b[0m",
      "\u001b[1;31mValueError\u001b[0m: substring not found"
     ]
    }
   ],
   "source": [
    "# ValueError if the index we are seeking is not found\n",
    "'the boy who blocked his own shot'.index('who', 10)"
   ]
  },
  {
   "cell_type": "markdown",
   "id": "be640da1",
   "metadata": {},
   "source": [
    "### Strip Whitespace"
   ]
  },
  {
   "cell_type": "code",
   "execution_count": 53,
   "id": "6869304d",
   "metadata": {},
   "outputs": [
    {
     "data": {
      "text/plain": [
       "'something good may come of this'"
      ]
     },
     "execution_count": 53,
     "metadata": {},
     "output_type": "execute_result"
    }
   ],
   "source": [
    "# From left and right\n",
    "' something good may come of this '.strip()"
   ]
  },
  {
   "cell_type": "code",
   "execution_count": 54,
   "id": "63794cce",
   "metadata": {},
   "outputs": [
    {
     "data": {
      "text/plain": [
       "' something good may come of this'"
      ]
     },
     "execution_count": 54,
     "metadata": {},
     "output_type": "execute_result"
    }
   ],
   "source": [
    "# From right\n",
    "' something good may come of this '.rstrip()"
   ]
  },
  {
   "cell_type": "code",
   "execution_count": 55,
   "id": "63b0e24d",
   "metadata": {},
   "outputs": [
    {
     "data": {
      "text/plain": [
       "'something good may come of this '"
      ]
     },
     "execution_count": 55,
     "metadata": {},
     "output_type": "execute_result"
    }
   ],
   "source": [
    "# From left\n",
    "' something good may come of this '.lstrip()"
   ]
  },
  {
   "cell_type": "markdown",
   "id": "d7fceb34",
   "metadata": {},
   "source": [
    "### Combine and Split Strings"
   ]
  },
  {
   "cell_type": "code",
   "execution_count": 56,
   "id": "9469bb55",
   "metadata": {},
   "outputs": [
    {
     "data": {
      "text/plain": [
       "'applesorangesbananas'"
      ]
     },
     "execution_count": 56,
     "metadata": {},
     "output_type": "execute_result"
    }
   ],
   "source": [
    "# In between the '' is what can separate the strings, but not after\n",
    "''.join( ['apples', 'oranges', 'bananas'] )"
   ]
  },
  {
   "cell_type": "code",
   "execution_count": 57,
   "id": "326ac1fc",
   "metadata": {},
   "outputs": [
    {
     "data": {
      "text/plain": [
       "'apples,oranges,bananas'"
      ]
     },
     "execution_count": 57,
     "metadata": {},
     "output_type": "execute_result"
    }
   ],
   "source": [
    "','.join( ['apples', 'oranges', 'bananas'] )"
   ]
  },
  {
   "cell_type": "code",
   "execution_count": 58,
   "id": "98cc33e3",
   "metadata": {},
   "outputs": [
    {
     "data": {
      "text/plain": [
       "'apples, oranges, bananas'"
      ]
     },
     "execution_count": 58,
     "metadata": {},
     "output_type": "execute_result"
    }
   ],
   "source": [
    "', '.join( ['apples', 'oranges', 'bananas'] )"
   ]
  },
  {
   "cell_type": "code",
   "execution_count": 60,
   "id": "c85cf270",
   "metadata": {},
   "outputs": [
    {
     "data": {
      "text/plain": [
       "'apples are a fruit, oranges are a fruit, bananas'"
      ]
     },
     "execution_count": 60,
     "metadata": {},
     "output_type": "execute_result"
    }
   ],
   "source": [
    "' are a fruit, '.join( ['apples', 'oranges', 'bananas'] )"
   ]
  },
  {
   "cell_type": "code",
   "execution_count": 62,
   "id": "ab0ad571",
   "metadata": {},
   "outputs": [
    {
     "name": "stdout",
     "output_type": "stream",
     "text": [
      "apples, oranges, bananas are a fruit\n"
     ]
    }
   ],
   "source": [
    "# Sometimes, you can use concatenation (+ on a string) to account for looping\n",
    "\n",
    "full_string = ', '.join( ['apples', 'oranges', 'bananas'] )\n",
    "\n",
    "updated_string = full_string + ' are a fruit'\n",
    "print( updated_string )"
   ]
  },
  {
   "cell_type": "code",
   "execution_count": 63,
   "id": "03676b7f",
   "metadata": {},
   "outputs": [
    {
     "data": {
      "text/plain": [
       "['the', 'good,', 'the', 'bad,', 'and', 'the', 'ugly']"
      ]
     },
     "execution_count": 63,
     "metadata": {},
     "output_type": "execute_result"
    }
   ],
   "source": [
    "# The character inside is where we split. Default is a space\n",
    "'the good, the bad, and the ugly'.split()"
   ]
  },
  {
   "cell_type": "code",
   "execution_count": 64,
   "id": "8150e4af",
   "metadata": {},
   "outputs": [
    {
     "data": {
      "text/plain": [
       "['the good', ' the bad', ' and the ugly']"
      ]
     },
     "execution_count": 64,
     "metadata": {},
     "output_type": "execute_result"
    }
   ],
   "source": [
    "'the good, the bad, and the ugly'.split(',')"
   ]
  },
  {
   "cell_type": "code",
   "execution_count": 65,
   "id": "3658b192",
   "metadata": {},
   "outputs": [
    {
     "data": {
      "text/plain": [
       "['', ' good, ', ' bad, and ', ' ugly']"
      ]
     },
     "execution_count": 65,
     "metadata": {},
     "output_type": "execute_result"
    }
   ],
   "source": [
    "# Example of confusing spacing, so choose your split carefully!\n",
    "'the good, the bad, and the ugly'.split('the')"
   ]
  },
  {
   "cell_type": "code",
   "execution_count": null,
   "id": "a645513e",
   "metadata": {},
   "outputs": [],
   "source": []
  }
 ],
 "metadata": {
  "kernelspec": {
   "display_name": "Python 3 (ipykernel)",
   "language": "python",
   "name": "python3"
  },
  "language_info": {
   "codemirror_mode": {
    "name": "ipython",
    "version": 3
   },
   "file_extension": ".py",
   "mimetype": "text/x-python",
   "name": "python",
   "nbconvert_exporter": "python",
   "pygments_lexer": "ipython3",
   "version": "3.9.13"
  }
 },
 "nbformat": 4,
 "nbformat_minor": 5
}
