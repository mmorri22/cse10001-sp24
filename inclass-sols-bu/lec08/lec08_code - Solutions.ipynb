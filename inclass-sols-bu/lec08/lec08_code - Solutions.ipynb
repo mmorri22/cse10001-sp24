{
 "cells": [
  {
   "cell_type": "markdown",
   "id": "dc9a5b60",
   "metadata": {},
   "source": [
    "### This is the Notebook for Lecture 08"
   ]
  },
  {
   "cell_type": "markdown",
   "id": "2ca4c93f",
   "metadata": {},
   "source": [
    "In this section, you will learn\n",
    "<ol>\n",
    "    <li>The process of implementing an <b>Algorithm</b>\n",
    "    <li>Implementing an algorithm called <b>Selection Sort</b>\n",
    "    <li>Implementing an algorithm called <b>Merge Sort Sort</b>\n",
    "    <li>Use the %timeit to compare the run times of those algorithms\n",
    "</ol>"
   ]
  },
  {
   "cell_type": "code",
   "execution_count": 105,
   "id": "36ff2fab",
   "metadata": {},
   "outputs": [],
   "source": [
    "# Code we developed last lecture\n",
    "# Binary Search Algorithm\n",
    "# Function num_array, target\n",
    "\n",
    "def binary_search( num_array, target ):\n",
    "\n",
    "    min_val = 0\n",
    "    max_val = len(num_array) - 1\n",
    "\n",
    "    while min_val <= max_val:\n",
    "\n",
    "        midpoint = (max_val + min_val) // 2\n",
    "\n",
    "        middle = num_array[midpoint]\n",
    "        print( 'num_array[' + str(midpoint) + '] = ' + str(middle) )\n",
    "\n",
    "        if middle == target:\n",
    "            return True\n",
    "\n",
    "        if middle < target:\n",
    "            min_val = midpoint + 1\n",
    "\n",
    "        else:\n",
    "            max_val = midpoint - 1\n",
    "\n",
    "    return False"
   ]
  },
  {
   "cell_type": "markdown",
   "id": "43c3ca1d",
   "metadata": {},
   "source": [
    "### In-Class Coding Opportunity\n",
    "\n",
    "We will code a Selection Sort Algorithm\n",
    "\n",
    "<ol>\n",
    "    <li>Search for the smallest element in the unsorted portion of the list</li>\n",
    "    <li>Swap the smallest element with the first element in the unsorted portion of the list</li>\n",
    "    <li>Repeat process on remaining unsorted portion of the list</li>\n",
    "</ol>"
   ]
  },
  {
   "cell_type": "code",
   "execution_count": 107,
   "id": "70289f68",
   "metadata": {},
   "outputs": [],
   "source": [
    "# Selection Sort\n",
    "def selection_sort( array_to_sort):\n",
    "    for first in range(0, len(array_to_sort) ):\n",
    "        smallest = first\n",
    "\n",
    "        for current in range( first, len(array_to_sort) ):\n",
    "            if array_to_sort[current] < array_to_sort[smallest]:\n",
    "                smallest = current\n",
    "\n",
    "        temp = array_to_sort[first]\n",
    "        array_to_sort[first] = array_to_sort[smallest]\n",
    "        array_to_sort[smallest] = temp\n",
    "\n",
    "        print(array_to_sort)"
   ]
  },
  {
   "cell_type": "code",
   "execution_count": 108,
   "id": "0491b478",
   "metadata": {},
   "outputs": [
    {
     "name": "stdout",
     "output_type": "stream",
     "text": [
      "[10, 7, 5, 3, 0, 2, 1, 11]\n",
      "[0, 7, 5, 3, 10, 2, 1, 11]\n",
      "[0, 1, 5, 3, 10, 2, 7, 11]\n",
      "[0, 1, 2, 3, 10, 5, 7, 11]\n",
      "[0, 1, 2, 3, 10, 5, 7, 11]\n",
      "[0, 1, 2, 3, 5, 10, 7, 11]\n",
      "[0, 1, 2, 3, 5, 7, 10, 11]\n",
      "[0, 1, 2, 3, 5, 7, 10, 11]\n",
      "[0, 1, 2, 3, 5, 7, 10, 11]\n"
     ]
    }
   ],
   "source": [
    "int_array = [10, 7, 5, 3, 0, 2, 1, 11]\n",
    "print( int_array )\n",
    "selection_sort( int_array )"
   ]
  },
  {
   "cell_type": "code",
   "execution_count": 109,
   "id": "7fdb7975",
   "metadata": {},
   "outputs": [],
   "source": [
    "# Merging Algorithm\n",
    "def merge(left, right):\n",
    "\n",
    "    merged = []\n",
    "\n",
    "    while left or right:\n",
    "\n",
    "        if not left:  # If the left array is empty\n",
    "            merged.append( right.pop(0) )\n",
    "\n",
    "        elif not right:\n",
    "            merged.append( left.pop(0) )\n",
    "\n",
    "        elif left[0] <= right[0]:\n",
    "            merged.append( left.pop(0) )\n",
    "\n",
    "        else:\n",
    "            merged.append( right.pop(0) )\n",
    "\n",
    "    return merged\n",
    "\n",
    "        "
   ]
  },
  {
   "cell_type": "code",
   "execution_count": 110,
   "id": "55a3bfb5",
   "metadata": {},
   "outputs": [],
   "source": [
    "def merge_sort(numbers):\n",
    "\n",
    "    if len(numbers) <= 1:\n",
    "        return numbers\n",
    "\n",
    "    middle = len(numbers) // 2\n",
    "    left = numbers[:middle]\n",
    "    right = numbers[middle:]\n",
    "\n",
    "    print('Divide: middle=' + str(middle) + ', left=', str(left) + ', right=' + str(right))\n",
    "\n",
    "    left = merge_sort(left)   # Line 12\n",
    "    right = merge_sort(right) # line 13\n",
    "\n",
    "    print('Conquer: middle=' + str(middle) + ', left=', str(left) + ', right=' + str(right))\n",
    "\n",
    "    return merge(left, right)\n",
    "    "
   ]
  },
  {
   "cell_type": "code",
   "execution_count": 111,
   "id": "146df68c",
   "metadata": {},
   "outputs": [
    {
     "name": "stdout",
     "output_type": "stream",
     "text": [
      "Divide: middle=4, left= [10, 7, 5, 3], right=[0, 2, 1, 11]\n",
      "Divide: middle=2, left= [10, 7], right=[5, 3]\n",
      "Divide: middle=1, left= [10], right=[7]\n",
      "Conquer: middle=1, left= [10], right=[7]\n",
      "Divide: middle=1, left= [5], right=[3]\n",
      "Conquer: middle=1, left= [5], right=[3]\n",
      "Conquer: middle=2, left= [7, 10], right=[3, 5]\n",
      "Divide: middle=2, left= [0, 2], right=[1, 11]\n",
      "Divide: middle=1, left= [0], right=[2]\n",
      "Conquer: middle=1, left= [0], right=[2]\n",
      "Divide: middle=1, left= [1], right=[11]\n",
      "Conquer: middle=1, left= [1], right=[11]\n",
      "Conquer: middle=2, left= [0, 2], right=[1, 11]\n",
      "Conquer: middle=4, left= [3, 5, 7, 10], right=[0, 1, 2, 11]\n",
      "[0, 1, 2, 3, 5, 7, 10, 11]\n",
      "num_array[3] = 3\n"
     ]
    },
    {
     "data": {
      "text/plain": [
       "True"
      ]
     },
     "execution_count": 111,
     "metadata": {},
     "output_type": "execute_result"
    }
   ],
   "source": [
    "int_array = [10, 7, 5, 3, 0, 2, 1, 11]\n",
    "sorted_array = merge_sort( int_array )\n",
    "print( sorted_array )\n",
    "binary_search( int_array, 3 )"
   ]
  },
  {
   "cell_type": "markdown",
   "id": "db7e4efe",
   "metadata": {},
   "source": [
    "### Comparing Selection Sort and Merge Sort"
   ]
  },
  {
   "cell_type": "code",
   "execution_count": 113,
   "id": "ce1ce57e",
   "metadata": {},
   "outputs": [],
   "source": [
    "import random\n",
    "\n",
    "def generate_random_numbers(n, low=1, high=1000):\n",
    "    numbers = []\n",
    "    for i in range(n):\n",
    "        numbers.append(random.randint(low, high))\n",
    "    return numbers"
   ]
  },
  {
   "cell_type": "code",
   "execution_count": 114,
   "id": "be12b1aa",
   "metadata": {},
   "outputs": [],
   "source": [
    "dataset1000 = generate_random_numbers(10000)"
   ]
  },
  {
   "cell_type": "code",
   "execution_count": 115,
   "id": "7c89f4f9",
   "metadata": {},
   "outputs": [],
   "source": [
    "# Selection Sort\n",
    "def selection_sort_no_print( array_to_sort):\n",
    "    \n",
    "    for first in range(0, len(array_to_sort) ):\n",
    "        \n",
    "        smallest = first\n",
    "        \n",
    "        for current in range( first, len(array_to_sort) ):\n",
    "            \n",
    "            if array_to_sort[current] < array_to_sort[smallest]:\n",
    "                \n",
    "                smallest = current\n",
    "                \n",
    "        temp = array_to_sort[first]\n",
    "        array_to_sort[first] = array_to_sort[smallest]\n",
    "        array_to_sort[smallest] = temp"
   ]
  },
  {
   "cell_type": "code",
   "execution_count": 116,
   "id": "f36565ea",
   "metadata": {},
   "outputs": [
    {
     "name": "stdout",
     "output_type": "stream",
     "text": [
      "2.93 s ± 89.8 ms per loop (mean ± std. dev. of 7 runs, 1 loop each)\n"
     ]
    }
   ],
   "source": [
    "# %timeit runs the code 7 times with 1,000 loops to get a benchmark\n",
    "%timeit selection_sort_no_print(dataset1000)"
   ]
  },
  {
   "cell_type": "code",
   "execution_count": 117,
   "id": "1c48ae6e",
   "metadata": {},
   "outputs": [],
   "source": [
    "def merge_sort_no_print(numbers):\n",
    "    # Base case\n",
    "    if len(numbers) <= 1:\n",
    "        return numbers\n",
    "    \n",
    "    # Divide\n",
    "    middle = len(numbers) // 2\n",
    "    left   = numbers[:middle]\n",
    "    right  = numbers[middle:] \n",
    "    \n",
    "    # Conquer\n",
    "    left   = merge_sort_no_print(left)\n",
    "    right  = merge_sort_no_print(right)\n",
    "    \n",
    "    # Combine\n",
    "    return merge(left, right)"
   ]
  },
  {
   "cell_type": "code",
   "execution_count": 118,
   "id": "3161e289",
   "metadata": {},
   "outputs": [
    {
     "name": "stdout",
     "output_type": "stream",
     "text": [
      "45.5 ms ± 1.99 ms per loop (mean ± std. dev. of 7 runs, 10 loops each)\n"
     ]
    }
   ],
   "source": [
    "%timeit merge_sort_no_print(dataset1000)"
   ]
  },
  {
   "cell_type": "markdown",
   "id": "c1085720",
   "metadata": {},
   "source": [
    "## Strings\n",
    "\n",
    "In this section you will learn:\n",
    "<ol>\n",
    "    <li>Review of string basics</li>\n",
    "    <li>Advanced string topics</li>\n",
    "</ol>"
   ]
  },
  {
   "cell_type": "code",
   "execution_count": 120,
   "id": "446a38e0",
   "metadata": {},
   "outputs": [],
   "source": [
    "pupfessor_name = 'Eirinn'"
   ]
  },
  {
   "cell_type": "markdown",
   "id": "de39ae43",
   "metadata": {},
   "source": [
    "### Strings: Immutability\n",
    "\n",
    "Strings in Python are immutable, which means that you cannot change the elements of a string once it is set:"
   ]
  },
  {
   "cell_type": "code",
   "execution_count": 122,
   "id": "a486cf27",
   "metadata": {},
   "outputs": [
    {
     "ename": "TypeError",
     "evalue": "'str' object does not support item assignment",
     "output_type": "error",
     "traceback": [
      "\u001b[1;31m---------------------------------------------------------------------------\u001b[0m",
      "\u001b[1;31mTypeError\u001b[0m                                 Traceback (most recent call last)",
      "\u001b[1;32m~\\AppData\\Local\\Temp\\ipykernel_14444\\1671001728.py\u001b[0m in \u001b[0;36m<module>\u001b[1;34m\u001b[0m\n\u001b[0;32m      1\u001b[0m \u001b[1;31m# Deliberate TypeError to show students immutability\u001b[0m\u001b[1;33m\u001b[0m\u001b[1;33m\u001b[0m\u001b[0m\n\u001b[1;32m----> 2\u001b[1;33m \u001b[0mpupfessor_name\u001b[0m\u001b[1;33m[\u001b[0m\u001b[1;36m4\u001b[0m\u001b[1;33m]\u001b[0m \u001b[1;33m=\u001b[0m \u001b[1;34m'Q'\u001b[0m\u001b[1;33m\u001b[0m\u001b[1;33m\u001b[0m\u001b[0m\n\u001b[0m",
      "\u001b[1;31mTypeError\u001b[0m: 'str' object does not support item assignment"
     ]
    }
   ],
   "source": [
    "# Deliberate TypeError to show students immutability\n",
    "pupfessor_name[4] = 'Q'"
   ]
  },
  {
   "cell_type": "code",
   "execution_count": null,
   "id": "485b7051",
   "metadata": {},
   "outputs": [],
   "source": [
    "new_pupfessor_name = 'Q' + pupfessor_name[1:]\n",
    "print(new_pupfessor_name)"
   ]
  },
  {
   "cell_type": "code",
   "execution_count": null,
   "id": "cfc7b052",
   "metadata": {},
   "outputs": [],
   "source": [
    "sorted(pupfessor_name)"
   ]
  },
  {
   "cell_type": "code",
   "execution_count": null,
   "id": "e479913d",
   "metadata": {},
   "outputs": [],
   "source": [
    "sorted(new_pupfessor_name)"
   ]
  },
  {
   "cell_type": "code",
   "execution_count": null,
   "id": "f88eb666",
   "metadata": {},
   "outputs": [],
   "source": [
    "max(pupfessor_name)"
   ]
  },
  {
   "cell_type": "code",
   "execution_count": null,
   "id": "2c269ca5",
   "metadata": {},
   "outputs": [],
   "source": [
    "min(pupfessor_name)"
   ]
  },
  {
   "cell_type": "code",
   "execution_count": null,
   "id": "23ece56c",
   "metadata": {},
   "outputs": [],
   "source": [
    "'i' in pupfessor_name"
   ]
  },
  {
   "cell_type": "code",
   "execution_count": null,
   "id": "14f6d462",
   "metadata": {},
   "outputs": [],
   "source": [
    "'rin' in pupfessor_name"
   ]
  },
  {
   "cell_type": "code",
   "execution_count": null,
   "id": "36ad86a1",
   "metadata": {},
   "outputs": [],
   "source": [
    "'ran' in pupfessor_name"
   ]
  },
  {
   "cell_type": "code",
   "execution_count": null,
   "id": "6e739b03",
   "metadata": {},
   "outputs": [],
   "source": [
    "# Of course it's false! Eirinn is a GOOD GIRL!\n",
    "'bad dog' in pupfessor_name"
   ]
  },
  {
   "cell_type": "markdown",
   "id": "f7baee25",
   "metadata": {},
   "source": [
    "### Print ASCII values"
   ]
  },
  {
   "cell_type": "code",
   "execution_count": null,
   "id": "77f20eeb",
   "metadata": {},
   "outputs": [],
   "source": [
    "def print_ascii( string_to_print ):\n",
    "\n",
    "    for current_letter in string_to_print:\n",
    "        print('ASCII of ' + current_letter + ' = ' + str(ord(current_letter)))"
   ]
  },
  {
   "cell_type": "code",
   "execution_count": null,
   "id": "8ca50143",
   "metadata": {},
   "outputs": [],
   "source": [
    "print_ascii( pupfessor_name )"
   ]
  },
  {
   "cell_type": "code",
   "execution_count": null,
   "id": "4abd32fd",
   "metadata": {},
   "outputs": [],
   "source": [
    "print_ascii( \"Notre Dame Fighting Irish!\" )"
   ]
  },
  {
   "cell_type": "markdown",
   "id": "379d78d7",
   "metadata": {},
   "source": [
    "### Escape Characters\n",
    "\n",
    "There are some characters which we may wish to print, but do not correspond to a normal alphanumeric or punctuation character. One such example is the newline which forces the proceeding characters to move to the next line. To render a newline you can use the '\\n' escape code:"
   ]
  },
  {
   "cell_type": "code",
   "execution_count": null,
   "id": "732df8de",
   "metadata": {},
   "outputs": [],
   "source": [
    "print(\"\\nThere will be a space before and after this sentence\\n\")"
   ]
  },
  {
   "cell_type": "code",
   "execution_count": null,
   "id": "ee6bfb88",
   "metadata": {},
   "outputs": [],
   "source": [
    "print_ascii(\"\\nThere will be a space before and after this sentence\\n\" )"
   ]
  },
  {
   "cell_type": "code",
   "execution_count": null,
   "id": "85294e39",
   "metadata": {},
   "outputs": [],
   "source": [
    "print(\"\\tThis sentence will be tabbed over\")"
   ]
  },
  {
   "cell_type": "code",
   "execution_count": null,
   "id": "753a0f61",
   "metadata": {},
   "outputs": [],
   "source": [
    "print_ascii(\"\\tThis sentence will be tabbed over\")"
   ]
  },
  {
   "cell_type": "code",
   "execution_count": null,
   "id": "2cf7ea9b",
   "metadata": {},
   "outputs": [],
   "source": [
    "# Example of organized spacing\n",
    "# Example of organized spacing\n",
    "print(\"Date\\tOpponent\\tTime\")\n",
    "print(\"8/31\\t@Miami\\t\\t7:30pm\")\n",
    "print(\"9/13\\tTexas A&M\\t2:30pm\")\n",
    "print(\"9/20\\tPurdue\\t\\t2:30pm\")\n",
    "print(\"9/27\\t@Arkansas\\t6:30pm\")"
   ]
  },
  {
   "cell_type": "markdown",
   "id": "fd24a3e8",
   "metadata": {},
   "source": [
    "### String Methods (Case)\n",
    "Because certain operations on strings are so common, Python includes a variety of built-in methods that you can apply to a string object"
   ]
  },
  {
   "cell_type": "code",
   "execution_count": null,
   "id": "ba9e5ac7",
   "metadata": {},
   "outputs": [],
   "source": [
    "# Will capitalize the first letter only\n"
   ]
  },
  {
   "cell_type": "code",
   "execution_count": null,
   "id": "a6b2e9b9",
   "metadata": {},
   "outputs": [],
   "source": [
    "# Converts all to upper case"
   ]
  },
  {
   "cell_type": "code",
   "execution_count": null,
   "id": "5744f66b",
   "metadata": {},
   "outputs": [],
   "source": [
    "# Converts all to lower"
   ]
  },
  {
   "cell_type": "code",
   "execution_count": null,
   "id": "e68db0a5",
   "metadata": {},
   "outputs": [],
   "source": [
    "# Puts the first character in each word as a capital"
   ]
  },
  {
   "cell_type": "markdown",
   "id": "2308a22b",
   "metadata": {},
   "source": [
    "### String Methods (Search)"
   ]
  },
  {
   "cell_type": "code",
   "execution_count": null,
   "id": "0cad3f5a",
   "metadata": {},
   "outputs": [],
   "source": [
    "'the boy who blocked his own shot'.startswith('the')"
   ]
  },
  {
   "cell_type": "code",
   "execution_count": null,
   "id": "778139bf",
   "metadata": {},
   "outputs": [],
   "source": [
    "'the boy who blocked his own shot'.startswith('boy')"
   ]
  },
  {
   "cell_type": "code",
   "execution_count": null,
   "id": "d1b1597b",
   "metadata": {},
   "outputs": [],
   "source": [
    "'the boy who blocked his own shot'.endswith('shot')"
   ]
  },
  {
   "cell_type": "code",
   "execution_count": null,
   "id": "c6fb336e",
   "metadata": {},
   "outputs": [],
   "source": [
    "'the boy who blocked his own shot'.find('who')"
   ]
  },
  {
   "cell_type": "code",
   "execution_count": null,
   "id": "a6350790",
   "metadata": {},
   "outputs": [],
   "source": [
    "# Will return -1 because who is not found after character 10\n",
    "'the boy who blocked his own shot'.find('who', 10)"
   ]
  },
  {
   "cell_type": "code",
   "execution_count": null,
   "id": "63235939",
   "metadata": {},
   "outputs": [],
   "source": [
    "# Finds the index of the first instance of 'who' after character [3]\n",
    "'the boy who blocked his own shot'.index('who', 3)"
   ]
  },
  {
   "cell_type": "code",
   "execution_count": null,
   "id": "0fdfa2b1",
   "metadata": {},
   "outputs": [],
   "source": [
    "# ValueError if the index we are seeking is not found\n",
    "'the boy who blocked his own shot'.index('who', 10)"
   ]
  },
  {
   "cell_type": "markdown",
   "id": "2a1ccb77",
   "metadata": {},
   "source": [
    "### Strings: Methods (Properties)"
   ]
  },
  {
   "cell_type": "code",
   "execution_count": null,
   "id": "a9c308b7",
   "metadata": {
    "scrolled": true
   },
   "outputs": [],
   "source": [
    "'abcdef'.isalpha()"
   ]
  },
  {
   "cell_type": "code",
   "execution_count": null,
   "id": "fd969734",
   "metadata": {},
   "outputs": [],
   "source": [
    "# Deliberate error - Must include ()\n",
    "'abcdef'.isalpha"
   ]
  },
  {
   "cell_type": "code",
   "execution_count": null,
   "id": "9c24fd53",
   "metadata": {},
   "outputs": [],
   "source": [
    "# Is Alpha Numberic\n",
    "'abc123f'.isalnum()"
   ]
  },
  {
   "cell_type": "code",
   "execution_count": null,
   "id": "4f440490",
   "metadata": {},
   "outputs": [],
   "source": [
    "'123456'.isdigit()"
   ]
  },
  {
   "cell_type": "code",
   "execution_count": null,
   "id": "2286b557",
   "metadata": {},
   "outputs": [],
   "source": [
    "'abc123f'.isdigit()"
   ]
  },
  {
   "cell_type": "code",
   "execution_count": null,
   "id": "0cd7dc0b",
   "metadata": {},
   "outputs": [],
   "source": [
    "'-123'.isdigit()"
   ]
  },
  {
   "cell_type": "code",
   "execution_count": null,
   "id": "54952458",
   "metadata": {},
   "outputs": [],
   "source": [
    "' '.isspace()"
   ]
  },
  {
   "cell_type": "code",
   "execution_count": null,
   "id": "d2837054",
   "metadata": {},
   "outputs": [],
   "source": [
    "'abc def'.isspace()"
   ]
  },
  {
   "cell_type": "code",
   "execution_count": null,
   "id": "70fbecb0",
   "metadata": {},
   "outputs": [],
   "source": [
    "string_example = 'abc def'\n",
    "string_example[3].isspace()"
   ]
  },
  {
   "cell_type": "markdown",
   "id": "1fbcdb24",
   "metadata": {},
   "source": [
    "### Strip Whitespace"
   ]
  },
  {
   "cell_type": "code",
   "execution_count": null,
   "id": "0d0044b7",
   "metadata": {},
   "outputs": [],
   "source": [
    "# From left and right\n",
    "' something good may come of this '.strip()"
   ]
  },
  {
   "cell_type": "code",
   "execution_count": null,
   "id": "cab4813c",
   "metadata": {},
   "outputs": [],
   "source": [
    "# From right\n",
    "' something good may come of this '.rstrip()"
   ]
  },
  {
   "cell_type": "code",
   "execution_count": null,
   "id": "8ccd4f47",
   "metadata": {},
   "outputs": [],
   "source": [
    "# From left\n",
    "' something good may come of this '.lstrip()"
   ]
  },
  {
   "cell_type": "markdown",
   "id": "80c40a13",
   "metadata": {},
   "source": [
    "### Combine and Split Strings"
   ]
  },
  {
   "cell_type": "code",
   "execution_count": null,
   "id": "29065300",
   "metadata": {},
   "outputs": [],
   "source": [
    "# In between the '' is what can separate the strings, but not after\n",
    "''.join( ['apples', 'oranges', 'bananas'] )"
   ]
  },
  {
   "cell_type": "code",
   "execution_count": null,
   "id": "5bea9f49",
   "metadata": {},
   "outputs": [],
   "source": [
    "','.join( ['apples', 'oranges', 'bananas'] )"
   ]
  },
  {
   "cell_type": "code",
   "execution_count": null,
   "id": "842f702b",
   "metadata": {},
   "outputs": [],
   "source": [
    "', '.join( ['apples', 'oranges', 'bananas'] )"
   ]
  },
  {
   "cell_type": "code",
   "execution_count": null,
   "id": "cb7e473d",
   "metadata": {},
   "outputs": [],
   "source": [
    "' are a fruit, '.join( ['apples', 'oranges', 'bananas'] )"
   ]
  },
  {
   "cell_type": "code",
   "execution_count": null,
   "id": "55bc5642",
   "metadata": {},
   "outputs": [],
   "source": [
    "# Sometimes, you can use concatenation (+ on a string) to account for looping\n",
    "\n",
    "full_string = ', '.join( ['apples', 'oranges', 'bananas'] )\n",
    "\n",
    "updated_string = full_string + ' are a fruit'\n",
    "print( updated_string )"
   ]
  },
  {
   "cell_type": "code",
   "execution_count": null,
   "id": "8facd8f6",
   "metadata": {},
   "outputs": [],
   "source": [
    "# The character inside is where we split. Default is a space\n",
    "'the good, the bad, and the ugly'.split()"
   ]
  },
  {
   "cell_type": "code",
   "execution_count": null,
   "id": "49509d4e",
   "metadata": {},
   "outputs": [],
   "source": [
    "'the good, the bad, and the ugly'.split(',')"
   ]
  },
  {
   "cell_type": "code",
   "execution_count": null,
   "id": "05933cd9",
   "metadata": {},
   "outputs": [],
   "source": [
    "# Example of confusing spacing, so choose your split carefully!\n",
    "'the good, the bad, and the ugly'.split('the')"
   ]
  }
 ],
 "metadata": {
  "kernelspec": {
   "display_name": "Python [conda env:Anaconda3]",
   "language": "python",
   "name": "conda-env-Anaconda3-py"
  },
  "language_info": {
   "codemirror_mode": {
    "name": "ipython",
    "version": 3
   },
   "file_extension": ".py",
   "mimetype": "text/x-python",
   "name": "python",
   "nbconvert_exporter": "python",
   "pygments_lexer": "ipython3",
   "version": "3.9.13"
  }
 },
 "nbformat": 4,
 "nbformat_minor": 5
}
