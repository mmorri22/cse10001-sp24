{
 "cells": [
  {
   "cell_type": "markdown",
   "id": "b5069922",
   "metadata": {},
   "source": [
    "### This is the preview Notebook for Lecture 03\n",
    "\n",
    "In this lecture, we will learn about the <b>Central Processing Unit</b> and <font color=\"red\">Conditional Executions</font>"
   ]
  },
  {
   "cell_type": "markdown",
   "id": "5580d45d-7d54-4360-b735-b97cfe4eaecf",
   "metadata": {},
   "source": [
    "### Introduction to Functions"
   ]
  },
  {
   "cell_type": "code",
   "execution_count": 3,
   "id": "6217db42-37d4-46d5-9ac8-37f79d5860c2",
   "metadata": {},
   "outputs": [],
   "source": [
    "# Define a function add_nums that takes in two inputs and prints a result\n",
    "# It is critical that you indent your code in functions in Python!\n",
    "\n",
    "def add_nums( x_input, y_input ):\n",
    "    z = x_input + y_input\n",
    "    print(z)"
   ]
  },
  {
   "cell_type": "code",
   "execution_count": 4,
   "id": "b97e0d4e-51aa-4b62-935a-37de386c62fc",
   "metadata": {},
   "outputs": [
    {
     "name": "stdout",
     "output_type": "stream",
     "text": [
      "11\n"
     ]
    },
    {
     "ename": "NameError",
     "evalue": "name 'z' is not defined",
     "output_type": "error",
     "traceback": [
      "\u001b[1;31m---------------------------------------------------------------------------\u001b[0m",
      "\u001b[1;31mNameError\u001b[0m                                 Traceback (most recent call last)",
      "\u001b[1;32m~\\AppData\\Local\\Temp\\ipykernel_7744\\1296795608.py\u001b[0m in \u001b[0;36m<module>\u001b[1;34m\u001b[0m\n\u001b[0;32m      4\u001b[0m \u001b[1;33m\u001b[0m\u001b[0m\n\u001b[0;32m      5\u001b[0m \u001b[1;31m# This will produce a deliberate compiler error\u001b[0m\u001b[1;33m\u001b[0m\u001b[1;33m\u001b[0m\u001b[0m\n\u001b[1;32m----> 6\u001b[1;33m \u001b[0mprint\u001b[0m\u001b[1;33m(\u001b[0m\u001b[0mz\u001b[0m\u001b[1;33m)\u001b[0m\u001b[1;33m\u001b[0m\u001b[1;33m\u001b[0m\u001b[0m\n\u001b[0m",
      "\u001b[1;31mNameError\u001b[0m: name 'z' is not defined"
     ]
    }
   ],
   "source": [
    "# Call the function on 5 and 6\n",
    "\n",
    "add_nums(5, 6)\n",
    "\n",
    "# This will produce a deliberate compiler error\n",
    "print(z)"
   ]
  },
  {
   "cell_type": "code",
   "execution_count": 5,
   "id": "3deba665-a36a-438e-a458-0295b713eda2",
   "metadata": {},
   "outputs": [],
   "source": [
    "def add_nums_2( x_input, y_input ):\n",
    "    z = x_input + y_input"
   ]
  },
  {
   "cell_type": "code",
   "execution_count": 6,
   "id": "6fbde0c5-4616-45c4-a22c-83e9c7d5e3c4",
   "metadata": {},
   "outputs": [
    {
     "name": "stdout",
     "output_type": "stream",
     "text": [
      "None\n"
     ]
    }
   ],
   "source": [
    "# What do we think will happen when we print this function?\n",
    "print( add_nums_2(5, 6) )"
   ]
  },
  {
   "cell_type": "code",
   "execution_count": 7,
   "id": "c8b10372-d322-4d31-adda-d7f9f8b04a22",
   "metadata": {},
   "outputs": [],
   "source": [
    "# The return keyword allows us to share the result with the calling function\n",
    "\n",
    "def add_nums_return( x_input, y_input ):\n",
    "    return x_input + y_input"
   ]
  },
  {
   "cell_type": "code",
   "execution_count": 8,
   "id": "ebec68de-83c8-4d5a-a1a3-3c762e1af699",
   "metadata": {},
   "outputs": [
    {
     "name": "stdout",
     "output_type": "stream",
     "text": [
      "11\n"
     ]
    }
   ],
   "source": [
    "print( add_nums_return( 5, 6 ) )"
   ]
  },
  {
   "cell_type": "code",
   "execution_count": 9,
   "id": "0ec63fad-7cfa-40d3-9dc0-0830ba70fa43",
   "metadata": {},
   "outputs": [],
   "source": [
    "# Call a function within a function\n",
    "# print_add \n",
    "# Takes in two variables\n",
    "# calls add_nums_return\n",
    "# prints the result inside the function\n",
    "\n",
    "def print_add( x, y ):\n",
    "    print( add_nums_return( x, y ) )"
   ]
  },
  {
   "cell_type": "code",
   "execution_count": 10,
   "id": "68d92fde-80a6-49eb-ad52-d61e15f96460",
   "metadata": {},
   "outputs": [
    {
     "name": "stdout",
     "output_type": "stream",
     "text": [
      "31\n"
     ]
    }
   ],
   "source": [
    "print_add( 15, 16 )"
   ]
  },
  {
   "cell_type": "markdown",
   "id": "750d5b4a",
   "metadata": {},
   "source": [
    "### Introduction to Functions Continued\n",
    "\n",
    "Combining Concepts - Functions, ASCII, and Hexadecimal Values"
   ]
  },
  {
   "cell_type": "code",
   "execution_count": 12,
   "id": "1bc6a34a",
   "metadata": {},
   "outputs": [],
   "source": [
    "# Initial Values for our functions\n",
    "val_1 = 78\n",
    "val_2 = 111\n",
    "val_3 = 116\n",
    "val_4 = 114\n",
    "val_5 = 101"
   ]
  },
  {
   "cell_type": "code",
   "execution_count": 13,
   "id": "4cc2255b",
   "metadata": {},
   "outputs": [],
   "source": [
    "# Get the binary values\n",
    "\n",
    "binary_1 = bin( val_1 )\n",
    "binary_2 = bin( val_2 )\n",
    "binary_3 = bin( val_3 )\n",
    "binary_4 = bin( val_4 )\n",
    "binary_5 = bin( val_5 )"
   ]
  },
  {
   "cell_type": "code",
   "execution_count": 14,
   "id": "201ee15e",
   "metadata": {},
   "outputs": [
    {
     "data": {
      "text/plain": [
       "'0b1001110'"
      ]
     },
     "execution_count": 14,
     "metadata": {},
     "output_type": "execute_result"
    }
   ],
   "source": [
    "binary_1"
   ]
  },
  {
   "cell_type": "code",
   "execution_count": 15,
   "id": "d2973c43",
   "metadata": {},
   "outputs": [],
   "source": [
    "# Get the hexadecimal values\n",
    "hex_1 = hex( val_1 )\n",
    "hex_2 = hex( val_2 )\n",
    "hex_3 = hex( val_3 )\n",
    "hex_4 = hex( val_4 )\n",
    "hex_5 = hex( val_5 )"
   ]
  },
  {
   "cell_type": "code",
   "execution_count": 16,
   "id": "912db9f4-dca5-4f92-b20d-47e08776566e",
   "metadata": {},
   "outputs": [
    {
     "data": {
      "text/plain": [
       "'0x4e'"
      ]
     },
     "execution_count": 16,
     "metadata": {},
     "output_type": "execute_result"
    }
   ],
   "source": [
    "hex_1"
   ]
  },
  {
   "cell_type": "code",
   "execution_count": 17,
   "id": "56c05214",
   "metadata": {},
   "outputs": [],
   "source": [
    "# Get the ascii characters\n",
    "char_1 = chr( val_1 )\n",
    "char_2 = chr( val_2 )\n",
    "char_3 = chr( val_3 )\n",
    "char_4 = chr( val_4 )\n",
    "char_5 = chr( val_5 )"
   ]
  },
  {
   "cell_type": "code",
   "execution_count": 18,
   "id": "4019df5f",
   "metadata": {},
   "outputs": [],
   "source": [
    "# print_conversions\n",
    "\n",
    "def print_conversions( int_val, bin_val, hex_val, char_val ):\n",
    "    print( f'{int_val}' + ' ' + f'{bin_val}' + ' ' + f'{hex_val}' + ' ' + f'{char_val}' )"
   ]
  },
  {
   "cell_type": "code",
   "execution_count": 19,
   "id": "c54a69cd",
   "metadata": {},
   "outputs": [
    {
     "name": "stdout",
     "output_type": "stream",
     "text": [
      "78 0b1001110 0x4e N\n",
      "111 0b1101111 0x6f o\n",
      "116 0b1110100 0x74 t\n",
      "114 0b1110010 0x72 r\n",
      "101 0b1100101 0x65 e\n"
     ]
    }
   ],
   "source": [
    "# Print all results\n",
    "print_conversions( val_1, binary_1, hex_1, char_1 )\n",
    "print_conversions( val_2, binary_2, hex_2, char_2 )\n",
    "print_conversions( val_3, binary_3, hex_3, char_3 )\n",
    "print_conversions( val_4, binary_4, hex_4, char_4 )\n",
    "print_conversions( val_5, binary_5, hex_5, char_5 )"
   ]
  },
  {
   "cell_type": "code",
   "execution_count": 20,
   "id": "bc08f4f3",
   "metadata": {},
   "outputs": [
    {
     "name": "stdout",
     "output_type": "stream",
     "text": [
      "78 0b1001110 0x4e N\n"
     ]
    }
   ],
   "source": [
    "# Nested functions!\n",
    "\n",
    "print_conversions( val_1, bin(val_1), hex(val_1), chr(val_1) )"
   ]
  },
  {
   "cell_type": "code",
   "execution_count": 21,
   "id": "27ae6ec5",
   "metadata": {},
   "outputs": [
    {
     "name": "stdout",
     "output_type": "stream",
     "text": [
      "78 0b1001110 0x4e N\n",
      "111 0b1101111 0x6f o\n",
      "116 0b1110100 0x74 t\n",
      "114 0b1110010 0x72 r\n",
      "101 0b1100101 0x65 e\n"
     ]
    }
   ],
   "source": [
    "# Call print_conversions within another function make_conversions\n",
    "# Reduce the work!\n",
    "\n",
    "def make_conversions( val_input ):\n",
    "    print_conversions( val_input, bin(val_input), hex(val_input), chr(val_input) )\n",
    "\n",
    "make_conversions(78)\n",
    "make_conversions(111)\n",
    "make_conversions(116)\n",
    "make_conversions(114)\n",
    "make_conversions(101)"
   ]
  },
  {
   "cell_type": "code",
   "execution_count": 22,
   "id": "d09a83e5",
   "metadata": {},
   "outputs": [],
   "source": [
    "# Libraries to import interact\n",
    "# !pip install ipywidgets==8.1.5\n",
    "\n",
    "from __future__ import print_function\n",
    "from ipywidgets import interact, interactive, fixed, interact_manual\n",
    "import ipywidgets as widgets"
   ]
  },
  {
   "cell_type": "code",
   "execution_count": 23,
   "id": "31bfddec",
   "metadata": {
    "scrolled": true
   },
   "outputs": [
    {
     "data": {
      "application/vnd.jupyter.widget-view+json": {
       "model_id": "e0da0435a1404f0e9d8e54114b226098",
       "version_major": 2,
       "version_minor": 0
      },
      "text/plain": [
       "interactive(children=(IntSlider(value=63, description='val_input', max=127), Output()), _dom_classes=('widget-…"
      ]
     },
     "metadata": {},
     "output_type": "display_data"
    },
    {
     "data": {
      "text/plain": [
       "<function __main__.make_conversions(val_input)>"
      ]
     },
     "execution_count": 23,
     "metadata": {},
     "output_type": "execute_result"
    }
   ],
   "source": [
    "# How to run and implement interact\n",
    "\n",
    "interact( make_conversions, val_input=(0,127) )"
   ]
  },
  {
   "cell_type": "code",
   "execution_count": 24,
   "id": "d33bf1e8-2aaf-4b51-9ace-3eb86c84d1e4",
   "metadata": {},
   "outputs": [
    {
     "data": {
      "text/plain": [
       "'8.1.5'"
      ]
     },
     "execution_count": 24,
     "metadata": {},
     "output_type": "execute_result"
    }
   ],
   "source": [
    "widgets.__version__"
   ]
  },
  {
   "cell_type": "code",
   "execution_count": 25,
   "id": "a9508205-7276-4be4-94ac-fbfd70c11454",
   "metadata": {},
   "outputs": [
    {
     "name": "stdout",
     "output_type": "stream",
     "text": [
      "3.4.4\n"
     ]
    }
   ],
   "source": [
    "!jupyter lab --version"
   ]
  },
  {
   "cell_type": "markdown",
   "id": "74963fc3",
   "metadata": {},
   "source": [
    "### User Interaction\n",
    "\n",
    "First, we will write a function called <b>simple</b> that <b>adds two numbers</b> and then <b>displays the result</b>"
   ]
  },
  {
   "cell_type": "code",
   "execution_count": 27,
   "id": "7fb4d820",
   "metadata": {},
   "outputs": [],
   "source": [
    "# We will write the function for simple here:\n",
    "\n",
    "def simple():\n",
    "    \n",
    "    x_simple = int(input(\"x? \"))\n",
    "    y_simple = int(input(\"y? \"))\n",
    "    \n",
    "    print( x_simple + y_simple )"
   ]
  },
  {
   "cell_type": "code",
   "execution_count": 28,
   "id": "b95bf89e",
   "metadata": {
    "scrolled": true
   },
   "outputs": [
    {
     "name": "stdin",
     "output_type": "stream",
     "text": [
      "x?  4\n",
      "y?  5\n"
     ]
    },
    {
     "name": "stdout",
     "output_type": "stream",
     "text": [
      "9\n"
     ]
    }
   ],
   "source": [
    "# Run example\n",
    "simple()"
   ]
  },
  {
   "cell_type": "code",
   "execution_count": 29,
   "id": "b31dd538",
   "metadata": {},
   "outputs": [],
   "source": [
    "# Next, we will import the dis library, which will help us view the assembly code\n",
    "import dis"
   ]
  },
  {
   "cell_type": "code",
   "execution_count": 30,
   "id": "dca760db",
   "metadata": {},
   "outputs": [
    {
     "name": "stdout",
     "output_type": "stream",
     "text": [
      "  5           0 LOAD_GLOBAL              0 (int)\n",
      "              2 LOAD_GLOBAL              1 (input)\n",
      "              4 LOAD_CONST               1 ('x? ')\n",
      "              6 CALL_FUNCTION            1\n",
      "              8 CALL_FUNCTION            1\n",
      "             10 STORE_FAST               0 (x_simple)\n",
      "\n",
      "  6          12 LOAD_GLOBAL              0 (int)\n",
      "             14 LOAD_GLOBAL              1 (input)\n",
      "             16 LOAD_CONST               2 ('y? ')\n",
      "             18 CALL_FUNCTION            1\n",
      "             20 CALL_FUNCTION            1\n",
      "             22 STORE_FAST               1 (y_simple)\n",
      "\n",
      "  8          24 LOAD_GLOBAL              2 (print)\n",
      "             26 LOAD_FAST                0 (x_simple)\n",
      "             28 LOAD_FAST                1 (y_simple)\n",
      "             30 BINARY_ADD\n",
      "             32 CALL_FUNCTION            1\n",
      "             34 POP_TOP\n",
      "             36 LOAD_CONST               0 (None)\n",
      "             38 RETURN_VALUE\n"
     ]
    }
   ],
   "source": [
    "# By passing simple to a dis function, we can see how the compiler will organize it\n",
    "# Functions are put in cache and then are cleared when done (like cramming for an exam)\n",
    "dis.dis(simple)"
   ]
  },
  {
   "cell_type": "markdown",
   "id": "d2e07017",
   "metadata": {},
   "source": [
    "### Next, we will write a function that adds up all numbers until 0 is entered"
   ]
  },
  {
   "cell_type": "code",
   "execution_count": 32,
   "id": "f1743a42",
   "metadata": {},
   "outputs": [
    {
     "name": "stdin",
     "output_type": "stream",
     "text": [
      "Enter number (or 0 to stop)  12\n"
     ]
    },
    {
     "name": "stdout",
     "output_type": "stream",
     "text": [
      "Current total = 12\n"
     ]
    },
    {
     "name": "stdin",
     "output_type": "stream",
     "text": [
      "Enter number (or 0 to stop)  13\n"
     ]
    },
    {
     "name": "stdout",
     "output_type": "stream",
     "text": [
      "Current total = 25\n"
     ]
    },
    {
     "name": "stdin",
     "output_type": "stream",
     "text": [
      "Enter number (or 0 to stop)  11\n"
     ]
    },
    {
     "name": "stdout",
     "output_type": "stream",
     "text": [
      "Current total = 36\n"
     ]
    },
    {
     "name": "stdin",
     "output_type": "stream",
     "text": [
      "Enter number (or 0 to stop)  9\n"
     ]
    },
    {
     "name": "stdout",
     "output_type": "stream",
     "text": [
      "Current total = 45\n"
     ]
    },
    {
     "name": "stdin",
     "output_type": "stream",
     "text": [
      "Enter number (or 0 to stop)  4\n"
     ]
    },
    {
     "name": "stdout",
     "output_type": "stream",
     "text": [
      "Current total = 49\n"
     ]
    },
    {
     "name": "stdin",
     "output_type": "stream",
     "text": [
      "Enter number (or 0 to stop)  5\n"
     ]
    },
    {
     "name": "stdout",
     "output_type": "stream",
     "text": [
      "Current total = 54\n"
     ]
    },
    {
     "name": "stdin",
     "output_type": "stream",
     "text": [
      "Enter number (or 0 to stop)  8\n"
     ]
    },
    {
     "name": "stdout",
     "output_type": "stream",
     "text": [
      "Current total = 62\n"
     ]
    },
    {
     "name": "stdin",
     "output_type": "stream",
     "text": [
      "Enter number (or 0 to stop)  0\n"
     ]
    }
   ],
   "source": [
    "# Enter the code here\n",
    "\n",
    "total = 0\n",
    "number = int(input('Enter number (or 0 to stop) '))\n",
    "\n",
    "while number != 0:\n",
    "    total = total + number\n",
    "    print( 'Current total = ' + f'{total}' )\n",
    "    number = int(input('Enter number (or 0 to stop) '))"
   ]
  },
  {
   "cell_type": "code",
   "execution_count": null,
   "id": "9bcc4492-bb7c-4869-b082-f8b3777e3361",
   "metadata": {},
   "outputs": [],
   "source": []
  }
 ],
 "metadata": {
  "kernelspec": {
   "display_name": "Python [conda env:Anaconda3]",
   "language": "python",
   "name": "conda-env-Anaconda3-py"
  },
  "language_info": {
   "codemirror_mode": {
    "name": "ipython",
    "version": 3
   },
   "file_extension": ".py",
   "mimetype": "text/x-python",
   "name": "python",
   "nbconvert_exporter": "python",
   "pygments_lexer": "ipython3",
   "version": "3.9.13"
  }
 },
 "nbformat": 4,
 "nbformat_minor": 5
}
