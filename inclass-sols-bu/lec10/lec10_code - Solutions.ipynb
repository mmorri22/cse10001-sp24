{
 "cells": [
  {
   "cell_type": "markdown",
   "id": "2e4ca45e",
   "metadata": {},
   "source": [
    "### This is the Notebook for Lecture 10\n",
    "\n",
    "In this lecture, we will learn about the dictionary data structure."
   ]
  },
  {
   "cell_type": "markdown",
   "id": "55e71c58",
   "metadata": {},
   "source": [
    "### Using the dict data structure to improve access!"
   ]
  },
  {
   "cell_type": "code",
   "execution_count": 1,
   "id": "f4a62b6f",
   "metadata": {},
   "outputs": [
    {
     "data": {
      "text/plain": [
       "dict"
      ]
     },
     "execution_count": 1,
     "metadata": {},
     "output_type": "execute_result"
    }
   ],
   "source": [
    "# First approach to defining a dictionary, using dict()\n",
    "english_to_french = dict()\n",
    "type(english_to_french)"
   ]
  },
  {
   "cell_type": "code",
   "execution_count": 4,
   "id": "9d9391ad",
   "metadata": {},
   "outputs": [],
   "source": [
    "english_to_french = dict(\n",
    "    one = 'un',\n",
    "    two = 'deux',\n",
    "    three = 'trois',\n",
    "    four = 'quatre',\n",
    "    five = 'cinq'\n",
    ")"
   ]
  },
  {
   "cell_type": "code",
   "execution_count": 5,
   "id": "9de65bf4",
   "metadata": {
    "scrolled": true
   },
   "outputs": [
    {
     "data": {
      "text/plain": [
       "'quatre'"
      ]
     },
     "execution_count": 5,
     "metadata": {},
     "output_type": "execute_result"
    }
   ],
   "source": [
    "english_to_french['four']"
   ]
  },
  {
   "cell_type": "code",
   "execution_count": 6,
   "id": "3e21907f",
   "metadata": {},
   "outputs": [
    {
     "ename": "KeyError",
     "evalue": "'seven'",
     "output_type": "error",
     "traceback": [
      "\u001b[1;31m---------------------------------------------------------------------------\u001b[0m",
      "\u001b[1;31mKeyError\u001b[0m                                  Traceback (most recent call last)",
      "Cell \u001b[1;32mIn[6], line 1\u001b[0m\n\u001b[1;32m----> 1\u001b[0m \u001b[43menglish_to_french\u001b[49m\u001b[43m[\u001b[49m\u001b[38;5;124;43m'\u001b[39;49m\u001b[38;5;124;43mseven\u001b[39;49m\u001b[38;5;124;43m'\u001b[39;49m\u001b[43m]\u001b[49m\n",
      "\u001b[1;31mKeyError\u001b[0m: 'seven'"
     ]
    }
   ],
   "source": [
    "# Deliberate KeyError\n",
    "english_to_french['seven']"
   ]
  },
  {
   "cell_type": "code",
   "execution_count": 7,
   "id": "23198f96",
   "metadata": {},
   "outputs": [
    {
     "data": {
      "text/plain": [
       "dict"
      ]
     },
     "execution_count": 7,
     "metadata": {},
     "output_type": "execute_result"
    }
   ],
   "source": [
    "# Second approach to defining a dictionary using {}\n",
    "english_to_spanish = {}\n",
    "type(english_to_spanish)"
   ]
  },
  {
   "cell_type": "code",
   "execution_count": 12,
   "id": "4a8cb94c",
   "metadata": {},
   "outputs": [],
   "source": [
    "english_to_spanish = dict(\n",
    "    one = 'uno',\n",
    "    two = 'dos',\n",
    "    three = 'tres',\n",
    "    four = 'quatro',\n",
    "    five = 'cinco'\n",
    ")"
   ]
  },
  {
   "cell_type": "code",
   "execution_count": 13,
   "id": "8a9d8038",
   "metadata": {},
   "outputs": [
    {
     "data": {
      "text/plain": [
       "'tres'"
      ]
     },
     "execution_count": 13,
     "metadata": {},
     "output_type": "execute_result"
    }
   ],
   "source": [
    "english_to_spanish['three']"
   ]
  },
  {
   "cell_type": "code",
   "execution_count": 15,
   "id": "20071895",
   "metadata": {},
   "outputs": [
    {
     "name": "stdout",
     "output_type": "stream",
     "text": [
      "{'one': 'uno', 'two': 'dos', 'three': 'tres', 'four': 'quatro', 'five': 'cinco', 'six': 'seis', 'dog': 'perro'}\n"
     ]
    }
   ],
   "source": [
    "# Adding Key/Value pairs to a dictionary\n",
    "english_to_spanish['six'] = 'seis'\n",
    "english_to_spanish['dog'] = 'perro'\n",
    "\n",
    "print(english_to_spanish)"
   ]
  },
  {
   "cell_type": "markdown",
   "id": "54a55d66",
   "metadata": {},
   "source": [
    "### Dictionary Exception Examples"
   ]
  },
  {
   "cell_type": "code",
   "execution_count": 16,
   "id": "caa6ebf2",
   "metadata": {},
   "outputs": [
    {
     "data": {
      "text/plain": [
       "False"
      ]
     },
     "execution_count": 16,
     "metadata": {},
     "output_type": "execute_result"
    }
   ],
   "source": [
    "# One approach: Use true false to look up the KEY\n",
    "'perro' in english_to_spanish"
   ]
  },
  {
   "cell_type": "code",
   "execution_count": 17,
   "id": "de77b401",
   "metadata": {},
   "outputs": [
    {
     "data": {
      "text/plain": [
       "True"
      ]
     },
     "execution_count": 17,
     "metadata": {},
     "output_type": "execute_result"
    }
   ],
   "source": [
    "'dog' in english_to_spanish"
   ]
  },
  {
   "cell_type": "code",
   "execution_count": 18,
   "id": "4fe281ec",
   "metadata": {},
   "outputs": [
    {
     "data": {
      "text/plain": [
       "True"
      ]
     },
     "execution_count": 18,
     "metadata": {},
     "output_type": "execute_result"
    }
   ],
   "source": [
    "'one' in english_to_spanish"
   ]
  },
  {
   "cell_type": "code",
   "execution_count": 19,
   "id": "6b452b64",
   "metadata": {},
   "outputs": [],
   "source": [
    "# Using try/except to print a dictionary\n",
    "def print_dict( dict_print, key ):\n",
    "\n",
    "    # In-Class Code\n",
    "    try:\n",
    "        print( dict_print[key] )\n",
    "    \n",
    "    except KeyError:\n",
    "        print( key + ' is not in the dictionary.')"
   ]
  },
  {
   "cell_type": "code",
   "execution_count": 20,
   "id": "51c8a444",
   "metadata": {},
   "outputs": [
    {
     "name": "stdout",
     "output_type": "stream",
     "text": [
      "uno\n"
     ]
    }
   ],
   "source": [
    "print_dict( english_to_spanish, 'one' )"
   ]
  },
  {
   "cell_type": "code",
   "execution_count": 21,
   "id": "aaf4abad",
   "metadata": {},
   "outputs": [
    {
     "name": "stdout",
     "output_type": "stream",
     "text": [
      "100 is not in the dictionary.\n"
     ]
    }
   ],
   "source": [
    "print_dict( english_to_spanish, '100' )"
   ]
  },
  {
   "cell_type": "markdown",
   "id": "f6bb3b11",
   "metadata": {},
   "source": [
    "Additionally, we can use the get method to specify a default value if the key is not present."
   ]
  },
  {
   "cell_type": "code",
   "execution_count": 33,
   "id": "023c0e28",
   "metadata": {},
   "outputs": [],
   "source": [
    "english_to_spanish.get('skdslklk', None)"
   ]
  },
  {
   "cell_type": "code",
   "execution_count": 23,
   "id": "32208b51",
   "metadata": {},
   "outputs": [
    {
     "data": {
      "text/plain": [
       "'quatro'"
      ]
     },
     "execution_count": 23,
     "metadata": {},
     "output_type": "execute_result"
    }
   ],
   "source": [
    "english_to_spanish.get('four', None)"
   ]
  },
  {
   "cell_type": "code",
   "execution_count": 24,
   "id": "6afbb0c1",
   "metadata": {},
   "outputs": [],
   "source": [
    "english_to_spanish.get('quatro', None)"
   ]
  },
  {
   "cell_type": "code",
   "execution_count": 25,
   "id": "ddf23137",
   "metadata": {},
   "outputs": [
    {
     "ename": "KeyError",
     "evalue": "'quatro'",
     "output_type": "error",
     "traceback": [
      "\u001b[1;31m---------------------------------------------------------------------------\u001b[0m",
      "\u001b[1;31mKeyError\u001b[0m                                  Traceback (most recent call last)",
      "Cell \u001b[1;32mIn[25], line 1\u001b[0m\n\u001b[1;32m----> 1\u001b[0m \u001b[43menglish_to_spanish\u001b[49m\u001b[43m[\u001b[49m\u001b[38;5;124;43m'\u001b[39;49m\u001b[38;5;124;43mquatro\u001b[39;49m\u001b[38;5;124;43m'\u001b[39;49m\u001b[43m]\u001b[49m\n",
      "\u001b[1;31mKeyError\u001b[0m: 'quatro'"
     ]
    }
   ],
   "source": [
    "english_to_spanish['quatro']"
   ]
  },
  {
   "cell_type": "markdown",
   "id": "2d05e050",
   "metadata": {},
   "source": [
    "### Printing all the keys and values"
   ]
  },
  {
   "cell_type": "code",
   "execution_count": 26,
   "id": "0db5a057",
   "metadata": {},
   "outputs": [
    {
     "data": {
      "text/plain": [
       "dict_keys(['one', 'two', 'three', 'four', 'five', 'six', 'dog'])"
      ]
     },
     "execution_count": 26,
     "metadata": {},
     "output_type": "execute_result"
    }
   ],
   "source": [
    "# Prints all the keys\n",
    "english_to_spanish.keys()"
   ]
  },
  {
   "cell_type": "code",
   "execution_count": 27,
   "id": "9d6136a2",
   "metadata": {},
   "outputs": [
    {
     "data": {
      "text/plain": [
       "dict_values(['uno', 'dos', 'tres', 'quatro', 'cinco', 'seis', 'perro'])"
      ]
     },
     "execution_count": 27,
     "metadata": {},
     "output_type": "execute_result"
    }
   ],
   "source": [
    "# Prints all the values\n",
    "english_to_spanish.values()"
   ]
  },
  {
   "cell_type": "markdown",
   "id": "144581ae",
   "metadata": {},
   "source": [
    "### Ordering "
   ]
  },
  {
   "cell_type": "code",
   "execution_count": 28,
   "id": "14e39e8c",
   "metadata": {},
   "outputs": [],
   "source": [
    "family_name = {}"
   ]
  },
  {
   "cell_type": "code",
   "execution_count": 30,
   "id": "415c1433",
   "metadata": {},
   "outputs": [],
   "source": [
    "family_name['Matthew'] = 40\n",
    "family_name['Margot'] = 35\n",
    "family_name['James'] = 37\n",
    "family_name['Alfred'] = 73\n",
    "family_name['Amy'] = 37\n",
    "family_name['Aidan'] = 7\n",
    "family_name['Kathy'] = 70\n",
    "family_name['Evie'] = 3\n",
    "family_name['Teddy'] = 1"
   ]
  },
  {
   "cell_type": "code",
   "execution_count": 31,
   "id": "16ed56bd",
   "metadata": {},
   "outputs": [
    {
     "data": {
      "text/plain": [
       "dict_keys(['Matthew', 'Margot', 'James', 'Alfred', 'Amy', 'Aidan', 'Kathy', 'Evie', 'Baby', 'Teddy'])"
      ]
     },
     "execution_count": 31,
     "metadata": {},
     "output_type": "execute_result"
    }
   ],
   "source": [
    "# Note the ordering when I print the keys\n",
    "family_name.keys()"
   ]
  },
  {
   "cell_type": "code",
   "execution_count": 32,
   "id": "f489e813",
   "metadata": {},
   "outputs": [
    {
     "data": {
      "text/plain": [
       "dict_values([40, 35, 37, 73, 37, 7, 70, 3, 0, 1])"
      ]
     },
     "execution_count": 32,
     "metadata": {},
     "output_type": "execute_result"
    }
   ],
   "source": [
    "# Note the ordering when I print the values\n",
    "family_name.values()"
   ]
  },
  {
   "cell_type": "markdown",
   "id": "f7d1380c",
   "metadata": {},
   "source": [
    "### Compare access time for list and dict\n",
    "<p></p>\n",
    "Find an element in a dict is O(1) and a list is, on average O(n)"
   ]
  },
  {
   "cell_type": "code",
   "execution_count": 34,
   "id": "46ac2c53",
   "metadata": {},
   "outputs": [],
   "source": [
    "# Run Time Examples for dicts vs strings\n",
    "import random\n",
    "\n",
    "def pop_list( num_vals ):\n",
    "    \n",
    "    # Initialize the list\n",
    "    the_list = [0]\n",
    "    \n",
    "    # Attempt to create num_vals random numbers\n",
    "    for i in range( 0, num_vals ):\n",
    "        \n",
    "        # Generate the random integer\n",
    "        insert_num = random.randint(0, num_vals)\n",
    "        \n",
    "        # Iterate through the list and stop when you either find the value or reach the end of the list\n",
    "        iterator = 0\n",
    "        while iterator < len(the_list) and the_list[iterator] != insert_num:\n",
    "            iterator += 1\n",
    "            \n",
    "        # Question: Why is this commented code bad?\n",
    "        # Answer: (Put your answer in here for class notes)\n",
    "        # while the_list[iterator] != insert_num and iterator < len(the_list):\n",
    "            # iterator += 1\n",
    "        \n",
    "        # If the iterator is at the end, append the list\n",
    "        if iterator == len(the_list):\n",
    "            the_list.append(insert_num)\n",
    "\n",
    "\n",
    "def pop_dict( num_vals ):\n",
    "    \n",
    "    # Initialize the dictionary\n",
    "    the_dict = dict()\n",
    "    \n",
    "    # Attempt to create num_vals random numbers\n",
    "    for i in range( 0, num_vals ):\n",
    "        \n",
    "        # Generate the random numbeer\n",
    "        insert_num = random.randint(0, num_vals)\n",
    "        \n",
    "        # Use not in to try to find the dict\n",
    "        if insert_num not in the_dict:\n",
    "            the_dict[ insert_num ] = 1"
   ]
  },
  {
   "cell_type": "code",
   "execution_count": 35,
   "id": "f4cb1212",
   "metadata": {
    "scrolled": true
   },
   "outputs": [
    {
     "name": "stdout",
     "output_type": "stream",
     "text": [
      "24.3 ms ± 92.9 µs per loop (mean ± std. dev. of 7 runs, 100 loops each)\n"
     ]
    }
   ],
   "source": [
    "# -n has a limit of 100 runs\n",
    "%timeit -n 100 pop_list(1000)"
   ]
  },
  {
   "cell_type": "code",
   "execution_count": 36,
   "id": "d4d62682",
   "metadata": {},
   "outputs": [
    {
     "name": "stdout",
     "output_type": "stream",
     "text": [
      "549 µs ± 6.21 µs per loop (mean ± std. dev. of 7 runs, 100 loops each)\n"
     ]
    }
   ],
   "source": [
    "%timeit -n 100 pop_dict(1000)"
   ]
  },
  {
   "cell_type": "markdown",
   "id": "a90a9cda",
   "metadata": {},
   "source": [
    "### Combining Concepts\n",
    "<p></p>\n",
    "Now let's use <b>not in</b> with a list and check the times. Why do you \n",
    "\n",
    "In your notes, describe the **difference in time** between pop_list, pop_dict, and pop_list_mod. Why are the run times different, and what is the difference between **program run time** and **program time complexity**?\n",
    "<p></p>\n",
    "    <font color=\"red\">Response Here</font>"
   ]
  },
  {
   "cell_type": "code",
   "execution_count": 37,
   "id": "d8bbc0bd",
   "metadata": {},
   "outputs": [],
   "source": [
    "def pop_list_mod( num_vals ):\n",
    "    \n",
    "    # Initialize the list\n",
    "    the_list = [0]\n",
    "    \n",
    "    # Attempt to create num_vals random numbers\n",
    "    for i in range( 0, num_vals ):\n",
    "        \n",
    "        # Generate the random integer\n",
    "        insert_num = random.randint(0, num_vals)\n",
    "        \n",
    "        # Use not in to try to find the list\n",
    "        if insert_num not in the_list:\n",
    "            the_list.append(insert_num)"
   ]
  },
  {
   "cell_type": "code",
   "execution_count": 38,
   "id": "278a55c8",
   "metadata": {},
   "outputs": [
    {
     "name": "stdout",
     "output_type": "stream",
     "text": [
      "2.4 ms ± 29.1 µs per loop (mean ± std. dev. of 7 runs, 100 loops each)\n"
     ]
    }
   ],
   "source": [
    "%timeit -n 100 pop_list_mod(1000)"
   ]
  },
  {
   "cell_type": "markdown",
   "id": "826107c4",
   "metadata": {},
   "source": [
    "### In-Class Coding Opportunity\n",
    "\n",
    "For every word in a file, count how many times it occurs. Use try/except where appropriate"
   ]
  },
  {
   "cell_type": "code",
   "execution_count": 42,
   "id": "51ce0103",
   "metadata": {},
   "outputs": [],
   "source": [
    "def word_count(file_name):\n",
    "    \n",
    "    # In-Class Code Starts here\n",
    "    word_dict = {}\n",
    "    \n",
    "    try:\n",
    "        read_file = open(file_name)\n",
    "        \n",
    "        for line in read_file:\n",
    "            \n",
    "            for word in line.split():\n",
    "                \n",
    "                if word in word_dict:\n",
    "                    word_dict[word] += 1\n",
    "                    \n",
    "                else:\n",
    "                    word_dict[word] = 1\n",
    "                    \n",
    "        for key in word_dict:\n",
    "            print( key, word_dict[key] )\n",
    "        \n",
    "    except IOError:\n",
    "        print('Unable to open file: ' + file_name)"
   ]
  },
  {
   "cell_type": "code",
   "execution_count": 43,
   "id": "60138cb5",
   "metadata": {
    "scrolled": true
   },
   "outputs": [
    {
     "name": "stdout",
     "output_type": "stream",
     "text": [
      "Two 2\n",
      "roads 2\n",
      "diverged 2\n",
      "in 3\n",
      "a 3\n",
      "yellow 1\n",
      "wood, 2\n",
      "And 6\n",
      "sorry 1\n",
      "I 8\n",
      "could 2\n",
      "not 1\n",
      "travel 1\n",
      "both 2\n",
      "be 2\n",
      "one 3\n",
      "traveler, 1\n",
      "long 1\n",
      "stood 1\n",
      "looked 1\n",
      "down 1\n",
      "as 5\n",
      "far 1\n",
      "To 1\n",
      "where 1\n",
      "it 2\n",
      "bent 1\n",
      "the 8\n",
      "undergrowth; 1\n",
      "Then 1\n",
      "took 2\n",
      "other, 1\n",
      "just 1\n",
      "fair, 1\n",
      "having 1\n",
      "perhaps 1\n",
      "better 1\n",
      "claim, 1\n",
      "Because 1\n",
      "was 1\n",
      "grassy 1\n",
      "and 3\n",
      "wanted 1\n",
      "wear; 1\n",
      "Though 1\n",
      "for 2\n",
      "that 3\n",
      "passing 1\n",
      "there 1\n",
      "Had 1\n",
      "worn 1\n",
      "them 1\n",
      "really 1\n",
      "about 1\n",
      "same, 1\n",
      "morning 1\n",
      "equally 1\n",
      "lay 1\n",
      "In 1\n",
      "leaves 1\n",
      "no 1\n",
      "step 1\n",
      "had 1\n",
      "trodden 1\n",
      "black. 1\n",
      "Oh, 1\n",
      "kept 1\n",
      "first 1\n",
      "another 1\n",
      "day! 1\n",
      "Yet 1\n",
      "knowing 1\n",
      "how 1\n",
      "way 1\n",
      "leads 1\n",
      "on 1\n",
      "to 1\n",
      "way, 1\n",
      "doubted 1\n",
      "if 1\n",
      "should 1\n",
      "ever 1\n",
      "come 1\n",
      "back. 1\n",
      "shall 1\n",
      "telling 1\n",
      "this 1\n",
      "with 1\n",
      "sigh 1\n",
      "Somewhere 1\n",
      "ages 2\n",
      "hence: 1\n",
      "I- 1\n",
      "less 1\n",
      "traveled 1\n",
      "by, 1\n",
      "has 1\n",
      "made 1\n",
      "all 1\n",
      "difference. 1\n"
     ]
    }
   ],
   "source": [
    "word_count('frost.txt')"
   ]
  },
  {
   "cell_type": "markdown",
   "id": "b39bac2a",
   "metadata": {},
   "source": [
    "### Exercise: emoji translator\n",
    "\n",
    "Write a function, emoji_translate, that replaces words with emoji icons."
   ]
  },
  {
   "cell_type": "code",
   "execution_count": 46,
   "id": "1d2359b5",
   "metadata": {},
   "outputs": [],
   "source": [
    "EMOJIS = {\n",
    "    ':)' : '😀',\n",
    "    '<3' : '💙',\n",
    "    'snek': '🐍',\n",
    "    'pupper': '🐕'\n",
    "}\n",
    "\n",
    "def emoji_translate(text):\n",
    "    # In-Class Code\n",
    "    result_string = ''\n",
    "    \n",
    "    for current_word in text.split():\n",
    "        \n",
    "        if current_word in EMOJIS:\n",
    "            result_string += EMOJIS[current_word]\n",
    "            \n",
    "        else:\n",
    "            result_string += current_word\n",
    "            \n",
    "        result_string += ' '\n",
    "        \n",
    "    return result_string"
   ]
  },
  {
   "cell_type": "code",
   "execution_count": 47,
   "id": "fcc3ded2",
   "metadata": {},
   "outputs": [
    {
     "data": {
      "text/plain": [
       "'I 💙 Notre Dame '"
      ]
     },
     "execution_count": 47,
     "metadata": {},
     "output_type": "execute_result"
    }
   ],
   "source": [
    "emoji_translate('I <3 Notre Dame')"
   ]
  },
  {
   "cell_type": "code",
   "execution_count": 48,
   "id": "3361c4b2",
   "metadata": {
    "scrolled": true
   },
   "outputs": [
    {
     "data": {
      "text/plain": [
       "'Harry Potter speaks 🐍 '"
      ]
     },
     "execution_count": 48,
     "metadata": {},
     "output_type": "execute_result"
    }
   ],
   "source": [
    "emoji_translate('Harry Potter speaks snek')"
   ]
  },
  {
   "cell_type": "code",
   "execution_count": 49,
   "id": "8202b6fb",
   "metadata": {},
   "outputs": [
    {
     "data": {
      "text/plain": [
       "'Eirinn the Pupfessor is a good 🐕 '"
      ]
     },
     "execution_count": 49,
     "metadata": {},
     "output_type": "execute_result"
    }
   ],
   "source": [
    "emoji_translate('Eirinn the Pupfessor is a good pupper')"
   ]
  },
  {
   "cell_type": "code",
   "execution_count": null,
   "id": "33415fa3",
   "metadata": {},
   "outputs": [],
   "source": [
    "from ipywidgets import interact"
   ]
  },
  {
   "cell_type": "code",
   "execution_count": null,
   "id": "a539c9f7",
   "metadata": {},
   "outputs": [],
   "source": [
    "interact(emoji_translate, text='')"
   ]
  },
  {
   "cell_type": "markdown",
   "id": "cb0608d1",
   "metadata": {},
   "source": [
    "### Spell Checking Setup"
   ]
  },
  {
   "cell_type": "code",
   "execution_count": null,
   "id": "fd971686",
   "metadata": {},
   "outputs": [],
   "source": [
    "# Use import requests to obtain public online files\n",
    "import requests\n",
    "\n",
    "# Import string to get the string library\n",
    "import string\n",
    "\n",
    "# wget is a Linux command used to download an online file"
   ]
  },
  {
   "cell_type": "code",
   "execution_count": null,
   "id": "3c8822d1",
   "metadata": {},
   "outputs": [],
   "source": [
    "wget('http://google.com', 'google.txt')"
   ]
  },
  {
   "cell_type": "code",
   "execution_count": null,
   "id": "d2e1b6c5",
   "metadata": {},
   "outputs": [],
   "source": [
    "import os"
   ]
  },
  {
   "cell_type": "code",
   "execution_count": null,
   "id": "ac959431",
   "metadata": {},
   "outputs": [],
   "source": [
    "# Review: Check the size of the file we just downloaded\n",
    "os.path.getsize('google.txt')"
   ]
  },
  {
   "cell_type": "code",
   "execution_count": null,
   "id": "7d2d2f55",
   "metadata": {},
   "outputs": [],
   "source": [
    "# We will now download a publicly available dictionary\n",
    "wget('https://github.com/dwyl/english-words/raw/master/words.txt', 'words.txt')"
   ]
  },
  {
   "cell_type": "code",
   "execution_count": null,
   "id": "e5d4a4cf",
   "metadata": {},
   "outputs": [],
   "source": [
    "os.path.getsize('words.txt')"
   ]
  },
  {
   "cell_type": "code",
   "execution_count": null,
   "id": "3d98e1ff",
   "metadata": {},
   "outputs": [],
   "source": [
    "# To review, we will print the first 100 words in the English dictionary\n",
    "# Remember, with automatically opens and closes the file"
   ]
  },
  {
   "cell_type": "code",
   "execution_count": 1,
   "id": "35cf7d93",
   "metadata": {},
   "outputs": [],
   "source": [
    "# Now we will load the dictionary into a list\n",
    "def load_words_list(path):\n",
    "    \n",
    "    # Open the file using open(path) as the word_file\n",
    "    # Add line of code here\n",
    "        \n",
    "        # Initialize a list\n",
    "        words = []\n",
    "        \n",
    "        # Iterate through the word file\n",
    "        for word in word_file:\n",
    "            \n",
    "            # Append the word into the dictionary\n",
    "            # Change the word to lower case, and then strip\n",
    "            # Add line of code here\n",
    "    \n",
    "    # Return the list representing the dictionary\n",
    "    return words"
   ]
  },
  {
   "cell_type": "code",
   "execution_count": null,
   "id": "fed1b11d",
   "metadata": {},
   "outputs": [],
   "source": [
    "english_words = load_words_list('words.txt')"
   ]
  },
  {
   "cell_type": "code",
   "execution_count": null,
   "id": "4672cbe0",
   "metadata": {},
   "outputs": [],
   "source": [
    "len(english_words)"
   ]
  }
 ],
 "metadata": {
  "kernelspec": {
   "display_name": "Python 3 (ipykernel)",
   "language": "python",
   "name": "python3"
  },
  "language_info": {
   "codemirror_mode": {
    "name": "ipython",
    "version": 3
   },
   "file_extension": ".py",
   "mimetype": "text/x-python",
   "name": "python",
   "nbconvert_exporter": "python",
   "pygments_lexer": "ipython3",
   "version": "3.10.9"
  }
 },
 "nbformat": 4,
 "nbformat_minor": 5
}
