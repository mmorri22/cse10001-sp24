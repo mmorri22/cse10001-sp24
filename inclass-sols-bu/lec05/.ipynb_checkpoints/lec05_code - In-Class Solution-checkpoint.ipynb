{
 "cells": [
  {
   "cell_type": "markdown",
   "id": "8cfa3e93",
   "metadata": {},
   "source": [
    "### This is the preview notebook for Lecture 05\n",
    "\n",
    "In this lecture, we will learn about:\n",
    "<ol>\n",
    "    <li>while loops</li>\n",
    "    <li>for loops</li>\n",
    "    <li>Lists</li>\n",
    "    <li>Review try/except</li>\n",
    "</ol>"
   ]
  },
  {
   "cell_type": "markdown",
   "id": "a62d4cdc",
   "metadata": {},
   "source": [
    "### range( start, end )\n",
    "\n",
    "Will actually go to <b>end-1</b>"
   ]
  },
  {
   "cell_type": "code",
   "execution_count": 1,
   "id": "16fc3c1d",
   "metadata": {
    "scrolled": true
   },
   "outputs": [
    {
     "name": "stdout",
     "output_type": "stream",
     "text": [
      "Inside while loop  0\n",
      "Inside while loop  1\n",
      "Inside while loop  2\n",
      "Inside while loop  3\n",
      "Outside while loop  4\n"
     ]
    }
   ],
   "source": [
    "# You can even control the range\n",
    "# But for range(0,4), will it go to 3 or 104?\n",
    "\n",
    "iterator = 0\n",
    "while iterator in range(0,4):\n",
    "    print( 'Inside while loop ', str(iterator) )\n",
    "    iterator += 1\n",
    "\n",
    "print( 'Outside while loop ', str(iterator) )"
   ]
  },
  {
   "cell_type": "code",
   "execution_count": 11,
   "id": "cb297a9c-ec59-4408-bcca-0ed9a462de99",
   "metadata": {},
   "outputs": [
    {
     "name": "stdout",
     "output_type": "stream",
     "text": [
      "Inside while loop  3\n",
      "Inside while loop  2\n",
      "Inside while loop  1\n",
      "Inside while loop  0\n",
      "Outside while loop  -1\n"
     ]
    }
   ],
   "source": [
    "# Comparing range (a,b) - a is inclusive and b is exclusive\n",
    "\n",
    "iterator = 3\n",
    "while iterator in range(0,4):\n",
    "    print( 'Inside while loop ', str(iterator) )\n",
    "    iterator -= 1\n",
    "\n",
    "print( 'Outside while loop ', str(iterator) )"
   ]
  },
  {
   "cell_type": "code",
   "execution_count": 3,
   "id": "ff1cd595-491e-46de-9742-1cdaff276cae",
   "metadata": {},
   "outputs": [
    {
     "name": "stdout",
     "output_type": "stream",
     "text": [
      "Outside while loop  4\n"
     ]
    }
   ],
   "source": [
    "# Comparing range (a,b) - a is inclusive and b is exclusive\n",
    "\n",
    "iterator = 4\n",
    "while iterator in range(0,4):\n",
    "    print( 'Inside while loop ', str(iterator) )\n",
    "    iterator -= 1\n",
    "\n",
    "print( 'Outside while loop ', str(iterator) )"
   ]
  },
  {
   "cell_type": "code",
   "execution_count": 5,
   "id": "974b6cd2",
   "metadata": {},
   "outputs": [
    {
     "name": "stdout",
     "output_type": "stream",
     "text": [
      "Inside while loop  3\n",
      "Inside while loop  5\n",
      "Inside while loop  7\n",
      "Inside while loop  9\n",
      "Inside while loop  11\n"
     ]
    }
   ],
   "source": [
    "# Every loop, this will add 2\n",
    "# After it gets to 11, it will add 2, but then not print\n",
    "# A good example of *needing to understand the syntax*\n",
    "# Remember, we are shooting electricity into rocks and trying to make them think\n",
    "\n",
    "iterator = 3\n",
    "\n",
    "while iterator in range(0,12):\n",
    "    print('Inside while loop ', str(iterator))\n",
    "    iterator += 2"
   ]
  },
  {
   "cell_type": "markdown",
   "id": "f6b53057",
   "metadata": {},
   "source": [
    "### In-Class Coding Opportunity"
   ]
  },
  {
   "cell_type": "code",
   "execution_count": 17,
   "id": "1064deb5",
   "metadata": {},
   "outputs": [
    {
     "name": "stdin",
     "output_type": "stream",
     "text": [
      "Input the next int or 0 to stop:  12\n",
      "Input the next int or 0 to stop:  10\n",
      "Input the next int or 0 to stop:  7\n",
      "Input the next int or 0 to stop:  8\n",
      "Input the next int or 0 to stop:  3\n",
      "Input the next int or 0 to stop:  4\n",
      "Input the next int or 0 to stop:  5\n",
      "Input the next int or 0 to stop:  2\n",
      "Input the next int or 0 to stop:  0\n"
     ]
    },
    {
     "name": "stdout",
     "output_type": "stream",
     "text": [
      "Average of  [12, 10, 7, 8, 3, 4, 5, 2]  is  6.375\n"
     ]
    }
   ],
   "source": [
    "# Read in a set of integers until you enter a 0, and then print their average\n",
    "\n",
    "sum_vals = 0\n",
    "count = 0\n",
    "\n",
    "result_list = []\n",
    "\n",
    "while True:\n",
    "\n",
    "    int_input = int(input('Input the next int or 0 to stop: '))\n",
    "\n",
    "    if int_input == 0:\n",
    "        break\n",
    "\n",
    "    result_list.append(int_input)\n",
    "    sum_vals += int_input\n",
    "    count += 1\n",
    "\n",
    "try:\n",
    "    print('Average of ', str(result_list), ' is ', str(sum_vals/count) )\n",
    "\n",
    "except ZeroDivisionError:\n",
    "    print('Cannot divide by zero')"
   ]
  },
  {
   "cell_type": "markdown",
   "id": "0fe2b325",
   "metadata": {},
   "source": [
    "### For loops \n",
    "\n",
    "Iterating through a definite set of objects is a common looping pattern"
   ]
  },
  {
   "cell_type": "code",
   "execution_count": 19,
   "id": "71eccafc",
   "metadata": {},
   "outputs": [
    {
     "name": "stdout",
     "output_type": "stream",
     "text": [
      "0\n",
      "1\n",
      "2\n",
      "3\n"
     ]
    }
   ],
   "source": [
    "# Using []\n",
    "for i in [0, 1, 2, 3]:\n",
    "    print(i)"
   ]
  },
  {
   "cell_type": "code",
   "execution_count": 21,
   "id": "4668862e",
   "metadata": {
    "scrolled": true
   },
   "outputs": [
    {
     "name": "stdout",
     "output_type": "stream",
     "text": [
      "0\n",
      "1\n",
      "2\n",
      "3\n"
     ]
    }
   ],
   "source": [
    "# Using range\n",
    "for i in range(0,4):\n",
    "    print(i)"
   ]
  },
  {
   "cell_type": "markdown",
   "id": "b5974082",
   "metadata": {},
   "source": [
    "### List Syntax and Operators"
   ]
  },
  {
   "cell_type": "code",
   "execution_count": 23,
   "id": "3fec569c",
   "metadata": {},
   "outputs": [
    {
     "name": "stdout",
     "output_type": "stream",
     "text": [
      "[11, 12, 8, 32]\n"
     ]
    }
   ],
   "source": [
    "# The basic format for a Python list\n",
    "print( [11,12,8,32] )"
   ]
  },
  {
   "cell_type": "code",
   "execution_count": 25,
   "id": "ae070386",
   "metadata": {},
   "outputs": [],
   "source": [
    "# You can use a variable name to save lists\n",
    "int_list = [11,12,8,32]"
   ]
  },
  {
   "cell_type": "code",
   "execution_count": 27,
   "id": "84201716",
   "metadata": {},
   "outputs": [
    {
     "name": "stdout",
     "output_type": "stream",
     "text": [
      "[11, 12, 8, 32]\n"
     ]
    }
   ],
   "source": [
    "# By calling print, you can print the entire list\n",
    "print( int_list )"
   ]
  },
  {
   "cell_type": "code",
   "execution_count": 29,
   "id": "0d1b1c9c",
   "metadata": {},
   "outputs": [
    {
     "data": {
      "text/plain": [
       "list"
      ]
     },
     "execution_count": 29,
     "metadata": {},
     "output_type": "execute_result"
    }
   ],
   "source": [
    "# Review: Lists have their own type!\n",
    "type( int_list )"
   ]
  },
  {
   "cell_type": "code",
   "execution_count": 43,
   "id": "31d870b5",
   "metadata": {},
   "outputs": [
    {
     "name": "stdout",
     "output_type": "stream",
     "text": [
      "11\n",
      "8\n",
      "12\n",
      "32\n",
      "4\n"
     ]
    },
    {
     "ename": "IndexError",
     "evalue": "list index out of range",
     "output_type": "error",
     "traceback": [
      "\u001b[1;31m---------------------------------------------------------------------------\u001b[0m",
      "\u001b[1;31mIndexError\u001b[0m                                Traceback (most recent call last)",
      "\u001b[1;32m~\\AppData\\Local\\Temp\\ipykernel_23800\\2637747221.py\u001b[0m in \u001b[0;36m<module>\u001b[1;34m\u001b[0m\n\u001b[0;32m      7\u001b[0m \u001b[1;33m\u001b[0m\u001b[0m\n\u001b[0;32m      8\u001b[0m \u001b[1;31m# Deliberate IndexError\u001b[0m\u001b[1;33m\u001b[0m\u001b[1;33m\u001b[0m\u001b[0m\n\u001b[1;32m----> 9\u001b[1;33m \u001b[0mprint\u001b[0m\u001b[1;33m(\u001b[0m \u001b[0mint_list\u001b[0m\u001b[1;33m[\u001b[0m\u001b[1;36m4\u001b[0m\u001b[1;33m]\u001b[0m \u001b[1;33m)\u001b[0m\u001b[1;33m\u001b[0m\u001b[1;33m\u001b[0m\u001b[0m\n\u001b[0m",
      "\u001b[1;31mIndexError\u001b[0m: list index out of range"
     ]
    }
   ],
   "source": [
    "# You can access a list element using []\n",
    "print( int_list[0] )\n",
    "print( int_list[2] )\n",
    "print( int_list[1] )\n",
    "print( int_list[3] )\n",
    "print( len(int_list) )\n",
    "\n",
    "# Deliberate IndexError\n",
    "print( int_list[4] )"
   ]
  },
  {
   "cell_type": "code",
   "execution_count": 47,
   "id": "563b0891-152d-4f66-82f6-2573abbc4fbe",
   "metadata": {},
   "outputs": [
    {
     "name": "stdout",
     "output_type": "stream",
     "text": [
      "[]\n",
      "[7]\n"
     ]
    }
   ],
   "source": [
    "# Create an empty list\n",
    "\n",
    "empty_list = []\n",
    "print( empty_list )\n",
    "\n",
    "empty_list.append(7)\n",
    "print( empty_list )"
   ]
  },
  {
   "cell_type": "markdown",
   "id": "05181b6a",
   "metadata": {},
   "source": [
    "### In-Class Coding Opportunity: Let's loop through the list and print the elements\n",
    "\n",
    "Key Takeaway: The value at a location is not the same as the location itself!"
   ]
  },
  {
   "cell_type": "code",
   "execution_count": 51,
   "id": "f2301f7a",
   "metadata": {},
   "outputs": [
    {
     "name": "stdout",
     "output_type": "stream",
     "text": [
      "int_list[ 0 ] =  11\n",
      "int_list[ 1 ] =  12\n",
      "int_list[ 2 ] =  8\n",
      "int_list[ 3 ] =  32\n"
     ]
    }
   ],
   "source": [
    "# Loop through lists example using len\n",
    "\n",
    "iterator = 0\n",
    "while iterator < len(int_list):\n",
    "\n",
    "    print( 'int_list[', str(iterator), '] = ', str(int_list[iterator]) )\n",
    "    iterator += 1"
   ]
  },
  {
   "cell_type": "code",
   "execution_count": 53,
   "id": "91d8a1c3",
   "metadata": {
    "scrolled": true
   },
   "outputs": [
    {
     "name": "stdout",
     "output_type": "stream",
     "text": [
      "int_list[ 0 ] =  11\n",
      "int_list[ 1 ] =  12\n",
      "int_list[ 2 ] =  8\n",
      "int_list[ 3 ] =  32\n"
     ]
    }
   ],
   "source": [
    "# Loop through lists example using in\n",
    "\n",
    "for iterator in range(0, len(int_list)):\n",
    "    print( 'int_list[', str(iterator), '] = ', str(int_list[iterator]) )"
   ]
  },
  {
   "cell_type": "markdown",
   "id": "134c6ae7",
   "metadata": {},
   "source": [
    "### In-Class Coding Opportunity\n",
    "\n",
    "Write a function called find_smallest that returns the smallest item in a list. Then, write a line of code that passes an integer array to that function to test your result!"
   ]
  },
  {
   "cell_type": "code",
   "execution_count": 73,
   "id": "ce8dc4be",
   "metadata": {},
   "outputs": [],
   "source": [
    "# Function \n",
    "\n",
    "def find_smallest( the_list ):\n",
    "\n",
    "    try:\n",
    "        smallest = the_list[0]\n",
    "    \n",
    "        for index in range(1, len(the_list)):\n",
    "    \n",
    "            if the_list[index] < smallest:\n",
    "                smallest = the_list[index]\n",
    "    \n",
    "        return smallest\n",
    "\n",
    "    except IndexError:\n",
    "        print('Will not work on an empty array')"
   ]
  },
  {
   "cell_type": "code",
   "execution_count": 75,
   "id": "5910e597",
   "metadata": {},
   "outputs": [
    {
     "data": {
      "text/plain": [
       "-7"
      ]
     },
     "execution_count": 75,
     "metadata": {},
     "output_type": "execute_result"
    }
   ],
   "source": [
    "# Test with integers\n",
    "find_smallest([6, 3, 10, 6, 8, -2, 25, -7, -6, 9])"
   ]
  },
  {
   "cell_type": "code",
   "execution_count": 77,
   "id": "fd6b0245",
   "metadata": {},
   "outputs": [],
   "source": [
    "# Test char array\n",
    "char_array = ['N', 'o', 't', 'r', 'e', 'D', 'a', 'm', 'e']"
   ]
  },
  {
   "cell_type": "code",
   "execution_count": 79,
   "id": "580ec288",
   "metadata": {},
   "outputs": [
    {
     "data": {
      "text/plain": [
       "'D'"
      ]
     },
     "execution_count": 79,
     "metadata": {},
     "output_type": "execute_result"
    }
   ],
   "source": [
    "# Test with char array\n",
    "find_smallest( char_array )"
   ]
  },
  {
   "cell_type": "code",
   "execution_count": 83,
   "id": "1c9f997a",
   "metadata": {},
   "outputs": [
    {
     "name": "stdout",
     "output_type": "stream",
     "text": [
      "Will not work on an empty array\n"
     ]
    },
    {
     "data": {
      "text/plain": [
       "1"
      ]
     },
     "execution_count": 83,
     "metadata": {},
     "output_type": "execute_result"
    }
   ],
   "source": [
    "# Using the [] operator to access specific elements\n",
    "find_smallest( [] )\n",
    "# We can print the value and the type as output strings\n",
    "find_smallest( [1] )"
   ]
  }
 ],
 "metadata": {
  "kernelspec": {
   "display_name": "Python [conda env:Anaconda3]",
   "language": "python",
   "name": "conda-env-Anaconda3-py"
  },
  "language_info": {
   "codemirror_mode": {
    "name": "ipython",
    "version": 3
   },
   "file_extension": ".py",
   "mimetype": "text/x-python",
   "name": "python",
   "nbconvert_exporter": "python",
   "pygments_lexer": "ipython3",
   "version": "3.9.13"
  }
 },
 "nbformat": 4,
 "nbformat_minor": 5
}
