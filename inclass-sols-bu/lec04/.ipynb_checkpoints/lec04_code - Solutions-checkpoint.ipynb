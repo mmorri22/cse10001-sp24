{
 "cells": [
  {
   "cell_type": "markdown",
   "id": "b5069922",
   "metadata": {},
   "source": [
    "### This is the preview Notebook for Lecture 04\n",
    "\n",
    "In this lecture, we will learn about:\n",
    "<ol>\n",
    "    <li>Importing libraries and reviewing conditional execution</li>\n",
    "    <li>Try/Except</li>\n",
    "    <li>HTML and interact</li>\n",
    "</ol>\n",
    "    "
   ]
  },
  {
   "cell_type": "markdown",
   "id": "800309c8",
   "metadata": {},
   "source": [
    "<p></p>\n",
    "Now, you will write a function that calculates the nth <b>Fibonacci Number</b>.\n",
    "<p></p>\n",
    "The logic is:\n",
    "<ol>\n",
    "    <li>If less than 1, return 0</li>\n",
    "    <li>If 1 or 2, return 1</li>\n",
    "    <li>Otherwise, we will loop until we get to the nth number, adding the values</li>\n",
    "</ol>"
   ]
  },
  {
   "cell_type": "code",
   "execution_count": 1,
   "id": "0ac5966e",
   "metadata": {},
   "outputs": [],
   "source": [
    "# Enter the function here here\n",
    "\n",
    "def fibonacci( fib_num ):\n",
    "\n",
    "    if fib_num < 1:\n",
    "        return 0\n",
    "\n",
    "    elif fib_num == 1 or fib_num == 2:\n",
    "        return 1\n",
    "\n",
    "    else:\n",
    "        # fib_num >= 2\n",
    "        int_num_1 = 1\n",
    "        int_num_2 = 1\n",
    "\n",
    "        num_loops = fib_num - 2  # Discussed that we the first two numbers, so two fewer loops to solve\n",
    "        current_loop = 0\n",
    "\n",
    "        fib_sum = 0\n",
    "\n",
    "        while current_loop < num_loops:\n",
    "\n",
    "            fib_sum = int_num_1 + int_num_2\n",
    "\n",
    "            int_num_1 = int_num_2\n",
    "\n",
    "            int_num_2 = fib_sum\n",
    "\n",
    "            current_loop += 1\n",
    "\n",
    "        return fib_sum\n",
    "        "
   ]
  },
  {
   "cell_type": "code",
   "execution_count": 2,
   "id": "5410c11a",
   "metadata": {},
   "outputs": [
    {
     "data": {
      "text/plain": [
       "43466557686937456435688527675040625802564660517371780402481729089536555417949051890403879840079255169295922593080322634775209689623239873322471161642996440906533187938298969649928516003704476137795166849228875"
      ]
     },
     "execution_count": 2,
     "metadata": {},
     "output_type": "execute_result"
    }
   ],
   "source": [
    "# Enter the run code here\n",
    "fibonacci( 1000 )"
   ]
  },
  {
   "cell_type": "markdown",
   "id": "f4d21833",
   "metadata": {},
   "source": [
    "## Break Statements"
   ]
  },
  {
   "cell_type": "markdown",
   "id": "df118443",
   "metadata": {},
   "source": [
    "The provided while loop has an issue: It asks the user to enter a value greater than 0, and then enter Y to continue. But it increments instead of decrements!\n",
    "\n",
    "> <b>Note:</b> To stop this endless loop in Jupyter Notebook, you would go to <code>Kernel -> Restart & Clear Output</code>"
   ]
  },
  {
   "cell_type": "code",
   "execution_count": null,
   "id": "bb39bf19",
   "metadata": {},
   "outputs": [],
   "source": [
    "# While loop without a break statement\n",
    "\n",
    "int_no_break = int(input('Enter the value greater than 0: '))\n",
    "\n",
    "while int_no_break > 0:\n",
    "    print(int_no_break)\n",
    "    input('Enter Y to continue ')\n",
    "    int_no_break = int_no_break + 1"
   ]
  },
  {
   "cell_type": "markdown",
   "id": "4e0ca6f5-b186-4a4c-b58b-00c7d656b8f1",
   "metadata": {},
   "source": [
    "Note: The previous cell was run in class, and then we restarted the Kernel, so there is no output here"
   ]
  },
  {
   "cell_type": "code",
   "execution_count": 5,
   "id": "2f3dea22",
   "metadata": {},
   "outputs": [
    {
     "name": "stdin",
     "output_type": "stream",
     "text": [
      "Enter the value greater than 0:  3\n"
     ]
    },
    {
     "name": "stdout",
     "output_type": "stream",
     "text": [
      "3\n"
     ]
    },
    {
     "name": "stdin",
     "output_type": "stream",
     "text": [
      "Enter Y to continue  Y\n"
     ]
    },
    {
     "name": "stdout",
     "output_type": "stream",
     "text": [
      "4\n"
     ]
    },
    {
     "name": "stdin",
     "output_type": "stream",
     "text": [
      "Enter Y to continue  Y\n"
     ]
    },
    {
     "name": "stdout",
     "output_type": "stream",
     "text": [
      "5\n"
     ]
    },
    {
     "name": "stdin",
     "output_type": "stream",
     "text": [
      "Enter Y to continue  Y\n"
     ]
    },
    {
     "name": "stdout",
     "output_type": "stream",
     "text": [
      "6\n"
     ]
    },
    {
     "name": "stdin",
     "output_type": "stream",
     "text": [
      "Enter Y to continue  Y\n"
     ]
    },
    {
     "name": "stdout",
     "output_type": "stream",
     "text": [
      "7\n"
     ]
    }
   ],
   "source": [
    "# Now let's fix it with a break statement stopping the loop if int_with_break is larger than 7\n",
    "\n",
    "int_with_break = int(input('Enter the value greater than 0: '))\n",
    "\n",
    "while int_with_break > 0:\n",
    "    print(int_with_break)\n",
    "\n",
    "    if int_with_break >= 7:\n",
    "        break\n",
    "    \n",
    "    input('Enter Y to continue ')\n",
    "    int_with_break = int_with_break + 1"
   ]
  },
  {
   "cell_type": "code",
   "execution_count": 9,
   "id": "4efead0a-9361-4c4c-93e8-746b2c12bf44",
   "metadata": {},
   "outputs": [
    {
     "name": "stdin",
     "output_type": "stream",
     "text": [
      "Enter the value greater than 0:  5\n"
     ]
    },
    {
     "name": "stdout",
     "output_type": "stream",
     "text": [
      "5\n"
     ]
    },
    {
     "name": "stdin",
     "output_type": "stream",
     "text": [
      "Enter Y to continue or N to stop  Y\n"
     ]
    },
    {
     "name": "stdout",
     "output_type": "stream",
     "text": [
      "4\n"
     ]
    },
    {
     "name": "stdin",
     "output_type": "stream",
     "text": [
      "Enter Y to continue or N to stop  Y\n"
     ]
    },
    {
     "name": "stdout",
     "output_type": "stream",
     "text": [
      "3\n"
     ]
    },
    {
     "name": "stdin",
     "output_type": "stream",
     "text": [
      "Enter Y to continue or N to stop  N\n"
     ]
    }
   ],
   "source": [
    "# Now let's fix it with a break statement stopping the loop if int_with_break is larger than 7\n",
    "\n",
    "int_with_break = int(input('Enter the value greater than 0: '))\n",
    "\n",
    "the_char = \"\"\n",
    "\n",
    "while int_with_break > 0 and the_char != \"N\":\n",
    "    print(int_with_break)\n",
    "\n",
    "    the_char = str(input('Enter Y to continue or N to stop '))\n",
    "    int_with_break = int_with_break - 1"
   ]
  },
  {
   "cell_type": "markdown",
   "id": "1ae1905f",
   "metadata": {},
   "source": [
    "Next, we will learn about try/except\n",
    "\n",
    "We will first learn about this using <b>ZeroDivisionError</b>"
   ]
  },
  {
   "cell_type": "code",
   "execution_count": 11,
   "id": "594b4976",
   "metadata": {},
   "outputs": [
    {
     "name": "stdin",
     "output_type": "stream",
     "text": [
      "X? 5\n",
      "Y? 0\n"
     ]
    },
    {
     "ename": "ZeroDivisionError",
     "evalue": "division by zero",
     "output_type": "error",
     "traceback": [
      "\u001b[1;31m---------------------------------------------------------------------------\u001b[0m",
      "\u001b[1;31mZeroDivisionError\u001b[0m                         Traceback (most recent call last)",
      "\u001b[1;32m~\\AppData\\Local\\Temp\\ipykernel_13652\\827166657.py\u001b[0m in \u001b[0;36m<module>\u001b[1;34m\u001b[0m\n\u001b[0;32m      5\u001b[0m \u001b[1;33m\u001b[0m\u001b[0m\n\u001b[0;32m      6\u001b[0m \u001b[1;31m# We will write the try/except here\u001b[0m\u001b[1;33m\u001b[0m\u001b[1;33m\u001b[0m\u001b[0m\n\u001b[1;32m----> 7\u001b[1;33m \u001b[0mx\u001b[0m \u001b[1;33m/\u001b[0m \u001b[0my\u001b[0m\u001b[1;33m\u001b[0m\u001b[1;33m\u001b[0m\u001b[0m\n\u001b[0m",
      "\u001b[1;31mZeroDivisionError\u001b[0m: division by zero"
     ]
    }
   ],
   "source": [
    "# Contains deliberate exception error if Y is 0\n",
    "\n",
    "x = int(input('X?'))\n",
    "y = int(input('Y?'))\n",
    "\n",
    "# We will write the try/except here\n",
    "x / y\n"
   ]
  },
  {
   "cell_type": "code",
   "execution_count": 13,
   "id": "3b53f1c5-aff1-4710-9eeb-d45aa14aaecd",
   "metadata": {},
   "outputs": [
    {
     "name": "stdin",
     "output_type": "stream",
     "text": [
      "X? 6\n",
      "Y? (do not enter 0) 0\n"
     ]
    },
    {
     "name": "stdout",
     "output_type": "stream",
     "text": [
      "ZeroDivisionError: Y cannot be 0\n"
     ]
    }
   ],
   "source": [
    "# Fixed with try/except\n",
    "\n",
    "x = int(input('X?'))\n",
    "y = int(input('Y? (do not enter 0)'))\n",
    "\n",
    "# We will write the try/except here\n",
    "try:\n",
    "    z = x / y\n",
    "    print(z)\n",
    "\n",
    "except ZeroDivisionError:\n",
    "    print( 'ZeroDivisionError: Y cannot be 0' )\n",
    "    "
   ]
  },
  {
   "cell_type": "markdown",
   "id": "03bb5b59",
   "metadata": {},
   "source": [
    "### Importing the random library"
   ]
  },
  {
   "cell_type": "code",
   "execution_count": 15,
   "id": "c6d5d5ee",
   "metadata": {},
   "outputs": [],
   "source": [
    "# Import the random library\n",
    "import random"
   ]
  },
  {
   "cell_type": "code",
   "execution_count": 17,
   "id": "25fb5969",
   "metadata": {
    "scrolled": true
   },
   "outputs": [
    {
     "name": "stdout",
     "output_type": "stream",
     "text": [
      "-10  is  negative\n"
     ]
    }
   ],
   "source": [
    "# We will learn how to call the random function, then use conditionals!\n",
    "\n",
    "# Call the random number\n",
    "rand_num = random.randint(-10,10)\n",
    "\n",
    "# Use if, elif, else to save to a string if it is positive, negative, or zero\n",
    "if rand_num > 0:\n",
    "    num_type = 'positive'\n",
    "\n",
    "elif rand_num < 0:\n",
    "    num_type = 'negative'\n",
    "\n",
    "else:\n",
    "    num_type = 'zero'\n",
    "\n",
    "# We will learn a new print format here!\n",
    "print( str(rand_num), ' is ', num_type )"
   ]
  }
 ],
 "metadata": {
  "kernelspec": {
   "display_name": "Python [conda env:Anaconda3]",
   "language": "python",
   "name": "conda-env-Anaconda3-py"
  },
  "language_info": {
   "codemirror_mode": {
    "name": "ipython",
    "version": 3
   },
   "file_extension": ".py",
   "mimetype": "text/x-python",
   "name": "python",
   "nbconvert_exporter": "python",
   "pygments_lexer": "ipython3",
   "version": "3.9.13"
  }
 },
 "nbformat": 4,
 "nbformat_minor": 5
}
